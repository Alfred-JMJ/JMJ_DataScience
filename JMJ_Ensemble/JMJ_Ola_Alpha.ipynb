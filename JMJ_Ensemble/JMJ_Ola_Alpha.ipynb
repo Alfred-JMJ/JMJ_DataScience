{
 "cells": [
  {
   "cell_type": "markdown",
   "id": "de6e21f4",
   "metadata": {},
   "source": [
    "### JMJ+"
   ]
  },
  {
   "cell_type": "markdown",
   "id": "76cbb635",
   "metadata": {},
   "source": [
    "### Problem Statement:\n",
    "\n",
    "* Using the given attributes, design a model that predicts, whether a employee(driver) will churn or not\n",
    "* Moreover, help Ola understand the critical factors for driver retention, thereby improving the attrition rate"
   ]
  },
  {
   "cell_type": "code",
   "execution_count": 1,
   "id": "6ba3a4f5",
   "metadata": {},
   "outputs": [],
   "source": [
    "import pandas as pd\n",
    "import numpy as np\n",
    "\n",
    "import seaborn as sns\n",
    "import matplotlib.pyplot as plt\n",
    "\n",
    "from imblearn.over_sampling import SMOTE\n",
    "from collections import Counter\n",
    "\n",
    "from scipy.stats import uniform\n",
    "from sklearn.ensemble import RandomForestClassifier\n",
    "from sklearn.model_selection import KFold, cross_validate,GridSearchCV\n",
    "\n",
    "from xgboost import XGBClassifier\n",
    "\n",
    "import datetime as dt\n",
    "\n",
    "from sklearn.metrics import (confusion_matrix,ConfusionMatrixDisplay,\n",
    "roc_curve,roc_auc_score,precision_recall_curve,auc,classification_report,f1_score)\n",
    "\n",
    "import warnings\n",
    "warnings.filterwarnings('ignore')"
   ]
  },
  {
   "cell_type": "code",
   "execution_count": 3,
   "id": "c813ec19",
   "metadata": {},
   "outputs": [],
   "source": [
    "path=r'C:\\Users\\Alfred Paul\\OneDrive\\Desktop\\Scaler_CaseStudies\\Dataset\\JMJ_ola_driver_scaler.csv'"
   ]
  },
  {
   "cell_type": "code",
   "execution_count": 4,
   "id": "03abb397",
   "metadata": {},
   "outputs": [],
   "source": [
    "df=pd.read_csv(path)"
   ]
  },
  {
   "cell_type": "markdown",
   "id": "fe5855a5",
   "metadata": {},
   "source": [
    "### Basic Analysis:"
   ]
  },
  {
   "cell_type": "code",
   "execution_count": 5,
   "id": "896629fc",
   "metadata": {},
   "outputs": [
    {
     "data": {
      "text/html": [
       "<div>\n",
       "<style scoped>\n",
       "    .dataframe tbody tr th:only-of-type {\n",
       "        vertical-align: middle;\n",
       "    }\n",
       "\n",
       "    .dataframe tbody tr th {\n",
       "        vertical-align: top;\n",
       "    }\n",
       "\n",
       "    .dataframe thead th {\n",
       "        text-align: right;\n",
       "    }\n",
       "</style>\n",
       "<table border=\"1\" class=\"dataframe\">\n",
       "  <thead>\n",
       "    <tr style=\"text-align: right;\">\n",
       "      <th></th>\n",
       "      <th>Unnamed: 0</th>\n",
       "      <th>MMM-YY</th>\n",
       "      <th>Driver_ID</th>\n",
       "      <th>Age</th>\n",
       "      <th>Gender</th>\n",
       "      <th>City</th>\n",
       "      <th>Education_Level</th>\n",
       "      <th>Income</th>\n",
       "      <th>Dateofjoining</th>\n",
       "      <th>LastWorkingDate</th>\n",
       "      <th>Joining Designation</th>\n",
       "      <th>Grade</th>\n",
       "      <th>Total Business Value</th>\n",
       "      <th>Quarterly Rating</th>\n",
       "    </tr>\n",
       "  </thead>\n",
       "  <tbody>\n",
       "    <tr>\n",
       "      <th>0</th>\n",
       "      <td>0</td>\n",
       "      <td>01/01/19</td>\n",
       "      <td>1</td>\n",
       "      <td>28.0</td>\n",
       "      <td>0.0</td>\n",
       "      <td>C23</td>\n",
       "      <td>2</td>\n",
       "      <td>57387</td>\n",
       "      <td>24/12/18</td>\n",
       "      <td>NaN</td>\n",
       "      <td>1</td>\n",
       "      <td>1</td>\n",
       "      <td>2381060</td>\n",
       "      <td>2</td>\n",
       "    </tr>\n",
       "    <tr>\n",
       "      <th>1</th>\n",
       "      <td>1</td>\n",
       "      <td>02/01/19</td>\n",
       "      <td>1</td>\n",
       "      <td>28.0</td>\n",
       "      <td>0.0</td>\n",
       "      <td>C23</td>\n",
       "      <td>2</td>\n",
       "      <td>57387</td>\n",
       "      <td>24/12/18</td>\n",
       "      <td>NaN</td>\n",
       "      <td>1</td>\n",
       "      <td>1</td>\n",
       "      <td>-665480</td>\n",
       "      <td>2</td>\n",
       "    </tr>\n",
       "    <tr>\n",
       "      <th>2</th>\n",
       "      <td>2</td>\n",
       "      <td>03/01/19</td>\n",
       "      <td>1</td>\n",
       "      <td>28.0</td>\n",
       "      <td>0.0</td>\n",
       "      <td>C23</td>\n",
       "      <td>2</td>\n",
       "      <td>57387</td>\n",
       "      <td>24/12/18</td>\n",
       "      <td>03/11/19</td>\n",
       "      <td>1</td>\n",
       "      <td>1</td>\n",
       "      <td>0</td>\n",
       "      <td>2</td>\n",
       "    </tr>\n",
       "    <tr>\n",
       "      <th>3</th>\n",
       "      <td>3</td>\n",
       "      <td>11/01/20</td>\n",
       "      <td>2</td>\n",
       "      <td>31.0</td>\n",
       "      <td>0.0</td>\n",
       "      <td>C7</td>\n",
       "      <td>2</td>\n",
       "      <td>67016</td>\n",
       "      <td>11/06/20</td>\n",
       "      <td>NaN</td>\n",
       "      <td>2</td>\n",
       "      <td>2</td>\n",
       "      <td>0</td>\n",
       "      <td>1</td>\n",
       "    </tr>\n",
       "    <tr>\n",
       "      <th>4</th>\n",
       "      <td>4</td>\n",
       "      <td>12/01/20</td>\n",
       "      <td>2</td>\n",
       "      <td>31.0</td>\n",
       "      <td>0.0</td>\n",
       "      <td>C7</td>\n",
       "      <td>2</td>\n",
       "      <td>67016</td>\n",
       "      <td>11/06/20</td>\n",
       "      <td>NaN</td>\n",
       "      <td>2</td>\n",
       "      <td>2</td>\n",
       "      <td>0</td>\n",
       "      <td>1</td>\n",
       "    </tr>\n",
       "    <tr>\n",
       "      <th>...</th>\n",
       "      <td>...</td>\n",
       "      <td>...</td>\n",
       "      <td>...</td>\n",
       "      <td>...</td>\n",
       "      <td>...</td>\n",
       "      <td>...</td>\n",
       "      <td>...</td>\n",
       "      <td>...</td>\n",
       "      <td>...</td>\n",
       "      <td>...</td>\n",
       "      <td>...</td>\n",
       "      <td>...</td>\n",
       "      <td>...</td>\n",
       "      <td>...</td>\n",
       "    </tr>\n",
       "    <tr>\n",
       "      <th>19099</th>\n",
       "      <td>19099</td>\n",
       "      <td>08/01/20</td>\n",
       "      <td>2788</td>\n",
       "      <td>30.0</td>\n",
       "      <td>0.0</td>\n",
       "      <td>C27</td>\n",
       "      <td>2</td>\n",
       "      <td>70254</td>\n",
       "      <td>06/08/20</td>\n",
       "      <td>NaN</td>\n",
       "      <td>2</td>\n",
       "      <td>2</td>\n",
       "      <td>740280</td>\n",
       "      <td>3</td>\n",
       "    </tr>\n",
       "    <tr>\n",
       "      <th>19100</th>\n",
       "      <td>19100</td>\n",
       "      <td>09/01/20</td>\n",
       "      <td>2788</td>\n",
       "      <td>30.0</td>\n",
       "      <td>0.0</td>\n",
       "      <td>C27</td>\n",
       "      <td>2</td>\n",
       "      <td>70254</td>\n",
       "      <td>06/08/20</td>\n",
       "      <td>NaN</td>\n",
       "      <td>2</td>\n",
       "      <td>2</td>\n",
       "      <td>448370</td>\n",
       "      <td>3</td>\n",
       "    </tr>\n",
       "    <tr>\n",
       "      <th>19101</th>\n",
       "      <td>19101</td>\n",
       "      <td>10/01/20</td>\n",
       "      <td>2788</td>\n",
       "      <td>30.0</td>\n",
       "      <td>0.0</td>\n",
       "      <td>C27</td>\n",
       "      <td>2</td>\n",
       "      <td>70254</td>\n",
       "      <td>06/08/20</td>\n",
       "      <td>NaN</td>\n",
       "      <td>2</td>\n",
       "      <td>2</td>\n",
       "      <td>0</td>\n",
       "      <td>2</td>\n",
       "    </tr>\n",
       "    <tr>\n",
       "      <th>19102</th>\n",
       "      <td>19102</td>\n",
       "      <td>11/01/20</td>\n",
       "      <td>2788</td>\n",
       "      <td>30.0</td>\n",
       "      <td>0.0</td>\n",
       "      <td>C27</td>\n",
       "      <td>2</td>\n",
       "      <td>70254</td>\n",
       "      <td>06/08/20</td>\n",
       "      <td>NaN</td>\n",
       "      <td>2</td>\n",
       "      <td>2</td>\n",
       "      <td>200420</td>\n",
       "      <td>2</td>\n",
       "    </tr>\n",
       "    <tr>\n",
       "      <th>19103</th>\n",
       "      <td>19103</td>\n",
       "      <td>12/01/20</td>\n",
       "      <td>2788</td>\n",
       "      <td>30.0</td>\n",
       "      <td>0.0</td>\n",
       "      <td>C27</td>\n",
       "      <td>2</td>\n",
       "      <td>70254</td>\n",
       "      <td>06/08/20</td>\n",
       "      <td>NaN</td>\n",
       "      <td>2</td>\n",
       "      <td>2</td>\n",
       "      <td>411480</td>\n",
       "      <td>2</td>\n",
       "    </tr>\n",
       "  </tbody>\n",
       "</table>\n",
       "<p>19104 rows × 14 columns</p>\n",
       "</div>"
      ],
      "text/plain": [
       "       Unnamed: 0    MMM-YY  Driver_ID   Age  Gender City  Education_Level  \\\n",
       "0               0  01/01/19          1  28.0     0.0  C23                2   \n",
       "1               1  02/01/19          1  28.0     0.0  C23                2   \n",
       "2               2  03/01/19          1  28.0     0.0  C23                2   \n",
       "3               3  11/01/20          2  31.0     0.0   C7                2   \n",
       "4               4  12/01/20          2  31.0     0.0   C7                2   \n",
       "...           ...       ...        ...   ...     ...  ...              ...   \n",
       "19099       19099  08/01/20       2788  30.0     0.0  C27                2   \n",
       "19100       19100  09/01/20       2788  30.0     0.0  C27                2   \n",
       "19101       19101  10/01/20       2788  30.0     0.0  C27                2   \n",
       "19102       19102  11/01/20       2788  30.0     0.0  C27                2   \n",
       "19103       19103  12/01/20       2788  30.0     0.0  C27                2   \n",
       "\n",
       "       Income Dateofjoining LastWorkingDate  Joining Designation  Grade  \\\n",
       "0       57387      24/12/18             NaN                    1      1   \n",
       "1       57387      24/12/18             NaN                    1      1   \n",
       "2       57387      24/12/18        03/11/19                    1      1   \n",
       "3       67016      11/06/20             NaN                    2      2   \n",
       "4       67016      11/06/20             NaN                    2      2   \n",
       "...       ...           ...             ...                  ...    ...   \n",
       "19099   70254      06/08/20             NaN                    2      2   \n",
       "19100   70254      06/08/20             NaN                    2      2   \n",
       "19101   70254      06/08/20             NaN                    2      2   \n",
       "19102   70254      06/08/20             NaN                    2      2   \n",
       "19103   70254      06/08/20             NaN                    2      2   \n",
       "\n",
       "       Total Business Value  Quarterly Rating  \n",
       "0                   2381060                 2  \n",
       "1                   -665480                 2  \n",
       "2                         0                 2  \n",
       "3                         0                 1  \n",
       "4                         0                 1  \n",
       "...                     ...               ...  \n",
       "19099                740280                 3  \n",
       "19100                448370                 3  \n",
       "19101                     0                 2  \n",
       "19102                200420                 2  \n",
       "19103                411480                 2  \n",
       "\n",
       "[19104 rows x 14 columns]"
      ]
     },
     "execution_count": 5,
     "metadata": {},
     "output_type": "execute_result"
    }
   ],
   "source": [
    "df"
   ]
  },
  {
   "cell_type": "markdown",
   "id": "15ce9c0f",
   "metadata": {},
   "source": [
    "##### Creating a copy of the orginal file:"
   ]
  },
  {
   "cell_type": "code",
   "execution_count": 6,
   "id": "35f70ecb",
   "metadata": {},
   "outputs": [],
   "source": [
    "df_orginal=df.copy()"
   ]
  },
  {
   "cell_type": "code",
   "execution_count": 7,
   "id": "4b6a5ad2",
   "metadata": {},
   "outputs": [
    {
     "data": {
      "text/html": [
       "<div>\n",
       "<style scoped>\n",
       "    .dataframe tbody tr th:only-of-type {\n",
       "        vertical-align: middle;\n",
       "    }\n",
       "\n",
       "    .dataframe tbody tr th {\n",
       "        vertical-align: top;\n",
       "    }\n",
       "\n",
       "    .dataframe thead th {\n",
       "        text-align: right;\n",
       "    }\n",
       "</style>\n",
       "<table border=\"1\" class=\"dataframe\">\n",
       "  <thead>\n",
       "    <tr style=\"text-align: right;\">\n",
       "      <th></th>\n",
       "      <th>Unnamed: 0</th>\n",
       "      <th>MMM-YY</th>\n",
       "      <th>Driver_ID</th>\n",
       "      <th>Age</th>\n",
       "      <th>Gender</th>\n",
       "      <th>City</th>\n",
       "      <th>Education_Level</th>\n",
       "      <th>Income</th>\n",
       "      <th>Dateofjoining</th>\n",
       "      <th>LastWorkingDate</th>\n",
       "      <th>Joining Designation</th>\n",
       "      <th>Grade</th>\n",
       "      <th>Total Business Value</th>\n",
       "      <th>Quarterly Rating</th>\n",
       "    </tr>\n",
       "  </thead>\n",
       "  <tbody>\n",
       "    <tr>\n",
       "      <th>0</th>\n",
       "      <td>0</td>\n",
       "      <td>01/01/19</td>\n",
       "      <td>1</td>\n",
       "      <td>28.0</td>\n",
       "      <td>0.0</td>\n",
       "      <td>C23</td>\n",
       "      <td>2</td>\n",
       "      <td>57387</td>\n",
       "      <td>24/12/18</td>\n",
       "      <td>NaN</td>\n",
       "      <td>1</td>\n",
       "      <td>1</td>\n",
       "      <td>2381060</td>\n",
       "      <td>2</td>\n",
       "    </tr>\n",
       "    <tr>\n",
       "      <th>1</th>\n",
       "      <td>1</td>\n",
       "      <td>02/01/19</td>\n",
       "      <td>1</td>\n",
       "      <td>28.0</td>\n",
       "      <td>0.0</td>\n",
       "      <td>C23</td>\n",
       "      <td>2</td>\n",
       "      <td>57387</td>\n",
       "      <td>24/12/18</td>\n",
       "      <td>NaN</td>\n",
       "      <td>1</td>\n",
       "      <td>1</td>\n",
       "      <td>-665480</td>\n",
       "      <td>2</td>\n",
       "    </tr>\n",
       "    <tr>\n",
       "      <th>2</th>\n",
       "      <td>2</td>\n",
       "      <td>03/01/19</td>\n",
       "      <td>1</td>\n",
       "      <td>28.0</td>\n",
       "      <td>0.0</td>\n",
       "      <td>C23</td>\n",
       "      <td>2</td>\n",
       "      <td>57387</td>\n",
       "      <td>24/12/18</td>\n",
       "      <td>03/11/19</td>\n",
       "      <td>1</td>\n",
       "      <td>1</td>\n",
       "      <td>0</td>\n",
       "      <td>2</td>\n",
       "    </tr>\n",
       "    <tr>\n",
       "      <th>3</th>\n",
       "      <td>3</td>\n",
       "      <td>11/01/20</td>\n",
       "      <td>2</td>\n",
       "      <td>31.0</td>\n",
       "      <td>0.0</td>\n",
       "      <td>C7</td>\n",
       "      <td>2</td>\n",
       "      <td>67016</td>\n",
       "      <td>11/06/20</td>\n",
       "      <td>NaN</td>\n",
       "      <td>2</td>\n",
       "      <td>2</td>\n",
       "      <td>0</td>\n",
       "      <td>1</td>\n",
       "    </tr>\n",
       "    <tr>\n",
       "      <th>4</th>\n",
       "      <td>4</td>\n",
       "      <td>12/01/20</td>\n",
       "      <td>2</td>\n",
       "      <td>31.0</td>\n",
       "      <td>0.0</td>\n",
       "      <td>C7</td>\n",
       "      <td>2</td>\n",
       "      <td>67016</td>\n",
       "      <td>11/06/20</td>\n",
       "      <td>NaN</td>\n",
       "      <td>2</td>\n",
       "      <td>2</td>\n",
       "      <td>0</td>\n",
       "      <td>1</td>\n",
       "    </tr>\n",
       "  </tbody>\n",
       "</table>\n",
       "</div>"
      ],
      "text/plain": [
       "   Unnamed: 0    MMM-YY  Driver_ID   Age  Gender City  Education_Level  \\\n",
       "0           0  01/01/19          1  28.0     0.0  C23                2   \n",
       "1           1  02/01/19          1  28.0     0.0  C23                2   \n",
       "2           2  03/01/19          1  28.0     0.0  C23                2   \n",
       "3           3  11/01/20          2  31.0     0.0   C7                2   \n",
       "4           4  12/01/20          2  31.0     0.0   C7                2   \n",
       "\n",
       "   Income Dateofjoining LastWorkingDate  Joining Designation  Grade  \\\n",
       "0   57387      24/12/18             NaN                    1      1   \n",
       "1   57387      24/12/18             NaN                    1      1   \n",
       "2   57387      24/12/18        03/11/19                    1      1   \n",
       "3   67016      11/06/20             NaN                    2      2   \n",
       "4   67016      11/06/20             NaN                    2      2   \n",
       "\n",
       "   Total Business Value  Quarterly Rating  \n",
       "0               2381060                 2  \n",
       "1               -665480                 2  \n",
       "2                     0                 2  \n",
       "3                     0                 1  \n",
       "4                     0                 1  "
      ]
     },
     "execution_count": 7,
     "metadata": {},
     "output_type": "execute_result"
    }
   ],
   "source": [
    "df.head()"
   ]
  },
  {
   "cell_type": "code",
   "execution_count": 8,
   "id": "83cb30b3",
   "metadata": {},
   "outputs": [
    {
     "name": "stdout",
     "output_type": "stream",
     "text": [
      "<class 'pandas.core.frame.DataFrame'>\n",
      "RangeIndex: 19104 entries, 0 to 19103\n",
      "Data columns (total 14 columns):\n",
      " #   Column                Non-Null Count  Dtype  \n",
      "---  ------                --------------  -----  \n",
      " 0   Unnamed: 0            19104 non-null  int64  \n",
      " 1   MMM-YY                19104 non-null  object \n",
      " 2   Driver_ID             19104 non-null  int64  \n",
      " 3   Age                   19043 non-null  float64\n",
      " 4   Gender                19052 non-null  float64\n",
      " 5   City                  19104 non-null  object \n",
      " 6   Education_Level       19104 non-null  int64  \n",
      " 7   Income                19104 non-null  int64  \n",
      " 8   Dateofjoining         19104 non-null  object \n",
      " 9   LastWorkingDate       1616 non-null   object \n",
      " 10  Joining Designation   19104 non-null  int64  \n",
      " 11  Grade                 19104 non-null  int64  \n",
      " 12  Total Business Value  19104 non-null  int64  \n",
      " 13  Quarterly Rating      19104 non-null  int64  \n",
      "dtypes: float64(2), int64(8), object(4)\n",
      "memory usage: 2.0+ MB\n"
     ]
    }
   ],
   "source": [
    "# Basic info:\n",
    "\n",
    "df.info()"
   ]
  },
  {
   "cell_type": "markdown",
   "id": "93adbdeb",
   "metadata": {},
   "source": [
    "##### Basic analysis shows that:\n",
    "\n",
    "* Majority of features are int, followed by object type and float\n",
    "* Many of the features have null values and requires data preprocessing"
   ]
  },
  {
   "cell_type": "code",
   "execution_count": 9,
   "id": "a98bf5be",
   "metadata": {},
   "outputs": [
    {
     "data": {
      "text/html": [
       "<div>\n",
       "<style scoped>\n",
       "    .dataframe tbody tr th:only-of-type {\n",
       "        vertical-align: middle;\n",
       "    }\n",
       "\n",
       "    .dataframe tbody tr th {\n",
       "        vertical-align: top;\n",
       "    }\n",
       "\n",
       "    .dataframe thead th {\n",
       "        text-align: right;\n",
       "    }\n",
       "</style>\n",
       "<table border=\"1\" class=\"dataframe\">\n",
       "  <thead>\n",
       "    <tr style=\"text-align: right;\">\n",
       "      <th></th>\n",
       "      <th>Unnamed: 0</th>\n",
       "      <th>MMM-YY</th>\n",
       "      <th>Driver_ID</th>\n",
       "      <th>Age</th>\n",
       "      <th>Gender</th>\n",
       "      <th>City</th>\n",
       "      <th>Education_Level</th>\n",
       "      <th>Income</th>\n",
       "      <th>Dateofjoining</th>\n",
       "      <th>LastWorkingDate</th>\n",
       "      <th>Joining Designation</th>\n",
       "      <th>Grade</th>\n",
       "      <th>Total Business Value</th>\n",
       "      <th>Quarterly Rating</th>\n",
       "    </tr>\n",
       "  </thead>\n",
       "  <tbody>\n",
       "    <tr>\n",
       "      <th>0</th>\n",
       "      <td>0</td>\n",
       "      <td>01/01/19</td>\n",
       "      <td>1</td>\n",
       "      <td>28.0</td>\n",
       "      <td>0.0</td>\n",
       "      <td>C23</td>\n",
       "      <td>2</td>\n",
       "      <td>57387</td>\n",
       "      <td>24/12/18</td>\n",
       "      <td>NaN</td>\n",
       "      <td>1</td>\n",
       "      <td>1</td>\n",
       "      <td>2381060</td>\n",
       "      <td>2</td>\n",
       "    </tr>\n",
       "    <tr>\n",
       "      <th>1</th>\n",
       "      <td>1</td>\n",
       "      <td>02/01/19</td>\n",
       "      <td>1</td>\n",
       "      <td>28.0</td>\n",
       "      <td>0.0</td>\n",
       "      <td>C23</td>\n",
       "      <td>2</td>\n",
       "      <td>57387</td>\n",
       "      <td>24/12/18</td>\n",
       "      <td>NaN</td>\n",
       "      <td>1</td>\n",
       "      <td>1</td>\n",
       "      <td>-665480</td>\n",
       "      <td>2</td>\n",
       "    </tr>\n",
       "    <tr>\n",
       "      <th>2</th>\n",
       "      <td>2</td>\n",
       "      <td>03/01/19</td>\n",
       "      <td>1</td>\n",
       "      <td>28.0</td>\n",
       "      <td>0.0</td>\n",
       "      <td>C23</td>\n",
       "      <td>2</td>\n",
       "      <td>57387</td>\n",
       "      <td>24/12/18</td>\n",
       "      <td>03/11/19</td>\n",
       "      <td>1</td>\n",
       "      <td>1</td>\n",
       "      <td>0</td>\n",
       "      <td>2</td>\n",
       "    </tr>\n",
       "    <tr>\n",
       "      <th>3</th>\n",
       "      <td>3</td>\n",
       "      <td>11/01/20</td>\n",
       "      <td>2</td>\n",
       "      <td>31.0</td>\n",
       "      <td>0.0</td>\n",
       "      <td>C7</td>\n",
       "      <td>2</td>\n",
       "      <td>67016</td>\n",
       "      <td>11/06/20</td>\n",
       "      <td>NaN</td>\n",
       "      <td>2</td>\n",
       "      <td>2</td>\n",
       "      <td>0</td>\n",
       "      <td>1</td>\n",
       "    </tr>\n",
       "    <tr>\n",
       "      <th>4</th>\n",
       "      <td>4</td>\n",
       "      <td>12/01/20</td>\n",
       "      <td>2</td>\n",
       "      <td>31.0</td>\n",
       "      <td>0.0</td>\n",
       "      <td>C7</td>\n",
       "      <td>2</td>\n",
       "      <td>67016</td>\n",
       "      <td>11/06/20</td>\n",
       "      <td>NaN</td>\n",
       "      <td>2</td>\n",
       "      <td>2</td>\n",
       "      <td>0</td>\n",
       "      <td>1</td>\n",
       "    </tr>\n",
       "    <tr>\n",
       "      <th>5</th>\n",
       "      <td>5</td>\n",
       "      <td>12/01/19</td>\n",
       "      <td>4</td>\n",
       "      <td>43.0</td>\n",
       "      <td>0.0</td>\n",
       "      <td>C13</td>\n",
       "      <td>2</td>\n",
       "      <td>65603</td>\n",
       "      <td>12/07/19</td>\n",
       "      <td>NaN</td>\n",
       "      <td>2</td>\n",
       "      <td>2</td>\n",
       "      <td>0</td>\n",
       "      <td>1</td>\n",
       "    </tr>\n",
       "    <tr>\n",
       "      <th>6</th>\n",
       "      <td>6</td>\n",
       "      <td>01/01/20</td>\n",
       "      <td>4</td>\n",
       "      <td>43.0</td>\n",
       "      <td>0.0</td>\n",
       "      <td>C13</td>\n",
       "      <td>2</td>\n",
       "      <td>65603</td>\n",
       "      <td>12/07/19</td>\n",
       "      <td>NaN</td>\n",
       "      <td>2</td>\n",
       "      <td>2</td>\n",
       "      <td>0</td>\n",
       "      <td>1</td>\n",
       "    </tr>\n",
       "    <tr>\n",
       "      <th>7</th>\n",
       "      <td>7</td>\n",
       "      <td>02/01/20</td>\n",
       "      <td>4</td>\n",
       "      <td>43.0</td>\n",
       "      <td>0.0</td>\n",
       "      <td>C13</td>\n",
       "      <td>2</td>\n",
       "      <td>65603</td>\n",
       "      <td>12/07/19</td>\n",
       "      <td>NaN</td>\n",
       "      <td>2</td>\n",
       "      <td>2</td>\n",
       "      <td>0</td>\n",
       "      <td>1</td>\n",
       "    </tr>\n",
       "    <tr>\n",
       "      <th>8</th>\n",
       "      <td>8</td>\n",
       "      <td>03/01/20</td>\n",
       "      <td>4</td>\n",
       "      <td>43.0</td>\n",
       "      <td>0.0</td>\n",
       "      <td>C13</td>\n",
       "      <td>2</td>\n",
       "      <td>65603</td>\n",
       "      <td>12/07/19</td>\n",
       "      <td>NaN</td>\n",
       "      <td>2</td>\n",
       "      <td>2</td>\n",
       "      <td>350000</td>\n",
       "      <td>1</td>\n",
       "    </tr>\n",
       "    <tr>\n",
       "      <th>9</th>\n",
       "      <td>9</td>\n",
       "      <td>04/01/20</td>\n",
       "      <td>4</td>\n",
       "      <td>43.0</td>\n",
       "      <td>0.0</td>\n",
       "      <td>C13</td>\n",
       "      <td>2</td>\n",
       "      <td>65603</td>\n",
       "      <td>12/07/19</td>\n",
       "      <td>27/04/20</td>\n",
       "      <td>2</td>\n",
       "      <td>2</td>\n",
       "      <td>0</td>\n",
       "      <td>1</td>\n",
       "    </tr>\n",
       "  </tbody>\n",
       "</table>\n",
       "</div>"
      ],
      "text/plain": [
       "   Unnamed: 0    MMM-YY  Driver_ID   Age  Gender City  Education_Level  \\\n",
       "0           0  01/01/19          1  28.0     0.0  C23                2   \n",
       "1           1  02/01/19          1  28.0     0.0  C23                2   \n",
       "2           2  03/01/19          1  28.0     0.0  C23                2   \n",
       "3           3  11/01/20          2  31.0     0.0   C7                2   \n",
       "4           4  12/01/20          2  31.0     0.0   C7                2   \n",
       "5           5  12/01/19          4  43.0     0.0  C13                2   \n",
       "6           6  01/01/20          4  43.0     0.0  C13                2   \n",
       "7           7  02/01/20          4  43.0     0.0  C13                2   \n",
       "8           8  03/01/20          4  43.0     0.0  C13                2   \n",
       "9           9  04/01/20          4  43.0     0.0  C13                2   \n",
       "\n",
       "   Income Dateofjoining LastWorkingDate  Joining Designation  Grade  \\\n",
       "0   57387      24/12/18             NaN                    1      1   \n",
       "1   57387      24/12/18             NaN                    1      1   \n",
       "2   57387      24/12/18        03/11/19                    1      1   \n",
       "3   67016      11/06/20             NaN                    2      2   \n",
       "4   67016      11/06/20             NaN                    2      2   \n",
       "5   65603      12/07/19             NaN                    2      2   \n",
       "6   65603      12/07/19             NaN                    2      2   \n",
       "7   65603      12/07/19             NaN                    2      2   \n",
       "8   65603      12/07/19             NaN                    2      2   \n",
       "9   65603      12/07/19        27/04/20                    2      2   \n",
       "\n",
       "   Total Business Value  Quarterly Rating  \n",
       "0               2381060                 2  \n",
       "1               -665480                 2  \n",
       "2                     0                 2  \n",
       "3                     0                 1  \n",
       "4                     0                 1  \n",
       "5                     0                 1  \n",
       "6                     0                 1  \n",
       "7                     0                 1  \n",
       "8                350000                 1  \n",
       "9                     0                 1  "
      ]
     },
     "execution_count": 9,
     "metadata": {},
     "output_type": "execute_result"
    }
   ],
   "source": [
    "df[:10]"
   ]
  },
  {
   "cell_type": "markdown",
   "id": "b2099152",
   "metadata": {},
   "source": [
    "##### Analysing 'Driver_ID'"
   ]
  },
  {
   "cell_type": "code",
   "execution_count": 10,
   "id": "42a17233",
   "metadata": {},
   "outputs": [
    {
     "data": {
      "text/plain": [
       "2110    24\n",
       "2617    24\n",
       "1623    24\n",
       "1642    24\n",
       "1644    24\n",
       "        ..\n",
       "1614     1\n",
       "445      1\n",
       "2397     1\n",
       "1619     1\n",
       "469      1\n",
       "Name: Driver_ID, Length: 2381, dtype: int64"
      ]
     },
     "execution_count": 10,
     "metadata": {},
     "output_type": "execute_result"
    }
   ],
   "source": [
    "df['Driver_ID'].value_counts()"
   ]
  },
  {
   "cell_type": "markdown",
   "id": "6340bd4b",
   "metadata": {},
   "source": [
    "* It can be observed that lot of 'Driver_ID' are redundant "
   ]
  },
  {
   "cell_type": "code",
   "execution_count": 11,
   "id": "6b9a8fc3",
   "metadata": {},
   "outputs": [
    {
     "data": {
      "text/plain": [
       "array([   1,    2,    4, ..., 2786, 2787, 2788], dtype=int64)"
      ]
     },
     "execution_count": 11,
     "metadata": {},
     "output_type": "execute_result"
    }
   ],
   "source": [
    "df['Driver_ID'].unique()\n"
   ]
  },
  {
   "cell_type": "code",
   "execution_count": 12,
   "id": "de75d3af",
   "metadata": {},
   "outputs": [
    {
     "data": {
      "text/plain": [
       "2381"
      ]
     },
     "execution_count": 12,
     "metadata": {},
     "output_type": "execute_result"
    }
   ],
   "source": [
    "df['Driver_ID'].nunique()"
   ]
  },
  {
   "cell_type": "code",
   "execution_count": 13,
   "id": "a843c1e9",
   "metadata": {},
   "outputs": [
    {
     "data": {
      "text/plain": [
       "407"
      ]
     },
     "execution_count": 13,
     "metadata": {},
     "output_type": "execute_result"
    }
   ],
   "source": [
    "2788-2381"
   ]
  },
  {
   "cell_type": "markdown",
   "id": "66d8b1e2",
   "metadata": {},
   "source": [
    "* Though 'Driver_ID' varies from 1 to 2788 , there are only 2381 distinct values of 'Driver_ID'\n",
    "* It means that, 2788-2381 = 407 ID's are missing or duplicated"
   ]
  },
  {
   "cell_type": "markdown",
   "id": "66482c78",
   "metadata": {},
   "source": [
    "### Simple feature engineering:"
   ]
  },
  {
   "cell_type": "markdown",
   "id": "318c985b",
   "metadata": {},
   "source": [
    "##### Feature : 1\n",
    "\n",
    "* Creating a column, in which value 1 is assigned for those drivers whose quaterly rating has improved and 0 otherwise "
   ]
  },
  {
   "cell_type": "code",
   "execution_count": 14,
   "id": "9e3fb10d",
   "metadata": {},
   "outputs": [
    {
     "data": {
      "text/plain": [
       "Index(['Unnamed: 0', 'MMM-YY', 'Driver_ID', 'Age', 'Gender', 'City',\n",
       "       'Education_Level', 'Income', 'Dateofjoining', 'LastWorkingDate',\n",
       "       'Joining Designation', 'Grade', 'Total Business Value',\n",
       "       'Quarterly Rating'],\n",
       "      dtype='object')"
      ]
     },
     "execution_count": 14,
     "metadata": {},
     "output_type": "execute_result"
    }
   ],
   "source": [
    "df.columns"
   ]
  },
  {
   "cell_type": "code",
   "execution_count": 15,
   "id": "1588c037",
   "metadata": {},
   "outputs": [],
   "source": [
    "\n",
    "# Getting the first rating for each Driver_ID\n",
    "df_temp_rating = df[['Driver_ID', 'Quarterly Rating']].groupby('Driver_ID').first().reset_index()\n",
    "\n",
    "# Renaming the feature as 'Quaterly_Rating_initial'\n",
    "df_temp_rating.rename(columns={'Quarterly Rating':'Quaterly_Rating_initial'},inplace=True)\n",
    "\n",
    "# Getting the last rating for each Driver_ID\n",
    "df_temp_rating['Quaterly_Rating_final']=df[['Driver_ID', \n",
    "                                        'Quarterly Rating']].groupby('Driver_ID').last().reset_index()['Quarterly Rating']\n",
    "\n",
    "# Assigning 1 if rating has improved, otherwise 0\n",
    "df_temp_rating['Quaterly_Rating_improvement']=np.where(\n",
    "    df_temp_rating['Quaterly_Rating_final']-df_temp_rating['Quaterly_Rating_initial']>0,1,0)"
   ]
  },
  {
   "cell_type": "code",
   "execution_count": 16,
   "id": "5e525abf",
   "metadata": {},
   "outputs": [
    {
     "data": {
      "text/html": [
       "<div>\n",
       "<style scoped>\n",
       "    .dataframe tbody tr th:only-of-type {\n",
       "        vertical-align: middle;\n",
       "    }\n",
       "\n",
       "    .dataframe tbody tr th {\n",
       "        vertical-align: top;\n",
       "    }\n",
       "\n",
       "    .dataframe thead th {\n",
       "        text-align: right;\n",
       "    }\n",
       "</style>\n",
       "<table border=\"1\" class=\"dataframe\">\n",
       "  <thead>\n",
       "    <tr style=\"text-align: right;\">\n",
       "      <th></th>\n",
       "      <th>Driver_ID</th>\n",
       "      <th>Quaterly_Rating_initial</th>\n",
       "      <th>Quaterly_Rating_final</th>\n",
       "      <th>Quaterly_Rating_improvement</th>\n",
       "    </tr>\n",
       "  </thead>\n",
       "  <tbody>\n",
       "    <tr>\n",
       "      <th>0</th>\n",
       "      <td>1</td>\n",
       "      <td>2</td>\n",
       "      <td>2</td>\n",
       "      <td>0</td>\n",
       "    </tr>\n",
       "    <tr>\n",
       "      <th>1</th>\n",
       "      <td>2</td>\n",
       "      <td>1</td>\n",
       "      <td>1</td>\n",
       "      <td>0</td>\n",
       "    </tr>\n",
       "    <tr>\n",
       "      <th>2</th>\n",
       "      <td>4</td>\n",
       "      <td>1</td>\n",
       "      <td>1</td>\n",
       "      <td>0</td>\n",
       "    </tr>\n",
       "    <tr>\n",
       "      <th>3</th>\n",
       "      <td>5</td>\n",
       "      <td>1</td>\n",
       "      <td>1</td>\n",
       "      <td>0</td>\n",
       "    </tr>\n",
       "    <tr>\n",
       "      <th>4</th>\n",
       "      <td>6</td>\n",
       "      <td>1</td>\n",
       "      <td>2</td>\n",
       "      <td>1</td>\n",
       "    </tr>\n",
       "  </tbody>\n",
       "</table>\n",
       "</div>"
      ],
      "text/plain": [
       "   Driver_ID  Quaterly_Rating_initial  Quaterly_Rating_final  \\\n",
       "0          1                        2                      2   \n",
       "1          2                        1                      1   \n",
       "2          4                        1                      1   \n",
       "3          5                        1                      1   \n",
       "4          6                        1                      2   \n",
       "\n",
       "   Quaterly_Rating_improvement  \n",
       "0                            0  \n",
       "1                            0  \n",
       "2                            0  \n",
       "3                            0  \n",
       "4                            1  "
      ]
     },
     "execution_count": 16,
     "metadata": {},
     "output_type": "execute_result"
    }
   ],
   "source": [
    "df_temp_rating.head()"
   ]
  },
  {
   "cell_type": "code",
   "execution_count": 17,
   "id": "5088544e",
   "metadata": {},
   "outputs": [],
   "source": [
    "df_temp_rating.drop(columns=['Quaterly_Rating_final','Quaterly_Rating_initial'],inplace=True)"
   ]
  },
  {
   "cell_type": "code",
   "execution_count": 18,
   "id": "82f799a5",
   "metadata": {},
   "outputs": [
    {
     "data": {
      "text/html": [
       "<div>\n",
       "<style scoped>\n",
       "    .dataframe tbody tr th:only-of-type {\n",
       "        vertical-align: middle;\n",
       "    }\n",
       "\n",
       "    .dataframe tbody tr th {\n",
       "        vertical-align: top;\n",
       "    }\n",
       "\n",
       "    .dataframe thead th {\n",
       "        text-align: right;\n",
       "    }\n",
       "</style>\n",
       "<table border=\"1\" class=\"dataframe\">\n",
       "  <thead>\n",
       "    <tr style=\"text-align: right;\">\n",
       "      <th></th>\n",
       "      <th>Driver_ID</th>\n",
       "      <th>Quaterly_Rating_improvement</th>\n",
       "    </tr>\n",
       "  </thead>\n",
       "  <tbody>\n",
       "    <tr>\n",
       "      <th>0</th>\n",
       "      <td>1</td>\n",
       "      <td>0</td>\n",
       "    </tr>\n",
       "    <tr>\n",
       "      <th>1</th>\n",
       "      <td>2</td>\n",
       "      <td>0</td>\n",
       "    </tr>\n",
       "    <tr>\n",
       "      <th>2</th>\n",
       "      <td>4</td>\n",
       "      <td>0</td>\n",
       "    </tr>\n",
       "    <tr>\n",
       "      <th>3</th>\n",
       "      <td>5</td>\n",
       "      <td>0</td>\n",
       "    </tr>\n",
       "    <tr>\n",
       "      <th>4</th>\n",
       "      <td>6</td>\n",
       "      <td>1</td>\n",
       "    </tr>\n",
       "  </tbody>\n",
       "</table>\n",
       "</div>"
      ],
      "text/plain": [
       "   Driver_ID  Quaterly_Rating_improvement\n",
       "0          1                            0\n",
       "1          2                            0\n",
       "2          4                            0\n",
       "3          5                            0\n",
       "4          6                            1"
      ]
     },
     "execution_count": 18,
     "metadata": {},
     "output_type": "execute_result"
    }
   ],
   "source": [
    "df_temp_rating.head()"
   ]
  },
  {
   "cell_type": "code",
   "execution_count": 19,
   "id": "17749158",
   "metadata": {},
   "outputs": [
    {
     "data": {
      "text/plain": [
       "0    0.849643\n",
       "1    0.150357\n",
       "Name: Quaterly_Rating_improvement, dtype: float64"
      ]
     },
     "execution_count": 19,
     "metadata": {},
     "output_type": "execute_result"
    }
   ],
   "source": [
    "df_temp_rating['Quaterly_Rating_improvement'].value_counts(normalize=True)"
   ]
  },
  {
   "cell_type": "markdown",
   "id": "3c33080e",
   "metadata": {},
   "source": [
    "It can be observed that only small proportion of drivers(~15%) improved their rating"
   ]
  },
  {
   "cell_type": "markdown",
   "id": "d685fe1d",
   "metadata": {},
   "source": [
    "##### Feature:2\n",
    "\n",
    "Creating a column, in which value 1 is assigned for those drivers whose monthly income has improved and 0 otherwise"
   ]
  },
  {
   "cell_type": "code",
   "execution_count": 20,
   "id": "2625ef60",
   "metadata": {},
   "outputs": [],
   "source": [
    "# Getting the initial rating for each Driver_ID\n",
    "df_temp_income = df[['Driver_ID','Income']].groupby('Driver_ID').first().reset_index()\n",
    "\n",
    "# Renaming the feature to 'Initial_Income'\n",
    "df_temp_income.rename(columns={'Income':'Initial_Income'},inplace=True)\n",
    "\n",
    "# Getting the final rating for each Driver_ID\n",
    "df_temp_income['Final_Income']=df[['Driver_ID',\n",
    "                                   'Income']].groupby('Driver_ID').last().reset_index()['Income']\n",
    "\n",
    "# Assigning 1 if income has improved, otherwise 0\n",
    "df_temp_income['Income_Increment']=np.where(\n",
    "    df_temp_income['Final_Income']-df_temp_income['Initial_Income']>0,1,0)"
   ]
  },
  {
   "cell_type": "code",
   "execution_count": 21,
   "id": "a89d73eb",
   "metadata": {},
   "outputs": [],
   "source": [
    "df_temp_income.drop(columns=['Initial_Income','Final_Income'],inplace=True)"
   ]
  },
  {
   "cell_type": "code",
   "execution_count": 22,
   "id": "5bfafa93",
   "metadata": {},
   "outputs": [
    {
     "data": {
      "text/html": [
       "<div>\n",
       "<style scoped>\n",
       "    .dataframe tbody tr th:only-of-type {\n",
       "        vertical-align: middle;\n",
       "    }\n",
       "\n",
       "    .dataframe tbody tr th {\n",
       "        vertical-align: top;\n",
       "    }\n",
       "\n",
       "    .dataframe thead th {\n",
       "        text-align: right;\n",
       "    }\n",
       "</style>\n",
       "<table border=\"1\" class=\"dataframe\">\n",
       "  <thead>\n",
       "    <tr style=\"text-align: right;\">\n",
       "      <th></th>\n",
       "      <th>Driver_ID</th>\n",
       "      <th>Income_Increment</th>\n",
       "    </tr>\n",
       "  </thead>\n",
       "  <tbody>\n",
       "    <tr>\n",
       "      <th>0</th>\n",
       "      <td>1</td>\n",
       "      <td>0</td>\n",
       "    </tr>\n",
       "    <tr>\n",
       "      <th>1</th>\n",
       "      <td>2</td>\n",
       "      <td>0</td>\n",
       "    </tr>\n",
       "    <tr>\n",
       "      <th>2</th>\n",
       "      <td>4</td>\n",
       "      <td>0</td>\n",
       "    </tr>\n",
       "    <tr>\n",
       "      <th>3</th>\n",
       "      <td>5</td>\n",
       "      <td>0</td>\n",
       "    </tr>\n",
       "    <tr>\n",
       "      <th>4</th>\n",
       "      <td>6</td>\n",
       "      <td>0</td>\n",
       "    </tr>\n",
       "  </tbody>\n",
       "</table>\n",
       "</div>"
      ],
      "text/plain": [
       "   Driver_ID  Income_Increment\n",
       "0          1                 0\n",
       "1          2                 0\n",
       "2          4                 0\n",
       "3          5                 0\n",
       "4          6                 0"
      ]
     },
     "execution_count": 22,
     "metadata": {},
     "output_type": "execute_result"
    }
   ],
   "source": [
    "df_temp_income.head()"
   ]
  },
  {
   "cell_type": "code",
   "execution_count": 23,
   "id": "5f0da00d",
   "metadata": {},
   "outputs": [
    {
     "data": {
      "text/plain": [
       "0    0.98194\n",
       "1    0.01806\n",
       "Name: Income_Increment, dtype: float64"
      ]
     },
     "execution_count": 23,
     "metadata": {},
     "output_type": "execute_result"
    }
   ],
   "source": [
    "df_temp_income['Income_Increment'].value_counts(normalize=True)"
   ]
  },
  {
   "cell_type": "markdown",
   "id": "b6022115",
   "metadata": {},
   "source": [
    "It can be observed that only small proportion of drivers(~1.8%) improved their income"
   ]
  },
  {
   "cell_type": "code",
   "execution_count": 24,
   "id": "e28ccbe7",
   "metadata": {},
   "outputs": [],
   "source": [
    "# Creating a dictionary to store the aggregation conditions\n",
    "# for each features\n",
    "\n",
    "emp_dict={\n",
    "    'MMM-YY':'last',\n",
    "    'Driver_ID':'first',\n",
    "    'Age':'last',\n",
    "    'Gender':'last',\n",
    "    'City':'last',\n",
    "    'Education_Level':'last', \n",
    "    'Income':'last',\n",
    "    'Dateofjoining':'first',\n",
    "    'LastWorkingDate':'last',\n",
    "    'Joining Designation':'first',\n",
    "    'Grade':'last',\n",
    "    'Total Business Value':'sum',\n",
    "    'Quarterly Rating':'last'   \n",
    "}"
   ]
  },
  {
   "cell_type": "markdown",
   "id": "b10896e8",
   "metadata": {},
   "source": [
    "##### Creating dataframe with unique driver id"
   ]
  },
  {
   "cell_type": "code",
   "execution_count": 25,
   "id": "0758b00f",
   "metadata": {},
   "outputs": [],
   "source": [
    "# Applying aggregation function to each unique 'Driver_ID' \n",
    "# and creating each row with unique 'Driver_ID'\n",
    "\n",
    "df_uniue_id = df.groupby('Driver_ID').agg(emp_dict).reset_index(drop=True)"
   ]
  },
  {
   "cell_type": "code",
   "execution_count": 26,
   "id": "0dbaa60a",
   "metadata": {},
   "outputs": [
    {
     "data": {
      "text/html": [
       "<div>\n",
       "<style scoped>\n",
       "    .dataframe tbody tr th:only-of-type {\n",
       "        vertical-align: middle;\n",
       "    }\n",
       "\n",
       "    .dataframe tbody tr th {\n",
       "        vertical-align: top;\n",
       "    }\n",
       "\n",
       "    .dataframe thead th {\n",
       "        text-align: right;\n",
       "    }\n",
       "</style>\n",
       "<table border=\"1\" class=\"dataframe\">\n",
       "  <thead>\n",
       "    <tr style=\"text-align: right;\">\n",
       "      <th></th>\n",
       "      <th>MMM-YY</th>\n",
       "      <th>Driver_ID</th>\n",
       "      <th>Age</th>\n",
       "      <th>Gender</th>\n",
       "      <th>City</th>\n",
       "      <th>Education_Level</th>\n",
       "      <th>Income</th>\n",
       "      <th>Dateofjoining</th>\n",
       "      <th>LastWorkingDate</th>\n",
       "      <th>Joining Designation</th>\n",
       "      <th>Grade</th>\n",
       "      <th>Total Business Value</th>\n",
       "      <th>Quarterly Rating</th>\n",
       "    </tr>\n",
       "  </thead>\n",
       "  <tbody>\n",
       "    <tr>\n",
       "      <th>0</th>\n",
       "      <td>03/01/19</td>\n",
       "      <td>1</td>\n",
       "      <td>28.0</td>\n",
       "      <td>0.0</td>\n",
       "      <td>C23</td>\n",
       "      <td>2</td>\n",
       "      <td>57387</td>\n",
       "      <td>24/12/18</td>\n",
       "      <td>03/11/19</td>\n",
       "      <td>1</td>\n",
       "      <td>1</td>\n",
       "      <td>1715580</td>\n",
       "      <td>2</td>\n",
       "    </tr>\n",
       "    <tr>\n",
       "      <th>1</th>\n",
       "      <td>12/01/20</td>\n",
       "      <td>2</td>\n",
       "      <td>31.0</td>\n",
       "      <td>0.0</td>\n",
       "      <td>C7</td>\n",
       "      <td>2</td>\n",
       "      <td>67016</td>\n",
       "      <td>11/06/20</td>\n",
       "      <td>None</td>\n",
       "      <td>2</td>\n",
       "      <td>2</td>\n",
       "      <td>0</td>\n",
       "      <td>1</td>\n",
       "    </tr>\n",
       "    <tr>\n",
       "      <th>2</th>\n",
       "      <td>04/01/20</td>\n",
       "      <td>4</td>\n",
       "      <td>43.0</td>\n",
       "      <td>0.0</td>\n",
       "      <td>C13</td>\n",
       "      <td>2</td>\n",
       "      <td>65603</td>\n",
       "      <td>12/07/19</td>\n",
       "      <td>27/04/20</td>\n",
       "      <td>2</td>\n",
       "      <td>2</td>\n",
       "      <td>350000</td>\n",
       "      <td>1</td>\n",
       "    </tr>\n",
       "    <tr>\n",
       "      <th>3</th>\n",
       "      <td>03/01/19</td>\n",
       "      <td>5</td>\n",
       "      <td>29.0</td>\n",
       "      <td>0.0</td>\n",
       "      <td>C9</td>\n",
       "      <td>0</td>\n",
       "      <td>46368</td>\n",
       "      <td>01/09/19</td>\n",
       "      <td>03/07/19</td>\n",
       "      <td>1</td>\n",
       "      <td>1</td>\n",
       "      <td>120360</td>\n",
       "      <td>1</td>\n",
       "    </tr>\n",
       "    <tr>\n",
       "      <th>4</th>\n",
       "      <td>12/01/20</td>\n",
       "      <td>6</td>\n",
       "      <td>31.0</td>\n",
       "      <td>1.0</td>\n",
       "      <td>C11</td>\n",
       "      <td>1</td>\n",
       "      <td>78728</td>\n",
       "      <td>31/07/20</td>\n",
       "      <td>None</td>\n",
       "      <td>3</td>\n",
       "      <td>3</td>\n",
       "      <td>1265000</td>\n",
       "      <td>2</td>\n",
       "    </tr>\n",
       "    <tr>\n",
       "      <th>5</th>\n",
       "      <td>11/01/20</td>\n",
       "      <td>8</td>\n",
       "      <td>34.0</td>\n",
       "      <td>0.0</td>\n",
       "      <td>C2</td>\n",
       "      <td>0</td>\n",
       "      <td>70656</td>\n",
       "      <td>19/09/20</td>\n",
       "      <td>15/11/20</td>\n",
       "      <td>3</td>\n",
       "      <td>3</td>\n",
       "      <td>0</td>\n",
       "      <td>1</td>\n",
       "    </tr>\n",
       "    <tr>\n",
       "      <th>6</th>\n",
       "      <td>12/01/20</td>\n",
       "      <td>11</td>\n",
       "      <td>28.0</td>\n",
       "      <td>1.0</td>\n",
       "      <td>C19</td>\n",
       "      <td>2</td>\n",
       "      <td>42172</td>\n",
       "      <td>12/07/20</td>\n",
       "      <td>None</td>\n",
       "      <td>1</td>\n",
       "      <td>1</td>\n",
       "      <td>0</td>\n",
       "      <td>1</td>\n",
       "    </tr>\n",
       "    <tr>\n",
       "      <th>7</th>\n",
       "      <td>12/01/19</td>\n",
       "      <td>12</td>\n",
       "      <td>35.0</td>\n",
       "      <td>0.0</td>\n",
       "      <td>C23</td>\n",
       "      <td>2</td>\n",
       "      <td>28116</td>\n",
       "      <td>29/06/19</td>\n",
       "      <td>21/12/19</td>\n",
       "      <td>1</td>\n",
       "      <td>1</td>\n",
       "      <td>2607180</td>\n",
       "      <td>1</td>\n",
       "    </tr>\n",
       "    <tr>\n",
       "      <th>8</th>\n",
       "      <td>11/01/20</td>\n",
       "      <td>13</td>\n",
       "      <td>31.0</td>\n",
       "      <td>0.0</td>\n",
       "      <td>C19</td>\n",
       "      <td>2</td>\n",
       "      <td>119227</td>\n",
       "      <td>28/05/15</td>\n",
       "      <td>25/11/20</td>\n",
       "      <td>1</td>\n",
       "      <td>4</td>\n",
       "      <td>10213040</td>\n",
       "      <td>1</td>\n",
       "    </tr>\n",
       "    <tr>\n",
       "      <th>9</th>\n",
       "      <td>12/01/20</td>\n",
       "      <td>14</td>\n",
       "      <td>39.0</td>\n",
       "      <td>1.0</td>\n",
       "      <td>C26</td>\n",
       "      <td>0</td>\n",
       "      <td>19734</td>\n",
       "      <td>16/10/20</td>\n",
       "      <td>None</td>\n",
       "      <td>3</td>\n",
       "      <td>3</td>\n",
       "      <td>0</td>\n",
       "      <td>1</td>\n",
       "    </tr>\n",
       "  </tbody>\n",
       "</table>\n",
       "</div>"
      ],
      "text/plain": [
       "     MMM-YY  Driver_ID   Age  Gender City  Education_Level  Income  \\\n",
       "0  03/01/19          1  28.0     0.0  C23                2   57387   \n",
       "1  12/01/20          2  31.0     0.0   C7                2   67016   \n",
       "2  04/01/20          4  43.0     0.0  C13                2   65603   \n",
       "3  03/01/19          5  29.0     0.0   C9                0   46368   \n",
       "4  12/01/20          6  31.0     1.0  C11                1   78728   \n",
       "5  11/01/20          8  34.0     0.0   C2                0   70656   \n",
       "6  12/01/20         11  28.0     1.0  C19                2   42172   \n",
       "7  12/01/19         12  35.0     0.0  C23                2   28116   \n",
       "8  11/01/20         13  31.0     0.0  C19                2  119227   \n",
       "9  12/01/20         14  39.0     1.0  C26                0   19734   \n",
       "\n",
       "  Dateofjoining LastWorkingDate  Joining Designation  Grade  \\\n",
       "0      24/12/18        03/11/19                    1      1   \n",
       "1      11/06/20            None                    2      2   \n",
       "2      12/07/19        27/04/20                    2      2   \n",
       "3      01/09/19        03/07/19                    1      1   \n",
       "4      31/07/20            None                    3      3   \n",
       "5      19/09/20        15/11/20                    3      3   \n",
       "6      12/07/20            None                    1      1   \n",
       "7      29/06/19        21/12/19                    1      1   \n",
       "8      28/05/15        25/11/20                    1      4   \n",
       "9      16/10/20            None                    3      3   \n",
       "\n",
       "   Total Business Value  Quarterly Rating  \n",
       "0               1715580                 2  \n",
       "1                     0                 1  \n",
       "2                350000                 1  \n",
       "3                120360                 1  \n",
       "4               1265000                 2  \n",
       "5                     0                 1  \n",
       "6                     0                 1  \n",
       "7               2607180                 1  \n",
       "8              10213040                 1  \n",
       "9                     0                 1  "
      ]
     },
     "execution_count": 26,
     "metadata": {},
     "output_type": "execute_result"
    }
   ],
   "source": [
    "df_uniue_id[:10]"
   ]
  },
  {
   "cell_type": "code",
   "execution_count": 27,
   "id": "73f3c84e",
   "metadata": {},
   "outputs": [],
   "source": [
    "# Merging 'Quaterly_Rating_improvement' corresponding to each unique 'Driver_ID'\n",
    "\n",
    "df_2 = pd.merge(df_uniue_id,df_temp_rating,how='inner', on='Driver_ID')"
   ]
  },
  {
   "cell_type": "code",
   "execution_count": 28,
   "id": "7e151908",
   "metadata": {},
   "outputs": [],
   "source": [
    "# Merging 'Income_Increment' corresponding to each unique 'Driver_ID'\n",
    "\n",
    "df_2 = pd.merge(df_2, df_temp_income, how='inner', on='Driver_ID')"
   ]
  },
  {
   "cell_type": "code",
   "execution_count": 29,
   "id": "fd6e42d3",
   "metadata": {},
   "outputs": [
    {
     "data": {
      "text/html": [
       "<div>\n",
       "<style scoped>\n",
       "    .dataframe tbody tr th:only-of-type {\n",
       "        vertical-align: middle;\n",
       "    }\n",
       "\n",
       "    .dataframe tbody tr th {\n",
       "        vertical-align: top;\n",
       "    }\n",
       "\n",
       "    .dataframe thead th {\n",
       "        text-align: right;\n",
       "    }\n",
       "</style>\n",
       "<table border=\"1\" class=\"dataframe\">\n",
       "  <thead>\n",
       "    <tr style=\"text-align: right;\">\n",
       "      <th></th>\n",
       "      <th>MMM-YY</th>\n",
       "      <th>Driver_ID</th>\n",
       "      <th>Age</th>\n",
       "      <th>Gender</th>\n",
       "      <th>City</th>\n",
       "      <th>Education_Level</th>\n",
       "      <th>Income</th>\n",
       "      <th>Dateofjoining</th>\n",
       "      <th>LastWorkingDate</th>\n",
       "      <th>Joining Designation</th>\n",
       "      <th>Grade</th>\n",
       "      <th>Total Business Value</th>\n",
       "      <th>Quarterly Rating</th>\n",
       "      <th>Quaterly_Rating_improvement</th>\n",
       "      <th>Income_Increment</th>\n",
       "    </tr>\n",
       "  </thead>\n",
       "  <tbody>\n",
       "    <tr>\n",
       "      <th>0</th>\n",
       "      <td>03/01/19</td>\n",
       "      <td>1</td>\n",
       "      <td>28.0</td>\n",
       "      <td>0.0</td>\n",
       "      <td>C23</td>\n",
       "      <td>2</td>\n",
       "      <td>57387</td>\n",
       "      <td>24/12/18</td>\n",
       "      <td>03/11/19</td>\n",
       "      <td>1</td>\n",
       "      <td>1</td>\n",
       "      <td>1715580</td>\n",
       "      <td>2</td>\n",
       "      <td>0</td>\n",
       "      <td>0</td>\n",
       "    </tr>\n",
       "    <tr>\n",
       "      <th>1</th>\n",
       "      <td>12/01/20</td>\n",
       "      <td>2</td>\n",
       "      <td>31.0</td>\n",
       "      <td>0.0</td>\n",
       "      <td>C7</td>\n",
       "      <td>2</td>\n",
       "      <td>67016</td>\n",
       "      <td>11/06/20</td>\n",
       "      <td>None</td>\n",
       "      <td>2</td>\n",
       "      <td>2</td>\n",
       "      <td>0</td>\n",
       "      <td>1</td>\n",
       "      <td>0</td>\n",
       "      <td>0</td>\n",
       "    </tr>\n",
       "    <tr>\n",
       "      <th>2</th>\n",
       "      <td>04/01/20</td>\n",
       "      <td>4</td>\n",
       "      <td>43.0</td>\n",
       "      <td>0.0</td>\n",
       "      <td>C13</td>\n",
       "      <td>2</td>\n",
       "      <td>65603</td>\n",
       "      <td>12/07/19</td>\n",
       "      <td>27/04/20</td>\n",
       "      <td>2</td>\n",
       "      <td>2</td>\n",
       "      <td>350000</td>\n",
       "      <td>1</td>\n",
       "      <td>0</td>\n",
       "      <td>0</td>\n",
       "    </tr>\n",
       "    <tr>\n",
       "      <th>3</th>\n",
       "      <td>03/01/19</td>\n",
       "      <td>5</td>\n",
       "      <td>29.0</td>\n",
       "      <td>0.0</td>\n",
       "      <td>C9</td>\n",
       "      <td>0</td>\n",
       "      <td>46368</td>\n",
       "      <td>01/09/19</td>\n",
       "      <td>03/07/19</td>\n",
       "      <td>1</td>\n",
       "      <td>1</td>\n",
       "      <td>120360</td>\n",
       "      <td>1</td>\n",
       "      <td>0</td>\n",
       "      <td>0</td>\n",
       "    </tr>\n",
       "    <tr>\n",
       "      <th>4</th>\n",
       "      <td>12/01/20</td>\n",
       "      <td>6</td>\n",
       "      <td>31.0</td>\n",
       "      <td>1.0</td>\n",
       "      <td>C11</td>\n",
       "      <td>1</td>\n",
       "      <td>78728</td>\n",
       "      <td>31/07/20</td>\n",
       "      <td>None</td>\n",
       "      <td>3</td>\n",
       "      <td>3</td>\n",
       "      <td>1265000</td>\n",
       "      <td>2</td>\n",
       "      <td>1</td>\n",
       "      <td>0</td>\n",
       "    </tr>\n",
       "  </tbody>\n",
       "</table>\n",
       "</div>"
      ],
      "text/plain": [
       "     MMM-YY  Driver_ID   Age  Gender City  Education_Level  Income  \\\n",
       "0  03/01/19          1  28.0     0.0  C23                2   57387   \n",
       "1  12/01/20          2  31.0     0.0   C7                2   67016   \n",
       "2  04/01/20          4  43.0     0.0  C13                2   65603   \n",
       "3  03/01/19          5  29.0     0.0   C9                0   46368   \n",
       "4  12/01/20          6  31.0     1.0  C11                1   78728   \n",
       "\n",
       "  Dateofjoining LastWorkingDate  Joining Designation  Grade  \\\n",
       "0      24/12/18        03/11/19                    1      1   \n",
       "1      11/06/20            None                    2      2   \n",
       "2      12/07/19        27/04/20                    2      2   \n",
       "3      01/09/19        03/07/19                    1      1   \n",
       "4      31/07/20            None                    3      3   \n",
       "\n",
       "   Total Business Value  Quarterly Rating  Quaterly_Rating_improvement  \\\n",
       "0               1715580                 2                            0   \n",
       "1                     0                 1                            0   \n",
       "2                350000                 1                            0   \n",
       "3                120360                 1                            0   \n",
       "4               1265000                 2                            1   \n",
       "\n",
       "   Income_Increment  \n",
       "0                 0  \n",
       "1                 0  \n",
       "2                 0  \n",
       "3                 0  \n",
       "4                 0  "
      ]
     },
     "execution_count": 29,
     "metadata": {},
     "output_type": "execute_result"
    }
   ],
   "source": [
    "df_2.head()"
   ]
  },
  {
   "cell_type": "code",
   "execution_count": 30,
   "id": "17ac628b",
   "metadata": {},
   "outputs": [
    {
     "data": {
      "text/plain": [
       "True"
      ]
     },
     "execution_count": 30,
     "metadata": {},
     "output_type": "execute_result"
    }
   ],
   "source": [
    "# Checking whether count of 'Driver_ID' are same before and after aggregation:\n",
    "\n",
    "df_2['Driver_ID'].nunique() == df['Driver_ID'].nunique()"
   ]
  },
  {
   "cell_type": "markdown",
   "id": "6e38f3a3",
   "metadata": {},
   "source": [
    "### Target feature creation:"
   ]
  },
  {
   "cell_type": "markdown",
   "id": "82aa2c2a",
   "metadata": {},
   "source": [
    "##### Analysing 'LastWorkingDate':"
   ]
  },
  {
   "cell_type": "code",
   "execution_count": 31,
   "id": "1ad7c4be",
   "metadata": {},
   "outputs": [
    {
     "data": {
      "text/plain": [
       "0    03/11/19\n",
       "1        None\n",
       "2    27/04/20\n",
       "3    03/07/19\n",
       "4        None\n",
       "5    15/11/20\n",
       "6        None\n",
       "7    21/12/19\n",
       "8    25/11/20\n",
       "9        None\n",
       "Name: LastWorkingDate, dtype: object"
      ]
     },
     "execution_count": 31,
     "metadata": {},
     "output_type": "execute_result"
    }
   ],
   "source": [
    "df_2['LastWorkingDate'][:10]"
   ]
  },
  {
   "cell_type": "markdown",
   "id": "d9bff6ac",
   "metadata": {},
   "source": [
    "* It can be observed that for 'LastWorkingDate', lot of the values are None\n",
    "* 'None' indicates that, the driver is still continuing in the company and if it has a paricular date the driver has churned"
   ]
  },
  {
   "cell_type": "markdown",
   "id": "ebe0088b",
   "metadata": {},
   "source": [
    "##### Conditions for class:1\n",
    "* P(y=1|xi)--> driver churned\n",
    "\n",
    "##### Conditions for class:0\n",
    "* P(y=0|xi)--> driver not churned"
   ]
  },
  {
   "cell_type": "code",
   "execution_count": 32,
   "id": "c8f37582",
   "metadata": {},
   "outputs": [],
   "source": [
    "# Creating a feature 'Churn' and assigning 0  if the value is None (not churned)\n",
    "# else assigning 1(churned)\n",
    "\n",
    "df_2['Churn']=df_2['LastWorkingDate'].apply(lambda x:0 if x == None else 1)"
   ]
  },
  {
   "cell_type": "markdown",
   "id": "15a6a047",
   "metadata": {},
   "source": [
    "##### Dropping 'LastWorkingDate' as the corresponding values have been mapped to 'Churn'"
   ]
  },
  {
   "cell_type": "code",
   "execution_count": 33,
   "id": "dbcf6fcd",
   "metadata": {},
   "outputs": [],
   "source": [
    "df_2.drop(columns=['LastWorkingDate'],inplace = True)"
   ]
  },
  {
   "cell_type": "code",
   "execution_count": 34,
   "id": "0b729756",
   "metadata": {},
   "outputs": [
    {
     "data": {
      "text/html": [
       "<div>\n",
       "<style scoped>\n",
       "    .dataframe tbody tr th:only-of-type {\n",
       "        vertical-align: middle;\n",
       "    }\n",
       "\n",
       "    .dataframe tbody tr th {\n",
       "        vertical-align: top;\n",
       "    }\n",
       "\n",
       "    .dataframe thead th {\n",
       "        text-align: right;\n",
       "    }\n",
       "</style>\n",
       "<table border=\"1\" class=\"dataframe\">\n",
       "  <thead>\n",
       "    <tr style=\"text-align: right;\">\n",
       "      <th></th>\n",
       "      <th>MMM-YY</th>\n",
       "      <th>Driver_ID</th>\n",
       "      <th>Age</th>\n",
       "      <th>Gender</th>\n",
       "      <th>City</th>\n",
       "      <th>Education_Level</th>\n",
       "      <th>Income</th>\n",
       "      <th>Dateofjoining</th>\n",
       "      <th>Joining Designation</th>\n",
       "      <th>Grade</th>\n",
       "      <th>Total Business Value</th>\n",
       "      <th>Quarterly Rating</th>\n",
       "      <th>Quaterly_Rating_improvement</th>\n",
       "      <th>Income_Increment</th>\n",
       "      <th>Churn</th>\n",
       "    </tr>\n",
       "  </thead>\n",
       "  <tbody>\n",
       "    <tr>\n",
       "      <th>0</th>\n",
       "      <td>03/01/19</td>\n",
       "      <td>1</td>\n",
       "      <td>28.0</td>\n",
       "      <td>0.0</td>\n",
       "      <td>C23</td>\n",
       "      <td>2</td>\n",
       "      <td>57387</td>\n",
       "      <td>24/12/18</td>\n",
       "      <td>1</td>\n",
       "      <td>1</td>\n",
       "      <td>1715580</td>\n",
       "      <td>2</td>\n",
       "      <td>0</td>\n",
       "      <td>0</td>\n",
       "      <td>1</td>\n",
       "    </tr>\n",
       "    <tr>\n",
       "      <th>1</th>\n",
       "      <td>12/01/20</td>\n",
       "      <td>2</td>\n",
       "      <td>31.0</td>\n",
       "      <td>0.0</td>\n",
       "      <td>C7</td>\n",
       "      <td>2</td>\n",
       "      <td>67016</td>\n",
       "      <td>11/06/20</td>\n",
       "      <td>2</td>\n",
       "      <td>2</td>\n",
       "      <td>0</td>\n",
       "      <td>1</td>\n",
       "      <td>0</td>\n",
       "      <td>0</td>\n",
       "      <td>0</td>\n",
       "    </tr>\n",
       "    <tr>\n",
       "      <th>2</th>\n",
       "      <td>04/01/20</td>\n",
       "      <td>4</td>\n",
       "      <td>43.0</td>\n",
       "      <td>0.0</td>\n",
       "      <td>C13</td>\n",
       "      <td>2</td>\n",
       "      <td>65603</td>\n",
       "      <td>12/07/19</td>\n",
       "      <td>2</td>\n",
       "      <td>2</td>\n",
       "      <td>350000</td>\n",
       "      <td>1</td>\n",
       "      <td>0</td>\n",
       "      <td>0</td>\n",
       "      <td>1</td>\n",
       "    </tr>\n",
       "    <tr>\n",
       "      <th>3</th>\n",
       "      <td>03/01/19</td>\n",
       "      <td>5</td>\n",
       "      <td>29.0</td>\n",
       "      <td>0.0</td>\n",
       "      <td>C9</td>\n",
       "      <td>0</td>\n",
       "      <td>46368</td>\n",
       "      <td>01/09/19</td>\n",
       "      <td>1</td>\n",
       "      <td>1</td>\n",
       "      <td>120360</td>\n",
       "      <td>1</td>\n",
       "      <td>0</td>\n",
       "      <td>0</td>\n",
       "      <td>1</td>\n",
       "    </tr>\n",
       "    <tr>\n",
       "      <th>4</th>\n",
       "      <td>12/01/20</td>\n",
       "      <td>6</td>\n",
       "      <td>31.0</td>\n",
       "      <td>1.0</td>\n",
       "      <td>C11</td>\n",
       "      <td>1</td>\n",
       "      <td>78728</td>\n",
       "      <td>31/07/20</td>\n",
       "      <td>3</td>\n",
       "      <td>3</td>\n",
       "      <td>1265000</td>\n",
       "      <td>2</td>\n",
       "      <td>1</td>\n",
       "      <td>0</td>\n",
       "      <td>0</td>\n",
       "    </tr>\n",
       "  </tbody>\n",
       "</table>\n",
       "</div>"
      ],
      "text/plain": [
       "     MMM-YY  Driver_ID   Age  Gender City  Education_Level  Income  \\\n",
       "0  03/01/19          1  28.0     0.0  C23                2   57387   \n",
       "1  12/01/20          2  31.0     0.0   C7                2   67016   \n",
       "2  04/01/20          4  43.0     0.0  C13                2   65603   \n",
       "3  03/01/19          5  29.0     0.0   C9                0   46368   \n",
       "4  12/01/20          6  31.0     1.0  C11                1   78728   \n",
       "\n",
       "  Dateofjoining  Joining Designation  Grade  Total Business Value  \\\n",
       "0      24/12/18                    1      1               1715580   \n",
       "1      11/06/20                    2      2                     0   \n",
       "2      12/07/19                    2      2                350000   \n",
       "3      01/09/19                    1      1                120360   \n",
       "4      31/07/20                    3      3               1265000   \n",
       "\n",
       "   Quarterly Rating  Quaterly_Rating_improvement  Income_Increment  Churn  \n",
       "0                 2                            0                 0      1  \n",
       "1                 1                            0                 0      0  \n",
       "2                 1                            0                 0      1  \n",
       "3                 1                            0                 0      1  \n",
       "4                 2                            1                 0      0  "
      ]
     },
     "execution_count": 34,
     "metadata": {},
     "output_type": "execute_result"
    }
   ],
   "source": [
    "df_2.head()"
   ]
  },
  {
   "cell_type": "code",
   "execution_count": 35,
   "id": "d86dc8d4",
   "metadata": {},
   "outputs": [
    {
     "data": {
      "text/plain": [
       "MMM-YY                         0\n",
       "Driver_ID                      0\n",
       "Age                            0\n",
       "Gender                         0\n",
       "City                           0\n",
       "Education_Level                0\n",
       "Income                         0\n",
       "Dateofjoining                  0\n",
       "Joining Designation            0\n",
       "Grade                          0\n",
       "Total Business Value           0\n",
       "Quarterly Rating               0\n",
       "Quaterly_Rating_improvement    0\n",
       "Income_Increment               0\n",
       "Churn                          0\n",
       "dtype: int64"
      ]
     },
     "execution_count": 35,
     "metadata": {},
     "output_type": "execute_result"
    }
   ],
   "source": [
    "# Checking the count of null values:\n",
    "\n",
    "df_2.isna().sum()"
   ]
  },
  {
   "cell_type": "code",
   "execution_count": 36,
   "id": "a49ae467",
   "metadata": {},
   "outputs": [
    {
     "name": "stdout",
     "output_type": "stream",
     "text": [
      "Initial no. of rows are: 19104\n",
      "After the aggregation, the no. of rows are: 2381\n",
      "The count of rows reduced by: 16723\n"
     ]
    }
   ],
   "source": [
    "print(f\"Initial no. of rows are: {df.shape[0]}\")\n",
    "print(f\"After the aggregation, the no. of rows are: {df_2.shape[0]}\")\n",
    "print(f\"The count of rows reduced by: {df.shape[0]-df_2.shape[0]}\")"
   ]
  },
  {
   "cell_type": "markdown",
   "id": "090fdfe7",
   "metadata": {},
   "source": [
    "##### Observations:\n",
    "1. Each row contains unique driver id after the aggregation and the redundant ID's have been removed\n",
    "2. Target feature, 'Churn' has been created based on the values of 'LastWorkingDate'\n",
    "3. Additional features('Quaterly_Rating_improvement', 'Income_Increment') have been created\n",
    "4. After the aggregation, count of null values = 0"
   ]
  },
  {
   "cell_type": "markdown",
   "id": "605e08af",
   "metadata": {},
   "source": [
    "### Basic feature engineering is completed and EDA can be carried out:"
   ]
  },
  {
   "cell_type": "code",
   "execution_count": 37,
   "id": "01c4f3b4",
   "metadata": {},
   "outputs": [
    {
     "name": "stdout",
     "output_type": "stream",
     "text": [
      "<class 'pandas.core.frame.DataFrame'>\n",
      "Int64Index: 2381 entries, 0 to 2380\n",
      "Data columns (total 15 columns):\n",
      " #   Column                       Non-Null Count  Dtype  \n",
      "---  ------                       --------------  -----  \n",
      " 0   MMM-YY                       2381 non-null   object \n",
      " 1   Driver_ID                    2381 non-null   int64  \n",
      " 2   Age                          2381 non-null   float64\n",
      " 3   Gender                       2381 non-null   float64\n",
      " 4   City                         2381 non-null   object \n",
      " 5   Education_Level              2381 non-null   int64  \n",
      " 6   Income                       2381 non-null   int64  \n",
      " 7   Dateofjoining                2381 non-null   object \n",
      " 8   Joining Designation          2381 non-null   int64  \n",
      " 9   Grade                        2381 non-null   int64  \n",
      " 10  Total Business Value         2381 non-null   int64  \n",
      " 11  Quarterly Rating             2381 non-null   int64  \n",
      " 12  Quaterly_Rating_improvement  2381 non-null   int32  \n",
      " 13  Income_Increment             2381 non-null   int32  \n",
      " 14  Churn                        2381 non-null   int64  \n",
      "dtypes: float64(2), int32(2), int64(8), object(3)\n",
      "memory usage: 279.0+ KB\n"
     ]
    }
   ],
   "source": [
    "df_2.info()"
   ]
  },
  {
   "cell_type": "markdown",
   "id": "b7b9935c",
   "metadata": {},
   "source": [
    "##### If reporting date and joining date are subtracted, total duration of the driver with the firm can be found out."
   ]
  },
  {
   "cell_type": "code",
   "execution_count": 38,
   "id": "bcb1bc49",
   "metadata": {},
   "outputs": [],
   "source": [
    "# 1. Converting Reporting Date to datetime format:\n",
    "df_2['MMM-YY']=pd.to_datetime(df_2['MMM-YY'])\n",
    "\n",
    "# 2. Converting Dateofjoining to datetime format:\n",
    "df_2['Dateofjoining'] = pd.to_datetime(df_2['Dateofjoining'])\n",
    "\n",
    "# 3. Extracting year from Reporting Date and JoiningYear\n",
    "df_2['Reporting_year'] = pd.DatetimeIndex(df_2['MMM-YY']).year\n",
    "df_2['JoiningYear'] = pd.DatetimeIndex(df_2['Dateofjoining']).year\n",
    "\n",
    "# 4. Calculating the total years stayed by the driver:\n",
    "df_2['Tenure'] = df_2['Reporting_year']-df_2['JoiningYear']"
   ]
  },
  {
   "cell_type": "code",
   "execution_count": 39,
   "id": "5a82099d",
   "metadata": {},
   "outputs": [
    {
     "data": {
      "text/html": [
       "<div>\n",
       "<style scoped>\n",
       "    .dataframe tbody tr th:only-of-type {\n",
       "        vertical-align: middle;\n",
       "    }\n",
       "\n",
       "    .dataframe tbody tr th {\n",
       "        vertical-align: top;\n",
       "    }\n",
       "\n",
       "    .dataframe thead th {\n",
       "        text-align: right;\n",
       "    }\n",
       "</style>\n",
       "<table border=\"1\" class=\"dataframe\">\n",
       "  <thead>\n",
       "    <tr style=\"text-align: right;\">\n",
       "      <th></th>\n",
       "      <th>MMM-YY</th>\n",
       "      <th>Driver_ID</th>\n",
       "      <th>Age</th>\n",
       "      <th>Gender</th>\n",
       "      <th>City</th>\n",
       "      <th>Education_Level</th>\n",
       "      <th>Income</th>\n",
       "      <th>Dateofjoining</th>\n",
       "      <th>Joining Designation</th>\n",
       "      <th>Grade</th>\n",
       "      <th>Total Business Value</th>\n",
       "      <th>Quarterly Rating</th>\n",
       "      <th>Quaterly_Rating_improvement</th>\n",
       "      <th>Income_Increment</th>\n",
       "      <th>Churn</th>\n",
       "      <th>Reporting_year</th>\n",
       "      <th>JoiningYear</th>\n",
       "      <th>Tenure</th>\n",
       "    </tr>\n",
       "  </thead>\n",
       "  <tbody>\n",
       "    <tr>\n",
       "      <th>0</th>\n",
       "      <td>2019-03-01</td>\n",
       "      <td>1</td>\n",
       "      <td>28.0</td>\n",
       "      <td>0.0</td>\n",
       "      <td>C23</td>\n",
       "      <td>2</td>\n",
       "      <td>57387</td>\n",
       "      <td>2018-12-24</td>\n",
       "      <td>1</td>\n",
       "      <td>1</td>\n",
       "      <td>1715580</td>\n",
       "      <td>2</td>\n",
       "      <td>0</td>\n",
       "      <td>0</td>\n",
       "      <td>1</td>\n",
       "      <td>2019</td>\n",
       "      <td>2018</td>\n",
       "      <td>1</td>\n",
       "    </tr>\n",
       "    <tr>\n",
       "      <th>1</th>\n",
       "      <td>2020-12-01</td>\n",
       "      <td>2</td>\n",
       "      <td>31.0</td>\n",
       "      <td>0.0</td>\n",
       "      <td>C7</td>\n",
       "      <td>2</td>\n",
       "      <td>67016</td>\n",
       "      <td>2020-11-06</td>\n",
       "      <td>2</td>\n",
       "      <td>2</td>\n",
       "      <td>0</td>\n",
       "      <td>1</td>\n",
       "      <td>0</td>\n",
       "      <td>0</td>\n",
       "      <td>0</td>\n",
       "      <td>2020</td>\n",
       "      <td>2020</td>\n",
       "      <td>0</td>\n",
       "    </tr>\n",
       "    <tr>\n",
       "      <th>2</th>\n",
       "      <td>2020-04-01</td>\n",
       "      <td>4</td>\n",
       "      <td>43.0</td>\n",
       "      <td>0.0</td>\n",
       "      <td>C13</td>\n",
       "      <td>2</td>\n",
       "      <td>65603</td>\n",
       "      <td>2019-12-07</td>\n",
       "      <td>2</td>\n",
       "      <td>2</td>\n",
       "      <td>350000</td>\n",
       "      <td>1</td>\n",
       "      <td>0</td>\n",
       "      <td>0</td>\n",
       "      <td>1</td>\n",
       "      <td>2020</td>\n",
       "      <td>2019</td>\n",
       "      <td>1</td>\n",
       "    </tr>\n",
       "    <tr>\n",
       "      <th>3</th>\n",
       "      <td>2019-03-01</td>\n",
       "      <td>5</td>\n",
       "      <td>29.0</td>\n",
       "      <td>0.0</td>\n",
       "      <td>C9</td>\n",
       "      <td>0</td>\n",
       "      <td>46368</td>\n",
       "      <td>2019-01-09</td>\n",
       "      <td>1</td>\n",
       "      <td>1</td>\n",
       "      <td>120360</td>\n",
       "      <td>1</td>\n",
       "      <td>0</td>\n",
       "      <td>0</td>\n",
       "      <td>1</td>\n",
       "      <td>2019</td>\n",
       "      <td>2019</td>\n",
       "      <td>0</td>\n",
       "    </tr>\n",
       "    <tr>\n",
       "      <th>4</th>\n",
       "      <td>2020-12-01</td>\n",
       "      <td>6</td>\n",
       "      <td>31.0</td>\n",
       "      <td>1.0</td>\n",
       "      <td>C11</td>\n",
       "      <td>1</td>\n",
       "      <td>78728</td>\n",
       "      <td>2020-07-31</td>\n",
       "      <td>3</td>\n",
       "      <td>3</td>\n",
       "      <td>1265000</td>\n",
       "      <td>2</td>\n",
       "      <td>1</td>\n",
       "      <td>0</td>\n",
       "      <td>0</td>\n",
       "      <td>2020</td>\n",
       "      <td>2020</td>\n",
       "      <td>0</td>\n",
       "    </tr>\n",
       "  </tbody>\n",
       "</table>\n",
       "</div>"
      ],
      "text/plain": [
       "      MMM-YY  Driver_ID   Age  Gender City  Education_Level  Income  \\\n",
       "0 2019-03-01          1  28.0     0.0  C23                2   57387   \n",
       "1 2020-12-01          2  31.0     0.0   C7                2   67016   \n",
       "2 2020-04-01          4  43.0     0.0  C13                2   65603   \n",
       "3 2019-03-01          5  29.0     0.0   C9                0   46368   \n",
       "4 2020-12-01          6  31.0     1.0  C11                1   78728   \n",
       "\n",
       "  Dateofjoining  Joining Designation  Grade  Total Business Value  \\\n",
       "0    2018-12-24                    1      1               1715580   \n",
       "1    2020-11-06                    2      2                     0   \n",
       "2    2019-12-07                    2      2                350000   \n",
       "3    2019-01-09                    1      1                120360   \n",
       "4    2020-07-31                    3      3               1265000   \n",
       "\n",
       "   Quarterly Rating  Quaterly_Rating_improvement  Income_Increment  Churn  \\\n",
       "0                 2                            0                 0      1   \n",
       "1                 1                            0                 0      0   \n",
       "2                 1                            0                 0      1   \n",
       "3                 1                            0                 0      1   \n",
       "4                 2                            1                 0      0   \n",
       "\n",
       "   Reporting_year  JoiningYear  Tenure  \n",
       "0            2019         2018       1  \n",
       "1            2020         2020       0  \n",
       "2            2020         2019       1  \n",
       "3            2019         2019       0  \n",
       "4            2020         2020       0  "
      ]
     },
     "execution_count": 39,
     "metadata": {},
     "output_type": "execute_result"
    }
   ],
   "source": [
    "df_2.head()"
   ]
  },
  {
   "cell_type": "markdown",
   "id": "02d25437",
   "metadata": {},
   "source": [
    "##### Statistical summary:"
   ]
  },
  {
   "cell_type": "code",
   "execution_count": 40,
   "id": "da87fdac",
   "metadata": {},
   "outputs": [
    {
     "data": {
      "text/html": [
       "<div>\n",
       "<style scoped>\n",
       "    .dataframe tbody tr th:only-of-type {\n",
       "        vertical-align: middle;\n",
       "    }\n",
       "\n",
       "    .dataframe tbody tr th {\n",
       "        vertical-align: top;\n",
       "    }\n",
       "\n",
       "    .dataframe thead th {\n",
       "        text-align: right;\n",
       "    }\n",
       "</style>\n",
       "<table border=\"1\" class=\"dataframe\">\n",
       "  <thead>\n",
       "    <tr style=\"text-align: right;\">\n",
       "      <th></th>\n",
       "      <th>count</th>\n",
       "      <th>mean</th>\n",
       "      <th>std</th>\n",
       "      <th>min</th>\n",
       "      <th>25%</th>\n",
       "      <th>50%</th>\n",
       "      <th>75%</th>\n",
       "      <th>max</th>\n",
       "    </tr>\n",
       "  </thead>\n",
       "  <tbody>\n",
       "    <tr>\n",
       "      <th>Driver_ID</th>\n",
       "      <td>2381.0</td>\n",
       "      <td>1.397559e+03</td>\n",
       "      <td>8.061616e+02</td>\n",
       "      <td>1.0</td>\n",
       "      <td>695.0</td>\n",
       "      <td>1400.0</td>\n",
       "      <td>2100.0</td>\n",
       "      <td>2788.0</td>\n",
       "    </tr>\n",
       "    <tr>\n",
       "      <th>Age</th>\n",
       "      <td>2381.0</td>\n",
       "      <td>3.366317e+01</td>\n",
       "      <td>5.983375e+00</td>\n",
       "      <td>21.0</td>\n",
       "      <td>29.0</td>\n",
       "      <td>33.0</td>\n",
       "      <td>37.0</td>\n",
       "      <td>58.0</td>\n",
       "    </tr>\n",
       "    <tr>\n",
       "      <th>Gender</th>\n",
       "      <td>2381.0</td>\n",
       "      <td>4.103318e-01</td>\n",
       "      <td>4.919972e-01</td>\n",
       "      <td>0.0</td>\n",
       "      <td>0.0</td>\n",
       "      <td>0.0</td>\n",
       "      <td>1.0</td>\n",
       "      <td>1.0</td>\n",
       "    </tr>\n",
       "    <tr>\n",
       "      <th>Education_Level</th>\n",
       "      <td>2381.0</td>\n",
       "      <td>1.007560e+00</td>\n",
       "      <td>8.162900e-01</td>\n",
       "      <td>0.0</td>\n",
       "      <td>0.0</td>\n",
       "      <td>1.0</td>\n",
       "      <td>2.0</td>\n",
       "      <td>2.0</td>\n",
       "    </tr>\n",
       "    <tr>\n",
       "      <th>Income</th>\n",
       "      <td>2381.0</td>\n",
       "      <td>5.933416e+04</td>\n",
       "      <td>2.838367e+04</td>\n",
       "      <td>10747.0</td>\n",
       "      <td>39104.0</td>\n",
       "      <td>55315.0</td>\n",
       "      <td>75986.0</td>\n",
       "      <td>188418.0</td>\n",
       "    </tr>\n",
       "    <tr>\n",
       "      <th>Joining Designation</th>\n",
       "      <td>2381.0</td>\n",
       "      <td>1.820244e+00</td>\n",
       "      <td>8.414334e-01</td>\n",
       "      <td>1.0</td>\n",
       "      <td>1.0</td>\n",
       "      <td>2.0</td>\n",
       "      <td>2.0</td>\n",
       "      <td>5.0</td>\n",
       "    </tr>\n",
       "    <tr>\n",
       "      <th>Grade</th>\n",
       "      <td>2381.0</td>\n",
       "      <td>2.096598e+00</td>\n",
       "      <td>9.415218e-01</td>\n",
       "      <td>1.0</td>\n",
       "      <td>1.0</td>\n",
       "      <td>2.0</td>\n",
       "      <td>3.0</td>\n",
       "      <td>5.0</td>\n",
       "    </tr>\n",
       "    <tr>\n",
       "      <th>Total Business Value</th>\n",
       "      <td>2381.0</td>\n",
       "      <td>4.586742e+06</td>\n",
       "      <td>9.127115e+06</td>\n",
       "      <td>-1385530.0</td>\n",
       "      <td>0.0</td>\n",
       "      <td>817680.0</td>\n",
       "      <td>4173650.0</td>\n",
       "      <td>95331060.0</td>\n",
       "    </tr>\n",
       "    <tr>\n",
       "      <th>Quarterly Rating</th>\n",
       "      <td>2381.0</td>\n",
       "      <td>1.427971e+00</td>\n",
       "      <td>8.098389e-01</td>\n",
       "      <td>1.0</td>\n",
       "      <td>1.0</td>\n",
       "      <td>1.0</td>\n",
       "      <td>2.0</td>\n",
       "      <td>4.0</td>\n",
       "    </tr>\n",
       "    <tr>\n",
       "      <th>Quaterly_Rating_improvement</th>\n",
       "      <td>2381.0</td>\n",
       "      <td>1.503570e-01</td>\n",
       "      <td>3.574961e-01</td>\n",
       "      <td>0.0</td>\n",
       "      <td>0.0</td>\n",
       "      <td>0.0</td>\n",
       "      <td>0.0</td>\n",
       "      <td>1.0</td>\n",
       "    </tr>\n",
       "    <tr>\n",
       "      <th>Income_Increment</th>\n",
       "      <td>2381.0</td>\n",
       "      <td>1.805964e-02</td>\n",
       "      <td>1.331951e-01</td>\n",
       "      <td>0.0</td>\n",
       "      <td>0.0</td>\n",
       "      <td>0.0</td>\n",
       "      <td>0.0</td>\n",
       "      <td>1.0</td>\n",
       "    </tr>\n",
       "    <tr>\n",
       "      <th>Churn</th>\n",
       "      <td>2381.0</td>\n",
       "      <td>6.787064e-01</td>\n",
       "      <td>4.670713e-01</td>\n",
       "      <td>0.0</td>\n",
       "      <td>0.0</td>\n",
       "      <td>1.0</td>\n",
       "      <td>1.0</td>\n",
       "      <td>1.0</td>\n",
       "    </tr>\n",
       "    <tr>\n",
       "      <th>Reporting_year</th>\n",
       "      <td>2381.0</td>\n",
       "      <td>2.019651e+03</td>\n",
       "      <td>4.766249e-01</td>\n",
       "      <td>2019.0</td>\n",
       "      <td>2019.0</td>\n",
       "      <td>2020.0</td>\n",
       "      <td>2020.0</td>\n",
       "      <td>2020.0</td>\n",
       "    </tr>\n",
       "    <tr>\n",
       "      <th>JoiningYear</th>\n",
       "      <td>2381.0</td>\n",
       "      <td>2.018536e+03</td>\n",
       "      <td>1.609597e+00</td>\n",
       "      <td>2013.0</td>\n",
       "      <td>2018.0</td>\n",
       "      <td>2019.0</td>\n",
       "      <td>2020.0</td>\n",
       "      <td>2020.0</td>\n",
       "    </tr>\n",
       "    <tr>\n",
       "      <th>Tenure</th>\n",
       "      <td>2381.0</td>\n",
       "      <td>1.115078e+00</td>\n",
       "      <td>1.528781e+00</td>\n",
       "      <td>0.0</td>\n",
       "      <td>0.0</td>\n",
       "      <td>1.0</td>\n",
       "      <td>1.0</td>\n",
       "      <td>7.0</td>\n",
       "    </tr>\n",
       "  </tbody>\n",
       "</table>\n",
       "</div>"
      ],
      "text/plain": [
       "                              count          mean           std        min  \\\n",
       "Driver_ID                    2381.0  1.397559e+03  8.061616e+02        1.0   \n",
       "Age                          2381.0  3.366317e+01  5.983375e+00       21.0   \n",
       "Gender                       2381.0  4.103318e-01  4.919972e-01        0.0   \n",
       "Education_Level              2381.0  1.007560e+00  8.162900e-01        0.0   \n",
       "Income                       2381.0  5.933416e+04  2.838367e+04    10747.0   \n",
       "Joining Designation          2381.0  1.820244e+00  8.414334e-01        1.0   \n",
       "Grade                        2381.0  2.096598e+00  9.415218e-01        1.0   \n",
       "Total Business Value         2381.0  4.586742e+06  9.127115e+06 -1385530.0   \n",
       "Quarterly Rating             2381.0  1.427971e+00  8.098389e-01        1.0   \n",
       "Quaterly_Rating_improvement  2381.0  1.503570e-01  3.574961e-01        0.0   \n",
       "Income_Increment             2381.0  1.805964e-02  1.331951e-01        0.0   \n",
       "Churn                        2381.0  6.787064e-01  4.670713e-01        0.0   \n",
       "Reporting_year               2381.0  2.019651e+03  4.766249e-01     2019.0   \n",
       "JoiningYear                  2381.0  2.018536e+03  1.609597e+00     2013.0   \n",
       "Tenure                       2381.0  1.115078e+00  1.528781e+00        0.0   \n",
       "\n",
       "                                 25%       50%        75%         max  \n",
       "Driver_ID                      695.0    1400.0     2100.0      2788.0  \n",
       "Age                             29.0      33.0       37.0        58.0  \n",
       "Gender                           0.0       0.0        1.0         1.0  \n",
       "Education_Level                  0.0       1.0        2.0         2.0  \n",
       "Income                       39104.0   55315.0    75986.0    188418.0  \n",
       "Joining Designation              1.0       2.0        2.0         5.0  \n",
       "Grade                            1.0       2.0        3.0         5.0  \n",
       "Total Business Value             0.0  817680.0  4173650.0  95331060.0  \n",
       "Quarterly Rating                 1.0       1.0        2.0         4.0  \n",
       "Quaterly_Rating_improvement      0.0       0.0        0.0         1.0  \n",
       "Income_Increment                 0.0       0.0        0.0         1.0  \n",
       "Churn                            0.0       1.0        1.0         1.0  \n",
       "Reporting_year                2019.0    2020.0     2020.0      2020.0  \n",
       "JoiningYear                   2018.0    2019.0     2020.0      2020.0  \n",
       "Tenure                           0.0       1.0        1.0         7.0  "
      ]
     },
     "execution_count": 40,
     "metadata": {},
     "output_type": "execute_result"
    }
   ],
   "source": [
    "df_2.describe().transpose()"
   ]
  },
  {
   "cell_type": "code",
   "execution_count": 41,
   "id": "0c63b34f",
   "metadata": {},
   "outputs": [
    {
     "name": "stdout",
     "output_type": "stream",
     "text": [
      "<class 'pandas.core.frame.DataFrame'>\n",
      "Int64Index: 2381 entries, 0 to 2380\n",
      "Data columns (total 18 columns):\n",
      " #   Column                       Non-Null Count  Dtype         \n",
      "---  ------                       --------------  -----         \n",
      " 0   MMM-YY                       2381 non-null   datetime64[ns]\n",
      " 1   Driver_ID                    2381 non-null   int64         \n",
      " 2   Age                          2381 non-null   float64       \n",
      " 3   Gender                       2381 non-null   float64       \n",
      " 4   City                         2381 non-null   object        \n",
      " 5   Education_Level              2381 non-null   int64         \n",
      " 6   Income                       2381 non-null   int64         \n",
      " 7   Dateofjoining                2381 non-null   datetime64[ns]\n",
      " 8   Joining Designation          2381 non-null   int64         \n",
      " 9   Grade                        2381 non-null   int64         \n",
      " 10  Total Business Value         2381 non-null   int64         \n",
      " 11  Quarterly Rating             2381 non-null   int64         \n",
      " 12  Quaterly_Rating_improvement  2381 non-null   int32         \n",
      " 13  Income_Increment             2381 non-null   int32         \n",
      " 14  Churn                        2381 non-null   int64         \n",
      " 15  Reporting_year               2381 non-null   int64         \n",
      " 16  JoiningYear                  2381 non-null   int64         \n",
      " 17  Tenure                       2381 non-null   int64         \n",
      "dtypes: datetime64[ns](2), float64(2), int32(2), int64(11), object(1)\n",
      "memory usage: 334.8+ KB\n"
     ]
    }
   ],
   "source": [
    "df_2.info()"
   ]
  },
  {
   "cell_type": "markdown",
   "id": "1e7ecbe4",
   "metadata": {},
   "source": [
    "### Univariate analysis: Numerical features"
   ]
  },
  {
   "cell_type": "code",
   "execution_count": 42,
   "id": "cf320c32",
   "metadata": {},
   "outputs": [],
   "source": [
    "num_cols = ['Income', 'Total Business Value'] "
   ]
  },
  {
   "cell_type": "code",
   "execution_count": 43,
   "id": "95e469cf",
   "metadata": {},
   "outputs": [],
   "source": [
    "# Function for creating the stacked box plot and distplot\n",
    "\n",
    "def dist_box(data):\n",
    "    \n",
    "    Name=data.name.upper()\n",
    "    sns.set(style='darkgrid')\n",
    "    fig,(ax_box,ax_dist)=plt.subplots(2,sharex=True,\n",
    "                                     gridspec_kw={'height_ratios':(0.25,0.75)},\n",
    "                                     figsize=(7,7))\n",
    "    \n",
    "    mean=data.mean()\n",
    "    median = data.median()\n",
    "    mode = data.mode().tolist()[0]\n",
    "    \n",
    "    fig.suptitle('\\n Spread of data for: '+Name, fontsize=17, fontweight = 'bold')\n",
    "    \n",
    "    sns.boxplot(x=data, showmeans=True, orient='h', color='violet', ax=ax_box)\n",
    "    ax_box.set(xlabel='')\n",
    "    \n",
    "    sns.distplot(data, ax=ax_dist, kde=True, color='blue')\n",
    "    \n",
    "    ax_dist.axvline(mean, color='r', linestyle='--', linewidth=2)\n",
    "    ax_dist.axvline(mean, color='g', linestyle='-', linewidth=2)\n",
    "    ax_dist.axvline(mean, color='b', linestyle='--', linewidth=2)\n",
    "    \n",
    "    plt.legend({'Mean':mean, 'Median':median, 'Mode':mode})\n",
    "    plt.show()\n",
    "    "
   ]
  },
  {
   "cell_type": "code",
   "execution_count": 44,
   "id": "f0908eef",
   "metadata": {},
   "outputs": [
    {
     "data": {
      "image/png": "[encoded data removed]",
      "text/plain": [
       "<Figure size 504x504 with 2 Axes>"
      ]
     },
     "metadata": {},
     "output_type": "display_data"
    },
    {
     "data": {
      "image/png": "[encoded data removed]",
      "text/plain": [
       "<Figure size 504x504 with 2 Axes>"
      ]
     },
     "metadata": {},
     "output_type": "display_data"
    }
   ],
   "source": [
    "# Function call for the numerical features:\n",
    "\n",
    "for i in range(len(num_cols)):\n",
    "    dist_box(df_2[num_cols[i]])"
   ]
  },
  {
   "cell_type": "markdown",
   "id": "78feceee",
   "metadata": {},
   "source": [
    "##### Observations:\n",
    "\n",
    "1. Median income ~ Rs.55,000 and there are few outliers associated with this feature\n",
    "2. Median value for 'Total Business Value' ~ 810000. Plot is highly right skewed"
   ]
  },
  {
   "cell_type": "markdown",
   "id": "241c539d",
   "metadata": {},
   "source": [
    "### Univariate analysis: Categorical features"
   ]
  },
  {
   "cell_type": "code",
   "execution_count": 45,
   "id": "dee1e8fa",
   "metadata": {},
   "outputs": [],
   "source": [
    "cat_cols = ['Age', 'City', 'Gender', 'Education_Level', 'Joining Designation',\n",
    "            'Grade', 'Quarterly Rating', 'Quaterly_Rating_improvement', 'Income_Increment',\n",
    "            'Churn', 'Reporting_year', 'JoiningYear', 'Tenure']"
   ]
  },
  {
   "cell_type": "code",
   "execution_count": 46,
   "id": "1e6c02e0",
   "metadata": {},
   "outputs": [],
   "source": [
    "cat_cols.remove('Reporting_year')"
   ]
  },
  {
   "cell_type": "code",
   "execution_count": 47,
   "id": "54e5e69c",
   "metadata": {},
   "outputs": [
    {
     "data": {
      "image/png": "[encoded data removed]",
      "text/plain": [
       "<Figure size 1008x1440 with 12 Axes>"
      ]
     },
     "metadata": {},
     "output_type": "display_data"
    }
   ],
   "source": [
    "# Code snippet to create count plot for the categorical features:\n",
    "\n",
    "cat_cols\n",
    "title=['Age of Driver', 'City of Operation', 'Gender', 'Education_Level',\n",
    "      'Joining Designation', 'Grade', 'Quarterly Rating', 'Quaterly_Rating_improvement',\n",
    "      'Income_Increment', 'Churn', 'JoiningYear', 'Tenure' ]\n",
    "\n",
    "plt.figure(figsize=(14,20))\n",
    "sns.set(style='darkgrid')\n",
    "\n",
    "for i, variable in enumerate(cat_cols):\n",
    "    plt.subplot(6,2,i+1)\n",
    "    ax=sns.countplot(x=df_2[variable], data=df_2,  \n",
    "                     order=df_2[variable].value_counts(ascending=False).iloc[:7].index)\n",
    "    \n",
    "    for p in ax.patches:\n",
    "                           percentage = '{:.1f}%'.format(100 * p.get_height()/len(df_2[variable]))\n",
    "                           x = p.get_x() + p.get_width() / 2 - 0.05\n",
    "                           y = p.get_y() + p.get_height()\n",
    "                           plt.annotate(percentage, (x, y),ha='center')\n",
    "    plt.tight_layout()\n",
    "    plt.title(title[i].upper())\n",
    "        \n",
    "    "
   ]
  },
  {
   "cell_type": "markdown",
   "id": "318d12c9",
   "metadata": {},
   "source": [
    "##### Observations based on categorical features:\n",
    "\n",
    "1. Age of Driver: is mostly > 30\n",
    "\n",
    "2. City of Operation: C_20 has the largest contribution and other cities have a similar proportion\n",
    "\n",
    "3. Gender: Male(0) has slightly higher proportion compared to the females(1)\n",
    "\n",
    "4. Education_Level: All the classes has near similar proportion\n",
    "\n",
    "5. Joining Designation: Most of the drivers have entry level designation(~ 43%) and the proportion gets narrower as the designation improves\n",
    "\n",
    "6. Grade: ~ 90% the drivers belongs to grade: 1-3\n",
    "\n",
    "7. Quarterly Rating: Majority of the drivers(~ 73%) have the minimum rating(rating of 1)\n",
    "\n",
    "8. Quaterly_Rating_improvement: Only a small portion ~ 15% showed improvement in rating compared to their earlier performance\n",
    "\n",
    "9. Income_Increment: ~ 98% drivers showed no improvement in income\n",
    "\n",
    "10. Churn(Target variable): ~ 68% drivers churned(left the company)\n",
    "\n",
    "11. JoiningYear: ~ 80% of the drivers joined between 2018 - 2020\n",
    "\n",
    "12. Tenure: ~ 78% of the drivers only stay between 0-1 year in the firm \n"
   ]
  },
  {
   "cell_type": "markdown",
   "id": "6480b1f9",
   "metadata": {},
   "source": [
    "### Bivariate analysis for numerical features: "
   ]
  },
  {
   "cell_type": "code",
   "execution_count": 48,
   "id": "4f3bb4f1",
   "metadata": {},
   "outputs": [],
   "source": [
    "from matplotlib.ticker import ScalarFormatter, FormatStrFormatter"
   ]
  },
  {
   "cell_type": "code",
   "execution_count": 49,
   "id": "12ce80b4",
   "metadata": {},
   "outputs": [
    {
     "data": {
      "image/png": "[encoded data removed]",
      "text/plain": [
       "<Figure size 504x288 with 2 Axes>"
      ]
     },
     "metadata": {},
     "output_type": "display_data"
    }
   ],
   "source": [
    "# Code to create boxplots for numerical features:\n",
    "\n",
    "plt.figure(figsize=(7,4))\n",
    "sns.set_palette(sns.color_palette(\"Set2\", 8))\n",
    "\n",
    "for i, variable in enumerate(num_cols):\n",
    "    ax1=plt.subplot(1,2,i+1)\n",
    "    \n",
    "    sns.boxplot(x='Churn', y=df_2[variable], data=df_2)\n",
    "\n",
    "    ax1.ticklabel_format(useOffset=False, style='plain', axis='y') # to change the y axis formatting\n",
    "    plt.tight_layout()\n",
    "    plt.title(variable.upper())\n",
    "\n",
    "\n"
   ]
  },
  {
   "cell_type": "markdown",
   "id": "6a88ca28",
   "metadata": {},
   "source": [
    "##### Observations:\n",
    "\n",
    "1. Median income for drivers left < median income for drivers staying \n",
    "\n",
    "2. Toatal business value created by the churned drivers < business value created by the non - churned drivers"
   ]
  },
  {
   "cell_type": "markdown",
   "id": "bd74094a",
   "metadata": {},
   "source": [
    "### Bivariate analysis for categorical features: "
   ]
  },
  {
   "cell_type": "code",
   "execution_count": 50,
   "id": "659aa922",
   "metadata": {},
   "outputs": [],
   "source": [
    "# Code to remove the redundant items from the list:\n",
    "\n",
    "cat_cols_2 = [i for i in cat_cols if(i!='Churn')]"
   ]
  },
  {
   "cell_type": "code",
   "execution_count": 51,
   "id": "6c53bcca",
   "metadata": {},
   "outputs": [
    {
     "data": {
      "image/png": "[encoded data removed]",
      "text/plain": [
       "<Figure size 1080x2160 with 11 Axes>"
      ]
     },
     "metadata": {},
     "output_type": "display_data"
    }
   ],
   "source": [
    "# Code to generate countplot for categorical features:\n",
    "\n",
    "plt.figure(figsize=(15,30))\n",
    "sns.set_palette(sns.color_palette(\"Set2\", 8))\n",
    "\n",
    "for i,variable in enumerate(cat_cols_2):\n",
    "    \n",
    "    plt.subplot(6,2,i+1)\n",
    "    sns.countplot(x=df_2[variable], hue='Churn', data=df_2,\n",
    "                 order=df_2[variable].value_counts(ascending=False).iloc[:12].index)\n",
    "    \n",
    "    plt.tight_layout()\n",
    "    plt.title(variable.upper())\n",
    "\n",
    "    "
   ]
  },
  {
   "cell_type": "markdown",
   "id": "edb9ac9f",
   "metadata": {},
   "source": [
    "##### Observations:\n",
    "\n",
    "1. Age: younger drivers are more likely to churn compared to the senior ones\n",
    "2. City: most of the cities show a similar proportion with respect to churning\n",
    "3. Gender: male drivers churn more compared to the female counterparts\n",
    "4. Education level: almost all the categories show a similar proportion with respect to churning\n",
    "5. Joining Designation: junior designation drivers switch the companies compared to the senior designation drivers\n",
    "6. Grade: Lower the grade, higher the churning rate\n",
    "7. Quaterly Rating: Highest churning rate is for the lowest rating(rating:1)\n",
    "8. Quaterly Rating Improvement: Most of the drivers leave the company, if there are no improvement in their rating\n",
    "9. Income improvement: Most of the drivers leave the company, if there are no improvement in their income\n",
    "10. Joining Year: Most of the churning happened for the drivers who joined between 2018-2020\n",
    "11. Tenure: Most of the churned drivers haved a experience of 0-1 year\n"
   ]
  },
  {
   "cell_type": "markdown",
   "id": "fa9b34e5",
   "metadata": {},
   "source": [
    "### Doing further feature engineering:\n",
    "    * Reporting date can be split to ---> Reporting month and year\n",
    "    * Dateofjoining can be split to ---> Joining month and year"
   ]
  },
  {
   "cell_type": "code",
   "execution_count": 52,
   "id": "9004abd6",
   "metadata": {},
   "outputs": [],
   "source": [
    "# Extracting reporting month:\n",
    "df_2['Reporting_Month'] = pd.DatetimeIndex(df_2['MMM-YY']).month\n",
    "\n",
    "# Extracting joining month:\n",
    "df_2['Joining_Month'] = pd.DatetimeIndex(df_2['Dateofjoining']).month"
   ]
  },
  {
   "cell_type": "code",
   "execution_count": 53,
   "id": "b0cf1e94",
   "metadata": {},
   "outputs": [],
   "source": [
    "# Dropping 'MMM-YY' and 'Dateofjoining':\n",
    "\n",
    "df_2.drop(columns=['MMM-YY', 'Dateofjoining', 'Driver_ID'],inplace=True)"
   ]
  },
  {
   "cell_type": "code",
   "execution_count": 54,
   "id": "62d9e877",
   "metadata": {},
   "outputs": [
    {
     "data": {
      "text/plain": [
       "Index(['Age', 'Gender', 'City', 'Education_Level', 'Income',\n",
       "       'Joining Designation', 'Grade', 'Total Business Value',\n",
       "       'Quarterly Rating', 'Quaterly_Rating_improvement', 'Income_Increment',\n",
       "       'Churn', 'Reporting_year', 'JoiningYear', 'Tenure', 'Reporting_Month',\n",
       "       'Joining_Month'],\n",
       "      dtype='object')"
      ]
     },
     "execution_count": 54,
     "metadata": {},
     "output_type": "execute_result"
    }
   ],
   "source": [
    "# updated columns:\n",
    "\n",
    "df_2.columns"
   ]
  },
  {
   "cell_type": "code",
   "execution_count": 133,
   "id": "110f2467",
   "metadata": {},
   "outputs": [
    {
     "name": "stdout",
     "output_type": "stream",
     "text": [
      "Study of Median INCOME wrto Churn \n",
      "*********************************\n",
      "Churn\n",
      "0    64154.0\n",
      "1    51630.0\n",
      "Name: Income, dtype: float64\n",
      "===========================================================================\n",
      "Study of Median QUARTERLY RATING wrto Churn \n",
      "*********************************\n",
      "Churn\n",
      "0    2.0\n",
      "1    1.0\n",
      "Name: Quarterly Rating, dtype: float64\n",
      "===========================================================================\n",
      "Study of Median JOININGYEAR wrto Churn \n",
      "*********************************\n",
      "Churn\n",
      "0    2020.0\n",
      "1    2019.0\n",
      "Name: JoiningYear, dtype: float64\n",
      "===========================================================================\n",
      "Study of Median TENURE wrto Churn \n",
      "*********************************\n",
      "Churn\n",
      "0    0.0\n",
      "1    1.0\n",
      "Name: Tenure, dtype: float64\n",
      "===========================================================================\n",
      "Study of Median EDUCATION_LEVEL wrto Churn \n",
      "*********************************\n",
      "Churn\n",
      "0    1.0\n",
      "1    1.0\n",
      "Name: Education_Level, dtype: float64\n",
      "===========================================================================\n",
      "Study of Median GRADE wrto Churn \n",
      "*********************************\n",
      "Churn\n",
      "0    2.0\n",
      "1    2.0\n",
      "Name: Grade, dtype: float64\n",
      "===========================================================================\n",
      "Study of Median REPORTING_YEAR wrto Churn \n",
      "*********************************\n",
      "Churn\n",
      "0    2020.0\n",
      "1    2019.0\n",
      "Name: Reporting_year, dtype: float64\n",
      "===========================================================================\n",
      "Study of Median TOTAL BUSINESS VALUE wrto Churn \n",
      "*********************************\n",
      "Churn\n",
      "0    2636210.0\n",
      "1     465025.0\n",
      "Name: Total Business Value, dtype: float64\n",
      "===========================================================================\n"
     ]
    }
   ],
   "source": [
    "values=['Income','Quarterly Rating','JoiningYear','Tenure','Education_Level','Grade','Reporting_year','Total Business Value']\n",
    "\n",
    "for i,variable in enumerate(values):\n",
    "    print(f\"Study of Median {variable.upper()} wrto Churn \")\n",
    "    print('*'*33)\n",
    "    print(df_2.groupby(by='Churn').median()[variable])\n",
    "    print('='*75)\n",
    "\n"
   ]
  },
  {
   "cell_type": "code",
   "execution_count": 55,
   "id": "cbb4cf88",
   "metadata": {},
   "outputs": [
    {
     "name": "stdout",
     "output_type": "stream",
     "text": [
      "<class 'pandas.core.frame.DataFrame'>\n",
      "Int64Index: 2381 entries, 0 to 2380\n",
      "Data columns (total 17 columns):\n",
      " #   Column                       Non-Null Count  Dtype  \n",
      "---  ------                       --------------  -----  \n",
      " 0   Age                          2381 non-null   float64\n",
      " 1   Gender                       2381 non-null   float64\n",
      " 2   City                         2381 non-null   object \n",
      " 3   Education_Level              2381 non-null   int64  \n",
      " 4   Income                       2381 non-null   int64  \n",
      " 5   Joining Designation          2381 non-null   int64  \n",
      " 6   Grade                        2381 non-null   int64  \n",
      " 7   Total Business Value         2381 non-null   int64  \n",
      " 8   Quarterly Rating             2381 non-null   int64  \n",
      " 9   Quaterly_Rating_improvement  2381 non-null   int32  \n",
      " 10  Income_Increment             2381 non-null   int32  \n",
      " 11  Churn                        2381 non-null   int64  \n",
      " 12  Reporting_year               2381 non-null   int64  \n",
      " 13  JoiningYear                  2381 non-null   int64  \n",
      " 14  Tenure                       2381 non-null   int64  \n",
      " 15  Reporting_Month              2381 non-null   int64  \n",
      " 16  Joining_Month                2381 non-null   int64  \n",
      "dtypes: float64(2), int32(2), int64(12), object(1)\n",
      "memory usage: 380.8+ KB\n"
     ]
    }
   ],
   "source": [
    "df_2.info()"
   ]
  },
  {
   "cell_type": "markdown",
   "id": "942c5806",
   "metadata": {},
   "source": [
    "### Note !!!\n",
    "* It can be noted that, other than 'City', all the features are numerical. \n",
    "* 'City' can be made into numerical by median imputation using 'Total Business Value'\n",
    "* This can be done after test train split"
   ]
  },
  {
   "cell_type": "markdown",
   "id": "dd4c25ec",
   "metadata": {},
   "source": [
    "### Train - test split:"
   ]
  },
  {
   "cell_type": "code",
   "execution_count": 56,
   "id": "329ef644",
   "metadata": {},
   "outputs": [],
   "source": [
    "from sklearn.model_selection import train_test_split"
   ]
  },
  {
   "cell_type": "code",
   "execution_count": 57,
   "id": "618a0beb",
   "metadata": {},
   "outputs": [],
   "source": [
    "# defining X and Y:\n",
    "\n",
    "X=df_2[df_2.columns.drop('Churn')]\n",
    "Y=df_2['Churn']"
   ]
  },
  {
   "cell_type": "code",
   "execution_count": 58,
   "id": "ba66f7c8",
   "metadata": {},
   "outputs": [],
   "source": [
    "X_train, X_test, Y_train, Y_test = train_test_split(X, Y, test_size=0.33, shuffle=True)"
   ]
  },
  {
   "cell_type": "code",
   "execution_count": 59,
   "id": "375f2c0a",
   "metadata": {},
   "outputs": [
    {
     "name": "stdout",
     "output_type": "stream",
     "text": [
      "Sizes of the set created are: \n",
      "*Training set:1595\n",
      "*Testing set:786\n"
     ]
    }
   ],
   "source": [
    "print(\n",
    "    f\"Sizes of the set created are: \\n*Training set:{X_train.shape[0]}\\n*Testing set:{X_test.shape[0]}\")"
   ]
  },
  {
   "cell_type": "code",
   "execution_count": 60,
   "id": "a717dbcb",
   "metadata": {},
   "outputs": [
    {
     "data": {
      "text/html": [
       "<div>\n",
       "<style scoped>\n",
       "    .dataframe tbody tr th:only-of-type {\n",
       "        vertical-align: middle;\n",
       "    }\n",
       "\n",
       "    .dataframe tbody tr th {\n",
       "        vertical-align: top;\n",
       "    }\n",
       "\n",
       "    .dataframe thead th {\n",
       "        text-align: right;\n",
       "    }\n",
       "</style>\n",
       "<table border=\"1\" class=\"dataframe\">\n",
       "  <thead>\n",
       "    <tr style=\"text-align: right;\">\n",
       "      <th></th>\n",
       "      <th>Age</th>\n",
       "      <th>Gender</th>\n",
       "      <th>City</th>\n",
       "      <th>Education_Level</th>\n",
       "      <th>Income</th>\n",
       "      <th>Joining Designation</th>\n",
       "      <th>Grade</th>\n",
       "      <th>Total Business Value</th>\n",
       "      <th>Quarterly Rating</th>\n",
       "      <th>Quaterly_Rating_improvement</th>\n",
       "      <th>Income_Increment</th>\n",
       "      <th>Churn</th>\n",
       "      <th>Reporting_year</th>\n",
       "      <th>JoiningYear</th>\n",
       "      <th>Tenure</th>\n",
       "      <th>Reporting_Month</th>\n",
       "      <th>Joining_Month</th>\n",
       "    </tr>\n",
       "  </thead>\n",
       "  <tbody>\n",
       "    <tr>\n",
       "      <th>0</th>\n",
       "      <td>28.0</td>\n",
       "      <td>0.0</td>\n",
       "      <td>C23</td>\n",
       "      <td>2</td>\n",
       "      <td>57387</td>\n",
       "      <td>1</td>\n",
       "      <td>1</td>\n",
       "      <td>1715580</td>\n",
       "      <td>2</td>\n",
       "      <td>0</td>\n",
       "      <td>0</td>\n",
       "      <td>1</td>\n",
       "      <td>2019</td>\n",
       "      <td>2018</td>\n",
       "      <td>1</td>\n",
       "      <td>3</td>\n",
       "      <td>12</td>\n",
       "    </tr>\n",
       "    <tr>\n",
       "      <th>1</th>\n",
       "      <td>31.0</td>\n",
       "      <td>0.0</td>\n",
       "      <td>C7</td>\n",
       "      <td>2</td>\n",
       "      <td>67016</td>\n",
       "      <td>2</td>\n",
       "      <td>2</td>\n",
       "      <td>0</td>\n",
       "      <td>1</td>\n",
       "      <td>0</td>\n",
       "      <td>0</td>\n",
       "      <td>0</td>\n",
       "      <td>2020</td>\n",
       "      <td>2020</td>\n",
       "      <td>0</td>\n",
       "      <td>12</td>\n",
       "      <td>11</td>\n",
       "    </tr>\n",
       "    <tr>\n",
       "      <th>2</th>\n",
       "      <td>43.0</td>\n",
       "      <td>0.0</td>\n",
       "      <td>C13</td>\n",
       "      <td>2</td>\n",
       "      <td>65603</td>\n",
       "      <td>2</td>\n",
       "      <td>2</td>\n",
       "      <td>350000</td>\n",
       "      <td>1</td>\n",
       "      <td>0</td>\n",
       "      <td>0</td>\n",
       "      <td>1</td>\n",
       "      <td>2020</td>\n",
       "      <td>2019</td>\n",
       "      <td>1</td>\n",
       "      <td>4</td>\n",
       "      <td>12</td>\n",
       "    </tr>\n",
       "    <tr>\n",
       "      <th>3</th>\n",
       "      <td>29.0</td>\n",
       "      <td>0.0</td>\n",
       "      <td>C9</td>\n",
       "      <td>0</td>\n",
       "      <td>46368</td>\n",
       "      <td>1</td>\n",
       "      <td>1</td>\n",
       "      <td>120360</td>\n",
       "      <td>1</td>\n",
       "      <td>0</td>\n",
       "      <td>0</td>\n",
       "      <td>1</td>\n",
       "      <td>2019</td>\n",
       "      <td>2019</td>\n",
       "      <td>0</td>\n",
       "      <td>3</td>\n",
       "      <td>1</td>\n",
       "    </tr>\n",
       "    <tr>\n",
       "      <th>4</th>\n",
       "      <td>31.0</td>\n",
       "      <td>1.0</td>\n",
       "      <td>C11</td>\n",
       "      <td>1</td>\n",
       "      <td>78728</td>\n",
       "      <td>3</td>\n",
       "      <td>3</td>\n",
       "      <td>1265000</td>\n",
       "      <td>2</td>\n",
       "      <td>1</td>\n",
       "      <td>0</td>\n",
       "      <td>0</td>\n",
       "      <td>2020</td>\n",
       "      <td>2020</td>\n",
       "      <td>0</td>\n",
       "      <td>12</td>\n",
       "      <td>7</td>\n",
       "    </tr>\n",
       "    <tr>\n",
       "      <th>...</th>\n",
       "      <td>...</td>\n",
       "      <td>...</td>\n",
       "      <td>...</td>\n",
       "      <td>...</td>\n",
       "      <td>...</td>\n",
       "      <td>...</td>\n",
       "      <td>...</td>\n",
       "      <td>...</td>\n",
       "      <td>...</td>\n",
       "      <td>...</td>\n",
       "      <td>...</td>\n",
       "      <td>...</td>\n",
       "      <td>...</td>\n",
       "      <td>...</td>\n",
       "      <td>...</td>\n",
       "      <td>...</td>\n",
       "      <td>...</td>\n",
       "    </tr>\n",
       "    <tr>\n",
       "      <th>2376</th>\n",
       "      <td>34.0</td>\n",
       "      <td>0.0</td>\n",
       "      <td>C24</td>\n",
       "      <td>0</td>\n",
       "      <td>82815</td>\n",
       "      <td>2</td>\n",
       "      <td>3</td>\n",
       "      <td>21748820</td>\n",
       "      <td>4</td>\n",
       "      <td>1</td>\n",
       "      <td>0</td>\n",
       "      <td>0</td>\n",
       "      <td>2020</td>\n",
       "      <td>2015</td>\n",
       "      <td>5</td>\n",
       "      <td>12</td>\n",
       "      <td>10</td>\n",
       "    </tr>\n",
       "    <tr>\n",
       "      <th>2377</th>\n",
       "      <td>34.0</td>\n",
       "      <td>1.0</td>\n",
       "      <td>C9</td>\n",
       "      <td>0</td>\n",
       "      <td>12105</td>\n",
       "      <td>1</td>\n",
       "      <td>1</td>\n",
       "      <td>0</td>\n",
       "      <td>1</td>\n",
       "      <td>0</td>\n",
       "      <td>0</td>\n",
       "      <td>1</td>\n",
       "      <td>2020</td>\n",
       "      <td>2020</td>\n",
       "      <td>0</td>\n",
       "      <td>10</td>\n",
       "      <td>8</td>\n",
       "    </tr>\n",
       "    <tr>\n",
       "      <th>2378</th>\n",
       "      <td>45.0</td>\n",
       "      <td>0.0</td>\n",
       "      <td>C19</td>\n",
       "      <td>0</td>\n",
       "      <td>35370</td>\n",
       "      <td>2</td>\n",
       "      <td>2</td>\n",
       "      <td>2815090</td>\n",
       "      <td>1</td>\n",
       "      <td>0</td>\n",
       "      <td>0</td>\n",
       "      <td>1</td>\n",
       "      <td>2019</td>\n",
       "      <td>2018</td>\n",
       "      <td>1</td>\n",
       "      <td>9</td>\n",
       "      <td>7</td>\n",
       "    </tr>\n",
       "    <tr>\n",
       "      <th>2379</th>\n",
       "      <td>28.0</td>\n",
       "      <td>1.0</td>\n",
       "      <td>C20</td>\n",
       "      <td>2</td>\n",
       "      <td>69498</td>\n",
       "      <td>1</td>\n",
       "      <td>1</td>\n",
       "      <td>977830</td>\n",
       "      <td>1</td>\n",
       "      <td>0</td>\n",
       "      <td>0</td>\n",
       "      <td>1</td>\n",
       "      <td>2019</td>\n",
       "      <td>2018</td>\n",
       "      <td>1</td>\n",
       "      <td>6</td>\n",
       "      <td>7</td>\n",
       "    </tr>\n",
       "    <tr>\n",
       "      <th>2380</th>\n",
       "      <td>30.0</td>\n",
       "      <td>0.0</td>\n",
       "      <td>C27</td>\n",
       "      <td>2</td>\n",
       "      <td>70254</td>\n",
       "      <td>2</td>\n",
       "      <td>2</td>\n",
       "      <td>2298240</td>\n",
       "      <td>2</td>\n",
       "      <td>1</td>\n",
       "      <td>0</td>\n",
       "      <td>0</td>\n",
       "      <td>2020</td>\n",
       "      <td>2020</td>\n",
       "      <td>0</td>\n",
       "      <td>12</td>\n",
       "      <td>6</td>\n",
       "    </tr>\n",
       "  </tbody>\n",
       "</table>\n",
       "<p>2381 rows × 17 columns</p>\n",
       "</div>"
      ],
      "text/plain": [
       "       Age  Gender City  Education_Level  Income  Joining Designation  Grade  \\\n",
       "0     28.0     0.0  C23                2   57387                    1      1   \n",
       "1     31.0     0.0   C7                2   67016                    2      2   \n",
       "2     43.0     0.0  C13                2   65603                    2      2   \n",
       "3     29.0     0.0   C9                0   46368                    1      1   \n",
       "4     31.0     1.0  C11                1   78728                    3      3   \n",
       "...    ...     ...  ...              ...     ...                  ...    ...   \n",
       "2376  34.0     0.0  C24                0   82815                    2      3   \n",
       "2377  34.0     1.0   C9                0   12105                    1      1   \n",
       "2378  45.0     0.0  C19                0   35370                    2      2   \n",
       "2379  28.0     1.0  C20                2   69498                    1      1   \n",
       "2380  30.0     0.0  C27                2   70254                    2      2   \n",
       "\n",
       "      Total Business Value  Quarterly Rating  Quaterly_Rating_improvement  \\\n",
       "0                  1715580                 2                            0   \n",
       "1                        0                 1                            0   \n",
       "2                   350000                 1                            0   \n",
       "3                   120360                 1                            0   \n",
       "4                  1265000                 2                            1   \n",
       "...                    ...               ...                          ...   \n",
       "2376              21748820                 4                            1   \n",
       "2377                     0                 1                            0   \n",
       "2378               2815090                 1                            0   \n",
       "2379                977830                 1                            0   \n",
       "2380               2298240                 2                            1   \n",
       "\n",
       "      Income_Increment  Churn  Reporting_year  JoiningYear  Tenure  \\\n",
       "0                    0      1            2019         2018       1   \n",
       "1                    0      0            2020         2020       0   \n",
       "2                    0      1            2020         2019       1   \n",
       "3                    0      1            2019         2019       0   \n",
       "4                    0      0            2020         2020       0   \n",
       "...                ...    ...             ...          ...     ...   \n",
       "2376                 0      0            2020         2015       5   \n",
       "2377                 0      1            2020         2020       0   \n",
       "2378                 0      1            2019         2018       1   \n",
       "2379                 0      1            2019         2018       1   \n",
       "2380                 0      0            2020         2020       0   \n",
       "\n",
       "      Reporting_Month  Joining_Month  \n",
       "0                   3             12  \n",
       "1                  12             11  \n",
       "2                   4             12  \n",
       "3                   3              1  \n",
       "4                  12              7  \n",
       "...               ...            ...  \n",
       "2376               12             10  \n",
       "2377               10              8  \n",
       "2378                9              7  \n",
       "2379                6              7  \n",
       "2380               12              6  \n",
       "\n",
       "[2381 rows x 17 columns]"
      ]
     },
     "execution_count": 60,
     "metadata": {},
     "output_type": "execute_result"
    }
   ],
   "source": [
    "df_2"
   ]
  },
  {
   "cell_type": "markdown",
   "id": "8c05f76e",
   "metadata": {},
   "source": [
    "##### Preparing the heatmap:"
   ]
  },
  {
   "cell_type": "code",
   "execution_count": 61,
   "id": "4f52675d",
   "metadata": {},
   "outputs": [
    {
     "data": {
      "image/png": "[encoded data removed]",
      "text/plain": [
       "<Figure size 864x864 with 2 Axes>"
      ]
     },
     "metadata": {},
     "output_type": "display_data"
    }
   ],
   "source": [
    "plt.figure(figsize=(12,12))\n",
    "sns.heatmap(df_2.corr(),annot=True)\n",
    "plt.show()"
   ]
  },
  {
   "cell_type": "markdown",
   "id": "53404e83",
   "metadata": {},
   "source": [
    "##### For converting 'City' to numerical, each of the cities is replaced with the corresponding median values of their 'Total Business Value' "
   ]
  },
  {
   "cell_type": "code",
   "execution_count": 62,
   "id": "b46638a3",
   "metadata": {},
   "outputs": [],
   "source": [
    "City_train_dict = X_train.groupby(by='City').median()['Total Business Value'].to_dict()\n",
    "X_train['City'] = X_train['City'].map(City_train_dict)"
   ]
  },
  {
   "cell_type": "markdown",
   "id": "248f3263",
   "metadata": {},
   "source": [
    "### Doing the same feature engineering operations on test data SEPERATELY:"
   ]
  },
  {
   "cell_type": "code",
   "execution_count": 63,
   "id": "7736c7a5",
   "metadata": {},
   "outputs": [],
   "source": [
    "# For converting 'City' to numerical, each of the cities is replaced with\n",
    "# the corresponding median values of their 'Total Business Value'\n",
    "\n",
    "City_test_dict = X_test.groupby(by='City').median()['Total Business Value'].to_dict()\n",
    "X_test['City'] = X_test['City'].map(City_test_dict)"
   ]
  },
  {
   "cell_type": "code",
   "execution_count": 64,
   "id": "be8a98db",
   "metadata": {},
   "outputs": [
    {
     "name": "stdout",
     "output_type": "stream",
     "text": [
      "Traning dataset shape Counter({1: 1081, 0: 514})\n"
     ]
    }
   ],
   "source": [
    "print('Traning dataset shape {}'.format(Counter(Y_train)))"
   ]
  },
  {
   "cell_type": "markdown",
   "id": "f6523cec",
   "metadata": {},
   "source": [
    "##### It can be observed that, the target is highly imbalanced. So, SMOTE technique is used to make the dataset balanced\n",
    "    "
   ]
  },
  {
   "cell_type": "markdown",
   "id": "a746e281",
   "metadata": {},
   "source": [
    "### Applying SMOTE:"
   ]
  },
  {
   "cell_type": "code",
   "execution_count": 65,
   "id": "d5d62e1b",
   "metadata": {},
   "outputs": [],
   "source": [
    "smt=SMOTE()\n",
    "X_sm, Y_sm = smt.fit_resample(X_train, Y_train)"
   ]
  },
  {
   "cell_type": "code",
   "execution_count": 66,
   "id": "25e89234",
   "metadata": {},
   "outputs": [
    {
     "name": "stdout",
     "output_type": "stream",
     "text": [
      "Resampled dataset shape Counter({1: 1081, 0: 1081})\n"
     ]
    }
   ],
   "source": [
    "print('Resampled dataset shape {}'.format(Counter(Y_sm)))"
   ]
  },
  {
   "cell_type": "code",
   "execution_count": 67,
   "id": "ab53f9a1",
   "metadata": {},
   "outputs": [],
   "source": [
    "# X_sm.shape"
   ]
  },
  {
   "cell_type": "markdown",
   "id": "66284d63",
   "metadata": {},
   "source": [
    "##### We can observe that after applying SMOTE, the data is BALANCED"
   ]
  },
  {
   "cell_type": "markdown",
   "id": "f8160d64",
   "metadata": {},
   "source": [
    "### Since Decision trees and GB algorithms are not sensitive to the magnitude of variables,  standardization is not needed before fitting these kinds of models"
   ]
  },
  {
   "cell_type": "markdown",
   "id": "210aa54b",
   "metadata": {},
   "source": [
    "### Ensemble model : Bagging Algorithm using RandomForest"
   ]
  },
  {
   "cell_type": "code",
   "execution_count": 68,
   "id": "de805328",
   "metadata": {},
   "outputs": [],
   "source": [
    "# Defining parameters:\n",
    "\n",
    "params={\n",
    "    'n_estimators':[100,200,300,400,500],\n",
    "    'max_depth':[3,5,7,10,12],\n",
    "    'bootstrap':[True,False],\n",
    "    'max_features':[4,7,9,12],\n",
    "    'ccp_alpha':np.arange(0,0.5,0.03)\n",
    "}"
   ]
  },
  {
   "cell_type": "code",
   "execution_count": 69,
   "id": "c238d6af",
   "metadata": {},
   "outputs": [],
   "source": [
    "#  Defining the GridSearch function\n",
    "\n",
    "rf=RandomForestClassifier(random_state=3)\n",
    "\n",
    "tuning_function = GridSearchCV(estimator=rf,\n",
    "                              param_grid=params,\n",
    "                              scoring='accuracy',\n",
    "                              cv=3,\n",
    "                              n_jobs=-1)\n"
   ]
  },
  {
   "cell_type": "code",
   "execution_count": 70,
   "id": "1d48f862",
   "metadata": {},
   "outputs": [
    {
     "name": "stdout",
     "output_type": "stream",
     "text": [
      "Time taken to train : 0:31:49.442459\n",
      "{'bootstrap': False, 'ccp_alpha': 0.0, 'max_depth': 10, 'max_features': 4, 'n_estimators': 200}\n",
      "0.9588341809215596\n"
     ]
    }
   ],
   "source": [
    "start_time=dt.datetime.now()\n",
    "tuning_function.fit(X_sm,Y_sm)\n",
    "end_time=dt.datetime.now()\n",
    "\n",
    "parameters=tuning_function.best_params_\n",
    "score=tuning_function.best_score_\n",
    "print(f\"Time taken to train : {end_time-start_time}\")\n",
    "print(parameters)\n",
    "print(score)"
   ]
  },
  {
   "cell_type": "code",
   "execution_count": 71,
   "id": "255a753c",
   "metadata": {},
   "outputs": [
    {
     "data": {
      "text/plain": [
       "{'bootstrap': False,\n",
       " 'ccp_alpha': 0.0,\n",
       " 'max_depth': 10,\n",
       " 'max_features': 4,\n",
       " 'n_estimators': 200}"
      ]
     },
     "execution_count": 71,
     "metadata": {},
     "output_type": "execute_result"
    }
   ],
   "source": [
    "parameters"
   ]
  },
  {
   "cell_type": "code",
   "execution_count": 72,
   "id": "536b32f6",
   "metadata": {},
   "outputs": [
    {
     "data": {
      "text/plain": [
       "0.9588341809215596"
      ]
     },
     "execution_count": 72,
     "metadata": {},
     "output_type": "execute_result"
    }
   ],
   "source": [
    "score"
   ]
  },
  {
   "cell_type": "code",
   "execution_count": 73,
   "id": "a8fed46b",
   "metadata": {},
   "outputs": [],
   "source": [
    "# Building the model using the best parameters, obtained after GridSearchCV\n",
    "\n",
    "tree_clf = RandomForestClassifier(random_state=3, n_estimators=400, criterion='gini',\n",
    "                                 max_depth=12, max_features=7, bootstrap=True, ccp_alpha=0.0)\n",
    "\n",
    "# Cross validating the model\n",
    "kfold = KFold(n_splits=12)\n",
    "cv_rf_acc = cross_validate(tree_clf, X_sm, Y_sm, cv=kfold,\n",
    "                           scoring='accuracy', return_train_score=True)\n",
    "\n",
    "\n",
    "\n"
   ]
  },
  {
   "cell_type": "code",
   "execution_count": 74,
   "id": "eec46049",
   "metadata": {},
   "outputs": [
    {
     "name": "stdout",
     "output_type": "stream",
     "text": [
      "K-fold mean accuracy on: \n",
      " Train:99.83601360587878\n",
      " Validation: 95.5599038264784\n"
     ]
    }
   ],
   "source": [
    "print(f\"K-fold mean accuracy on: \\n Train:{cv_rf_acc['train_score'].mean()*100}\\n Validation: {cv_rf_acc['test_score'].mean()*100}\")"
   ]
  },
  {
   "cell_type": "code",
   "execution_count": 75,
   "id": "b109acb6",
   "metadata": {},
   "outputs": [],
   "source": [
    "tree_clf.fit(X_sm,Y_sm)\n",
    "\n",
    "# Getting the feature importances of all the features\n",
    "f_importance_rf = tree_clf.feature_importances_\n",
    "\n"
   ]
  },
  {
   "cell_type": "code",
   "execution_count": 76,
   "id": "c87cc025",
   "metadata": {},
   "outputs": [
    {
     "data": {
      "image/png": "[encoded data removed]",
      "text/plain": [
       "<Figure size 864x504 with 1 Axes>"
      ]
     },
     "metadata": {},
     "output_type": "display_data"
    }
   ],
   "source": [
    "# Sorting the indices of the features in decreasing order of their importance\n",
    "indices = np.argsort(f_importance_rf)[::-1]\n",
    "\n",
    "# Storing the names corresponding to the indices\n",
    "names=[X_sm.columns[i] for i in indices]\n",
    "\n",
    "# Creating the bar plot:\n",
    "plt.figure(figsize=(12,7))\n",
    "plt.title('Feature Importance - Random Forest')\n",
    "plt.bar(range(X_sm.shape[1]),f_importance_rf[indices])\n",
    "plt.xticks(range(X_sm.shape[1]), names, rotation=90)\n",
    "plt.show()"
   ]
  },
  {
   "cell_type": "markdown",
   "id": "a668749e",
   "metadata": {},
   "source": [
    "### Observations from feature importance:\n",
    "\n",
    "1. The most important features are:\n",
    "            * Reporting month\n",
    "            * Reporting year\n",
    "            * Quaterly rating \n",
    "            * Total business value\n",
    "            * Joining month"
   ]
  },
  {
   "cell_type": "markdown",
   "id": "0159637f",
   "metadata": {},
   "source": [
    "### Checking accuracy on the test data:"
   ]
  },
  {
   "cell_type": "code",
   "execution_count": 77,
   "id": "ce7ceab1",
   "metadata": {},
   "outputs": [
    {
     "data": {
      "text/plain": [
       "0.9580152671755725"
      ]
     },
     "execution_count": 77,
     "metadata": {},
     "output_type": "execute_result"
    }
   ],
   "source": [
    "tree_clf.score(X_test,Y_test)"
   ]
  },
  {
   "cell_type": "code",
   "execution_count": 78,
   "id": "ed500fb9",
   "metadata": {},
   "outputs": [],
   "source": [
    "# Getting the predicted probabilities:\n",
    "\n",
    "Y_pred_RF = tree_clf.predict(X_test)"
   ]
  },
  {
   "cell_type": "code",
   "execution_count": 79,
   "id": "60209794",
   "metadata": {},
   "outputs": [],
   "source": [
    "Y_pred_proba_RF = tree_clf.predict_proba(X_test)[:,1]"
   ]
  },
  {
   "cell_type": "code",
   "execution_count": 80,
   "id": "7823def0",
   "metadata": {},
   "outputs": [],
   "source": [
    "# Preparing the combined list for 'Y_actual','Y_predicted','Y_predicted_prob'\n",
    "\n",
    "Y_rf = list(zip(Y_test,Y_pred_RF,Y_pred_proba_RF))\n",
    "Y_rf_2=pd.DataFrame(Y_rf,columns=['Y_actual','Y_predicted','Y_predicted_prob'])"
   ]
  },
  {
   "cell_type": "code",
   "execution_count": 81,
   "id": "872ef92d",
   "metadata": {},
   "outputs": [
    {
     "data": {
      "text/html": [
       "<div>\n",
       "<style scoped>\n",
       "    .dataframe tbody tr th:only-of-type {\n",
       "        vertical-align: middle;\n",
       "    }\n",
       "\n",
       "    .dataframe tbody tr th {\n",
       "        vertical-align: top;\n",
       "    }\n",
       "\n",
       "    .dataframe thead th {\n",
       "        text-align: right;\n",
       "    }\n",
       "</style>\n",
       "<table border=\"1\" class=\"dataframe\">\n",
       "  <thead>\n",
       "    <tr style=\"text-align: right;\">\n",
       "      <th></th>\n",
       "      <th>Y_actual</th>\n",
       "      <th>Y_predicted</th>\n",
       "      <th>Y_predicted_prob</th>\n",
       "    </tr>\n",
       "  </thead>\n",
       "  <tbody>\n",
       "    <tr>\n",
       "      <th>0</th>\n",
       "      <td>1</td>\n",
       "      <td>1</td>\n",
       "      <td>0.964934</td>\n",
       "    </tr>\n",
       "    <tr>\n",
       "      <th>1</th>\n",
       "      <td>1</td>\n",
       "      <td>1</td>\n",
       "      <td>0.522989</td>\n",
       "    </tr>\n",
       "    <tr>\n",
       "      <th>2</th>\n",
       "      <td>1</td>\n",
       "      <td>1</td>\n",
       "      <td>0.977211</td>\n",
       "    </tr>\n",
       "    <tr>\n",
       "      <th>3</th>\n",
       "      <td>1</td>\n",
       "      <td>1</td>\n",
       "      <td>0.997424</td>\n",
       "    </tr>\n",
       "    <tr>\n",
       "      <th>4</th>\n",
       "      <td>1</td>\n",
       "      <td>0</td>\n",
       "      <td>0.265803</td>\n",
       "    </tr>\n",
       "  </tbody>\n",
       "</table>\n",
       "</div>"
      ],
      "text/plain": [
       "   Y_actual  Y_predicted  Y_predicted_prob\n",
       "0         1            1          0.964934\n",
       "1         1            1          0.522989\n",
       "2         1            1          0.977211\n",
       "3         1            1          0.997424\n",
       "4         1            0          0.265803"
      ]
     },
     "execution_count": 81,
     "metadata": {},
     "output_type": "execute_result"
    }
   ],
   "source": [
    "Y_rf_2.head()"
   ]
  },
  {
   "cell_type": "markdown",
   "id": "9ce7bf6c",
   "metadata": {},
   "source": [
    "##### Finding the value of confusion matrix:"
   ]
  },
  {
   "cell_type": "code",
   "execution_count": 82,
   "id": "3469819a",
   "metadata": {},
   "outputs": [],
   "source": [
    "tp=((Y_rf_2['Y_actual']==1) & (Y_rf_2['Y_predicted']==1)).sum()\n",
    "fp=((Y_rf_2['Y_actual']==0) & (Y_rf_2['Y_predicted']==1)).sum()\n",
    "tn=((Y_rf_2['Y_actual']==0) & (Y_rf_2['Y_predicted']==0)).sum()\n",
    "fn=((Y_rf_2['Y_actual']==1) & (Y_rf_2['Y_predicted']==0)).sum()"
   ]
  },
  {
   "cell_type": "code",
   "execution_count": 83,
   "id": "1177ffc8",
   "metadata": {},
   "outputs": [
    {
     "data": {
      "text/plain": [
       "True"
      ]
     },
     "execution_count": 83,
     "metadata": {},
     "output_type": "execute_result"
    }
   ],
   "source": [
    "# Checking whether the sum of count of all the elements \n",
    "# of the confusion matrix = the total number of the elements\n",
    "\n",
    "tp+fp+tn+fn==X_test.shape[0]"
   ]
  },
  {
   "cell_type": "code",
   "execution_count": 84,
   "id": "ee18dcbc",
   "metadata": {},
   "outputs": [
    {
     "name": "stdout",
     "output_type": "stream",
     "text": [
      " * True_Positive:511 \n",
      " * True_Negative:242 \n",
      " * False_Positive:9 \n",
      " * False_Negative:24\n"
     ]
    }
   ],
   "source": [
    "print(f\" * True_Positive:{tp} \\n * True_Negative:{tn} \\n * False_Positive:{fp} \\n * False_Negative:{fn}\")"
   ]
  },
  {
   "cell_type": "code",
   "execution_count": 85,
   "id": "18d8db3b",
   "metadata": {},
   "outputs": [],
   "source": [
    "from sklearn.metrics import (confusion_matrix,ConfusionMatrixDisplay,\n",
    "roc_curve,roc_auc_score,precision_recall_curve,auc,classification_report,f1_score)"
   ]
  },
  {
   "cell_type": "markdown",
   "id": "4cecc7d0",
   "metadata": {},
   "source": [
    "### Random Forest - Confusion matrix:"
   ]
  },
  {
   "cell_type": "code",
   "execution_count": 86,
   "id": "cd5f4e08",
   "metadata": {},
   "outputs": [
    {
     "data": {
      "text/plain": [
       "array([[242,   9],\n",
       "       [ 24, 511]], dtype=int64)"
      ]
     },
     "execution_count": 86,
     "metadata": {},
     "output_type": "execute_result"
    }
   ],
   "source": [
    "cm=confusion_matrix(Y_rf_2['Y_actual'],Y_rf_2['Y_predicted'])\n",
    "cm"
   ]
  },
  {
   "cell_type": "code",
   "execution_count": 87,
   "id": "4a8cf479",
   "metadata": {},
   "outputs": [
    {
     "data": {
      "image/png": "[encoded data removed]",
      "text/plain": [
       "<Figure size 432x288 with 2 Axes>"
      ]
     },
     "metadata": {},
     "output_type": "display_data"
    }
   ],
   "source": [
    "# Displaying the confusion matrix:\n",
    "\n",
    "ConfusionMatrixDisplay(cm,display_labels=['Not_churned','Churned']).plot()\n",
    "plt.grid()\n",
    "plt.show()\n"
   ]
  },
  {
   "cell_type": "markdown",
   "id": "6577a278",
   "metadata": {},
   "source": [
    "### Classification Report:"
   ]
  },
  {
   "cell_type": "code",
   "execution_count": 88,
   "id": "eb658d14",
   "metadata": {},
   "outputs": [
    {
     "name": "stdout",
     "output_type": "stream",
     "text": [
      "              precision    recall  f1-score   support\n",
      "\n",
      " Not_churned       0.91      0.96      0.94       251\n",
      "     Churned       0.98      0.96      0.97       535\n",
      "\n",
      "    accuracy                           0.96       786\n",
      "   macro avg       0.95      0.96      0.95       786\n",
      "weighted avg       0.96      0.96      0.96       786\n",
      "\n"
     ]
    }
   ],
   "source": [
    "target_names=['Not_churned','Churned']\n",
    "print(classification_report(Y_rf_2['Y_actual'],Y_rf_2['Y_predicted'],target_names=target_names))"
   ]
  },
  {
   "cell_type": "markdown",
   "id": "fcb13ceb",
   "metadata": {},
   "source": [
    "### ROC-AUC curve - Random Forest:"
   ]
  },
  {
   "cell_type": "code",
   "execution_count": 89,
   "id": "f00c9848",
   "metadata": {},
   "outputs": [
    {
     "data": {
      "image/png": "[encoded data removed]",
      "text/plain": [
       "<Figure size 432x288 with 1 Axes>"
      ]
     },
     "metadata": {},
     "output_type": "display_data"
    }
   ],
   "source": [
    "fpr, tpr, thresholds = roc_curve(Y_rf_2['Y_actual'],Y_rf_2['Y_predicted_prob'])\n",
    "\n",
    "plt.plot(fpr,tpr)\n",
    "plt.xlabel('FPR')\n",
    "plt.ylabel('TPR')\n",
    "plt.show()"
   ]
  },
  {
   "cell_type": "code",
   "execution_count": 90,
   "id": "eebea62b",
   "metadata": {},
   "outputs": [
    {
     "data": {
      "text/plain": [
       "0.9823993744647578"
      ]
     },
     "execution_count": 90,
     "metadata": {},
     "output_type": "execute_result"
    }
   ],
   "source": [
    "# calculating roc_auc_score:\n",
    "\n",
    "roc_auc_score(Y_rf_2['Y_actual'],Y_rf_2['Y_predicted_prob'])"
   ]
  },
  {
   "cell_type": "code",
   "execution_count": 91,
   "id": "0d2df312",
   "metadata": {},
   "outputs": [],
   "source": [
    "precision, recall, thresholds = precision_recall_curve(Y_rf_2['Y_actual'],Y_rf_2['Y_predicted_prob'])"
   ]
  },
  {
   "cell_type": "code",
   "execution_count": 92,
   "id": "26ea294b",
   "metadata": {},
   "outputs": [
    {
     "data": {
      "image/png": "[encoded data removed]",
      "text/plain": [
       "<Figure size 432x288 with 1 Axes>"
      ]
     },
     "metadata": {},
     "output_type": "display_data"
    }
   ],
   "source": [
    "# Plotting precision recall graph:RandomForest\n",
    "\n",
    "plt.plot(recall,precision)\n",
    "plt.xlabel('Recall')\n",
    "plt.ylabel('Precision')\n",
    "plt.title('Precision-Recall curve')\n",
    "plt.show()"
   ]
  },
  {
   "cell_type": "code",
   "execution_count": 93,
   "id": "1a003e95",
   "metadata": {},
   "outputs": [
    {
     "data": {
      "text/plain": [
       "0.9926045909647637"
      ]
     },
     "execution_count": 93,
     "metadata": {},
     "output_type": "execute_result"
    }
   ],
   "source": [
    "# AUC for precision recall graph:RandomForest\n",
    "\n",
    "auc(recall,precision)"
   ]
  },
  {
   "cell_type": "code",
   "execution_count": 94,
   "id": "7ab59131",
   "metadata": {},
   "outputs": [
    {
     "name": "stdout",
     "output_type": "stream",
     "text": [
      "Requirement already satisfied: xgboost in c:\\users\\alfred paul\\anaconda2\\lib\\site-packages (1.6.1)\n",
      "Requirement already satisfied: numpy in c:\\users\\alfred paul\\anaconda2\\lib\\site-packages (from xgboost) (1.20.3)\n",
      "Requirement already satisfied: scipy in c:\\users\\alfred paul\\anaconda2\\lib\\site-packages (from xgboost) (1.7.1)\n"
     ]
    }
   ],
   "source": [
    "! pip install xgboost"
   ]
  },
  {
   "cell_type": "markdown",
   "id": "ba09b412",
   "metadata": {},
   "source": [
    "### Ensemble model : Boosting Algorithm using XGBoost"
   ]
  },
  {
   "cell_type": "code",
   "execution_count": 95,
   "id": "3fddef2c",
   "metadata": {},
   "outputs": [],
   "source": [
    "from xgboost import XGBClassifier"
   ]
  },
  {
   "cell_type": "code",
   "execution_count": 96,
   "id": "853ca129",
   "metadata": {},
   "outputs": [],
   "source": [
    "import datetime as dt"
   ]
  },
  {
   "cell_type": "code",
   "execution_count": 97,
   "id": "2a9a6390",
   "metadata": {},
   "outputs": [],
   "source": [
    "# Defining the parameters for GridSearch:\n",
    "\n",
    "params={\n",
    "    'n_estimators':[100,200,300,500,700],\n",
    "    'max_depth':[3,4,5],\n",
    "    'learning_rate':[0.1,0.3,0.5,0.7],\n",
    "    'colsample_bytree':[0.5,0.7,0.9,1.0],\n",
    "    'subsample':[0.5,0.7,0.9,1.0]    \n",
    "}"
   ]
  },
  {
   "cell_type": "code",
   "execution_count": 98,
   "id": "d2b8b188",
   "metadata": {},
   "outputs": [],
   "source": [
    "xgb = XGBClassifier(random_state=3,objective='binary:logistic')"
   ]
  },
  {
   "cell_type": "code",
   "execution_count": 99,
   "id": "23703185",
   "metadata": {},
   "outputs": [],
   "source": [
    "# GridSearch function\n",
    "\n",
    "tuning_function_xgboost = GridSearchCV(estimator=xgb,\n",
    "                              param_grid=params,\n",
    "                              scoring='accuracy',\n",
    "                              cv=3,\n",
    "                              n_jobs=-1)"
   ]
  },
  {
   "cell_type": "code",
   "execution_count": 100,
   "id": "cd3fed49",
   "metadata": {},
   "outputs": [
    {
     "name": "stdout",
     "output_type": "stream",
     "text": [
      " * Time taken for training: 0:03:49.079951 \n",
      " * Accuracy on training data: 0.9551336877793188 \n",
      " * Best Parameters: {'colsample_bytree': 0.9, 'learning_rate': 0.1, 'max_depth': 5, 'n_estimators': 100, 'subsample': 1.0}\n"
     ]
    }
   ],
   "source": [
    "# JMJ+\n",
    "# Finding the best parameters and accuracy using gridsearch\n",
    "\n",
    "start_time=dt.datetime.now()\n",
    "\n",
    "tuning_function_xgboost.fit(X_sm,Y_sm)\n",
    "\n",
    "end_time=dt.datetime.now()\n",
    "\n",
    "parameters_xgboost=tuning_function_xgboost.best_params_\n",
    "score_xgboost=tuning_function_xgboost.best_score_\n",
    "\n",
    "print(f\" * Time taken for training: {end_time-start_time} \\n * Accuracy on training data: {score_xgboost} \\n * Best Parameters: {parameters_xgboost}\")\n"
   ]
  },
  {
   "cell_type": "code",
   "execution_count": 101,
   "id": "1a4c3853",
   "metadata": {},
   "outputs": [],
   "source": [
    "# Finding the best model based on the parameters of gridsearch:\n",
    "\n",
    "best_xgb = XGBClassifier(random_state=3,n_estimators=300, objective='binary:logistic',\n",
    "                         learning_rate=0.1, max_depth=5,\n",
    "                         colsample_bytree=0.5, subsample=0.9)\n",
    "# Cross validating the model\n",
    "kfold = KFold(n_splits=12)\n",
    "cv_gb_acc = cross_validate(best_xgb, X_sm, Y_sm, cv=kfold,\n",
    "                           scoring='accuracy', return_train_score=True)\n",
    " "
   ]
  },
  {
   "cell_type": "code",
   "execution_count": 102,
   "id": "e403e1e1",
   "metadata": {},
   "outputs": [
    {
     "name": "stdout",
     "output_type": "stream",
     "text": [
      "K-fold mean accuracy for XG-Boost on: \n",
      " Train:100.0\n",
      " Validation: 95.93052997749129\n"
     ]
    }
   ],
   "source": [
    "print(f\"K-fold mean accuracy for XG-Boost on: \\n Train:{cv_gb_acc['train_score'].mean()*100}\\n Validation: {cv_gb_acc['test_score'].mean()*100}\")"
   ]
  },
  {
   "cell_type": "markdown",
   "id": "0d1b24d2",
   "metadata": {},
   "source": [
    "### Feature importance : XGBoost"
   ]
  },
  {
   "cell_type": "code",
   "execution_count": 103,
   "id": "eb977dad",
   "metadata": {},
   "outputs": [],
   "source": [
    "best_xgb.fit(X_sm,Y_sm)\n",
    "\n",
    "# Getting the feature importances of all the features\n",
    "f_importance_gb = best_xgb.feature_importances_\n",
    "\n"
   ]
  },
  {
   "cell_type": "code",
   "execution_count": 104,
   "id": "0db55b5e",
   "metadata": {},
   "outputs": [
    {
     "data": {
      "image/png": "[encoded data removed]",
      "text/plain": [
       "<Figure size 864x504 with 1 Axes>"
      ]
     },
     "metadata": {},
     "output_type": "display_data"
    }
   ],
   "source": [
    "# Sorting the indices of the features in decreasing order of their importance\n",
    "indices = np.argsort(f_importance_gb)[::-1]\n",
    "\n",
    "# Storing the names corresponding to the indices\n",
    "names=[X_sm.columns[i] for i in indices]\n",
    "\n",
    "# Creating the bar plot:\n",
    "plt.figure(figsize=(12,7))\n",
    "plt.title('Feature Importance - XGBoost')\n",
    "plt.bar(range(X_sm.shape[1]),f_importance_gb[indices])\n",
    "plt.xticks(range(X_sm.shape[1]), names, rotation=90)\n",
    "plt.show()"
   ]
  },
  {
   "cell_type": "markdown",
   "id": "13ed44d9",
   "metadata": {},
   "source": [
    "Most important features as per XGBoost are:\n",
    "\n",
    "    * Reporting month\n",
    "    * Reporting year\n",
    "    * Quaterly rating improvement\n",
    "    * Quaterly rating\n",
    "    * Tenure"
   ]
  },
  {
   "cell_type": "markdown",
   "id": "60bd42ce",
   "metadata": {},
   "source": [
    "### Checking accuracy on the test data:"
   ]
  },
  {
   "cell_type": "code",
   "execution_count": 105,
   "id": "3ebbcabe",
   "metadata": {
    "scrolled": true
   },
   "outputs": [
    {
     "data": {
      "text/plain": [
       "0.950381679389313"
      ]
     },
     "execution_count": 105,
     "metadata": {},
     "output_type": "execute_result"
    }
   ],
   "source": [
    "best_xgb.score(X_test,Y_test)"
   ]
  },
  {
   "cell_type": "code",
   "execution_count": 106,
   "id": "d6de8c25",
   "metadata": {},
   "outputs": [],
   "source": [
    "# Getting the predicted probabilities:\n",
    "\n",
    "Y_pred_XGB = best_xgb.predict(X_test)\n",
    "\n",
    "Y_pred_proba_XGB = best_xgb.predict_proba(X_test)[:,1]"
   ]
  },
  {
   "cell_type": "code",
   "execution_count": 107,
   "id": "aeb4a238",
   "metadata": {},
   "outputs": [
    {
     "data": {
      "text/html": [
       "<div>\n",
       "<style scoped>\n",
       "    .dataframe tbody tr th:only-of-type {\n",
       "        vertical-align: middle;\n",
       "    }\n",
       "\n",
       "    .dataframe tbody tr th {\n",
       "        vertical-align: top;\n",
       "    }\n",
       "\n",
       "    .dataframe thead th {\n",
       "        text-align: right;\n",
       "    }\n",
       "</style>\n",
       "<table border=\"1\" class=\"dataframe\">\n",
       "  <thead>\n",
       "    <tr style=\"text-align: right;\">\n",
       "      <th></th>\n",
       "      <th>Y_actual</th>\n",
       "      <th>Y_predicted</th>\n",
       "      <th>Y_predicted_prob</th>\n",
       "    </tr>\n",
       "  </thead>\n",
       "  <tbody>\n",
       "    <tr>\n",
       "      <th>0</th>\n",
       "      <td>1</td>\n",
       "      <td>1</td>\n",
       "      <td>0.976843</td>\n",
       "    </tr>\n",
       "    <tr>\n",
       "      <th>1</th>\n",
       "      <td>1</td>\n",
       "      <td>0</td>\n",
       "      <td>0.491785</td>\n",
       "    </tr>\n",
       "    <tr>\n",
       "      <th>2</th>\n",
       "      <td>1</td>\n",
       "      <td>1</td>\n",
       "      <td>0.991919</td>\n",
       "    </tr>\n",
       "    <tr>\n",
       "      <th>3</th>\n",
       "      <td>1</td>\n",
       "      <td>1</td>\n",
       "      <td>0.999687</td>\n",
       "    </tr>\n",
       "    <tr>\n",
       "      <th>4</th>\n",
       "      <td>1</td>\n",
       "      <td>0</td>\n",
       "      <td>0.186370</td>\n",
       "    </tr>\n",
       "  </tbody>\n",
       "</table>\n",
       "</div>"
      ],
      "text/plain": [
       "   Y_actual  Y_predicted  Y_predicted_prob\n",
       "0         1            1          0.976843\n",
       "1         1            0          0.491785\n",
       "2         1            1          0.991919\n",
       "3         1            1          0.999687\n",
       "4         1            0          0.186370"
      ]
     },
     "execution_count": 107,
     "metadata": {},
     "output_type": "execute_result"
    }
   ],
   "source": [
    "# Preparing the combined list for 'Y_actual','Y_predicted','Y_predicted_prob'\n",
    "\n",
    "Y_XGB = list(zip(Y_test,Y_pred_XGB,Y_pred_proba_XGB))\n",
    "Y_XGB_2=pd.DataFrame(Y_XGB,columns=['Y_actual','Y_predicted','Y_predicted_prob'])\n",
    "\n",
    "Y_XGB_2.head()\n"
   ]
  },
  {
   "cell_type": "markdown",
   "id": "c161257a",
   "metadata": {},
   "source": [
    "##### Finding the value of confusion matrix: XGBoost"
   ]
  },
  {
   "cell_type": "code",
   "execution_count": 108,
   "id": "e5e80022",
   "metadata": {},
   "outputs": [],
   "source": [
    "tp=((Y_XGB_2['Y_actual']==1) & (Y_XGB_2['Y_predicted']==1)).sum()\n",
    "fp=((Y_XGB_2['Y_actual']==0) & (Y_XGB_2['Y_predicted']==1)).sum()\n",
    "tn=((Y_XGB_2['Y_actual']==0) & (Y_XGB_2['Y_predicted']==0)).sum()\n",
    "fn=((Y_XGB_2['Y_actual']==1) & (Y_XGB_2['Y_predicted']==0)).sum()"
   ]
  },
  {
   "cell_type": "code",
   "execution_count": 109,
   "id": "0608025c",
   "metadata": {},
   "outputs": [
    {
     "data": {
      "text/plain": [
       "True"
      ]
     },
     "execution_count": 109,
     "metadata": {},
     "output_type": "execute_result"
    }
   ],
   "source": [
    "# Checking whether the sum of count of all the elements \n",
    "# of the confusion matrix = the total number of the elements\n",
    "\n",
    "tp+fp+tn+fn==X_test.shape[0]"
   ]
  },
  {
   "cell_type": "code",
   "execution_count": 110,
   "id": "d5f13727",
   "metadata": {},
   "outputs": [
    {
     "name": "stdout",
     "output_type": "stream",
     "text": [
      " * True_Positive:507 \n",
      " * True_Negative:240 \n",
      " * False_Positive:11 \n",
      " * False_Negative:28\n"
     ]
    }
   ],
   "source": [
    "print(f\" * True_Positive:{tp} \\n * True_Negative:{tn} \\n * False_Positive:{fp} \\n * False_Negative:{fn}\")"
   ]
  },
  {
   "cell_type": "markdown",
   "id": "9561e943",
   "metadata": {},
   "source": [
    "### Confusion matrix - XGBoost:"
   ]
  },
  {
   "cell_type": "code",
   "execution_count": 111,
   "id": "91619ed2",
   "metadata": {},
   "outputs": [
    {
     "data": {
      "text/plain": [
       "array([[240,  11],\n",
       "       [ 28, 507]], dtype=int64)"
      ]
     },
     "execution_count": 111,
     "metadata": {},
     "output_type": "execute_result"
    }
   ],
   "source": [
    "cm_XGB=confusion_matrix(Y_XGB_2['Y_actual'],Y_XGB_2['Y_predicted'])\n",
    "cm_XGB\n"
   ]
  },
  {
   "cell_type": "code",
   "execution_count": 112,
   "id": "d054f3bc",
   "metadata": {},
   "outputs": [
    {
     "data": {
      "image/png": "[encoded data removed]",
      "text/plain": [
       "<Figure size 432x288 with 2 Axes>"
      ]
     },
     "metadata": {},
     "output_type": "display_data"
    }
   ],
   "source": [
    "# Displaying the confusion matrix:\n",
    "\n",
    "ConfusionMatrixDisplay(cm_XGB,display_labels=['Not_churned','Churned']).plot()\n",
    "plt.grid()\n",
    "plt.show()"
   ]
  },
  {
   "cell_type": "markdown",
   "id": "c5d9c792",
   "metadata": {},
   "source": [
    "### Classification Report - XGBoost:"
   ]
  },
  {
   "cell_type": "code",
   "execution_count": 113,
   "id": "b659362d",
   "metadata": {},
   "outputs": [
    {
     "name": "stdout",
     "output_type": "stream",
     "text": [
      "              precision    recall  f1-score   support\n",
      "\n",
      " Not_churned       0.90      0.96      0.92       251\n",
      "     Churned       0.98      0.95      0.96       535\n",
      "\n",
      "    accuracy                           0.95       786\n",
      "   macro avg       0.94      0.95      0.94       786\n",
      "weighted avg       0.95      0.95      0.95       786\n",
      "\n"
     ]
    }
   ],
   "source": [
    "\n",
    "\n",
    "target_names=['Not_churned','Churned']\n",
    "print(classification_report(Y_XGB_2['Y_actual'],Y_XGB_2['Y_predicted'],target_names=target_names))\n"
   ]
  },
  {
   "cell_type": "markdown",
   "id": "04ecafa2",
   "metadata": {},
   "source": [
    "### ROC-AUC curve - XGBoost:"
   ]
  },
  {
   "cell_type": "code",
   "execution_count": 114,
   "id": "a4477ade",
   "metadata": {},
   "outputs": [
    {
     "data": {
      "image/png": "[encoded data removed]",
      "text/plain": [
       "<Figure size 432x288 with 1 Axes>"
      ]
     },
     "metadata": {},
     "output_type": "display_data"
    }
   ],
   "source": [
    "\n",
    "\n",
    "fpr, tpr, thresholds = roc_curve(Y_XGB_2['Y_actual'],Y_XGB_2['Y_predicted_prob'])\n",
    "\n",
    "plt.plot(fpr,tpr)\n",
    "plt.xlabel('FPR')\n",
    "plt.ylabel('TPR')\n",
    "plt.show()"
   ]
  },
  {
   "cell_type": "code",
   "execution_count": 115,
   "id": "fecbb43c",
   "metadata": {},
   "outputs": [
    {
     "data": {
      "text/plain": [
       "0.9816211788360576"
      ]
     },
     "execution_count": 115,
     "metadata": {},
     "output_type": "execute_result"
    }
   ],
   "source": [
    "# calculating roc_auc_score:\n",
    "\n",
    "roc_auc_score(Y_XGB_2['Y_actual'],Y_XGB_2['Y_predicted_prob'])\n"
   ]
  },
  {
   "cell_type": "code",
   "execution_count": 116,
   "id": "b3289898",
   "metadata": {},
   "outputs": [
    {
     "data": {
      "image/png": "[encoded data removed]",
      "text/plain": [
       "<Figure size 432x288 with 1 Axes>"
      ]
     },
     "metadata": {},
     "output_type": "display_data"
    }
   ],
   "source": [
    "# Plotting precision recall graph : XGBoost\n",
    "\n",
    "precision, recall, thresholds = precision_recall_curve(Y_XGB_2['Y_actual'],Y_XGB_2['Y_predicted_prob'])\n",
    "\n",
    "plt.plot(recall,precision)\n",
    "plt.xlabel('Recall')\n",
    "plt.ylabel('Precision')\n",
    "plt.title('Precision-Recall curve')\n",
    "plt.show()\n",
    "\n"
   ]
  },
  {
   "cell_type": "code",
   "execution_count": 117,
   "id": "3df4e4a1",
   "metadata": {},
   "outputs": [
    {
     "data": {
      "text/plain": [
       "0.9926540928372743"
      ]
     },
     "execution_count": 117,
     "metadata": {},
     "output_type": "execute_result"
    }
   ],
   "source": [
    "# AUC for precision recall graph:XGBoost\n",
    "\n",
    "auc(recall,precision)"
   ]
  },
  {
   "cell_type": "markdown",
   "id": "06b26799",
   "metadata": {},
   "source": [
    "### Comparison of RandomForest and XGBoost:"
   ]
  },
  {
   "cell_type": "code",
   "execution_count": 126,
   "id": "2f3cc124",
   "metadata": {},
   "outputs": [],
   "source": [
    "# Preparing the dictionary:\n",
    "\n",
    "comp_dict={'Parameters':['Accuracy', 'Precision', 'Recall', 'AUC_ROC', 'AUC(Precision-Recall)','n_estimators', 'max_depth'],\n",
    "          'RandomForest':[0.95801,0.98,0.94,0.97176,0.98600,200,10],\n",
    "          'XGBoost':[0.9503,0.98,0.94,0.97153,0.98657,100,5]}"
   ]
  },
  {
   "cell_type": "code",
   "execution_count": 127,
   "id": "c93a0010",
   "metadata": {},
   "outputs": [],
   "source": [
    "df_comp=pd.DataFrame(comp_dict)\n",
    "df_comp.set_index('Parameters',inplace=True)"
   ]
  },
  {
   "cell_type": "code",
   "execution_count": 128,
   "id": "8a70c971",
   "metadata": {},
   "outputs": [
    {
     "data": {
      "text/html": [
       "<div>\n",
       "<style scoped>\n",
       "    .dataframe tbody tr th:only-of-type {\n",
       "        vertical-align: middle;\n",
       "    }\n",
       "\n",
       "    .dataframe tbody tr th {\n",
       "        vertical-align: top;\n",
       "    }\n",
       "\n",
       "    .dataframe thead th {\n",
       "        text-align: right;\n",
       "    }\n",
       "</style>\n",
       "<table border=\"1\" class=\"dataframe\">\n",
       "  <thead>\n",
       "    <tr style=\"text-align: right;\">\n",
       "      <th></th>\n",
       "      <th>RandomForest</th>\n",
       "      <th>XGBoost</th>\n",
       "    </tr>\n",
       "    <tr>\n",
       "      <th>Parameters</th>\n",
       "      <th></th>\n",
       "      <th></th>\n",
       "    </tr>\n",
       "  </thead>\n",
       "  <tbody>\n",
       "    <tr>\n",
       "      <th>Accuracy</th>\n",
       "      <td>0.95801</td>\n",
       "      <td>0.95030</td>\n",
       "    </tr>\n",
       "    <tr>\n",
       "      <th>Precision</th>\n",
       "      <td>0.98000</td>\n",
       "      <td>0.98000</td>\n",
       "    </tr>\n",
       "    <tr>\n",
       "      <th>Recall</th>\n",
       "      <td>0.94000</td>\n",
       "      <td>0.94000</td>\n",
       "    </tr>\n",
       "    <tr>\n",
       "      <th>AUC_ROC</th>\n",
       "      <td>0.97176</td>\n",
       "      <td>0.97153</td>\n",
       "    </tr>\n",
       "    <tr>\n",
       "      <th>AUC(Precision-Recall)</th>\n",
       "      <td>0.98600</td>\n",
       "      <td>0.98657</td>\n",
       "    </tr>\n",
       "    <tr>\n",
       "      <th>n_estimators</th>\n",
       "      <td>200.00000</td>\n",
       "      <td>100.00000</td>\n",
       "    </tr>\n",
       "    <tr>\n",
       "      <th>max_depth</th>\n",
       "      <td>10.00000</td>\n",
       "      <td>5.00000</td>\n",
       "    </tr>\n",
       "  </tbody>\n",
       "</table>\n",
       "</div>"
      ],
      "text/plain": [
       "                       RandomForest    XGBoost\n",
       "Parameters                                    \n",
       "Accuracy                    0.95801    0.95030\n",
       "Precision                   0.98000    0.98000\n",
       "Recall                      0.94000    0.94000\n",
       "AUC_ROC                     0.97176    0.97153\n",
       "AUC(Precision-Recall)       0.98600    0.98657\n",
       "n_estimators              200.00000  100.00000\n",
       "max_depth                  10.00000    5.00000"
      ]
     },
     "execution_count": 128,
     "metadata": {},
     "output_type": "execute_result"
    }
   ],
   "source": [
    "df_comp"
   ]
  },
  {
   "cell_type": "markdown",
   "id": "a0db3b96",
   "metadata": {},
   "source": [
    "##### Observations:\n",
    "\n",
    "* Accuracy: RandomForest has a slightly better performance than XGBoost\n",
    "* Other performance metrics are very similar for both the models "
   ]
  },
  {
   "cell_type": "markdown",
   "id": "d9222142",
   "metadata": {},
   "source": [
    "### Observations based on performance metrics of both the models:\n",
    "\n",
    "##### 1. confusion matrix:\n",
    "    - Values are very similar in both the models\n",
    "    - However, RF have a slightly better performance compared to XGBoost wrto. FP and FN\n",
    "    \n",
    "##### 2. roc_auc_score:\n",
    "    - Both the models have high value, indicating that both of them perform good\n",
    "    - RF have a slightly better performance compared to XGBoost\n",
    "    \n",
    "##### 3.  Precision-Recall:\n",
    "    - Values are similar in both the models\n",
    "    - AUC(Precision-Recall): RF have a slightly better performance compared to XGBoost\n",
    "    - In the given casestudy, FalseNegative are more critical than FalsePositives, i.e. model predicts that, driver donot churn, actually the driver churned\n",
    "    - Recall should be prioritized over precision\n",
    "\n",
    "##### 4. f1-score:\n",
    "    - Both the models have same values"
   ]
  },
  {
   "cell_type": "markdown",
   "id": "b79491db",
   "metadata": {},
   "source": [
    "### General Insights:\n",
    "\n",
    "1. Very few drivers showed improvement in  quaterly rating(15%) and income(1.8%)\n",
    "2. After the analysis, it can be observed that, churning donot depend much on education level or age\n",
    "3. Quaterly rating 1 and 2 witnessed the highest churning, and similar trend can be witnessed for grades also\n",
    "4. Median value for total business generated for churned drivers is far less than for their counterparts\n",
    "5. Most of the drivers stay for 0-1 years before they leave the firm\n",
    "6. Variation in income and quaterly rating has a strong dependency on the churn rate"
   ]
  },
  {
   "cell_type": "markdown",
   "id": "adcdcbf3",
   "metadata": {},
   "source": [
    "### Business reccomendation: \n",
    "\n",
    "1. Improvements in quaterly rating, income and total business value can be considered as the deciding factors in the attrition of drivers\n",
    "\n",
    "2. It can be observed that, drivers who donot see much improvements in the above mentioned factors are most likely to leave the firm within 2 years\n",
    "\n",
    "3. So its important that drivers are given good consideration in terms of compensation and other benefits in the initial years\n",
    "\n",
    "4. Other benefits such as cashbacks, fuel subsidy, part-time study options, insurance etc. for the drivers who have completed the initial years\n",
    "\n",
    "5. Ensure that, the drivers per city are selected on the basis of requirement only. Otherwise, churning rate would rise\n",
    "\n",
    "6. Drivers are most likely to be retained if there are good difference in salary between the consecutive grades and rating, as at higher ratings, churning rate is less\n",
    "\n",
    "7. As from the feature importance, it is clear that, reporting month and reporting year have strong correlation with the churn rate. Firm should work on the season in which churn rate is more or provide some additional incentives to combat this."
   ]
  },
  {
   "cell_type": "markdown",
   "id": "e6844d2a",
   "metadata": {},
   "source": [
    "JMJ+"
   ]
  }
 ],
 "metadata": {
  "kernelspec": {
   "display_name": "Python 3 (ipykernel)",
   "language": "python",
   "name": "python3"
  },
  "language_info": {
   "codemirror_mode": {
    "name": "ipython",
    "version": 3
   },
   "file_extension": ".py",
   "mimetype": "text/x-python",
   "name": "python",
   "nbconvert_exporter": "python",
   "pygments_lexer": "ipython3",
   "version": "3.9.7"
  }
 },
 "nbformat": 4,
 "nbformat_minor": 5
}
