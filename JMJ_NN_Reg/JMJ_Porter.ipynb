{
 "cells": [
  {
   "cell_type": "markdown",
   "metadata": {
    "id": "TtVxd_T-Sssr"
   },
   "source": [
    "**JMJ+**"
   ]
  },
  {
   "cell_type": "markdown",
   "metadata": {
    "id": "k6cqMXhTL4JX"
   },
   "source": [
    "### Problem statement:\n",
    "<br>\n",
    "\n",
    "\n",
    "*  Help Porter to predict delivery time based on various features\n",
    "*  Perform detailed analysis inorder to identify the impact of different factors\n",
    "* Thereby, to improve the customer experience and business, by optimising aspects such as delivery time and manpower requirement \n",
    "\n",
    "\n",
    "\n",
    "\n",
    "\n",
    "\n"
   ]
  },
  {
   "cell_type": "code",
   "execution_count": 2,
   "metadata": {
    "colab": {
     "base_uri": "https://localhost:8080/",
     "height": 74
    },
    "id": "IybdjgN5Eq2Z",
    "outputId": "8d58ee4b-ea3b-4b34-e9b4-0885d0df924c"
   },
   "outputs": [
    {
     "data": {
      "text/html": [
       "\n",
       "     <input type=\"file\" id=\"files-5f30cce7-bb0e-4d20-a213-172ea2cfe8f9\" name=\"files[]\" multiple disabled\n",
       "        style=\"border:none\" />\n",
       "     <output id=\"result-5f30cce7-bb0e-4d20-a213-172ea2cfe8f9\">\n",
       "      Upload widget is only available when the cell has been executed in the\n",
       "      current browser session. Please rerun this cell to enable.\n",
       "      </output>\n",
       "      <script>// Copyright 2017 Google LLC\n",
       "//\n",
       "// Licensed under the Apache License, Version 2.0 (the \"License\");\n",
       "// you may not use this file except in compliance with the License.\n",
       "// You may obtain a copy of the License at\n",
       "//\n",
       "//      http://www.apache.org/licenses/LICENSE-2.0\n",
       "//\n",
       "// Unless required by applicable law or agreed to in writing, software\n",
       "// distributed under the License is distributed on an \"AS IS\" BASIS,\n",
       "// WITHOUT WARRANTIES OR CONDITIONS OF ANY KIND, either express or implied.\n",
       "// See the License for the specific language governing permissions and\n",
       "// limitations under the License.\n",
       "\n",
       "/**\n",
       " * @fileoverview Helpers for google.colab Python module.\n",
       " */\n",
       "(function(scope) {\n",
       "function span(text, styleAttributes = {}) {\n",
       "  const element = document.createElement('span');\n",
       "  element.textContent = text;\n",
       "  for (const key of Object.keys(styleAttributes)) {\n",
       "    element.style[key] = styleAttributes[key];\n",
       "  }\n",
       "  return element;\n",
       "}\n",
       "\n",
       "// Max number of bytes which will be uploaded at a time.\n",
       "const MAX_PAYLOAD_SIZE = 100 * 1024;\n",
       "\n",
       "function _uploadFiles(inputId, outputId) {\n",
       "  const steps = uploadFilesStep(inputId, outputId);\n",
       "  const outputElement = document.getElementById(outputId);\n",
       "  // Cache steps on the outputElement to make it available for the next call\n",
       "  // to uploadFilesContinue from Python.\n",
       "  outputElement.steps = steps;\n",
       "\n",
       "  return _uploadFilesContinue(outputId);\n",
       "}\n",
       "\n",
       "// This is roughly an async generator (not supported in the browser yet),\n",
       "// where there are multiple asynchronous steps and the Python side is going\n",
       "// to poll for completion of each step.\n",
       "// This uses a Promise to block the python side on completion of each step,\n",
       "// then passes the result of the previous step as the input to the next step.\n",
       "function _uploadFilesContinue(outputId) {\n",
       "  const outputElement = document.getElementById(outputId);\n",
       "  const steps = outputElement.steps;\n",
       "\n",
       "  const next = steps.next(outputElement.lastPromiseValue);\n",
       "  return Promise.resolve(next.value.promise).then((value) => {\n",
       "    // Cache the last promise value to make it available to the next\n",
       "    // step of the generator.\n",
       "    outputElement.lastPromiseValue = value;\n",
       "    return next.value.response;\n",
       "  });\n",
       "}\n",
       "\n",
       "/**\n",
       " * Generator function which is called between each async step of the upload\n",
       " * process.\n",
       " * @param {string} inputId Element ID of the input file picker element.\n",
       " * @param {string} outputId Element ID of the output display.\n",
       " * @return {!Iterable<!Object>} Iterable of next steps.\n",
       " */\n",
       "function* uploadFilesStep(inputId, outputId) {\n",
       "  const inputElement = document.getElementById(inputId);\n",
       "  inputElement.disabled = false;\n",
       "\n",
       "  const outputElement = document.getElementById(outputId);\n",
       "  outputElement.innerHTML = '';\n",
       "\n",
       "  const pickedPromise = new Promise((resolve) => {\n",
       "    inputElement.addEventListener('change', (e) => {\n",
       "      resolve(e.target.files);\n",
       "    });\n",
       "  });\n",
       "\n",
       "  const cancel = document.createElement('button');\n",
       "  inputElement.parentElement.appendChild(cancel);\n",
       "  cancel.textContent = 'Cancel upload';\n",
       "  const cancelPromise = new Promise((resolve) => {\n",
       "    cancel.onclick = () => {\n",
       "      resolve(null);\n",
       "    };\n",
       "  });\n",
       "\n",
       "  // Wait for the user to pick the files.\n",
       "  const files = yield {\n",
       "    promise: Promise.race([pickedPromise, cancelPromise]),\n",
       "    response: {\n",
       "      action: 'starting',\n",
       "    }\n",
       "  };\n",
       "\n",
       "  cancel.remove();\n",
       "\n",
       "  // Disable the input element since further picks are not allowed.\n",
       "  inputElement.disabled = true;\n",
       "\n",
       "  if (!files) {\n",
       "    return {\n",
       "      response: {\n",
       "        action: 'complete',\n",
       "      }\n",
       "    };\n",
       "  }\n",
       "\n",
       "  for (const file of files) {\n",
       "    const li = document.createElement('li');\n",
       "    li.append(span(file.name, {fontWeight: 'bold'}));\n",
       "    li.append(span(\n",
       "        `(${file.type || 'n/a'}) - ${file.size} bytes, ` +\n",
       "        `last modified: ${\n",
       "            file.lastModifiedDate ? file.lastModifiedDate.toLocaleDateString() :\n",
       "                                    'n/a'} - `));\n",
       "    const percent = span('0% done');\n",
       "    li.appendChild(percent);\n",
       "\n",
       "    outputElement.appendChild(li);\n",
       "\n",
       "    const fileDataPromise = new Promise((resolve) => {\n",
       "      const reader = new FileReader();\n",
       "      reader.onload = (e) => {\n",
       "        resolve(e.target.result);\n",
       "      };\n",
       "      reader.readAsArrayBuffer(file);\n",
       "    });\n",
       "    // Wait for the data to be ready.\n",
       "    let fileData = yield {\n",
       "      promise: fileDataPromise,\n",
       "      response: {\n",
       "        action: 'continue',\n",
       "      }\n",
       "    };\n",
       "\n",
       "    // Use a chunked sending to avoid message size limits. See b/62115660.\n",
       "    let position = 0;\n",
       "    do {\n",
       "      const length = Math.min(fileData.byteLength - position, MAX_PAYLOAD_SIZE);\n",
       "      const chunk = new Uint8Array(fileData, position, length);\n",
       "      position += length;\n",
       "\n",
       "      const base64 = btoa(String.fromCharCode.apply(null, chunk));\n",
       "      yield {\n",
       "        response: {\n",
       "          action: 'append',\n",
       "          file: file.name,\n",
       "          data: base64,\n",
       "        },\n",
       "      };\n",
       "\n",
       "      let percentDone = fileData.byteLength === 0 ?\n",
       "          100 :\n",
       "          Math.round((position / fileData.byteLength) * 100);\n",
       "      percent.textContent = `${percentDone}% done`;\n",
       "\n",
       "    } while (position < fileData.byteLength);\n",
       "  }\n",
       "\n",
       "  // All done.\n",
       "  yield {\n",
       "    response: {\n",
       "      action: 'complete',\n",
       "    }\n",
       "  };\n",
       "}\n",
       "\n",
       "scope.google = scope.google || {};\n",
       "scope.google.colab = scope.google.colab || {};\n",
       "scope.google.colab._files = {\n",
       "  _uploadFiles,\n",
       "  _uploadFilesContinue,\n",
       "};\n",
       "})(self);\n",
       "</script> "
      ],
      "text/plain": [
       "<IPython.core.display.HTML object>"
      ]
     },
     "metadata": {},
     "output_type": "display_data"
    },
    {
     "name": "stdout",
     "output_type": "stream",
     "text": [
      "Saving JMJ_Porter.csv to JMJ_Porter (1).csv\n"
     ]
    }
   ],
   "source": [
    "from google.colab import files \n",
    "uploaded = files.upload()"
   ]
  },
  {
   "cell_type": "markdown",
   "metadata": {
    "id": "egyi3zVmNm0C"
   },
   "source": [
    "## Table of Contents\n",
    "\n",
    "1. **[Import Libraries](#import_lib)**\n",
    "2. **[Reading data & basic checks](#Read_Data)**\n",
    "\t- 2.1 - [Observations from basic checks](#obs_basic)\n",
    "3. **[Data preprocessing and feature engineering](#Data_pre)**\n",
    "    - 3.1 -[Creating copy of the dataset](#copy)\n",
    "    - 3.2 -[Handling null values - 1](#null_1)\n",
    "    - 3.3 -[Extracting date based featues](#Ext_date)\n",
    "\t- 3.4 -[Observations from date & time](#Obs_date)\n",
    "\t- 3.5 -[Handling null values - 2](#null_2)\n",
    "\t- 3.6 -[Basic feature engineering](#bas_fe)\t\n",
    "4. **[Data visualization and cleaning](#Data_vis)**\n",
    "\t- 4.1 -[Check for outliers - boxplot](#outliers)\n",
    "\t- 4.2 -[Remove outliers - quantile technique](#outliers_rm)\n",
    "\t- 4.3 -[Visualization for various features](#data_vis)\n",
    "5. **[Creating target feature (time taken for delivery)](#target)**\n",
    "\t- 5.1 -[Removing outliers - 'time_taken_min'](#outliers_target)\n",
    "\t- 5.2 -[Visualization based on delivery time](#del_vis)\n",
    "6. **[Splitting data](#data_split)**\n",
    "\t- 6.1 -[Test-Train split](#t_t_split)\n",
    "\t- 6.2 -[Frequency encoding non-numerical features(Training & Testing)](#freq_enc)\n",
    "7. **[Model building - Random Forest](#mod_rf)**\n",
    "\t- 7.1 -[Evaluation of Random Forest model](#rf_eval)\n",
    "8. **[Regression with neural networks](#nn_reg)**\n",
    "\t- 8.1 -[Creating training & testing dataset for NN](#nn_t_t)\n",
    "\t- 8.2 -[Encoding numerical categorical features](#nn_enc)\n",
    "\t- 8.3 -[Scaling the data](#nn_scl)\n",
    "\t- 8.4 -[Model building - NN](#nn_model)\n",
    "\t- 8.5 -[NN Model architecture](#nn_arch)\n",
    "\t- 8.6 -[NN Model evaluation](#nn_eval)\n",
    "\t- 8.7 -[NN Model prediction](#nn_pred)\n",
    "\t- 8.8 -[Comparison of RF and NN model](#comp)\n",
    "9. **[Insights & Recommendations](#ins_rec)**"
   ]
  },
  {
   "cell_type": "markdown",
   "metadata": {
    "id": "nPPKKF49N6Gr"
   },
   "source": [
    "### 1. Import Libraries <a id='import_lib'></a>"
   ]
  },
  {
   "cell_type": "code",
   "execution_count": 6,
   "metadata": {
    "id": "W4kwyOLPS1_2"
   },
   "outputs": [],
   "source": [
    "import pandas as pd\n",
    "import numpy as np\n",
    "\n",
    "import io\n",
    "\n",
    "import matplotlib.pyplot as plt\n",
    "import seaborn as sns\n",
    "\n",
    "from sklearn.model_selection import train_test_split\n",
    "from sklearn.preprocessing import StandardScaler\n",
    "from sklearn.metrics import (mean_absolute_percentage_error as mape,\n",
    "                             mean_squared_error as mse, \n",
    "                             mean_absolute_error as mae)\n",
    "\n",
    "from sklearn.ensemble import RandomForestRegressor\n",
    "\n",
    "import tensorflow as tf\n",
    "from tensorflow.keras import Model\n",
    "from tensorflow.keras import Sequential\n",
    "from tensorflow.keras.layers import Dense\n",
    "from tensorflow.keras.optimizers import Adam\n",
    "from tensorflow.keras.losses import (mean_squared_error,mean_absolute_percentage_error,mean_absolute_error)\n",
    "from tensorflow.keras.utils import plot_model\n",
    "\n",
    "\n",
    "import warnings\n",
    "warnings.filterwarnings('ignore')"
   ]
  },
  {
   "cell_type": "markdown",
   "metadata": {
    "id": "7XqEZYEaPEXp"
   },
   "source": [
    "### 2. Reading data & basic checks <a id='Read_Data'></a> "
   ]
  },
  {
   "cell_type": "code",
   "execution_count": 7,
   "metadata": {
    "colab": {
     "base_uri": "https://localhost:8080/",
     "height": 357
    },
    "id": "XdfBVwWYTlqr",
    "outputId": "ed828eb6-c353-4fd5-f561-812f906fe503"
   },
   "outputs": [
    {
     "data": {
      "text/html": [
       "\n",
       "  <div id=\"df-37db2c53-542d-4489-81cb-db85b3707230\">\n",
       "    <div class=\"colab-df-container\">\n",
       "      <div>\n",
       "<style scoped>\n",
       "    .dataframe tbody tr th:only-of-type {\n",
       "        vertical-align: middle;\n",
       "    }\n",
       "\n",
       "    .dataframe tbody tr th {\n",
       "        vertical-align: top;\n",
       "    }\n",
       "\n",
       "    .dataframe thead th {\n",
       "        text-align: right;\n",
       "    }\n",
       "</style>\n",
       "<table border=\"1\" class=\"dataframe\">\n",
       "  <thead>\n",
       "    <tr style=\"text-align: right;\">\n",
       "      <th></th>\n",
       "      <th>market_id</th>\n",
       "      <th>created_at</th>\n",
       "      <th>actual_delivery_time</th>\n",
       "      <th>store_id</th>\n",
       "      <th>store_primary_category</th>\n",
       "      <th>order_protocol</th>\n",
       "      <th>total_items</th>\n",
       "      <th>subtotal</th>\n",
       "      <th>num_distinct_items</th>\n",
       "      <th>min_item_price</th>\n",
       "      <th>max_item_price</th>\n",
       "      <th>total_onshift_partners</th>\n",
       "      <th>total_busy_partners</th>\n",
       "      <th>total_outstanding_orders</th>\n",
       "    </tr>\n",
       "  </thead>\n",
       "  <tbody>\n",
       "    <tr>\n",
       "      <th>0</th>\n",
       "      <td>1.0</td>\n",
       "      <td>2015-02-06 22:24:17</td>\n",
       "      <td>2015-02-06 23:27:16</td>\n",
       "      <td>df263d996281d984952c07998dc54358</td>\n",
       "      <td>american</td>\n",
       "      <td>1.0</td>\n",
       "      <td>4</td>\n",
       "      <td>3441</td>\n",
       "      <td>4</td>\n",
       "      <td>557</td>\n",
       "      <td>1239</td>\n",
       "      <td>33.0</td>\n",
       "      <td>14.0</td>\n",
       "      <td>21.0</td>\n",
       "    </tr>\n",
       "    <tr>\n",
       "      <th>1</th>\n",
       "      <td>2.0</td>\n",
       "      <td>2015-02-10 21:49:25</td>\n",
       "      <td>2015-02-10 22:56:29</td>\n",
       "      <td>f0ade77b43923b38237db569b016ba25</td>\n",
       "      <td>mexican</td>\n",
       "      <td>2.0</td>\n",
       "      <td>1</td>\n",
       "      <td>1900</td>\n",
       "      <td>1</td>\n",
       "      <td>1400</td>\n",
       "      <td>1400</td>\n",
       "      <td>1.0</td>\n",
       "      <td>2.0</td>\n",
       "      <td>2.0</td>\n",
       "    </tr>\n",
       "    <tr>\n",
       "      <th>2</th>\n",
       "      <td>3.0</td>\n",
       "      <td>2015-01-22 20:39:28</td>\n",
       "      <td>2015-01-22 21:09:09</td>\n",
       "      <td>f0ade77b43923b38237db569b016ba25</td>\n",
       "      <td>NaN</td>\n",
       "      <td>1.0</td>\n",
       "      <td>1</td>\n",
       "      <td>1900</td>\n",
       "      <td>1</td>\n",
       "      <td>1900</td>\n",
       "      <td>1900</td>\n",
       "      <td>1.0</td>\n",
       "      <td>0.0</td>\n",
       "      <td>0.0</td>\n",
       "    </tr>\n",
       "    <tr>\n",
       "      <th>3</th>\n",
       "      <td>3.0</td>\n",
       "      <td>2015-02-03 21:21:45</td>\n",
       "      <td>2015-02-03 22:13:00</td>\n",
       "      <td>f0ade77b43923b38237db569b016ba25</td>\n",
       "      <td>NaN</td>\n",
       "      <td>1.0</td>\n",
       "      <td>6</td>\n",
       "      <td>6900</td>\n",
       "      <td>5</td>\n",
       "      <td>600</td>\n",
       "      <td>1800</td>\n",
       "      <td>1.0</td>\n",
       "      <td>1.0</td>\n",
       "      <td>2.0</td>\n",
       "    </tr>\n",
       "    <tr>\n",
       "      <th>4</th>\n",
       "      <td>3.0</td>\n",
       "      <td>2015-02-15 02:40:36</td>\n",
       "      <td>2015-02-15 03:20:26</td>\n",
       "      <td>f0ade77b43923b38237db569b016ba25</td>\n",
       "      <td>NaN</td>\n",
       "      <td>1.0</td>\n",
       "      <td>3</td>\n",
       "      <td>3900</td>\n",
       "      <td>3</td>\n",
       "      <td>1100</td>\n",
       "      <td>1600</td>\n",
       "      <td>6.0</td>\n",
       "      <td>6.0</td>\n",
       "      <td>9.0</td>\n",
       "    </tr>\n",
       "  </tbody>\n",
       "</table>\n",
       "</div>\n",
       "      <button class=\"colab-df-convert\" onclick=\"convertToInteractive('df-37db2c53-542d-4489-81cb-db85b3707230')\"\n",
       "              title=\"Convert this dataframe to an interactive table.\"\n",
       "              style=\"display:none;\">\n",
       "        \n",
       "  <svg xmlns=\"http://www.w3.org/2000/svg\" height=\"24px\"viewBox=\"0 0 24 24\"\n",
       "       width=\"24px\">\n",
       "    <path d=\"M0 0h24v24H0V0z\" fill=\"none\"/>\n",
       "    <path d=\"M18.56 5.44l.94 2.06.94-2.06 2.06-.94-2.06-.94-.94-2.06-.94 2.06-2.06.94zm-11 1L8.5 8.5l.94-2.06 2.06-.94-2.06-.94L8.5 2.5l-.94 2.06-2.06.94zm10 10l.94 2.06.94-2.06 2.06-.94-2.06-.94-.94-2.06-.94 2.06-2.06.94z\"/><path d=\"M17.41 7.96l-1.37-1.37c-.4-.4-.92-.59-1.43-.59-.52 0-1.04.2-1.43.59L10.3 9.45l-7.72 7.72c-.78.78-.78 2.05 0 2.83L4 21.41c.39.39.9.59 1.41.59.51 0 1.02-.2 1.41-.59l7.78-7.78 2.81-2.81c.8-.78.8-2.07 0-2.86zM5.41 20L4 18.59l7.72-7.72 1.47 1.35L5.41 20z\"/>\n",
       "  </svg>\n",
       "      </button>\n",
       "      \n",
       "  <style>\n",
       "    .colab-df-container {\n",
       "      display:flex;\n",
       "      flex-wrap:wrap;\n",
       "      gap: 12px;\n",
       "    }\n",
       "\n",
       "    .colab-df-convert {\n",
       "      background-color: #E8F0FE;\n",
       "      border: none;\n",
       "      border-radius: 50%;\n",
       "      cursor: pointer;\n",
       "      display: none;\n",
       "      fill: #1967D2;\n",
       "      height: 32px;\n",
       "      padding: 0 0 0 0;\n",
       "      width: 32px;\n",
       "    }\n",
       "\n",
       "    .colab-df-convert:hover {\n",
       "      background-color: #E2EBFA;\n",
       "      box-shadow: 0px 1px 2px rgba(60, 64, 67, 0.3), 0px 1px 3px 1px rgba(60, 64, 67, 0.15);\n",
       "      fill: #174EA6;\n",
       "    }\n",
       "\n",
       "    [theme=dark] .colab-df-convert {\n",
       "      background-color: #3B4455;\n",
       "      fill: #D2E3FC;\n",
       "    }\n",
       "\n",
       "    [theme=dark] .colab-df-convert:hover {\n",
       "      background-color: #434B5C;\n",
       "      box-shadow: 0px 1px 3px 1px rgba(0, 0, 0, 0.15);\n",
       "      filter: drop-shadow(0px 1px 2px rgba(0, 0, 0, 0.3));\n",
       "      fill: #FFFFFF;\n",
       "    }\n",
       "  </style>\n",
       "\n",
       "      <script>\n",
       "        const buttonEl =\n",
       "          document.querySelector('#df-37db2c53-542d-4489-81cb-db85b3707230 button.colab-df-convert');\n",
       "        buttonEl.style.display =\n",
       "          google.colab.kernel.accessAllowed ? 'block' : 'none';\n",
       "\n",
       "        async function convertToInteractive(key) {\n",
       "          const element = document.querySelector('#df-37db2c53-542d-4489-81cb-db85b3707230');\n",
       "          const dataTable =\n",
       "            await google.colab.kernel.invokeFunction('convertToInteractive',\n",
       "                                                     [key], {});\n",
       "          if (!dataTable) return;\n",
       "\n",
       "          const docLinkHtml = 'Like what you see? Visit the ' +\n",
       "            '<a target=\"_blank\" href=https://colab.research.google.com/notebooks/data_table.ipynb>data table notebook</a>'\n",
       "            + ' to learn more about interactive tables.';\n",
       "          element.innerHTML = '';\n",
       "          dataTable['output_type'] = 'display_data';\n",
       "          await google.colab.output.renderOutput(dataTable, element);\n",
       "          const docLink = document.createElement('div');\n",
       "          docLink.innerHTML = docLinkHtml;\n",
       "          element.appendChild(docLink);\n",
       "        }\n",
       "      </script>\n",
       "    </div>\n",
       "  </div>\n",
       "  "
      ],
      "text/plain": [
       "   market_id           created_at actual_delivery_time  \\\n",
       "0        1.0  2015-02-06 22:24:17  2015-02-06 23:27:16   \n",
       "1        2.0  2015-02-10 21:49:25  2015-02-10 22:56:29   \n",
       "2        3.0  2015-01-22 20:39:28  2015-01-22 21:09:09   \n",
       "3        3.0  2015-02-03 21:21:45  2015-02-03 22:13:00   \n",
       "4        3.0  2015-02-15 02:40:36  2015-02-15 03:20:26   \n",
       "\n",
       "                           store_id store_primary_category  order_protocol  \\\n",
       "0  df263d996281d984952c07998dc54358               american             1.0   \n",
       "1  f0ade77b43923b38237db569b016ba25                mexican             2.0   \n",
       "2  f0ade77b43923b38237db569b016ba25                    NaN             1.0   \n",
       "3  f0ade77b43923b38237db569b016ba25                    NaN             1.0   \n",
       "4  f0ade77b43923b38237db569b016ba25                    NaN             1.0   \n",
       "\n",
       "   total_items  subtotal  num_distinct_items  min_item_price  max_item_price  \\\n",
       "0            4      3441                   4             557            1239   \n",
       "1            1      1900                   1            1400            1400   \n",
       "2            1      1900                   1            1900            1900   \n",
       "3            6      6900                   5             600            1800   \n",
       "4            3      3900                   3            1100            1600   \n",
       "\n",
       "   total_onshift_partners  total_busy_partners  total_outstanding_orders  \n",
       "0                    33.0                 14.0                      21.0  \n",
       "1                     1.0                  2.0                       2.0  \n",
       "2                     1.0                  0.0                       0.0  \n",
       "3                     1.0                  1.0                       2.0  \n",
       "4                     6.0                  6.0                       9.0  "
      ]
     },
     "execution_count": 7,
     "metadata": {},
     "output_type": "execute_result"
    }
   ],
   "source": [
    "df = pd.read_csv(io.BytesIO(uploaded['JMJ_Porter.csv']))\n",
    "df.head(5)"
   ]
  },
  {
   "cell_type": "code",
   "execution_count": 8,
   "metadata": {
    "colab": {
     "base_uri": "https://localhost:8080/",
     "height": 0
    },
    "id": "p2fqV2pJT7SV",
    "outputId": "5b65988c-5e5d-4a8d-b578-96e43be9f2e0"
   },
   "outputs": [
    {
     "data": {
      "text/plain": [
       "(197428, 14)"
      ]
     },
     "execution_count": 8,
     "metadata": {},
     "output_type": "execute_result"
    }
   ],
   "source": [
    "# Shape\n",
    "\n",
    "df.shape"
   ]
  },
  {
   "cell_type": "code",
   "execution_count": 9,
   "metadata": {
    "colab": {
     "base_uri": "https://localhost:8080/",
     "height": 0
    },
    "id": "qRNWZnX3Pi6_",
    "outputId": "5e49b2f4-2400-4bd6-9645-c7bc31b8f80c"
   },
   "outputs": [
    {
     "name": "stdout",
     "output_type": "stream",
     "text": [
      "<class 'pandas.core.frame.DataFrame'>\n",
      "RangeIndex: 197428 entries, 0 to 197427\n",
      "Data columns (total 14 columns):\n",
      " #   Column                    Non-Null Count   Dtype  \n",
      "---  ------                    --------------   -----  \n",
      " 0   market_id                 196441 non-null  float64\n",
      " 1   created_at                197428 non-null  object \n",
      " 2   actual_delivery_time      197421 non-null  object \n",
      " 3   store_id                  197428 non-null  object \n",
      " 4   store_primary_category    192668 non-null  object \n",
      " 5   order_protocol            196433 non-null  float64\n",
      " 6   total_items               197428 non-null  int64  \n",
      " 7   subtotal                  197428 non-null  int64  \n",
      " 8   num_distinct_items        197428 non-null  int64  \n",
      " 9   min_item_price            197428 non-null  int64  \n",
      " 10  max_item_price            197428 non-null  int64  \n",
      " 11  total_onshift_partners    181166 non-null  float64\n",
      " 12  total_busy_partners       181166 non-null  float64\n",
      " 13  total_outstanding_orders  181166 non-null  float64\n",
      "dtypes: float64(5), int64(5), object(4)\n",
      "memory usage: 21.1+ MB\n"
     ]
    }
   ],
   "source": [
    "# Basic info:\n",
    "\n",
    "df.info()"
   ]
  },
  {
   "cell_type": "code",
   "execution_count": 10,
   "metadata": {
    "colab": {
     "base_uri": "https://localhost:8080/",
     "height": 488
    },
    "id": "I4j_0VA9PxsX",
    "outputId": "e3821091-59c4-4517-a7dc-d8827b2c2e36"
   },
   "outputs": [
    {
     "data": {
      "text/html": [
       "\n",
       "  <div id=\"df-f72aab7e-0154-48b5-ad8d-b4d242191815\">\n",
       "    <div class=\"colab-df-container\">\n",
       "      <div>\n",
       "<style scoped>\n",
       "    .dataframe tbody tr th:only-of-type {\n",
       "        vertical-align: middle;\n",
       "    }\n",
       "\n",
       "    .dataframe tbody tr th {\n",
       "        vertical-align: top;\n",
       "    }\n",
       "\n",
       "    .dataframe thead th {\n",
       "        text-align: right;\n",
       "    }\n",
       "</style>\n",
       "<table border=\"1\" class=\"dataframe\">\n",
       "  <thead>\n",
       "    <tr style=\"text-align: right;\">\n",
       "      <th></th>\n",
       "      <th>Missing Value</th>\n",
       "      <th>Percentage</th>\n",
       "    </tr>\n",
       "  </thead>\n",
       "  <tbody>\n",
       "    <tr>\n",
       "      <th>total_onshift_partners</th>\n",
       "      <td>16262</td>\n",
       "      <td>8.237</td>\n",
       "    </tr>\n",
       "    <tr>\n",
       "      <th>total_busy_partners</th>\n",
       "      <td>16262</td>\n",
       "      <td>8.237</td>\n",
       "    </tr>\n",
       "    <tr>\n",
       "      <th>total_outstanding_orders</th>\n",
       "      <td>16262</td>\n",
       "      <td>8.237</td>\n",
       "    </tr>\n",
       "    <tr>\n",
       "      <th>store_primary_category</th>\n",
       "      <td>4760</td>\n",
       "      <td>2.411</td>\n",
       "    </tr>\n",
       "    <tr>\n",
       "      <th>order_protocol</th>\n",
       "      <td>995</td>\n",
       "      <td>0.504</td>\n",
       "    </tr>\n",
       "    <tr>\n",
       "      <th>market_id</th>\n",
       "      <td>987</td>\n",
       "      <td>0.500</td>\n",
       "    </tr>\n",
       "    <tr>\n",
       "      <th>actual_delivery_time</th>\n",
       "      <td>7</td>\n",
       "      <td>0.004</td>\n",
       "    </tr>\n",
       "    <tr>\n",
       "      <th>created_at</th>\n",
       "      <td>0</td>\n",
       "      <td>0.000</td>\n",
       "    </tr>\n",
       "    <tr>\n",
       "      <th>store_id</th>\n",
       "      <td>0</td>\n",
       "      <td>0.000</td>\n",
       "    </tr>\n",
       "    <tr>\n",
       "      <th>total_items</th>\n",
       "      <td>0</td>\n",
       "      <td>0.000</td>\n",
       "    </tr>\n",
       "    <tr>\n",
       "      <th>subtotal</th>\n",
       "      <td>0</td>\n",
       "      <td>0.000</td>\n",
       "    </tr>\n",
       "    <tr>\n",
       "      <th>num_distinct_items</th>\n",
       "      <td>0</td>\n",
       "      <td>0.000</td>\n",
       "    </tr>\n",
       "    <tr>\n",
       "      <th>min_item_price</th>\n",
       "      <td>0</td>\n",
       "      <td>0.000</td>\n",
       "    </tr>\n",
       "    <tr>\n",
       "      <th>max_item_price</th>\n",
       "      <td>0</td>\n",
       "      <td>0.000</td>\n",
       "    </tr>\n",
       "  </tbody>\n",
       "</table>\n",
       "</div>\n",
       "      <button class=\"colab-df-convert\" onclick=\"convertToInteractive('df-f72aab7e-0154-48b5-ad8d-b4d242191815')\"\n",
       "              title=\"Convert this dataframe to an interactive table.\"\n",
       "              style=\"display:none;\">\n",
       "        \n",
       "  <svg xmlns=\"http://www.w3.org/2000/svg\" height=\"24px\"viewBox=\"0 0 24 24\"\n",
       "       width=\"24px\">\n",
       "    <path d=\"M0 0h24v24H0V0z\" fill=\"none\"/>\n",
       "    <path d=\"M18.56 5.44l.94 2.06.94-2.06 2.06-.94-2.06-.94-.94-2.06-.94 2.06-2.06.94zm-11 1L8.5 8.5l.94-2.06 2.06-.94-2.06-.94L8.5 2.5l-.94 2.06-2.06.94zm10 10l.94 2.06.94-2.06 2.06-.94-2.06-.94-.94-2.06-.94 2.06-2.06.94z\"/><path d=\"M17.41 7.96l-1.37-1.37c-.4-.4-.92-.59-1.43-.59-.52 0-1.04.2-1.43.59L10.3 9.45l-7.72 7.72c-.78.78-.78 2.05 0 2.83L4 21.41c.39.39.9.59 1.41.59.51 0 1.02-.2 1.41-.59l7.78-7.78 2.81-2.81c.8-.78.8-2.07 0-2.86zM5.41 20L4 18.59l7.72-7.72 1.47 1.35L5.41 20z\"/>\n",
       "  </svg>\n",
       "      </button>\n",
       "      \n",
       "  <style>\n",
       "    .colab-df-container {\n",
       "      display:flex;\n",
       "      flex-wrap:wrap;\n",
       "      gap: 12px;\n",
       "    }\n",
       "\n",
       "    .colab-df-convert {\n",
       "      background-color: #E8F0FE;\n",
       "      border: none;\n",
       "      border-radius: 50%;\n",
       "      cursor: pointer;\n",
       "      display: none;\n",
       "      fill: #1967D2;\n",
       "      height: 32px;\n",
       "      padding: 0 0 0 0;\n",
       "      width: 32px;\n",
       "    }\n",
       "\n",
       "    .colab-df-convert:hover {\n",
       "      background-color: #E2EBFA;\n",
       "      box-shadow: 0px 1px 2px rgba(60, 64, 67, 0.3), 0px 1px 3px 1px rgba(60, 64, 67, 0.15);\n",
       "      fill: #174EA6;\n",
       "    }\n",
       "\n",
       "    [theme=dark] .colab-df-convert {\n",
       "      background-color: #3B4455;\n",
       "      fill: #D2E3FC;\n",
       "    }\n",
       "\n",
       "    [theme=dark] .colab-df-convert:hover {\n",
       "      background-color: #434B5C;\n",
       "      box-shadow: 0px 1px 3px 1px rgba(0, 0, 0, 0.15);\n",
       "      filter: drop-shadow(0px 1px 2px rgba(0, 0, 0, 0.3));\n",
       "      fill: #FFFFFF;\n",
       "    }\n",
       "  </style>\n",
       "\n",
       "      <script>\n",
       "        const buttonEl =\n",
       "          document.querySelector('#df-f72aab7e-0154-48b5-ad8d-b4d242191815 button.colab-df-convert');\n",
       "        buttonEl.style.display =\n",
       "          google.colab.kernel.accessAllowed ? 'block' : 'none';\n",
       "\n",
       "        async function convertToInteractive(key) {\n",
       "          const element = document.querySelector('#df-f72aab7e-0154-48b5-ad8d-b4d242191815');\n",
       "          const dataTable =\n",
       "            await google.colab.kernel.invokeFunction('convertToInteractive',\n",
       "                                                     [key], {});\n",
       "          if (!dataTable) return;\n",
       "\n",
       "          const docLinkHtml = 'Like what you see? Visit the ' +\n",
       "            '<a target=\"_blank\" href=https://colab.research.google.com/notebooks/data_table.ipynb>data table notebook</a>'\n",
       "            + ' to learn more about interactive tables.';\n",
       "          element.innerHTML = '';\n",
       "          dataTable['output_type'] = 'display_data';\n",
       "          await google.colab.output.renderOutput(dataTable, element);\n",
       "          const docLink = document.createElement('div');\n",
       "          docLink.innerHTML = docLinkHtml;\n",
       "          element.appendChild(docLink);\n",
       "        }\n",
       "      </script>\n",
       "    </div>\n",
       "  </div>\n",
       "  "
      ],
      "text/plain": [
       "                          Missing Value  Percentage\n",
       "total_onshift_partners            16262       8.237\n",
       "total_busy_partners               16262       8.237\n",
       "total_outstanding_orders          16262       8.237\n",
       "store_primary_category             4760       2.411\n",
       "order_protocol                      995       0.504\n",
       "market_id                           987       0.500\n",
       "actual_delivery_time                  7       0.004\n",
       "created_at                            0       0.000\n",
       "store_id                              0       0.000\n",
       "total_items                           0       0.000\n",
       "subtotal                              0       0.000\n",
       "num_distinct_items                    0       0.000\n",
       "min_item_price                        0       0.000\n",
       "max_item_price                        0       0.000"
      ]
     },
     "execution_count": 10,
     "metadata": {},
     "output_type": "execute_result"
    }
   ],
   "source": [
    "# Calculating missing percent:\n",
    "\n",
    "missing_value = pd.DataFrame({\n",
    "    'Missing Value': df.isnull().sum(),\n",
    "    'Percentage': np.round(((df.isnull().sum() / len(df))*100),3)\n",
    "})\n",
    "\n",
    "missing_value.sort_values(by='Percentage', ascending=False)"
   ]
  },
  {
   "cell_type": "code",
   "execution_count": 11,
   "metadata": {
    "colab": {
     "base_uri": "https://localhost:8080/",
     "height": 0
    },
    "id": "d4ZOBCDiiT0R",
    "outputId": "a3f4cafe-145d-4775-f223-22b833a64844"
   },
   "outputs": [
    {
     "data": {
      "text/plain": [
       "0"
      ]
     },
     "execution_count": 11,
     "metadata": {},
     "output_type": "execute_result"
    }
   ],
   "source": [
    "# Checking duplicate count  \n",
    "\n",
    "df.duplicated().sum()"
   ]
  },
  {
   "cell_type": "code",
   "execution_count": 12,
   "metadata": {
    "colab": {
     "base_uri": "https://localhost:8080/",
     "height": 0
    },
    "id": "BXK3dHCkpusT",
    "outputId": "df7913a5-f4d6-4b3a-b448-1fcc11e85efa"
   },
   "outputs": [
    {
     "data": {
      "text/plain": [
       "market_id                        6\n",
       "created_at                  180985\n",
       "actual_delivery_time        178110\n",
       "store_id                      6743\n",
       "store_primary_category          74\n",
       "order_protocol                   7\n",
       "total_items                     57\n",
       "subtotal                      8368\n",
       "num_distinct_items              20\n",
       "min_item_price                2312\n",
       "max_item_price                2652\n",
       "total_onshift_partners         172\n",
       "total_busy_partners            159\n",
       "total_outstanding_orders       281\n",
       "dtype: int64"
      ]
     },
     "execution_count": 12,
     "metadata": {},
     "output_type": "execute_result"
    }
   ],
   "source": [
    "# Checking unique values of different features\n",
    "\n",
    "df.nunique()"
   ]
  },
  {
   "cell_type": "markdown",
   "metadata": {
    "id": "HpsY8R5ejNBm"
   },
   "source": [
    "### 2.1 Observations from basic checks <a id='obs_basic'></a>\n",
    "<br>\n",
    "1. Large dataset with shape : (197428, 14)\n",
    "<br>\n",
    "2. Datatypes are : int, float and object \n",
    "<br>\n",
    "3. Time related features needs to be converted into datetime feature\n",
    "<br>\n",
    "4. 6 features contains null values and needs to be handled\n",
    "<br>\n",
    "5. There are no duplicate rows in the dataset"
   ]
  },
  {
   "cell_type": "markdown",
   "metadata": {
    "id": "Gddk_KtSr8FD"
   },
   "source": [
    "### 3. Data Preprocessing & Feature Engineering <a id='Data_pre'></a>"
   ]
  },
  {
   "cell_type": "markdown",
   "metadata": {
    "id": "VJ0FLzXDsIsV"
   },
   "source": [
    "**3.1 Creating copy of the dataset** <a id='copy'></a>"
   ]
  },
  {
   "cell_type": "code",
   "execution_count": 13,
   "metadata": {
    "id": "KbRoiwOqsYhM"
   },
   "outputs": [],
   "source": [
    "df_copy=df.copy()\n"
   ]
  },
  {
   "cell_type": "markdown",
   "metadata": {
    "id": "2NHnbmXJOpCc"
   },
   "source": [
    "**3.2 Handling null values - 1** <a id='null_1'></a>"
   ]
  },
  {
   "cell_type": "code",
   "execution_count": 14,
   "metadata": {
    "id": "A2NtxQ_WojyS"
   },
   "outputs": [],
   "source": [
    "# Filling the null values with 'other'\n",
    "df['store_primary_category'].fillna('other',inplace=True)\n",
    "\n",
    "# Filling 'order_protocol'\n",
    "df['order_protocol'].fillna(8.0,inplace=True)\n",
    "\n",
    "# Filling 'market_id'\n",
    "df['market_id'].fillna(7.0,inplace=True)\n",
    "\n",
    "# Removing null values from 'actual_delivery_time'\n",
    "df=df[~df['actual_delivery_time'].isnull()]"
   ]
  },
  {
   "cell_type": "markdown",
   "metadata": {
    "id": "3Z5N_q8P-Uv5"
   },
   "source": [
    "**3.3 Extracting date based featues <a id='Ext_date'></a>**"
   ]
  },
  {
   "cell_type": "code",
   "execution_count": 15,
   "metadata": {
    "id": "YkDr_5ZBZvwO"
   },
   "outputs": [],
   "source": [
    "# Converting into datetime format:\n",
    "df['created_at'] = pd.to_datetime(df['created_at'])\n",
    "df['actual_delivery_time'] = pd.to_datetime(df['actual_delivery_time'])\n",
    "\n",
    "# Extracting hour\n",
    "df['created_hr'] = df['created_at'].dt.hour\n",
    "df['delivery_hr']=df['actual_delivery_time'].dt.hour\n",
    "\n",
    "\n",
    "# Extracting year\n",
    "df['delivery_year'] = df['actual_delivery_time'].dt.year\n",
    "df['created_year'] = df['created_at'].dt.year\n",
    "\n",
    "# Extracting month\n",
    "df['delivery_month'] = df['actual_delivery_time'].dt.month\n",
    "df['created_month'] = df['created_at'].dt.month\n",
    "\n",
    "# Extracting date\n",
    "df['delivery_date']= df['actual_delivery_time'].dt.day\n",
    "df['created_date'] = df['created_at'].dt.day\n",
    "\n",
    "# Extracting dayofweek\n",
    "df['delivery_day']= df['actual_delivery_time'].dt.dayofweek\n",
    "df['created_day'] = df['created_at'].dt.dayofweek"
   ]
  },
  {
   "cell_type": "markdown",
   "metadata": {
    "id": "Guk9Tkt9gCI5"
   },
   "source": [
    "**3.4 Observations from date & time <a id='#Obs_date'></a>**\n",
    "<br>\n",
    "1. The data is available for the year 2015 \n",
    "2. The delivery details for the month of Jan and Feb is present"
   ]
  },
  {
   "cell_type": "markdown",
   "metadata": {
    "id": "Aj1QeDKh_yuL"
   },
   "source": [
    "**3.5 Handling null values - 2 <a id='#null_2'></a>**"
   ]
  },
  {
   "cell_type": "code",
   "execution_count": 16,
   "metadata": {
    "id": "y070vPSef83t"
   },
   "outputs": [],
   "source": [
    "# Handling 'total_busy_partners'\n",
    "\n",
    "dict1 = df.groupby(by='delivery_hr').median()['total_busy_partners'].to_dict()\n",
    "df['total_busy_partners'].fillna(df['delivery_hr'].map(dict1),inplace=True)\n",
    "\n",
    "# Handling 'total_onshift_partners'\n",
    "\n",
    "dict2 = df.groupby(by='delivery_hr').median()['total_onshift_partners'].to_dict()\n",
    "df['total_onshift_partners'].fillna(df['delivery_hr'].map(dict2),inplace=True)\n",
    "\n",
    "# Handling 'total_outstanding_orders'\n",
    "\n",
    "dict3 = df.groupby(by='delivery_hr').median()['total_outstanding_orders'].to_dict()\n",
    "df['total_outstanding_orders'].fillna(df['delivery_hr'].map(dict3),inplace=True)"
   ]
  },
  {
   "cell_type": "code",
   "execution_count": 17,
   "metadata": {
    "colab": {
     "base_uri": "https://localhost:8080/",
     "height": 0
    },
    "id": "1laqJTIxgOEC",
    "outputId": "9cce4e21-f544-42d8-b872-ac18181051c1"
   },
   "outputs": [
    {
     "data": {
      "text/plain": [
       "0"
      ]
     },
     "execution_count": 17,
     "metadata": {},
     "output_type": "execute_result"
    }
   ],
   "source": [
    "# Checking the count of null values\n",
    "\n",
    "df.isna().sum().sum()"
   ]
  },
  {
   "cell_type": "markdown",
   "metadata": {
    "id": "wbbGRlRsBkBo"
   },
   "source": [
    "**3.6 Basic feature engineering <a id='bas_fe'></a>**"
   ]
  },
  {
   "cell_type": "code",
   "execution_count": 18,
   "metadata": {
    "id": "2CPHCpuPgQst"
   },
   "outputs": [],
   "source": [
    "# Replacing day number with name\n",
    "df.replace({'delivery_day':{0:  \"Mon\",\n",
    "                      1:  \"Tue\",\n",
    "                      2:  \"Wed\",\n",
    "                      3:  \"Thu\",\n",
    "                      4:  \"Fri\",\n",
    "                      5:  \"Sat\",\n",
    "                      6:  \"Sun\"}}, inplace=True)\n",
    "\n",
    "# Replacing month number with name\n",
    "df.replace({'delivery_month':{1:  \"Jan\",\n",
    "                      2:  \"Feb\"}}, inplace=True)"
   ]
  },
  {
   "cell_type": "code",
   "execution_count": 19,
   "metadata": {
    "colab": {
     "base_uri": "https://localhost:8080/",
     "height": 175
    },
    "id": "o1DyNSIGgUUV",
    "outputId": "0b518f94-5c3b-4cd3-c9a5-7e25f7075c21"
   },
   "outputs": [
    {
     "data": {
      "text/html": [
       "\n",
       "  <div id=\"df-3e35046c-f9c7-4f48-9049-50b31a6f29a5\">\n",
       "    <div class=\"colab-df-container\">\n",
       "      <div>\n",
       "<style scoped>\n",
       "    .dataframe tbody tr th:only-of-type {\n",
       "        vertical-align: middle;\n",
       "    }\n",
       "\n",
       "    .dataframe tbody tr th {\n",
       "        vertical-align: top;\n",
       "    }\n",
       "\n",
       "    .dataframe thead th {\n",
       "        text-align: right;\n",
       "    }\n",
       "</style>\n",
       "<table border=\"1\" class=\"dataframe\">\n",
       "  <thead>\n",
       "    <tr style=\"text-align: right;\">\n",
       "      <th></th>\n",
       "      <th>actual_delivery_time</th>\n",
       "      <th>delivery_hr</th>\n",
       "      <th>delivery_year</th>\n",
       "      <th>delivery_month</th>\n",
       "      <th>delivery_day</th>\n",
       "    </tr>\n",
       "  </thead>\n",
       "  <tbody>\n",
       "    <tr>\n",
       "      <th>0</th>\n",
       "      <td>2015-02-06 23:27:16</td>\n",
       "      <td>23</td>\n",
       "      <td>2015</td>\n",
       "      <td>Feb</td>\n",
       "      <td>Fri</td>\n",
       "    </tr>\n",
       "    <tr>\n",
       "      <th>1</th>\n",
       "      <td>2015-02-10 22:56:29</td>\n",
       "      <td>22</td>\n",
       "      <td>2015</td>\n",
       "      <td>Feb</td>\n",
       "      <td>Tue</td>\n",
       "    </tr>\n",
       "    <tr>\n",
       "      <th>2</th>\n",
       "      <td>2015-01-22 21:09:09</td>\n",
       "      <td>21</td>\n",
       "      <td>2015</td>\n",
       "      <td>Jan</td>\n",
       "      <td>Thu</td>\n",
       "    </tr>\n",
       "    <tr>\n",
       "      <th>3</th>\n",
       "      <td>2015-02-03 22:13:00</td>\n",
       "      <td>22</td>\n",
       "      <td>2015</td>\n",
       "      <td>Feb</td>\n",
       "      <td>Tue</td>\n",
       "    </tr>\n",
       "  </tbody>\n",
       "</table>\n",
       "</div>\n",
       "      <button class=\"colab-df-convert\" onclick=\"convertToInteractive('df-3e35046c-f9c7-4f48-9049-50b31a6f29a5')\"\n",
       "              title=\"Convert this dataframe to an interactive table.\"\n",
       "              style=\"display:none;\">\n",
       "        \n",
       "  <svg xmlns=\"http://www.w3.org/2000/svg\" height=\"24px\"viewBox=\"0 0 24 24\"\n",
       "       width=\"24px\">\n",
       "    <path d=\"M0 0h24v24H0V0z\" fill=\"none\"/>\n",
       "    <path d=\"M18.56 5.44l.94 2.06.94-2.06 2.06-.94-2.06-.94-.94-2.06-.94 2.06-2.06.94zm-11 1L8.5 8.5l.94-2.06 2.06-.94-2.06-.94L8.5 2.5l-.94 2.06-2.06.94zm10 10l.94 2.06.94-2.06 2.06-.94-2.06-.94-.94-2.06-.94 2.06-2.06.94z\"/><path d=\"M17.41 7.96l-1.37-1.37c-.4-.4-.92-.59-1.43-.59-.52 0-1.04.2-1.43.59L10.3 9.45l-7.72 7.72c-.78.78-.78 2.05 0 2.83L4 21.41c.39.39.9.59 1.41.59.51 0 1.02-.2 1.41-.59l7.78-7.78 2.81-2.81c.8-.78.8-2.07 0-2.86zM5.41 20L4 18.59l7.72-7.72 1.47 1.35L5.41 20z\"/>\n",
       "  </svg>\n",
       "      </button>\n",
       "      \n",
       "  <style>\n",
       "    .colab-df-container {\n",
       "      display:flex;\n",
       "      flex-wrap:wrap;\n",
       "      gap: 12px;\n",
       "    }\n",
       "\n",
       "    .colab-df-convert {\n",
       "      background-color: #E8F0FE;\n",
       "      border: none;\n",
       "      border-radius: 50%;\n",
       "      cursor: pointer;\n",
       "      display: none;\n",
       "      fill: #1967D2;\n",
       "      height: 32px;\n",
       "      padding: 0 0 0 0;\n",
       "      width: 32px;\n",
       "    }\n",
       "\n",
       "    .colab-df-convert:hover {\n",
       "      background-color: #E2EBFA;\n",
       "      box-shadow: 0px 1px 2px rgba(60, 64, 67, 0.3), 0px 1px 3px 1px rgba(60, 64, 67, 0.15);\n",
       "      fill: #174EA6;\n",
       "    }\n",
       "\n",
       "    [theme=dark] .colab-df-convert {\n",
       "      background-color: #3B4455;\n",
       "      fill: #D2E3FC;\n",
       "    }\n",
       "\n",
       "    [theme=dark] .colab-df-convert:hover {\n",
       "      background-color: #434B5C;\n",
       "      box-shadow: 0px 1px 3px 1px rgba(0, 0, 0, 0.15);\n",
       "      filter: drop-shadow(0px 1px 2px rgba(0, 0, 0, 0.3));\n",
       "      fill: #FFFFFF;\n",
       "    }\n",
       "  </style>\n",
       "\n",
       "      <script>\n",
       "        const buttonEl =\n",
       "          document.querySelector('#df-3e35046c-f9c7-4f48-9049-50b31a6f29a5 button.colab-df-convert');\n",
       "        buttonEl.style.display =\n",
       "          google.colab.kernel.accessAllowed ? 'block' : 'none';\n",
       "\n",
       "        async function convertToInteractive(key) {\n",
       "          const element = document.querySelector('#df-3e35046c-f9c7-4f48-9049-50b31a6f29a5');\n",
       "          const dataTable =\n",
       "            await google.colab.kernel.invokeFunction('convertToInteractive',\n",
       "                                                     [key], {});\n",
       "          if (!dataTable) return;\n",
       "\n",
       "          const docLinkHtml = 'Like what you see? Visit the ' +\n",
       "            '<a target=\"_blank\" href=https://colab.research.google.com/notebooks/data_table.ipynb>data table notebook</a>'\n",
       "            + ' to learn more about interactive tables.';\n",
       "          element.innerHTML = '';\n",
       "          dataTable['output_type'] = 'display_data';\n",
       "          await google.colab.output.renderOutput(dataTable, element);\n",
       "          const docLink = document.createElement('div');\n",
       "          docLink.innerHTML = docLinkHtml;\n",
       "          element.appendChild(docLink);\n",
       "        }\n",
       "      </script>\n",
       "    </div>\n",
       "  </div>\n",
       "  "
      ],
      "text/plain": [
       "  actual_delivery_time  delivery_hr  delivery_year delivery_month delivery_day\n",
       "0  2015-02-06 23:27:16           23           2015            Feb          Fri\n",
       "1  2015-02-10 22:56:29           22           2015            Feb          Tue\n",
       "2  2015-01-22 21:09:09           21           2015            Jan          Thu\n",
       "3  2015-02-03 22:13:00           22           2015            Feb          Tue"
      ]
     },
     "execution_count": 19,
     "metadata": {},
     "output_type": "execute_result"
    }
   ],
   "source": [
    "# Checking the extracted features\n",
    "\n",
    "df.loc[:3,['actual_delivery_time','delivery_hr','delivery_year','delivery_month','delivery_day']]"
   ]
  },
  {
   "cell_type": "markdown",
   "metadata": {
    "id": "PQakniyXDSOR"
   },
   "source": [
    "### 4. Data visualization and cleaning <a id='Data_vis'></a>"
   ]
  },
  {
   "cell_type": "markdown",
   "metadata": {
    "id": "dieZ2RdxCM4P"
   },
   "source": [
    "**4.1 Check for outliers - boxplot <a id='outliers'></a>**"
   ]
  },
  {
   "cell_type": "code",
   "execution_count": 20,
   "metadata": {
    "colab": {
     "base_uri": "https://localhost:8080/",
     "height": 869
    },
    "id": "5bxxCI7cgXlF",
    "outputId": "374380d2-bc68-41a8-b927-792f27df6193"
   },
   "outputs": [
    {
     "data": {
      "image/png": "[encoded data removed]",
      "text/plain": [
       "<Figure size 504x864 with 8 Axes>"
      ]
     },
     "metadata": {
      "needs_background": "light"
     },
     "output_type": "display_data"
    }
   ],
   "source": [
    "# Generating boxplot for numerical features\n",
    "\n",
    "num_cols=['total_items','subtotal','num_distinct_items','min_item_price',\n",
    "          'max_item_price','total_onshift_partners','total_busy_partners',\n",
    "          'total_outstanding_orders']\n",
    "\n",
    "plt.figure(figsize=(7,12))\n",
    "sns.set(style='darkgrid')\n",
    "\n",
    "for i, variable in enumerate(num_cols):\n",
    "    plt.subplot(4,2,i+1)\n",
    "    ax=sns.boxplot(data=df,y=df[variable])\n",
    "    \n",
    "    plt.tight_layout()\n",
    "    plt.title(num_cols[i].upper())"
   ]
  },
  {
   "cell_type": "markdown",
   "metadata": {
    "id": "UfSFt-06EDFW"
   },
   "source": [
    "**4.2 Remove outliers <a id='outliers_rm'></a>**"
   ]
  },
  {
   "cell_type": "code",
   "execution_count": 21,
   "metadata": {
    "id": "XbZE5bENgcR1"
   },
   "outputs": [],
   "source": [
    "# Clipping on the basis of percentile:\n",
    "\n",
    "q1=df['total_items'].quantile(0.9999)\n",
    "q2=df['subtotal'].quantile(0.9999)\n",
    "q3=df['min_item_price'].quantile(0.9999)\n",
    "q4=df['max_item_price'].quantile(0.9999)\n",
    "\n",
    "df = df[df['total_items']<q1]\n",
    "df = df[df['subtotal']<q2]\n",
    "df = df[df['min_item_price']<q3]\n",
    "df = df[df['max_item_price']<q4]"
   ]
  },
  {
   "cell_type": "markdown",
   "metadata": {
    "id": "tbWbqPPYEk1_"
   },
   "source": [
    "**4.3 Visualization for various features <a id='data_vis'></a>**"
   ]
  },
  {
   "cell_type": "code",
   "execution_count": 22,
   "metadata": {
    "colab": {
     "base_uri": "https://localhost:8080/",
     "height": 869
    },
    "id": "M51n_zYMgvtk",
    "outputId": "04e5da00-afc5-4092-b2f4-be78d7b343a8"
   },
   "outputs": [
    {
     "data": {
      "image/png": "[encoded data removed]",
      "text/plain": [
       "<Figure size 720x864 with 6 Axes>"
      ]
     },
     "metadata": {},
     "output_type": "display_data"
    }
   ],
   "source": [
    "# Function to gnenrate countplot for categorical features:\n",
    "\n",
    "cat_cols=['market_id','store_primary_category','order_protocol',\n",
    "          'total_items','delivery_hr','delivery_day']\n",
    "\n",
    "plt.figure(figsize=(10,12))\n",
    "sns.set(style='darkgrid')\n",
    "\n",
    "for i, variable in enumerate(cat_cols):\n",
    "    plt.subplot(3,2,i+1)\n",
    "    ax=sns.countplot(x=df[variable], data=df,  \n",
    "                     order=df[variable].value_counts(ascending=False).iloc[:7].index)\n",
    "    \n",
    "    for p in ax.patches:\n",
    "                           percentage = '{:.1f}%'.format(100 * p.get_height()/len(df[variable]))\n",
    "                           x = p.get_x() + p.get_width() / 2 - 0.05\n",
    "                           y = p.get_y() + p.get_height()\n",
    "                           plt.annotate(percentage, (x, y),ha='center')\n",
    "    plt.tight_layout()\n",
    "    plt.title(cat_cols[i].upper()) \n",
    "                             \n",
    "    "
   ]
  },
  {
   "cell_type": "markdown",
   "metadata": {
    "id": "p_4Uh1IMhFhf"
   },
   "source": [
    "**Observation from countplot**\n",
    "<br>\n",
    "1. Market id 2 has the largest proportion of orders\n",
    "2. Mostly, fast food and international cuisine is prefered by the customers\n",
    "3. Order protocol 1,3 and 5 respectively are the most active ones\n",
    "4. Majority of the orders contain less than 5 items\n",
    "5. Surprisingly, large number of orders are placed at early mornings and late night\n",
    "6. Weekends account for busiest days wrto orders placed"
   ]
  },
  {
   "cell_type": "code",
   "execution_count": 23,
   "metadata": {
    "colab": {
     "base_uri": "https://localhost:8080/",
     "height": 355
    },
    "id": "RHf5zYD0g1WT",
    "outputId": "1624b5d8-95d6-4cee-a2fb-3e1c9d0b934b"
   },
   "outputs": [
    {
     "data": {
      "image/png": "[encoded data removed]",
      "text/plain": [
       "<Figure size 648x360 with 1 Axes>"
      ]
     },
     "metadata": {},
     "output_type": "display_data"
    }
   ],
   "source": [
    "# Distribution of partners and pending orders\n",
    "df_eda1 = df.groupby(by='delivery_day').median()[['total_onshift_partners','total_busy_partners',\n",
    "                                                'total_outstanding_orders']].reset_index()\n",
    "\n",
    "X = df_eda1['delivery_day']\n",
    "  \n",
    "ind = np.arange(len(X))\n",
    "width = 0.25\n",
    "\n",
    "plt.figure(figsize=(9,5))\n",
    "\n",
    "plt.bar(ind, df_eda1['total_onshift_partners'], width, label = 'total_onshift_partners')\n",
    "plt.bar(ind+width, df_eda1['total_busy_partners'], width, label = 'total_busy_partners')\n",
    "plt.bar(ind+width*2, df_eda1['total_outstanding_orders'], width, label = 'total_outstanding_orders')\n",
    "  \n",
    "plt.xticks(ind+width, X)\n",
    "plt.xlabel(\"Days\")\n",
    "plt.ylabel(\"Count\")\n",
    "plt.title(\"Distribution of partners & pending orders\")\n",
    "plt.legend()\n",
    "plt.show()"
   ]
  },
  {
   "cell_type": "markdown",
   "metadata": {
    "id": "XXYP7gYthcat"
   },
   "source": [
    "**Observations**\n",
    "<br>\n",
    "1. Total outstanding orders are always greater than count of available partners\n",
    "2. Highest outstanding orders are seen on weekends\n",
    "3. Most of the manpower resources are nearly fully used as count of busy partners and total partners are almost equal\n",
    "4. However, on Fridays there is a difference between manpower requirement and demand"
   ]
  },
  {
   "cell_type": "code",
   "execution_count": 24,
   "metadata": {
    "colab": {
     "base_uri": "https://localhost:8080/",
     "height": 362
    },
    "id": "V4chxIn7hfA2",
    "outputId": "3228d3dc-c53f-4836-d2a2-e02738f1d362"
   },
   "outputs": [
    {
     "data": {
      "image/png": "[encoded data removed]",
      "text/plain": [
       "<Figure size 648x360 with 1 Axes>"
      ]
     },
     "metadata": {},
     "output_type": "display_data"
    }
   ],
   "source": [
    "# Hourly pattern of orders & partner availability:\n",
    "\n",
    "df_eda3 = df.groupby(by='delivery_hr').median()[['total_onshift_partners','total_busy_partners',\n",
    "                                                'total_outstanding_orders']].reset_index()\n",
    "\n",
    "plt.figure(figsize=(9,5))\n",
    "\n",
    "sns.lineplot(data=df_eda3,x=df_eda3['delivery_hr'],y=df_eda3['total_onshift_partners'],\n",
    "             color='red', label='total_onshift_partners')\n",
    "\n",
    "sns.lineplot(data=df_eda3,x=df_eda3['delivery_hr'],y=df_eda3['total_busy_partners'],\n",
    "             color='green', label='total_busy_partners')\n",
    "\n",
    "sns.lineplot(data=df_eda3,x=df_eda3['delivery_hr'],y=df_eda3['total_outstanding_orders'],\n",
    "             color='blue', label='total_outstanding_orders')\n",
    "\n",
    "plt.legend(prop={'size':12})\n",
    "plt.title(\"Hourly pattern of partner availability & order count\", fontsize = 20)\n",
    "plt.xlabel(\"Hour\", fontsize = 15)\n",
    "plt.ylabel(\"Count\", fontsize = 15)\n",
    "plt.show()"
   ]
  },
  {
   "cell_type": "markdown",
   "metadata": {
    "id": "jL80BLq1hnaq"
   },
   "source": [
    "**Observation**\n",
    "<br>\n",
    "1. Highest outstanding orders can be observed during 0-5 hours and post 20 hour (early morning and late night)\n",
    "2. In these hours, there is lack of manpower\n",
    "3. During remaining hours supply and demand of partners are met correctly\n"
   ]
  },
  {
   "cell_type": "code",
   "execution_count": 25,
   "metadata": {
    "colab": {
     "base_uri": "https://localhost:8080/",
     "height": 342
    },
    "id": "bNqJUFAVhi6-",
    "outputId": "90a992bb-3f6d-4c42-ca34-91ab94ab9db4"
   },
   "outputs": [
    {
     "data": {
      "image/png": "[encoded data removed]",
      "text/plain": [
       "<Figure size 504x360 with 1 Axes>"
      ]
     },
     "metadata": {},
     "output_type": "display_data"
    }
   ],
   "source": [
    "# Median purchase amount per day:\n",
    "\n",
    "# Grouping on the basis of day and subtotal\n",
    "df_eda2 = df.groupby(by='delivery_day').median()['subtotal'].reset_index()\n",
    "\n",
    "# Plotting\n",
    "plt.figure(figsize=(7,5))\n",
    "sns.barplot(data=df_eda2, x='delivery_day', y='subtotal')\n",
    "\n",
    "plt.xlabel('Day')\n",
    "plt.ylabel('Median_Purchase_Amount')\n",
    "plt.show()"
   ]
  },
  {
   "cell_type": "markdown",
   "metadata": {
    "id": "Ks3DCyKvh4KI"
   },
   "source": [
    "### 5. Creating target feature (time taken for delivery) <a id='target'></a>"
   ]
  },
  {
   "cell_type": "code",
   "execution_count": 26,
   "metadata": {
    "id": "MQaY_A22huKt"
   },
   "outputs": [],
   "source": [
    "df['time_taken_min']=df['actual_delivery_time']-df['created_at']\n",
    "df['time_taken_min']=df['time_taken_min'].astype('timedelta64[m]')"
   ]
  },
  {
   "cell_type": "code",
   "execution_count": 27,
   "metadata": {
    "colab": {
     "base_uri": "https://localhost:8080/",
     "height": 365
    },
    "id": "C16dcDz4h8ou",
    "outputId": "7ebbb891-e1b2-4933-fee9-877be1e878ed"
   },
   "outputs": [
    {
     "data": {
      "image/png": "[encoded data removed]",
      "text/plain": [
       "<Figure size 360x360 with 1 Axes>"
      ]
     },
     "metadata": {},
     "output_type": "display_data"
    }
   ],
   "source": [
    "# Distplot\n",
    "\n",
    "sns.displot(df['time_taken_min'].sample(5000))\n",
    "plt.show()"
   ]
  },
  {
   "cell_type": "markdown",
   "metadata": {
    "id": "dcZ4zkhaiFIa"
   },
   "source": [
    "**Observation**\n",
    "<br>\n",
    "- Large value of delivery time can be observed\n",
    "- Such outliers needs to be handled"
   ]
  },
  {
   "cell_type": "code",
   "execution_count": 28,
   "metadata": {
    "colab": {
     "base_uri": "https://localhost:8080/",
     "height": 0
    },
    "id": "ZViBfBNAh_om",
    "outputId": "affbfd68-6fe6-416a-b221-8345102a9d63"
   },
   "outputs": [
    {
     "data": {
      "text/plain": [
       "count    197347.000000\n",
       "mean         47.974725\n",
       "std         320.552847\n",
       "min           1.000000\n",
       "25%          35.000000\n",
       "50%          44.000000\n",
       "75%          56.000000\n",
       "max      141947.000000\n",
       "Name: time_taken_min, dtype: float64"
      ]
     },
     "execution_count": 28,
     "metadata": {},
     "output_type": "execute_result"
    }
   ],
   "source": [
    "df['time_taken_min'].describe()"
   ]
  },
  {
   "cell_type": "markdown",
   "metadata": {
    "id": "RCSZTUUpiOHT"
   },
   "source": [
    "**5.1 Removing outliers - 'time_taken_min' <a id='outliers_target'></a>**"
   ]
  },
  {
   "cell_type": "code",
   "execution_count": 29,
   "metadata": {
    "id": "06ZhhFgsiJnu"
   },
   "outputs": [],
   "source": [
    "q5=df['time_taken_min'].quantile(0.9999)\n",
    "df = df[df['time_taken_min']<q5]"
   ]
  },
  {
   "cell_type": "markdown",
   "metadata": {
    "id": "1-xMM275HQV2"
   },
   "source": [
    "**5.2 Visualization based on delivery time <a id='del_vis'></a>**"
   ]
  },
  {
   "cell_type": "code",
   "execution_count": 30,
   "metadata": {
    "colab": {
     "base_uri": "https://localhost:8080/",
     "height": 355
    },
    "id": "6g3nESmWiTw1",
    "outputId": "ffe25430-36ff-4f39-c393-d7a28a7344d2"
   },
   "outputs": [
    {
     "data": {
      "image/png": "[encoded data removed]",
      "text/plain": [
       "<Figure size 576x360 with 1 Axes>"
      ]
     },
     "metadata": {},
     "output_type": "display_data"
    }
   ],
   "source": [
    "# Median delivery time per day:\n",
    "\n",
    "# Grouping on the basis of day and delivery time\n",
    "df_eda4 = df.groupby(by='delivery_day').median()['time_taken_min'].reset_index()\n",
    "\n",
    "# Plotting\n",
    "plt.figure(figsize=(8,5))\n",
    "sns.barplot(data=df_eda4, x='delivery_day', y='time_taken_min')\n",
    "plt.axhline(y=df['time_taken_min'].median(), color='r', \n",
    "            linestyle='--',linewidth=3, label='median delivery time')\n",
    "\n",
    "plt.xlabel('Day')\n",
    "plt.ylabel('Median_time_taken(min)')\n",
    "plt.title('Daily analysis of delivery time')\n",
    "plt.legend()\n",
    "plt.show()"
   ]
  },
  {
   "cell_type": "markdown",
   "metadata": {
    "id": "i-ZdK55sidCB"
   },
   "source": [
    "**Observation**\n",
    "<br>\n",
    "1. During weekends, median delivery time is higher than the median value\n",
    "2. Weekdays have below median delivery time requirement\n",
    "3. Shortest delivery period is observed on Wednesday"
   ]
  },
  {
   "cell_type": "code",
   "execution_count": 31,
   "metadata": {
    "colab": {
     "base_uri": "https://localhost:8080/",
     "height": 359
    },
    "id": "A4hvMjvWiXUE",
    "outputId": "17af309b-2220-4b77-9f36-34139270e0b9"
   },
   "outputs": [
    {
     "data": {
      "image/png": "[encoded data removed]",
      "text/plain": [
       "<Figure size 648x360 with 1 Axes>"
      ]
     },
     "metadata": {},
     "output_type": "display_data"
    }
   ],
   "source": [
    "# Median delivery time per hour:\n",
    "\n",
    "# Grouping on the basis of hour and delivery time\n",
    "df_eda5 = df.groupby(by='delivery_hr').median()['time_taken_min'].reset_index()\n",
    "\n",
    "# Plotting\n",
    "plt.figure(figsize=(9,5))\n",
    "\n",
    "sns.lineplot(data=df_eda5,x=df_eda5['delivery_hr'],y=df_eda5['time_taken_min'],\n",
    "             color='red', label='time_taken_min')\n",
    "\n",
    "plt.axhline(y=df['time_taken_min'].median(), color='b', \n",
    "            linestyle='--',linewidth=3, label='median delivery time')\n",
    "\n",
    "plt.legend(prop={'size':12})\n",
    "plt.title(\"Hourly pattern of delivery time variation\", fontsize = 15)\n",
    "plt.xlabel(\"Hour\", fontsize = 15)\n",
    "plt.ylabel(\"time_taken_min\", fontsize = 15)\n",
    "plt.show()"
   ]
  },
  {
   "cell_type": "markdown",
   "metadata": {
    "id": "2R1XINe0ipP5"
   },
   "source": [
    "**Observation**\n",
    "<br>\n",
    "1. In the early morning, i.e before 5AM, delivery time is little above the median value\n",
    "2. Post 5AM, till the afternoon, delivery time is very high\n",
    "3. Evening orders has the shortest delivery period"
   ]
  },
  {
   "cell_type": "code",
   "execution_count": 32,
   "metadata": {
    "colab": {
     "base_uri": "https://localhost:8080/",
     "height": 425
    },
    "id": "EiBeFIB3Mdxb",
    "outputId": "de101d62-d8da-4e8b-8ecd-1a961d318cab"
   },
   "outputs": [
    {
     "data": {
      "image/png": "[encoded data removed]",
      "text/plain": [
       "<Figure size 864x360 with 1 Axes>"
      ]
     },
     "metadata": {},
     "output_type": "display_data"
    }
   ],
   "source": [
    "# Fastest delivered items\n",
    "\n",
    "df_eda6 = df.groupby(by='store_primary_category').median()['time_taken_min'].reset_index().sort_values(by='time_taken_min',\n",
    "                                                                                                       ascending=True)\n",
    "plt.figure(figsize=(12,5))\n",
    "\n",
    "sns.barplot(data=df_eda6.head(15), x='store_primary_category', y='time_taken_min')\n",
    "plt.axhline(y=df['time_taken_min'].median(), color='r', \n",
    "            linestyle='--',linewidth=3, label='median delivery time')\n",
    "\n",
    "plt.xlabel('cusine')\n",
    "plt.ylabel('Median_time_taken(min)')\n",
    "plt.title('Per cuisine delivery time')\n",
    "plt.xticks(rotation=45)\n",
    "plt.legend()\n",
    "plt.show()"
   ]
  },
  {
   "cell_type": "markdown",
   "metadata": {
    "id": "aTOaslSSixq7"
   },
   "source": [
    "### 6. Splitting data <a id='data_split'></a>"
   ]
  },
  {
   "cell_type": "code",
   "execution_count": 33,
   "metadata": {
    "id": "qEa-H4gGii5V"
   },
   "outputs": [],
   "source": [
    "Y=df['time_taken_min']\n",
    "X=df[df.columns.drop('time_taken_min')]\n"
   ]
  },
  {
   "cell_type": "code",
   "execution_count": 34,
   "metadata": {
    "id": "Q_3oPLrdi2hN"
   },
   "outputs": [],
   "source": [
    "# Replacing day name with number\n",
    "X.replace({'delivery_day':{\"Mon\" :0,\n",
    "                           \"Tue\" :1,\n",
    "                           \"Wed\":2,\n",
    "                           \"Thu\":3,\n",
    "                           \"Fri\":4,\n",
    "                           \"Sat\":5,\n",
    "                           \"Sun\":6  }}, inplace=True)\n",
    "\n",
    "# Replacing month name with number\n",
    "X.replace({'delivery_month':{\"Jan\" : 1,\n",
    "                             \"Feb\" : 2}}, inplace=True)"
   ]
  },
  {
   "cell_type": "code",
   "execution_count": 35,
   "metadata": {
    "id": "d8yiQJvmi5sW"
   },
   "outputs": [],
   "source": [
    "# Dropping date based columns\n",
    "X.drop(columns=['created_at','actual_delivery_time'],inplace=True)"
   ]
  },
  {
   "cell_type": "markdown",
   "metadata": {
    "id": "Hl8A-eE4jBqO"
   },
   "source": [
    "**6.1 Test-Train split <a id='t_t_split'></a>**"
   ]
  },
  {
   "cell_type": "code",
   "execution_count": 36,
   "metadata": {
    "id": "8pazxhRNi9ee"
   },
   "outputs": [],
   "source": [
    "X_train, X_test, Y_train, Y_test = train_test_split(X, Y, test_size=0.33,  random_state=33)"
   ]
  },
  {
   "cell_type": "code",
   "execution_count": 37,
   "metadata": {
    "colab": {
     "base_uri": "https://localhost:8080/",
     "height": 0
    },
    "id": "khzRaQKvjGq2",
    "outputId": "2dd0c847-3fb2-44ac-e3ea-0d4ad6497c51"
   },
   "outputs": [
    {
     "name": "stdout",
     "output_type": "stream",
     "text": [
      "Sizes of the set created are: \n",
      "*Training set:132209\n",
      "*Testing set:65118\n"
     ]
    }
   ],
   "source": [
    "print( f\"Sizes of the set created are: \\n*Training set:{X_train.shape[0]}\\n*Testing set:{X_test.shape[0]}\")"
   ]
  },
  {
   "cell_type": "markdown",
   "metadata": {
    "id": "V8_9CTl7KBNW"
   },
   "source": [
    "**6.2 Frequency encoding non-numerical features(Training & Testing) <a id='freq_enc'></a>**"
   ]
  },
  {
   "cell_type": "markdown",
   "metadata": {
    "id": "WKG97BUejkuC"
   },
   "source": [
    "**Frequency encoding non-numerical features(Training)**"
   ]
  },
  {
   "cell_type": "code",
   "execution_count": 38,
   "metadata": {
    "id": "9xx1dZxyjJWG"
   },
   "outputs": [],
   "source": [
    "# encoding 'store_id'\n",
    "store_id_enc = X_train.groupby(by='store_id').size()/len(X_train)\n",
    "X_train['store_id'] = X_train['store_id'].apply(lambda x:store_id_enc[x])\n",
    "\n",
    "# encoding 'store_primary_category'\n",
    "store_primary_category_enc = X_train.groupby(by='store_primary_category').size()/len(X_train)\n",
    "X_train['store_primary_category'] = X_train['store_primary_category'].apply(lambda x:store_primary_category_enc[x])"
   ]
  },
  {
   "cell_type": "markdown",
   "metadata": {
    "id": "2hKC56-VjweR"
   },
   "source": [
    "**Frequency encoding non-numerical features(Testing)**"
   ]
  },
  {
   "cell_type": "code",
   "execution_count": 39,
   "metadata": {
    "id": "yNZBrHAXjo6u"
   },
   "outputs": [],
   "source": [
    "# encoding 'store_id'\n",
    "store_id_enc = X_test.groupby(by='store_id').size()/len(X_test)\n",
    "X_test['store_id'] = X_test['store_id'].apply(lambda x:store_id_enc[x])\n",
    "\n",
    "# encoding 'store_primary_category'\n",
    "store_primary_category_enc = X_test.groupby(by='store_primary_category').size()/len(X_test)\n",
    "X_test['store_primary_category'] = X_test['store_primary_category'].apply(lambda x:store_primary_category_enc[x])"
   ]
  },
  {
   "cell_type": "markdown",
   "metadata": {
    "id": "qwhtOWzJj5eI"
   },
   "source": [
    "### 7. Model building - Random Forest <a id='mod_rf'></a>"
   ]
  },
  {
   "cell_type": "code",
   "execution_count": 40,
   "metadata": {
    "id": "m9KsDTLwj1le"
   },
   "outputs": [],
   "source": [
    "rf = RandomForestRegressor(random_state=3, n_jobs=-1)"
   ]
  },
  {
   "cell_type": "code",
   "execution_count": 41,
   "metadata": {
    "colab": {
     "base_uri": "https://localhost:8080/",
     "height": 0
    },
    "id": "ZJOkoQ9Fj9JW",
    "outputId": "be8c3534-49d5-466f-a596-aa060508b767"
   },
   "outputs": [
    {
     "data": {
      "text/plain": [
       "RandomForestRegressor(n_jobs=-1, random_state=3)"
      ]
     },
     "execution_count": 41,
     "metadata": {},
     "output_type": "execute_result"
    }
   ],
   "source": [
    "rf.fit(X_train,Y_train)"
   ]
  },
  {
   "cell_type": "code",
   "execution_count": 42,
   "metadata": {
    "id": "PRSkhNF4kB0-"
   },
   "outputs": [],
   "source": [
    "# Predicting the Test set results\n",
    "Y_pred = rf.predict(X_test)"
   ]
  },
  {
   "cell_type": "markdown",
   "metadata": {
    "id": "lHoO8JTSLIRk"
   },
   "source": [
    "**7.1 Evaluation of Random Forest model <a id='rf_eval'></a>**"
   ]
  },
  {
   "cell_type": "code",
   "execution_count": 59,
   "metadata": {
    "colab": {
     "base_uri": "https://localhost:8080/",
     "height": 206
    },
    "id": "mY3HsgVskV0D",
    "outputId": "c67e70c5-7bdc-4b9e-8909-11246d8243f3"
   },
   "outputs": [
    {
     "data": {
      "text/html": [
       "\n",
       "  <div id=\"df-a6e970ac-ccc4-4ed8-ac5b-ebc4773d96ee\">\n",
       "    <div class=\"colab-df-container\">\n",
       "      <div>\n",
       "<style scoped>\n",
       "    .dataframe tbody tr th:only-of-type {\n",
       "        vertical-align: middle;\n",
       "    }\n",
       "\n",
       "    .dataframe tbody tr th {\n",
       "        vertical-align: top;\n",
       "    }\n",
       "\n",
       "    .dataframe thead th {\n",
       "        text-align: right;\n",
       "    }\n",
       "</style>\n",
       "<table border=\"1\" class=\"dataframe\">\n",
       "  <thead>\n",
       "    <tr style=\"text-align: right;\">\n",
       "      <th></th>\n",
       "      <th>Value</th>\n",
       "    </tr>\n",
       "    <tr>\n",
       "      <th>Metric</th>\n",
       "      <th></th>\n",
       "    </tr>\n",
       "  </thead>\n",
       "  <tbody>\n",
       "    <tr>\n",
       "      <th>MSE</th>\n",
       "      <td>151.831165</td>\n",
       "    </tr>\n",
       "    <tr>\n",
       "      <th>RMSE</th>\n",
       "      <td>12.321979</td>\n",
       "    </tr>\n",
       "    <tr>\n",
       "      <th>MAPE</th>\n",
       "      <td>0.224188</td>\n",
       "    </tr>\n",
       "    <tr>\n",
       "      <th>MAE</th>\n",
       "      <td>9.427806</td>\n",
       "    </tr>\n",
       "  </tbody>\n",
       "</table>\n",
       "</div>\n",
       "      <button class=\"colab-df-convert\" onclick=\"convertToInteractive('df-a6e970ac-ccc4-4ed8-ac5b-ebc4773d96ee')\"\n",
       "              title=\"Convert this dataframe to an interactive table.\"\n",
       "              style=\"display:none;\">\n",
       "        \n",
       "  <svg xmlns=\"http://www.w3.org/2000/svg\" height=\"24px\"viewBox=\"0 0 24 24\"\n",
       "       width=\"24px\">\n",
       "    <path d=\"M0 0h24v24H0V0z\" fill=\"none\"/>\n",
       "    <path d=\"M18.56 5.44l.94 2.06.94-2.06 2.06-.94-2.06-.94-.94-2.06-.94 2.06-2.06.94zm-11 1L8.5 8.5l.94-2.06 2.06-.94-2.06-.94L8.5 2.5l-.94 2.06-2.06.94zm10 10l.94 2.06.94-2.06 2.06-.94-2.06-.94-.94-2.06-.94 2.06-2.06.94z\"/><path d=\"M17.41 7.96l-1.37-1.37c-.4-.4-.92-.59-1.43-.59-.52 0-1.04.2-1.43.59L10.3 9.45l-7.72 7.72c-.78.78-.78 2.05 0 2.83L4 21.41c.39.39.9.59 1.41.59.51 0 1.02-.2 1.41-.59l7.78-7.78 2.81-2.81c.8-.78.8-2.07 0-2.86zM5.41 20L4 18.59l7.72-7.72 1.47 1.35L5.41 20z\"/>\n",
       "  </svg>\n",
       "      </button>\n",
       "      \n",
       "  <style>\n",
       "    .colab-df-container {\n",
       "      display:flex;\n",
       "      flex-wrap:wrap;\n",
       "      gap: 12px;\n",
       "    }\n",
       "\n",
       "    .colab-df-convert {\n",
       "      background-color: #E8F0FE;\n",
       "      border: none;\n",
       "      border-radius: 50%;\n",
       "      cursor: pointer;\n",
       "      display: none;\n",
       "      fill: #1967D2;\n",
       "      height: 32px;\n",
       "      padding: 0 0 0 0;\n",
       "      width: 32px;\n",
       "    }\n",
       "\n",
       "    .colab-df-convert:hover {\n",
       "      background-color: #E2EBFA;\n",
       "      box-shadow: 0px 1px 2px rgba(60, 64, 67, 0.3), 0px 1px 3px 1px rgba(60, 64, 67, 0.15);\n",
       "      fill: #174EA6;\n",
       "    }\n",
       "\n",
       "    [theme=dark] .colab-df-convert {\n",
       "      background-color: #3B4455;\n",
       "      fill: #D2E3FC;\n",
       "    }\n",
       "\n",
       "    [theme=dark] .colab-df-convert:hover {\n",
       "      background-color: #434B5C;\n",
       "      box-shadow: 0px 1px 3px 1px rgba(0, 0, 0, 0.15);\n",
       "      filter: drop-shadow(0px 1px 2px rgba(0, 0, 0, 0.3));\n",
       "      fill: #FFFFFF;\n",
       "    }\n",
       "  </style>\n",
       "\n",
       "      <script>\n",
       "        const buttonEl =\n",
       "          document.querySelector('#df-a6e970ac-ccc4-4ed8-ac5b-ebc4773d96ee button.colab-df-convert');\n",
       "        buttonEl.style.display =\n",
       "          google.colab.kernel.accessAllowed ? 'block' : 'none';\n",
       "\n",
       "        async function convertToInteractive(key) {\n",
       "          const element = document.querySelector('#df-a6e970ac-ccc4-4ed8-ac5b-ebc4773d96ee');\n",
       "          const dataTable =\n",
       "            await google.colab.kernel.invokeFunction('convertToInteractive',\n",
       "                                                     [key], {});\n",
       "          if (!dataTable) return;\n",
       "\n",
       "          const docLinkHtml = 'Like what you see? Visit the ' +\n",
       "            '<a target=\"_blank\" href=https://colab.research.google.com/notebooks/data_table.ipynb>data table notebook</a>'\n",
       "            + ' to learn more about interactive tables.';\n",
       "          element.innerHTML = '';\n",
       "          dataTable['output_type'] = 'display_data';\n",
       "          await google.colab.output.renderOutput(dataTable, element);\n",
       "          const docLink = document.createElement('div');\n",
       "          docLink.innerHTML = docLinkHtml;\n",
       "          element.appendChild(docLink);\n",
       "        }\n",
       "      </script>\n",
       "    </div>\n",
       "  </div>\n",
       "  "
      ],
      "text/plain": [
       "             Value\n",
       "Metric            \n",
       "MSE     151.831165\n",
       "RMSE     12.321979\n",
       "MAPE      0.224188\n",
       "MAE       9.427806"
      ]
     },
     "execution_count": 59,
     "metadata": {},
     "output_type": "execute_result"
    }
   ],
   "source": [
    "# Calculating MSE\n",
    "mse_rf = mse(Y_test, Y_pred) \n",
    "\n",
    "# Calculating RMSE\n",
    "rmse_rf = np.sqrt(mse(Y_test, Y_pred))\n",
    "\n",
    "# Calculating MAPE\n",
    "mape_rf = mape(Y_test, Y_pred)\n",
    "\n",
    "# Calculating MAE\n",
    "mae_rf = mae(Y_test, Y_pred)\n",
    "\n",
    "# Preparing the dataframe\n",
    "rf_metrics = pd.DataFrame({'Metric':['MSE','RMSE','MAPE','MAE'],\n",
    "                             'Value':[mse_rf,rmse_rf,mape_rf,mae_rf]})\n",
    "rf_metrics.set_index('Metric',inplace=True)                    \n",
    "rf_metrics"
   ]
  },
  {
   "cell_type": "markdown",
   "metadata": {
    "id": "_Se4IW-1MITX"
   },
   "source": [
    "### 8. Regression with neural networks <a id='nn_reg'></a>"
   ]
  },
  {
   "cell_type": "markdown",
   "metadata": {
    "id": "vOOjRtwAMzCv"
   },
   "source": [
    "**8.1 Creating training & testing dataset for NN <a id='nn_t_t'></a>**"
   ]
  },
  {
   "cell_type": "code",
   "execution_count": 46,
   "metadata": {
    "id": "vkc1F0y4MP3V"
   },
   "outputs": [],
   "source": [
    "X_train_nn = X_train.copy()\n",
    "X_test_nn = X_test.copy()\n",
    "\n",
    "Y_train_nn = Y_train.copy()\n",
    "Y_test_nn = Y_test.copy()"
   ]
  },
  {
   "cell_type": "markdown",
   "metadata": {
    "id": "5sc4LnMhNC0r"
   },
   "source": [
    "**8.2 Encoding numerical categorical features <a id='nn_enc'></a>**"
   ]
  },
  {
   "cell_type": "markdown",
   "metadata": {
    "id": "JZtQp-7zNJCN"
   },
   "source": [
    "**Frequency encoding for numerical categorical features(train set)**"
   ]
  },
  {
   "cell_type": "code",
   "execution_count": 47,
   "metadata": {
    "id": "GBYZxmsqM9Gj"
   },
   "outputs": [],
   "source": [
    "# encoding 'market_id'\n",
    "market_id_enc = X_train_nn.groupby(by='market_id').size()/len(X_train_nn)\n",
    "X_train_nn['market_id'] = X_train_nn['market_id'].apply(lambda x:market_id_enc[x])\n",
    "\n",
    "# encoding 'order_protocol'\n",
    "order_protocol_enc = X_train_nn.groupby(by='order_protocol').size()/len(X_train_nn)\n",
    "X_train_nn['order_protocol'] = X_train_nn['order_protocol'].apply(lambda x:order_protocol_enc[x])\n",
    "\n",
    "# encoding 'created_hr'\n",
    "created_hr_enc = X_train_nn.groupby(by='created_hr').size()/len(X_train_nn)\n",
    "X_train_nn['created_hr'] = X_train_nn['created_hr'].apply(lambda x:created_hr_enc[x])\n",
    "\n",
    "# encoding 'delivery_hr'\n",
    "delivery_hr_enc = X_train_nn.groupby(by='delivery_hr').size()/len(X_train_nn)\n",
    "X_train_nn['delivery_hr'] = X_train_nn['delivery_hr'].apply(lambda x:delivery_hr_enc[x])\n",
    "\n",
    "# encoding 'delivery_year'\n",
    "delivery_year_enc = X_train_nn.groupby(by='delivery_year').size()/len(X_train_nn)\n",
    "X_train_nn['delivery_year'] = X_train_nn['delivery_year'].apply(lambda x:delivery_year_enc[x])\n",
    "\n",
    "# encoding 'created_year'\n",
    "created_year_enc = X_train_nn.groupby(by='created_year').size()/len(X_train_nn)\n",
    "X_train_nn['created_year'] = X_train_nn['created_year'].apply(lambda x:created_year_enc[x])\n",
    "\n",
    "# encoding 'delivery_month'\n",
    "delivery_month_enc = X_train_nn.groupby(by='delivery_month').size()/len(X_train_nn)\n",
    "X_train_nn['delivery_month'] = X_train_nn['delivery_month'].apply(lambda x:delivery_month_enc[x])\n",
    "\n",
    "# encoding 'created_month'\n",
    "created_month_enc = X_train_nn.groupby(by='created_month').size()/len(X_train_nn)\n",
    "X_train_nn['created_month'] = X_train_nn['created_month'].apply(lambda x:created_month_enc[x])\n",
    "\n",
    "# encoding 'delivery_date'\n",
    "delivery_date_enc = X_train_nn.groupby(by='delivery_date').size()/len(X_train_nn)\n",
    "X_train_nn['delivery_date'] = X_train_nn['delivery_date'].apply(lambda x:delivery_date_enc[x])\n",
    "\n",
    "# encoding 'created_date'\n",
    "created_date_enc = X_train_nn.groupby(by='created_date').size()/len(X_train_nn)\n",
    "X_train_nn['created_date'] = X_train_nn['created_date'].apply(lambda x:created_date_enc[x])\n",
    "\n",
    "# encoding 'delivery_day'\n",
    "delivery_day_enc = X_train_nn.groupby(by='delivery_day').size()/len(X_train_nn)\n",
    "X_train_nn['delivery_day'] = X_train_nn['delivery_day'].apply(lambda x:delivery_day_enc[x])\n",
    "\n",
    "# encoding 'created_day'\n",
    "created_day_enc = X_train_nn.groupby(by='created_day').size()/len(X_train_nn)\n",
    "X_train_nn['created_day'] = X_train_nn['created_day'].apply(lambda x:created_day_enc[x])\n",
    "\n"
   ]
  },
  {
   "cell_type": "markdown",
   "metadata": {
    "id": "p5XJ6fWHNVsx"
   },
   "source": [
    "**Frequency encoding for numerical categorical features(test set)**"
   ]
  },
  {
   "cell_type": "code",
   "execution_count": 48,
   "metadata": {
    "id": "jcceLJufNPl_"
   },
   "outputs": [],
   "source": [
    "# encoding 'market_id'\n",
    "market_id_enc = X_test_nn.groupby(by='market_id').size()/len(X_test_nn)\n",
    "X_test_nn['market_id'] = X_test_nn['market_id'].apply(lambda x:market_id_enc[x])\n",
    "\n",
    "# encoding 'order_protocol'\n",
    "order_protocol_enc = X_test_nn.groupby(by='order_protocol').size()/len(X_test_nn)\n",
    "X_test_nn['order_protocol'] = X_test_nn['order_protocol'].apply(lambda x:order_protocol_enc[x])\n",
    "\n",
    "# encoding 'created_hr'\n",
    "created_hr_enc = X_test_nn.groupby(by='created_hr').size()/len(X_test_nn)\n",
    "X_test_nn['created_hr'] = X_test_nn['created_hr'].apply(lambda x:created_hr_enc[x])\n",
    "\n",
    "# encoding 'delivery_hr'\n",
    "delivery_hr_enc = X_test_nn.groupby(by='delivery_hr').size()/len(X_test_nn)\n",
    "X_test_nn['delivery_hr'] = X_test_nn['delivery_hr'].apply(lambda x:delivery_hr_enc[x])\n",
    "\n",
    "# encoding 'delivery_year'\n",
    "delivery_year_enc = X_test_nn.groupby(by='delivery_year').size()/len(X_test_nn)\n",
    "X_test_nn['delivery_year'] = X_test_nn['delivery_year'].apply(lambda x:delivery_year_enc[x])\n",
    "\n",
    "# encoding 'created_year'\n",
    "created_year_enc = X_test_nn.groupby(by='created_year').size()/len(X_test_nn)\n",
    "X_test_nn['created_year'] = X_test_nn['created_year'].apply(lambda x:created_year_enc[x])\n",
    "\n",
    "# encoding 'delivery_month'\n",
    "delivery_month_enc = X_test_nn.groupby(by='delivery_month').size()/len(X_test_nn)\n",
    "X_test_nn['delivery_month'] = X_test_nn['delivery_month'].apply(lambda x:delivery_month_enc[x])\n",
    "\n",
    "# encoding 'created_month'\n",
    "created_month_enc = X_test_nn.groupby(by='created_month').size()/len(X_test_nn)\n",
    "X_test_nn['created_month'] = X_test_nn['created_month'].apply(lambda x:created_month_enc[x])\n",
    "\n",
    "# encoding 'delivery_date'\n",
    "delivery_date_enc = X_test_nn.groupby(by='delivery_date').size()/len(X_test_nn)\n",
    "X_test_nn['delivery_date'] = X_test_nn['delivery_date'].apply(lambda x:delivery_date_enc[x])\n",
    "\n",
    "# encoding 'created_date'\n",
    "created_date_enc = X_test_nn.groupby(by='created_date').size()/len(X_test_nn)\n",
    "X_test_nn['created_date'] = X_test_nn['created_date'].apply(lambda x:created_date_enc[x])\n",
    "\n",
    "# encoding 'delivery_day'\n",
    "delivery_day_enc = X_test_nn.groupby(by='delivery_day').size()/len(X_test_nn)\n",
    "X_test_nn['delivery_day'] = X_test_nn['delivery_day'].apply(lambda x:delivery_day_enc[x])\n",
    "\n",
    "# encoding 'created_day'\n",
    "created_day_enc = X_test_nn.groupby(by='created_day').size()/len(X_test_nn)\n",
    "X_test_nn['created_day'] = X_test_nn['created_day'].apply(lambda x:created_day_enc[x])\n",
    "\n"
   ]
  },
  {
   "cell_type": "markdown",
   "metadata": {
    "id": "bQmtCPaLNeYo"
   },
   "source": [
    "**8.3 Scaling the data <a id='nn_scl'></a>**"
   ]
  },
  {
   "cell_type": "code",
   "execution_count": 49,
   "metadata": {
    "id": "nBLDKUMyNbOb"
   },
   "outputs": [],
   "source": [
    "# Standardising training data\n",
    "\n",
    "scaler = StandardScaler()\n",
    "scaler.fit(X_train_nn)\n",
    "X_train_nn = scaler.transform(X_train_nn)"
   ]
  },
  {
   "cell_type": "code",
   "execution_count": 50,
   "metadata": {
    "id": "CqZ4cndxNi2F"
   },
   "outputs": [],
   "source": [
    "# Standardising testing data\n",
    "\n",
    "scaler.fit(X_test_nn)\n",
    "X_test_nn = scaler.transform(X_test_nn)"
   ]
  },
  {
   "cell_type": "markdown",
   "metadata": {
    "id": "UA3wR7XpOm6W"
   },
   "source": [
    "**8.4 Model building - NN <a id='nn_model'></a>**"
   ]
  },
  {
   "cell_type": "code",
   "execution_count": 51,
   "metadata": {
    "colab": {
     "base_uri": "https://localhost:8080/",
     "height": 0
    },
    "id": "KrwSMNxyTsH3",
    "outputId": "c0b2b683-8e13-4b71-8247-cd64743cfcb1"
   },
   "outputs": [
    {
     "name": "stdout",
     "output_type": "stream",
     "text": [
      "Starting the training...\n",
      "Epoch: 000, Loss: 14.05633544921875\n",
      "Epoch: 050, Loss: 10.017845153808594\n",
      "Epoch: 100, Loss: 9.280176162719727\n",
      "Epoch: 150, Loss: 8.803958892822266\n",
      "Epoch: 200, Loss: 8.426103591918945\n",
      "Epoch: 250, Loss: 8.123640060424805\n",
      "Epoch: 300, Loss: 7.909106254577637\n",
      "Epoch: 350, Loss: 7.723560810089111\n",
      "Epoch: 400, Loss: 7.568424224853516\n",
      "Epoch: 450, Loss: 7.433933258056641\n",
      "Finished the training\n"
     ]
    }
   ],
   "source": [
    "class VerboseCallback(tf.keras.callbacks.Callback):\n",
    "  \n",
    "  # Functions to provide verbose\n",
    "  def on_train_begin(self, logs=None):\n",
    "    print(\"Starting the training...\")\n",
    "  def on_epoch_end(self, epoch, logs=None):\n",
    "    if epoch % 50 == 0:\n",
    "      print(f\"Epoch: {str(epoch).zfill(3)}, Loss: {logs['loss']}\")\n",
    "  def on_train_end(self, logs=None):\n",
    "    print(\"Finished the training\")\n",
    "\n",
    "# Function to create the model\n",
    "def create_model():\n",
    "    model = Sequential([\n",
    "                    Dense(256, activation=\"relu\", input_shape=(22,), name=\"hidden_1\"), # Layer- 1\n",
    "                    Dense(128, activation=\"relu\", input_shape=(22,), name=\"hidden_2\"), # Layer- 2\n",
    "                    Dense(64, activation=\"relu\", name=\"hidden_3\"),                     # Layer- 3\n",
    "                    Dense(32, activation=\"relu\", name=\"hidden_4\"),                     # Layer- 4\n",
    "                    Dense(1,name=\"output\")])\n",
    "    \n",
    "    model.compile(\n",
    "    optimizer = tf.keras.optimizers.Adam(learning_rate=0.001),   #Optimised using ADAM\n",
    "    loss = tf.keras.losses.MeanAbsoluteError(),                  # Loss function : MAE   \n",
    "    metrics=[tf.keras.metrics.MeanAbsoluteError(),               # Metrics evaluated : MAE, MAPE, MSLE\n",
    "             tf.keras.metrics.MeanAbsolutePercentageError(),\n",
    "             tf.keras.metrics.MeanSquaredLogarithmicError()])\n",
    "    return model\n",
    "model = create_model()\n",
    "history = model.fit(X_train_nn, Y_train_nn, epochs=500,       # Fitting the model\n",
    "          batch_size=256, validation_split=0.1,               # epochs- 500, batchsize : 256\n",
    "          verbose = 0, callbacks = [VerboseCallback()])\n"
   ]
  },
  {
   "cell_type": "code",
   "execution_count": 52,
   "metadata": {
    "colab": {
     "base_uri": "https://localhost:8080/",
     "height": 0
    },
    "id": "B0pJSzYNaj7V",
    "outputId": "097771e1-670f-49dd-8659-3a317ee0743a"
   },
   "outputs": [
    {
     "name": "stdout",
     "output_type": "stream",
     "text": [
      "Model: \"sequential\"\n",
      "_________________________________________________________________\n",
      " Layer (type)                Output Shape              Param #   \n",
      "=================================================================\n",
      " hidden_1 (Dense)            (None, 256)               5888      \n",
      "                                                                 \n",
      " hidden_2 (Dense)            (None, 128)               32896     \n",
      "                                                                 \n",
      " hidden_3 (Dense)            (None, 64)                8256      \n",
      "                                                                 \n",
      " hidden_5 (Dense)            (None, 32)                2080      \n",
      "                                                                 \n",
      " output (Dense)              (None, 1)                 33        \n",
      "                                                                 \n",
      "=================================================================\n",
      "Total params: 49,153\n",
      "Trainable params: 49,153\n",
      "Non-trainable params: 0\n",
      "_________________________________________________________________\n"
     ]
    }
   ],
   "source": [
    "model.summary()"
   ]
  },
  {
   "cell_type": "markdown",
   "metadata": {
    "id": "ZoY30RGbQWre"
   },
   "source": [
    "**8.5 NN Model architecture <a id='nn_arch'></a>**"
   ]
  },
  {
   "cell_type": "code",
   "execution_count": 53,
   "metadata": {
    "colab": {
     "base_uri": "https://localhost:8080/",
     "height": 644
    },
    "id": "a8GxTehEtVfy",
    "outputId": "4d8390f8-8668-4847-c7f1-ec4ddf38596d"
   },
   "outputs": [
    {
     "data": {
      "image/png": "[encoded data removed]",
      "text/plain": [
       "<IPython.core.display.Image object>"
      ]
     },
     "execution_count": 53,
     "metadata": {},
     "output_type": "execute_result"
    }
   ],
   "source": [
    "# architecture of the NN\n",
    "\n",
    "plot_model(model, show_shapes = True)"
   ]
  },
  {
   "cell_type": "markdown",
   "metadata": {
    "id": "_AiVdNBCQyZN"
   },
   "source": [
    "**8.6 NN Model evaluation <a id='nn_eval'></a>**"
   ]
  },
  {
   "cell_type": "code",
   "execution_count": 57,
   "metadata": {
    "colab": {
     "base_uri": "https://localhost:8080/",
     "height": 284
    },
    "id": "Gzg6wQuO8AqV",
    "outputId": "3ca7c22f-a49a-4e3c-caa8-2de2a5904f63"
   },
   "outputs": [
    {
     "data": {
      "image/png": "[encoded data removed]",
      "text/plain": [
       "<Figure size 432x288 with 1 Axes>"
      ]
     },
     "metadata": {},
     "output_type": "display_data"
    }
   ],
   "source": [
    "# Evaluating the performance\n",
    "\n",
    "epochs = history.epoch\n",
    "loss = history.history[\"loss\"]\n",
    "\n",
    "val_loss = history.history[\"val_loss\"]\n",
    "\n",
    "plt.figure()\n",
    "plt.plot(epochs, loss, label=\"train\")\n",
    "plt.plot(epochs, val_loss, label=\"val\")\n",
    "plt.legend()\n",
    "plt.title(\"Loss VS Epochs\")\n",
    "plt.show()"
   ]
  },
  {
   "cell_type": "markdown",
   "metadata": {
    "id": "1-7v-pKUS4wA"
   },
   "source": [
    "**Observations**\n",
    "<br>\n",
    "- It can be observed that, after nearly 100 observations, though training loss decreases, validation loss increases\n",
    "<br>\n",
    "- This indicates that the model is getting over fitted"
   ]
  },
  {
   "cell_type": "markdown",
   "metadata": {
    "id": "yY9E5hXbRCO1"
   },
   "source": [
    "**8.7 NN Model prediction <a id='nn_pred'></a>**"
   ]
  },
  {
   "cell_type": "code",
   "execution_count": 61,
   "metadata": {
    "colab": {
     "base_uri": "https://localhost:8080/",
     "height": 0
    },
    "id": "9hc0qoak8VRu",
    "outputId": "92311577-a084-4f3a-c091-0b5e56148745"
   },
   "outputs": [
    {
     "name": "stdout",
     "output_type": "stream",
     "text": [
      "2035/2035 [==============================] - 7s 3ms/step\n"
     ]
    },
    {
     "data": {
      "text/plain": [
       "array([[29.177525],\n",
       "       [53.328136],\n",
       "       [31.26821 ],\n",
       "       ...,\n",
       "       [38.0668  ],\n",
       "       [45.96549 ],\n",
       "       [44.36188 ]], dtype=float32)"
      ]
     },
     "execution_count": 61,
     "metadata": {},
     "output_type": "execute_result"
    }
   ],
   "source": [
    "# Predictions of NN\n",
    "Y_pred_nn = model.predict(X_test_nn)\n",
    "Y_pred_nn"
   ]
  },
  {
   "cell_type": "markdown",
   "metadata": {
    "id": "YjKq6LAURgUp"
   },
   "source": [
    "**8.8 Comparison of RF and NN model <a id='comp'></a>**"
   ]
  },
  {
   "cell_type": "code",
   "execution_count": 63,
   "metadata": {
    "colab": {
     "base_uri": "https://localhost:8080/",
     "height": 175
    },
    "id": "tzYkQVmk9QZT",
    "outputId": "0c36e3aa-ee99-4a49-eab4-cae78af04214"
   },
   "outputs": [
    {
     "data": {
      "text/html": [
       "\n",
       "  <div id=\"df-8580a181-3a11-46ea-9cf3-94c07c3e777f\">\n",
       "    <div class=\"colab-df-container\">\n",
       "      <div>\n",
       "<style scoped>\n",
       "    .dataframe tbody tr th:only-of-type {\n",
       "        vertical-align: middle;\n",
       "    }\n",
       "\n",
       "    .dataframe tbody tr th {\n",
       "        vertical-align: top;\n",
       "    }\n",
       "\n",
       "    .dataframe thead th {\n",
       "        text-align: right;\n",
       "    }\n",
       "</style>\n",
       "<table border=\"1\" class=\"dataframe\">\n",
       "  <thead>\n",
       "    <tr style=\"text-align: right;\">\n",
       "      <th>Model</th>\n",
       "      <th>RF</th>\n",
       "      <th>NN</th>\n",
       "    </tr>\n",
       "  </thead>\n",
       "  <tbody>\n",
       "    <tr>\n",
       "      <th>MSE</th>\n",
       "      <td>151.831165</td>\n",
       "      <td>247.580440</td>\n",
       "    </tr>\n",
       "    <tr>\n",
       "      <th>RMSE</th>\n",
       "      <td>12.321979</td>\n",
       "      <td>15.734689</td>\n",
       "    </tr>\n",
       "    <tr>\n",
       "      <th>MAPE</th>\n",
       "      <td>0.224188</td>\n",
       "      <td>0.256764</td>\n",
       "    </tr>\n",
       "    <tr>\n",
       "      <th>MAE</th>\n",
       "      <td>9.427806</td>\n",
       "      <td>11.350354</td>\n",
       "    </tr>\n",
       "  </tbody>\n",
       "</table>\n",
       "</div>\n",
       "      <button class=\"colab-df-convert\" onclick=\"convertToInteractive('df-8580a181-3a11-46ea-9cf3-94c07c3e777f')\"\n",
       "              title=\"Convert this dataframe to an interactive table.\"\n",
       "              style=\"display:none;\">\n",
       "        \n",
       "  <svg xmlns=\"http://www.w3.org/2000/svg\" height=\"24px\"viewBox=\"0 0 24 24\"\n",
       "       width=\"24px\">\n",
       "    <path d=\"M0 0h24v24H0V0z\" fill=\"none\"/>\n",
       "    <path d=\"M18.56 5.44l.94 2.06.94-2.06 2.06-.94-2.06-.94-.94-2.06-.94 2.06-2.06.94zm-11 1L8.5 8.5l.94-2.06 2.06-.94-2.06-.94L8.5 2.5l-.94 2.06-2.06.94zm10 10l.94 2.06.94-2.06 2.06-.94-2.06-.94-.94-2.06-.94 2.06-2.06.94z\"/><path d=\"M17.41 7.96l-1.37-1.37c-.4-.4-.92-.59-1.43-.59-.52 0-1.04.2-1.43.59L10.3 9.45l-7.72 7.72c-.78.78-.78 2.05 0 2.83L4 21.41c.39.39.9.59 1.41.59.51 0 1.02-.2 1.41-.59l7.78-7.78 2.81-2.81c.8-.78.8-2.07 0-2.86zM5.41 20L4 18.59l7.72-7.72 1.47 1.35L5.41 20z\"/>\n",
       "  </svg>\n",
       "      </button>\n",
       "      \n",
       "  <style>\n",
       "    .colab-df-container {\n",
       "      display:flex;\n",
       "      flex-wrap:wrap;\n",
       "      gap: 12px;\n",
       "    }\n",
       "\n",
       "    .colab-df-convert {\n",
       "      background-color: #E8F0FE;\n",
       "      border: none;\n",
       "      border-radius: 50%;\n",
       "      cursor: pointer;\n",
       "      display: none;\n",
       "      fill: #1967D2;\n",
       "      height: 32px;\n",
       "      padding: 0 0 0 0;\n",
       "      width: 32px;\n",
       "    }\n",
       "\n",
       "    .colab-df-convert:hover {\n",
       "      background-color: #E2EBFA;\n",
       "      box-shadow: 0px 1px 2px rgba(60, 64, 67, 0.3), 0px 1px 3px 1px rgba(60, 64, 67, 0.15);\n",
       "      fill: #174EA6;\n",
       "    }\n",
       "\n",
       "    [theme=dark] .colab-df-convert {\n",
       "      background-color: #3B4455;\n",
       "      fill: #D2E3FC;\n",
       "    }\n",
       "\n",
       "    [theme=dark] .colab-df-convert:hover {\n",
       "      background-color: #434B5C;\n",
       "      box-shadow: 0px 1px 3px 1px rgba(0, 0, 0, 0.15);\n",
       "      filter: drop-shadow(0px 1px 2px rgba(0, 0, 0, 0.3));\n",
       "      fill: #FFFFFF;\n",
       "    }\n",
       "  </style>\n",
       "\n",
       "      <script>\n",
       "        const buttonEl =\n",
       "          document.querySelector('#df-8580a181-3a11-46ea-9cf3-94c07c3e777f button.colab-df-convert');\n",
       "        buttonEl.style.display =\n",
       "          google.colab.kernel.accessAllowed ? 'block' : 'none';\n",
       "\n",
       "        async function convertToInteractive(key) {\n",
       "          const element = document.querySelector('#df-8580a181-3a11-46ea-9cf3-94c07c3e777f');\n",
       "          const dataTable =\n",
       "            await google.colab.kernel.invokeFunction('convertToInteractive',\n",
       "                                                     [key], {});\n",
       "          if (!dataTable) return;\n",
       "\n",
       "          const docLinkHtml = 'Like what you see? Visit the ' +\n",
       "            '<a target=\"_blank\" href=https://colab.research.google.com/notebooks/data_table.ipynb>data table notebook</a>'\n",
       "            + ' to learn more about interactive tables.';\n",
       "          element.innerHTML = '';\n",
       "          dataTable['output_type'] = 'display_data';\n",
       "          await google.colab.output.renderOutput(dataTable, element);\n",
       "          const docLink = document.createElement('div');\n",
       "          docLink.innerHTML = docLinkHtml;\n",
       "          element.appendChild(docLink);\n",
       "        }\n",
       "      </script>\n",
       "    </div>\n",
       "  </div>\n",
       "  "
      ],
      "text/plain": [
       "Model          RF          NN\n",
       "MSE    151.831165  247.580440\n",
       "RMSE    12.321979   15.734689\n",
       "MAPE     0.224188    0.256764\n",
       "MAE      9.427806   11.350354"
      ]
     },
     "execution_count": 63,
     "metadata": {},
     "output_type": "execute_result"
    }
   ],
   "source": [
    "# Evaluation metrics of NN\n",
    "\n",
    "# Calculating MSE\n",
    "mse_nn = mse(Y_test_nn, Y_pred_nn) \n",
    "\n",
    "# Calculating RMSE\n",
    "rmse_nn = np.sqrt(mse(Y_test_nn, Y_pred_nn))\n",
    "\n",
    "# Calculating MAPE\n",
    "mape_nn = mape(Y_test_nn, Y_pred_nn)\n",
    "\n",
    "# Calculating MAE\n",
    "mae_nn = mae(Y_test_nn, Y_pred_nn)\n",
    "\n",
    "# Preparing the dataframe\n",
    "metrics_comp = pd.DataFrame({'Model':['RF','NN'],\n",
    "                             'MSE':[mse_rf,mse_nn],\n",
    "                           'RMSE':[rmse_rf,rmse_nn],\n",
    "                           'MAPE':[mape_rf,mape_nn],\n",
    "                           'MAE':[mae_rf,mae_nn]})\n",
    "metrics_comp.set_index('Model',inplace=True)                    \n",
    "metrics_comp.T"
   ]
  },
  {
   "cell_type": "markdown",
   "metadata": {
    "id": "x07fKkYeTYWh"
   },
   "source": [
    "**Observations**\n",
    "<br>\n",
    "- RF performs slightly better than NN \n",
    "- Performance of NN, though was superior in training, deteriorated with testing data\n",
    "- With proper hyperparameter tuning, the performance of NN model can be improved further\n",
    "- Due to technical difficulties and long training  duration further hyperparameter tuning could not be done"
   ]
  },
  {
   "cell_type": "markdown",
   "metadata": {
    "id": "FEVGZEuCSLSG"
   },
   "source": [
    "### 9. Insights & Recommendations <a id='ins_rec'></a>"
   ]
  },
  {
   "cell_type": "markdown",
   "metadata": {
    "id": "uJFrdCgZSXUf"
   },
   "source": [
    "\n",
    "---\n",
    "### Insights:\n",
    "<br>\n",
    "1. Market id : 2 has the largest proportion of orders\n",
    "<br>\n",
    "2. Irrespective of the day, American cuisine is most ordered than any other cuisine\n",
    "<br>\n",
    "3. Contrastingly, most offered cuisines doesnot fall into the category of the fastest delivered ones(except Mexican)\n",
    "<br>\n",
    "4. 3 order protocols controls more than 50% of the total orders\n",
    "<br>\n",
    "5. Majority orders has a cart size of 3 and lesser items\n",
    "<br>\n",
    "6. Large number of orders can be seen placed in early morning hours (before 5AM) and late niht\n",
    "<br>\n",
    "7. Interms of days, weekends and Monday experience heavy order traffic\n",
    "<br>\n",
    "8. During Fridays, manpower can be better utilized as total onshift partners is far greater than total busy partners\n",
    "<br>\n",
    "9. Spending pattern is generally during weekend and other days follow a static pattern\n",
    "<br>\n",
    "10. Due to weekend rush, delivery time spikes during these times\n",
    "<br>\n",
    "11. Day time (5AM to 3PM) experience longer waiting period (reason may be due to the traffic)\n",
    "\n",
    "\n",
    "==========================================================================================\n",
    "<br>\n",
    "\n",
    "### Recommendations\n",
    "<br>\n",
    "1. Focus more on market-id which have weaker sales\n",
    "<br>\n",
    "2. During weekdays(non rush periods), more offers should be provided to high demand items(eg. fastfood, American)\n",
    "<br>\n",
    "3. Instead of stressing more on limited cuisines, more variety should be given for the customers and they should be encouraged to try them\n",
    "<br>\n",
    "4. List of cuisines which  have lower than median delivery time should be explicitly mentioned to the customers(eg. Mexican, breakfast items etc.)\n",
    "<br>\n",
    "5. Providing a recommeder system with weightage given to faster delivered items and avg. customer rating can improve per order item count\n",
    "<br>\n",
    "6. Restaurant should be also shared with the order traffic forecast, so that they can be prepared accordingly(especially during early morning and late night)\n",
    "<br>\n",
    "7. Adding more delivery partners during Saturdays & Mondays can reduce outstanding deliveries load \n",
    "<br>\n",
    "8. To speed up the delivery during peak hours, better renumeration should be provided during these hours\n",
    "<br>\n",
    "9. Customers should be encouraged to spend more on weekdays in terms of offers & promotions\n",
    "\n"
   ]
  },
  {
   "cell_type": "markdown",
   "metadata": {
    "id": "t7-OYR_2Wpyb"
   },
   "source": [
    "---\n",
    "**Leading Questions:**\n",
    "\n",
    "**1.Defining the problem statements and where can this and modifications of this be used?**\n",
    "<br>\n",
    "Ans. - Help Porter to predict delivery time based on various features\n",
    "<br>\n",
    "- Perform detailed analysis inorder to identify the impact of different factors\n",
    "<br>\n",
    "- Thereby, to improve the customer experience and business, by optimising aspects such as delivery time and manpower requirement\n",
    "<br> \n",
    "\n",
    "**2. List 3 functions the pandas datetime provides with one line explanation.**\n",
    "<br>\n",
    "Ans\n",
    "- dt.year : to extract the year\n",
    "- dt.month : to extract the month\n",
    "- dt.day : to extract the date\n",
    "<br>\n",
    "\n",
    "**3. Short note on datetime, timedelta, time span (period)**\n",
    "<br>\n",
    "Ans.\n",
    "- datetime - The datetime module supplies classes for manipulating dates and times.\n",
    "- timedelta - Used for calculating difference in dates\n",
    "- timespan - Timespans allow to check if a timestamp falls within a specified list of boundaries\n",
    "<br>\n",
    "\n",
    "**4.Why do we need to check for outliers in our data?**\n",
    "<br>\n",
    "Ans.\n",
    "- affect the mean value of the data\n",
    "- they represent measurement errors, data entry or processing errors, or poor sampling.\n",
    "<br>\n",
    "\n",
    "**5.Name 3 outlier removal methods?**\n",
    "<br>\n",
    "Ans.\n",
    "- Standard Deviation Method\n",
    "- Interquartile Range Method\n",
    "- Automatic Outlier Detection\n",
    "<br>\n",
    "\n",
    "**6. What classical machine learning methods can we use other than random forest for regression?**\n",
    "<br>\n",
    "Ans\n",
    "- Linear regression \n",
    "- Polynomial regression\n",
    "- Decision Tree\n",
    "- kNN\n",
    "<br>\n",
    "\n",
    "**7. Why is scaling required for neural networks?**\n",
    "<br>\n",
    "Ans.Having features on a similar scale will help the gradient descent converge more quickly towards the minima. Specifically, in the case of Neural Networks Algorithms, feature scaling benefits optimization by: It makes the training faster\n",
    "<br>\n",
    "\n",
    "**8. Briefly explain your choice of optimizer.**\n",
    "<br>\n",
    "Ans.\n",
    "<br>\n",
    "- Optimizer used:ADAM\n",
    "- The results of the Adam optimizer are generally better than every other optimization algorithms, have faster computation time, and require fewer parameters for tuning\n",
    "<br>\n",
    "\n",
    "**9. Which activation function did you use and why?**\n",
    "<br>\n",
    "Ans.\n",
    "- Activation function used is RELU\n",
    "- ReLu tended to converge much more quickly and reliably than training a deep network with other activation functions\n",
    "<br>\n",
    "\n",
    "**10. Why does a neural network perform well on a large dataset?**\n",
    "<br>\n",
    "Ans.\n",
    "- Large data helps to learn non linear boundaries very accurately\n",
    "- Having more data increases the accuracy of NN model\n",
    "\n",
    "\n"
   ]
  },
  {
   "cell_type": "markdown",
   "metadata": {
    "id": "4I3j96Y8USLG"
   },
   "source": [
    "### JMJ+"
   ]
  }
 ],
 "metadata": {
  "colab": {
   "provenance": []
  },
  "kernelspec": {
   "display_name": "Python 3 (ipykernel)",
   "language": "python",
   "name": "python3"
  },
  "language_info": {
   "codemirror_mode": {
    "name": "ipython",
    "version": 3
   },
   "file_extension": ".py",
   "mimetype": "text/x-python",
   "name": "python",
   "nbconvert_exporter": "python",
   "pygments_lexer": "ipython3",
   "version": "3.9.13"
  }
 },
 "nbformat": 4,
 "nbformat_minor": 1
}
