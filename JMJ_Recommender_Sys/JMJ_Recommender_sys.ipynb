{
 "cells": [
  {
   "cell_type": "markdown",
   "id": "8c5b9430",
   "metadata": {},
   "source": [
    "***JMJ+***\n"
   ]
  },
  {
   "cell_type": "markdown",
   "id": "e4a31933",
   "metadata": {},
   "source": [
    "### Problem Statement:\n",
    "\n",
    "* Create a movie recommender system to provide improved recommendation to the users based on the availlable historical data\n",
    "* Provide analysis based on the existing data to improve user experience and business prospects\n",
    "\n"
   ]
  },
  {
   "cell_type": "code",
   "execution_count": 86,
   "id": "481b5f31",
   "metadata": {},
   "outputs": [],
   "source": [
    "import pandas as pd\n",
    "import numpy as np\n",
    "\n",
    "import matplotlib.pyplot as plt\n",
    "import seaborn as sns\n",
    "\n",
    "from datetime import datetime\n",
    "\n",
    "import scipy\n",
    "from scipy.stats import pearsonr\n",
    "from sklearn.preprocessing import StandardScaler\n",
    "\n",
    "from sklearn.neighbors import NearestNeighbors\n",
    "from sklearn.metrics.pairwise import cosine_similarity\n",
    "\n",
    "from cmfrec import CMF\n",
    "\n",
    "from sklearn.metrics import mean_squared_error as mse\n",
    "from sklearn.metrics import mean_absolute_percentage_error\n"
   ]
  },
  {
   "cell_type": "code",
   "execution_count": 2,
   "id": "e18b9f0a",
   "metadata": {},
   "outputs": [],
   "source": [
    "# Importing the files\n",
    "\n",
    "path1=r'C:\\Users\\Alfred Paul\\OneDrive\\Desktop\\Scaler_CaseStudies\\JMJ_Zee\\jmj_zee-movies.dat'\n",
    "path2=r'C:\\Users\\Alfred Paul\\OneDrive\\Desktop\\Scaler_CaseStudies\\JMJ_Zee\\jmj_zee-ratings.dat'\n",
    "path3=r'C:\\Users\\Alfred Paul\\OneDrive\\Desktop\\Scaler_CaseStudies\\JMJ_Zee\\jmj_zee-users.dat'\n",
    "\n",
    "movies=pd.read_fwf(path1,encoding='ISO-8859-1')\n",
    "ratings=pd.read_fwf(path2,encoding='ISO-8859-1')\n",
    "users=pd.read_fwf(path3,encoding='ISO-8859-1')"
   ]
  },
  {
   "cell_type": "code",
   "execution_count": 3,
   "id": "de0831f7",
   "metadata": {},
   "outputs": [
    {
     "data": {
      "text/html": [
       "<div>\n",
       "<style scoped>\n",
       "    .dataframe tbody tr th:only-of-type {\n",
       "        vertical-align: middle;\n",
       "    }\n",
       "\n",
       "    .dataframe tbody tr th {\n",
       "        vertical-align: top;\n",
       "    }\n",
       "\n",
       "    .dataframe thead th {\n",
       "        text-align: right;\n",
       "    }\n",
       "</style>\n",
       "<table border=\"1\" class=\"dataframe\">\n",
       "  <thead>\n",
       "    <tr style=\"text-align: right;\">\n",
       "      <th></th>\n",
       "      <th>Movie ID::Title::Genres</th>\n",
       "      <th>Unnamed: 1</th>\n",
       "      <th>Unnamed: 2</th>\n",
       "    </tr>\n",
       "  </thead>\n",
       "  <tbody>\n",
       "    <tr>\n",
       "      <th>0</th>\n",
       "      <td>1::Toy Story (1995)::Animation|Children's|Comedy</td>\n",
       "      <td>NaN</td>\n",
       "      <td>NaN</td>\n",
       "    </tr>\n",
       "    <tr>\n",
       "      <th>1</th>\n",
       "      <td>2::Jumanji (1995)::Adventure|Children's|Fantasy</td>\n",
       "      <td>NaN</td>\n",
       "      <td>NaN</td>\n",
       "    </tr>\n",
       "    <tr>\n",
       "      <th>2</th>\n",
       "      <td>3::Grumpier Old Men (1995)::Comedy|Romance</td>\n",
       "      <td>NaN</td>\n",
       "      <td>NaN</td>\n",
       "    </tr>\n",
       "  </tbody>\n",
       "</table>\n",
       "</div>"
      ],
      "text/plain": [
       "                            Movie ID::Title::Genres Unnamed: 1 Unnamed: 2\n",
       "0  1::Toy Story (1995)::Animation|Children's|Comedy        NaN        NaN\n",
       "1   2::Jumanji (1995)::Adventure|Children's|Fantasy        NaN        NaN\n",
       "2        3::Grumpier Old Men (1995)::Comedy|Romance        NaN        NaN"
      ]
     },
     "execution_count": 3,
     "metadata": {},
     "output_type": "execute_result"
    }
   ],
   "source": [
    "# Checking the head\n",
    "\n",
    "movies.head(3)"
   ]
  },
  {
   "cell_type": "code",
   "execution_count": 4,
   "id": "e3afaff7",
   "metadata": {},
   "outputs": [
    {
     "data": {
      "text/html": [
       "<div>\n",
       "<style scoped>\n",
       "    .dataframe tbody tr th:only-of-type {\n",
       "        vertical-align: middle;\n",
       "    }\n",
       "\n",
       "    .dataframe tbody tr th {\n",
       "        vertical-align: top;\n",
       "    }\n",
       "\n",
       "    .dataframe thead th {\n",
       "        text-align: right;\n",
       "    }\n",
       "</style>\n",
       "<table border=\"1\" class=\"dataframe\">\n",
       "  <thead>\n",
       "    <tr style=\"text-align: right;\">\n",
       "      <th></th>\n",
       "      <th>UserID::MovieID::Rating::Timestamp</th>\n",
       "    </tr>\n",
       "  </thead>\n",
       "  <tbody>\n",
       "    <tr>\n",
       "      <th>0</th>\n",
       "      <td>1::1193::5::978300760</td>\n",
       "    </tr>\n",
       "    <tr>\n",
       "      <th>1</th>\n",
       "      <td>1::661::3::978302109</td>\n",
       "    </tr>\n",
       "    <tr>\n",
       "      <th>2</th>\n",
       "      <td>1::914::3::978301968</td>\n",
       "    </tr>\n",
       "  </tbody>\n",
       "</table>\n",
       "</div>"
      ],
      "text/plain": [
       "  UserID::MovieID::Rating::Timestamp\n",
       "0              1::1193::5::978300760\n",
       "1               1::661::3::978302109\n",
       "2               1::914::3::978301968"
      ]
     },
     "execution_count": 4,
     "metadata": {},
     "output_type": "execute_result"
    }
   ],
   "source": [
    "# Checking the head\n",
    "\n",
    "ratings.head(3)"
   ]
  },
  {
   "cell_type": "code",
   "execution_count": 5,
   "id": "9f39099a",
   "metadata": {},
   "outputs": [
    {
     "data": {
      "text/html": [
       "<div>\n",
       "<style scoped>\n",
       "    .dataframe tbody tr th:only-of-type {\n",
       "        vertical-align: middle;\n",
       "    }\n",
       "\n",
       "    .dataframe tbody tr th {\n",
       "        vertical-align: top;\n",
       "    }\n",
       "\n",
       "    .dataframe thead th {\n",
       "        text-align: right;\n",
       "    }\n",
       "</style>\n",
       "<table border=\"1\" class=\"dataframe\">\n",
       "  <thead>\n",
       "    <tr style=\"text-align: right;\">\n",
       "      <th></th>\n",
       "      <th>UserID::Gender::Age::Occupation::Zip-code</th>\n",
       "    </tr>\n",
       "  </thead>\n",
       "  <tbody>\n",
       "    <tr>\n",
       "      <th>0</th>\n",
       "      <td>1::F::1::10::48067</td>\n",
       "    </tr>\n",
       "    <tr>\n",
       "      <th>1</th>\n",
       "      <td>2::M::56::16::70072</td>\n",
       "    </tr>\n",
       "    <tr>\n",
       "      <th>2</th>\n",
       "      <td>3::M::25::15::55117</td>\n",
       "    </tr>\n",
       "  </tbody>\n",
       "</table>\n",
       "</div>"
      ],
      "text/plain": [
       "  UserID::Gender::Age::Occupation::Zip-code\n",
       "0                        1::F::1::10::48067\n",
       "1                       2::M::56::16::70072\n",
       "2                       3::M::25::15::55117"
      ]
     },
     "execution_count": 5,
     "metadata": {},
     "output_type": "execute_result"
    }
   ],
   "source": [
    "# Checking the head\n",
    "\n",
    "users.head(3)"
   ]
  },
  {
   "cell_type": "markdown",
   "id": "15663dff",
   "metadata": {},
   "source": [
    "***Note!***\n",
    "\n",
    "* It can be seen that, the columns names and the data is not correctly represented and needs pre - processing"
   ]
  },
  {
   "cell_type": "code",
   "execution_count": 6,
   "id": "46885266",
   "metadata": {},
   "outputs": [],
   "source": [
    "# Dropping unwanted columns\n",
    "\n",
    "movies.drop(columns=['Unnamed: 1','Unnamed: 2'],inplace=True)"
   ]
  },
  {
   "cell_type": "code",
   "execution_count": 7,
   "id": "39530430",
   "metadata": {},
   "outputs": [
    {
     "data": {
      "text/html": [
       "<div>\n",
       "<style scoped>\n",
       "    .dataframe tbody tr th:only-of-type {\n",
       "        vertical-align: middle;\n",
       "    }\n",
       "\n",
       "    .dataframe tbody tr th {\n",
       "        vertical-align: top;\n",
       "    }\n",
       "\n",
       "    .dataframe thead th {\n",
       "        text-align: right;\n",
       "    }\n",
       "</style>\n",
       "<table border=\"1\" class=\"dataframe\">\n",
       "  <thead>\n",
       "    <tr style=\"text-align: right;\">\n",
       "      <th></th>\n",
       "      <th>MovieID</th>\n",
       "      <th>Title</th>\n",
       "      <th>Genres</th>\n",
       "    </tr>\n",
       "  </thead>\n",
       "  <tbody>\n",
       "    <tr>\n",
       "      <th>0</th>\n",
       "      <td>1</td>\n",
       "      <td>Toy Story (1995)</td>\n",
       "      <td>Animation|Children's|Comedy</td>\n",
       "    </tr>\n",
       "    <tr>\n",
       "      <th>1</th>\n",
       "      <td>2</td>\n",
       "      <td>Jumanji (1995)</td>\n",
       "      <td>Adventure|Children's|Fantasy</td>\n",
       "    </tr>\n",
       "    <tr>\n",
       "      <th>2</th>\n",
       "      <td>3</td>\n",
       "      <td>Grumpier Old Men (1995)</td>\n",
       "      <td>Comedy|Romance</td>\n",
       "    </tr>\n",
       "  </tbody>\n",
       "</table>\n",
       "</div>"
      ],
      "text/plain": [
       "  MovieID                    Title                        Genres\n",
       "0       1         Toy Story (1995)   Animation|Children's|Comedy\n",
       "1       2           Jumanji (1995)  Adventure|Children's|Fantasy\n",
       "2       3  Grumpier Old Men (1995)                Comedy|Romance"
      ]
     },
     "execution_count": 7,
     "metadata": {},
     "output_type": "execute_result"
    }
   ],
   "source": [
    "# Preprocessing the 'movies' dataset\n",
    "\n",
    "delimiter='::'\n",
    "movies = movies['Movie ID::Title::Genres'].str.split(delimiter,expand=True)\n",
    "movies.columns=['MovieID','Title','Genres']\n",
    "movies.head(3)"
   ]
  },
  {
   "cell_type": "code",
   "execution_count": 10,
   "id": "29dec8f6",
   "metadata": {},
   "outputs": [
    {
     "data": {
      "text/html": [
       "<div>\n",
       "<style scoped>\n",
       "    .dataframe tbody tr th:only-of-type {\n",
       "        vertical-align: middle;\n",
       "    }\n",
       "\n",
       "    .dataframe tbody tr th {\n",
       "        vertical-align: top;\n",
       "    }\n",
       "\n",
       "    .dataframe thead th {\n",
       "        text-align: right;\n",
       "    }\n",
       "</style>\n",
       "<table border=\"1\" class=\"dataframe\">\n",
       "  <thead>\n",
       "    <tr style=\"text-align: right;\">\n",
       "      <th></th>\n",
       "      <th>UserID</th>\n",
       "      <th>MovieID</th>\n",
       "      <th>Rating</th>\n",
       "      <th>Timestamp</th>\n",
       "    </tr>\n",
       "  </thead>\n",
       "  <tbody>\n",
       "    <tr>\n",
       "      <th>0</th>\n",
       "      <td>1</td>\n",
       "      <td>1193</td>\n",
       "      <td>5</td>\n",
       "      <td>978300760</td>\n",
       "    </tr>\n",
       "    <tr>\n",
       "      <th>1</th>\n",
       "      <td>1</td>\n",
       "      <td>661</td>\n",
       "      <td>3</td>\n",
       "      <td>978302109</td>\n",
       "    </tr>\n",
       "    <tr>\n",
       "      <th>2</th>\n",
       "      <td>1</td>\n",
       "      <td>914</td>\n",
       "      <td>3</td>\n",
       "      <td>978301968</td>\n",
       "    </tr>\n",
       "  </tbody>\n",
       "</table>\n",
       "</div>"
      ],
      "text/plain": [
       "  UserID MovieID Rating  Timestamp\n",
       "0      1    1193      5  978300760\n",
       "1      1     661      3  978302109\n",
       "2      1     914      3  978301968"
      ]
     },
     "execution_count": 10,
     "metadata": {},
     "output_type": "execute_result"
    }
   ],
   "source": [
    "# Preprocessing the 'ratings' dataset\n",
    "\n",
    "delimiter='::'\n",
    "ratings = ratings['UserID::MovieID::Rating::Timestamp'].str.split(delimiter,expand=True)\n",
    "ratings.columns=['UserID','MovieID','Rating','Timestamp']\n",
    "ratings.head(3)"
   ]
  },
  {
   "cell_type": "code",
   "execution_count": 11,
   "id": "2f84a588",
   "metadata": {},
   "outputs": [
    {
     "data": {
      "text/html": [
       "<div>\n",
       "<style scoped>\n",
       "    .dataframe tbody tr th:only-of-type {\n",
       "        vertical-align: middle;\n",
       "    }\n",
       "\n",
       "    .dataframe tbody tr th {\n",
       "        vertical-align: top;\n",
       "    }\n",
       "\n",
       "    .dataframe thead th {\n",
       "        text-align: right;\n",
       "    }\n",
       "</style>\n",
       "<table border=\"1\" class=\"dataframe\">\n",
       "  <thead>\n",
       "    <tr style=\"text-align: right;\">\n",
       "      <th></th>\n",
       "      <th>UserID</th>\n",
       "      <th>Gender</th>\n",
       "      <th>Age</th>\n",
       "      <th>Occupation</th>\n",
       "      <th>Zip-code</th>\n",
       "    </tr>\n",
       "  </thead>\n",
       "  <tbody>\n",
       "    <tr>\n",
       "      <th>0</th>\n",
       "      <td>1</td>\n",
       "      <td>F</td>\n",
       "      <td>1</td>\n",
       "      <td>10</td>\n",
       "      <td>48067</td>\n",
       "    </tr>\n",
       "    <tr>\n",
       "      <th>1</th>\n",
       "      <td>2</td>\n",
       "      <td>M</td>\n",
       "      <td>56</td>\n",
       "      <td>16</td>\n",
       "      <td>70072</td>\n",
       "    </tr>\n",
       "    <tr>\n",
       "      <th>2</th>\n",
       "      <td>3</td>\n",
       "      <td>M</td>\n",
       "      <td>25</td>\n",
       "      <td>15</td>\n",
       "      <td>55117</td>\n",
       "    </tr>\n",
       "  </tbody>\n",
       "</table>\n",
       "</div>"
      ],
      "text/plain": [
       "  UserID Gender Age Occupation Zip-code\n",
       "0      1      F   1         10    48067\n",
       "1      2      M  56         16    70072\n",
       "2      3      M  25         15    55117"
      ]
     },
     "execution_count": 11,
     "metadata": {},
     "output_type": "execute_result"
    }
   ],
   "source": [
    "# Preprocessing the 'users' dataset\n",
    "\n",
    "delimiter='::'\n",
    "users = users['UserID::Gender::Age::Occupation::Zip-code'].str.split(delimiter,expand=True)\n",
    "users.columns=['UserID','Gender','Age','Occupation','Zip-code']\n",
    "users.head(3)"
   ]
  },
  {
   "cell_type": "markdown",
   "id": "a40a7edb",
   "metadata": {},
   "source": [
    "***Basic check of 'movies'***"
   ]
  },
  {
   "cell_type": "code",
   "execution_count": 12,
   "id": "8619e7a5",
   "metadata": {},
   "outputs": [
    {
     "data": {
      "text/plain": [
       "(3883, 3)"
      ]
     },
     "execution_count": 12,
     "metadata": {},
     "output_type": "execute_result"
    }
   ],
   "source": [
    "# shape\n",
    "movies.shape"
   ]
  },
  {
   "cell_type": "code",
   "execution_count": 13,
   "id": "cef4d360",
   "metadata": {},
   "outputs": [
    {
     "name": "stdout",
     "output_type": "stream",
     "text": [
      "<class 'pandas.core.frame.DataFrame'>\n",
      "RangeIndex: 3883 entries, 0 to 3882\n",
      "Data columns (total 3 columns):\n",
      " #   Column   Non-Null Count  Dtype \n",
      "---  ------   --------------  ----- \n",
      " 0   MovieID  3883 non-null   object\n",
      " 1   Title    3883 non-null   object\n",
      " 2   Genres   3858 non-null   object\n",
      "dtypes: object(3)\n",
      "memory usage: 91.1+ KB\n"
     ]
    }
   ],
   "source": [
    "movies.info()"
   ]
  },
  {
   "cell_type": "markdown",
   "id": "b312fa2b",
   "metadata": {},
   "source": [
    "***Basic check of 'ratings'***"
   ]
  },
  {
   "cell_type": "code",
   "execution_count": 14,
   "id": "eced6ab6",
   "metadata": {},
   "outputs": [
    {
     "data": {
      "text/plain": [
       "(1000209, 4)"
      ]
     },
     "execution_count": 14,
     "metadata": {},
     "output_type": "execute_result"
    }
   ],
   "source": [
    "ratings.shape"
   ]
  },
  {
   "cell_type": "code",
   "execution_count": 15,
   "id": "1f74e00b",
   "metadata": {},
   "outputs": [
    {
     "name": "stdout",
     "output_type": "stream",
     "text": [
      "<class 'pandas.core.frame.DataFrame'>\n",
      "RangeIndex: 1000209 entries, 0 to 1000208\n",
      "Data columns (total 4 columns):\n",
      " #   Column     Non-Null Count    Dtype \n",
      "---  ------     --------------    ----- \n",
      " 0   UserID     1000209 non-null  object\n",
      " 1   MovieID    1000209 non-null  object\n",
      " 2   Rating     1000209 non-null  object\n",
      " 3   Timestamp  1000209 non-null  object\n",
      "dtypes: object(4)\n",
      "memory usage: 30.5+ MB\n"
     ]
    }
   ],
   "source": [
    "ratings.info()"
   ]
  },
  {
   "cell_type": "markdown",
   "id": "3eb61e94",
   "metadata": {},
   "source": [
    "***Basic check of 'users'***"
   ]
  },
  {
   "cell_type": "code",
   "execution_count": 16,
   "id": "2523e995",
   "metadata": {},
   "outputs": [
    {
     "data": {
      "text/plain": [
       "(6040, 5)"
      ]
     },
     "execution_count": 16,
     "metadata": {},
     "output_type": "execute_result"
    }
   ],
   "source": [
    "# Shape\n",
    "\n",
    "users.shape"
   ]
  },
  {
   "cell_type": "code",
   "execution_count": 17,
   "id": "f0f194a2",
   "metadata": {},
   "outputs": [
    {
     "name": "stdout",
     "output_type": "stream",
     "text": [
      "<class 'pandas.core.frame.DataFrame'>\n",
      "RangeIndex: 6040 entries, 0 to 6039\n",
      "Data columns (total 5 columns):\n",
      " #   Column      Non-Null Count  Dtype \n",
      "---  ------      --------------  ----- \n",
      " 0   UserID      6040 non-null   object\n",
      " 1   Gender      6040 non-null   object\n",
      " 2   Age         6040 non-null   object\n",
      " 3   Occupation  6040 non-null   object\n",
      " 4   Zip-code    6040 non-null   object\n",
      "dtypes: object(5)\n",
      "memory usage: 236.1+ KB\n"
     ]
    }
   ],
   "source": [
    "users.info()"
   ]
  },
  {
   "cell_type": "markdown",
   "id": "1579be02",
   "metadata": {},
   "source": [
    "### Obsservations:\n",
    "\n",
    "1. 'movies' has 3883 rows and null values are only present in genres feature\n",
    "\n",
    "2. 'ratings' has 1000209 rows and no null values\n",
    "\n",
    "3. 'users' has 6040 rows and no null values"
   ]
  },
  {
   "cell_type": "markdown",
   "id": "587debd6",
   "metadata": {},
   "source": [
    "***Further processing 'ratings'***"
   ]
  },
  {
   "cell_type": "code",
   "execution_count": 21,
   "id": "b28fffd9",
   "metadata": {},
   "outputs": [],
   "source": [
    "r=ratings.copy()\n",
    "r['Timestamp']=r['Timestamp'].apply(lambda x:int(x))\n",
    "r['hour']=r['Timestamp'].apply(lambda x: datetime.fromtimestamp(x).hour)\n",
    "# r.head(2)\n"
   ]
  },
  {
   "cell_type": "markdown",
   "id": "1a713d98",
   "metadata": {},
   "source": [
    "***Creating new features in 'users'***\\\n",
    "***1. Creating the count of rating given by each user***\\\n",
    "***2. Getting the median value of the rating of each user***\\\n",
    "***3. Getting the median value of the hour of each user***\n"
   ]
  },
  {
   "cell_type": "code",
   "execution_count": 22,
   "id": "5305b8c3",
   "metadata": {},
   "outputs": [
    {
     "data": {
      "text/html": [
       "<div>\n",
       "<style scoped>\n",
       "    .dataframe tbody tr th:only-of-type {\n",
       "        vertical-align: middle;\n",
       "    }\n",
       "\n",
       "    .dataframe tbody tr th {\n",
       "        vertical-align: top;\n",
       "    }\n",
       "\n",
       "    .dataframe thead th {\n",
       "        text-align: right;\n",
       "    }\n",
       "</style>\n",
       "<table border=\"1\" class=\"dataframe\">\n",
       "  <thead>\n",
       "    <tr style=\"text-align: right;\">\n",
       "      <th></th>\n",
       "      <th>UserID</th>\n",
       "      <th>Gender</th>\n",
       "      <th>Age</th>\n",
       "      <th>Occupation</th>\n",
       "      <th>Zip-code</th>\n",
       "      <th>RatingCount</th>\n",
       "      <th>RatingMedian</th>\n",
       "      <th>HourMedian</th>\n",
       "    </tr>\n",
       "  </thead>\n",
       "  <tbody>\n",
       "    <tr>\n",
       "      <th>0</th>\n",
       "      <td>1</td>\n",
       "      <td>F</td>\n",
       "      <td>1</td>\n",
       "      <td>10</td>\n",
       "      <td>48067</td>\n",
       "      <td>53</td>\n",
       "      <td>4.0</td>\n",
       "      <td>4.0</td>\n",
       "    </tr>\n",
       "    <tr>\n",
       "      <th>1</th>\n",
       "      <td>2</td>\n",
       "      <td>M</td>\n",
       "      <td>56</td>\n",
       "      <td>16</td>\n",
       "      <td>70072</td>\n",
       "      <td>129</td>\n",
       "      <td>4.0</td>\n",
       "      <td>3.0</td>\n",
       "    </tr>\n",
       "    <tr>\n",
       "      <th>2</th>\n",
       "      <td>3</td>\n",
       "      <td>M</td>\n",
       "      <td>25</td>\n",
       "      <td>15</td>\n",
       "      <td>55117</td>\n",
       "      <td>51</td>\n",
       "      <td>4.0</td>\n",
       "      <td>2.0</td>\n",
       "    </tr>\n",
       "  </tbody>\n",
       "</table>\n",
       "</div>"
      ],
      "text/plain": [
       "  UserID Gender Age Occupation Zip-code  RatingCount  RatingMedian  HourMedian\n",
       "0      1      F   1         10    48067           53           4.0         4.0\n",
       "1      2      M  56         16    70072          129           4.0         3.0\n",
       "2      3      M  25         15    55117           51           4.0         2.0"
      ]
     },
     "execution_count": 22,
     "metadata": {},
     "output_type": "execute_result"
    }
   ],
   "source": [
    "\n",
    "# Count of ratings given by each user\n",
    "users = users.merge(r.groupby(by='UserID').size().reset_index(name='RatingCount'),\n",
    "                    on='UserID')\n",
    "\n",
    "\n",
    "# Median rating given by each user\n",
    "users = users.merge(r.groupby(by='UserID').Rating.median().reset_index(name='RatingMedian'),\n",
    "                    on='UserID')\n",
    "\n",
    "# Median hour at which each user gives the rating\n",
    "users = users.merge(r.groupby(by='UserID').hour.median().reset_index(name='HourMedian'),\n",
    "                    on='UserID')\n",
    "\n",
    "users.head(3)"
   ]
  },
  {
   "cell_type": "markdown",
   "id": "b0761833",
   "metadata": {},
   "source": [
    "***Univariate analysis of 'Users' table***"
   ]
  },
  {
   "cell_type": "code",
   "execution_count": 23,
   "id": "47cdd224",
   "metadata": {},
   "outputs": [
    {
     "data": {
      "image/png": "[encoded data removed]",
      "text/plain": [
       "<Figure size 1008x1440 with 7 Axes>"
      ]
     },
     "metadata": {
      "needs_background": "light"
     },
     "output_type": "display_data"
    }
   ],
   "source": [
    "cat_cols = ['Gender', 'Age', 'Occupation', 'Zip-code', 'RatingCount','RatingMedian', 'HourMedian']\n",
    "\n",
    "# Code snippet to create count plot for the categorical features:\n",
    "\n",
    "cat_cols\n",
    "title=['Gender','Age','Occupation', 'Zip-code', 'RatingCount', 'RatingMedian','HourMedian']\n",
    "\n",
    "plt.figure(figsize=(14,20))\n",
    "sns.set(style='darkgrid')\n",
    "\n",
    "for i, variable in enumerate(cat_cols):\n",
    "    plt.subplot(4,2,i+1)\n",
    "    ax=sns.countplot(x=users[variable], data=users,  \n",
    "                     order=users[variable].value_counts(ascending=False).iloc[:7].index)\n",
    "    \n",
    "    for p in ax.patches:\n",
    "                           percentage = '{:.1f}%'.format(100 * p.get_height()/len(users[variable]))\n",
    "                           x = p.get_x() + p.get_width() / 2 - 0.05\n",
    "                           y = p.get_y() + p.get_height()\n",
    "                           plt.annotate(percentage, (x, y),ha='center')\n",
    "    plt.tight_layout()\n",
    "    plt.title(title[i].upper())"
   ]
  },
  {
   "cell_type": "markdown",
   "id": "d11f8679",
   "metadata": {},
   "source": [
    "***Key insights from users behaviour***\n",
    "1. Male viewers largely outweigh the female viewers\n",
    "2. More than 70% of the viewers belong to age group 25,35 and 18 (i.e age bracket of 18-24)\n",
    "3. Region wise trend couldnot be observed the high level analysis\n",
    "4. Most of the users view(or rate) 20-30 movies\n",
    "5. ~88% of the content recieved 3 and 4 ratings, while ~8% got 5 rating\n",
    "6. Since details like timezone are not provided, granularity could not be provided. However, traffic is higher in early morning and late night.\n",
    "7. As evident from the age propotions, most of the viewers are graduate student and from other academic background. Also, most of the active users have higher exposure to technology\n",
    "\n"
   ]
  },
  {
   "cell_type": "markdown",
   "id": "9a1b3c5a",
   "metadata": {},
   "source": [
    "***Questionnaire:***\n",
    "1. Users of which age group have watched and rated the most number of movies?"
   ]
  },
  {
   "cell_type": "code",
   "execution_count": 24,
   "id": "b7d07ee7",
   "metadata": {},
   "outputs": [
    {
     "data": {
      "text/html": [
       "<div>\n",
       "<style scoped>\n",
       "    .dataframe tbody tr th:only-of-type {\n",
       "        vertical-align: middle;\n",
       "    }\n",
       "\n",
       "    .dataframe tbody tr th {\n",
       "        vertical-align: top;\n",
       "    }\n",
       "\n",
       "    .dataframe thead th {\n",
       "        text-align: right;\n",
       "    }\n",
       "</style>\n",
       "<table border=\"1\" class=\"dataframe\">\n",
       "  <thead>\n",
       "    <tr style=\"text-align: right;\">\n",
       "      <th></th>\n",
       "      <th>Age</th>\n",
       "      <th>Count</th>\n",
       "    </tr>\n",
       "  </thead>\n",
       "  <tbody>\n",
       "    <tr>\n",
       "      <th>2</th>\n",
       "      <td>25</td>\n",
       "      <td>395556</td>\n",
       "    </tr>\n",
       "    <tr>\n",
       "      <th>3</th>\n",
       "      <td>35</td>\n",
       "      <td>199003</td>\n",
       "    </tr>\n",
       "    <tr>\n",
       "      <th>1</th>\n",
       "      <td>18</td>\n",
       "      <td>183536</td>\n",
       "    </tr>\n",
       "  </tbody>\n",
       "</table>\n",
       "</div>"
      ],
      "text/plain": [
       "  Age   Count\n",
       "2  25  395556\n",
       "3  35  199003\n",
       "1  18  183536"
      ]
     },
     "execution_count": 24,
     "metadata": {},
     "output_type": "execute_result"
    }
   ],
   "source": [
    "users.groupby(by='Age')['RatingCount'].sum().reset_index(name='Count').sort_values(by='Count',\n",
    "                                                                                   ascending=False)[:3]"
   ]
  },
  {
   "cell_type": "markdown",
   "id": "e1311544",
   "metadata": {},
   "source": [
    "***Ans.***\n",
    "group-25 (age: \"25-34\")"
   ]
  },
  {
   "cell_type": "markdown",
   "id": "94727169",
   "metadata": {},
   "source": [
    "***Questionnaire:***\\\n",
    "2. Users belonging to which profession have watched and rated the most movies?\\\n",
    "***Ans. Occupation 4 - \"college/grad student\"***"
   ]
  },
  {
   "cell_type": "code",
   "execution_count": 25,
   "id": "1a876a21",
   "metadata": {},
   "outputs": [
    {
     "data": {
      "text/html": [
       "<div>\n",
       "<style scoped>\n",
       "    .dataframe tbody tr th:only-of-type {\n",
       "        vertical-align: middle;\n",
       "    }\n",
       "\n",
       "    .dataframe tbody tr th {\n",
       "        vertical-align: top;\n",
       "    }\n",
       "\n",
       "    .dataframe thead th {\n",
       "        text-align: right;\n",
       "    }\n",
       "</style>\n",
       "<table border=\"1\" class=\"dataframe\">\n",
       "  <thead>\n",
       "    <tr style=\"text-align: right;\">\n",
       "      <th></th>\n",
       "      <th>Occupation</th>\n",
       "      <th>Count_Occupation</th>\n",
       "    </tr>\n",
       "  </thead>\n",
       "  <tbody>\n",
       "    <tr>\n",
       "      <th>15</th>\n",
       "      <td>4</td>\n",
       "      <td>131032</td>\n",
       "    </tr>\n",
       "    <tr>\n",
       "      <th>0</th>\n",
       "      <td>0</td>\n",
       "      <td>130499</td>\n",
       "    </tr>\n",
       "    <tr>\n",
       "      <th>18</th>\n",
       "      <td>7</td>\n",
       "      <td>105425</td>\n",
       "    </tr>\n",
       "  </tbody>\n",
       "</table>\n",
       "</div>"
      ],
      "text/plain": [
       "   Occupation  Count_Occupation\n",
       "15          4            131032\n",
       "0           0            130499\n",
       "18          7            105425"
      ]
     },
     "execution_count": 25,
     "metadata": {},
     "output_type": "execute_result"
    }
   ],
   "source": [
    "users.groupby(by='Occupation')['RatingCount'].sum().reset_index(name='Count_Occupation').sort_values(by='Count_Occupation',\n",
    "                                                                                                    ascending=False)[:3]"
   ]
  },
  {
   "cell_type": "markdown",
   "id": "02642016",
   "metadata": {},
   "source": [
    "***Questionnaire:***\n",
    "    \n",
    "3. Most of the users in our dataset who’ve rated the movies are Male. (T/F)\n",
    "    \n",
    "***Ans: T***"
   ]
  },
  {
   "cell_type": "code",
   "execution_count": 26,
   "id": "037217a8",
   "metadata": {},
   "outputs": [
    {
     "data": {
      "text/html": [
       "<div>\n",
       "<style scoped>\n",
       "    .dataframe tbody tr th:only-of-type {\n",
       "        vertical-align: middle;\n",
       "    }\n",
       "\n",
       "    .dataframe tbody tr th {\n",
       "        vertical-align: top;\n",
       "    }\n",
       "\n",
       "    .dataframe thead th {\n",
       "        text-align: right;\n",
       "    }\n",
       "</style>\n",
       "<table border=\"1\" class=\"dataframe\">\n",
       "  <thead>\n",
       "    <tr style=\"text-align: right;\">\n",
       "      <th></th>\n",
       "      <th>Gender</th>\n",
       "      <th>Count_Gender</th>\n",
       "    </tr>\n",
       "  </thead>\n",
       "  <tbody>\n",
       "    <tr>\n",
       "      <th>1</th>\n",
       "      <td>M</td>\n",
       "      <td>753769</td>\n",
       "    </tr>\n",
       "    <tr>\n",
       "      <th>0</th>\n",
       "      <td>F</td>\n",
       "      <td>246440</td>\n",
       "    </tr>\n",
       "  </tbody>\n",
       "</table>\n",
       "</div>"
      ],
      "text/plain": [
       "  Gender  Count_Gender\n",
       "1      M        753769\n",
       "0      F        246440"
      ]
     },
     "execution_count": 26,
     "metadata": {},
     "output_type": "execute_result"
    }
   ],
   "source": [
    "users.groupby(by='Gender')['RatingCount'].sum().reset_index(name='Count_Gender').sort_values(by='Count_Gender',\n",
    "                                                                                                    ascending=False)[:3]"
   ]
  },
  {
   "cell_type": "markdown",
   "id": "57ad215c",
   "metadata": {},
   "source": [
    "---\n",
    "**Median count of movies seen by different age groups**"
   ]
  },
  {
   "cell_type": "code",
   "execution_count": 27,
   "id": "53ed0edd",
   "metadata": {},
   "outputs": [
    {
     "data": {
      "image/png": "[encoded data removed]",
      "text/plain": [
       "<Figure size 648x360 with 1 Axes>"
      ]
     },
     "metadata": {},
     "output_type": "display_data"
    }
   ],
   "source": [
    "u1=users.copy()\n",
    "u1 = u1.groupby(by='Age')['RatingCount'].median().reset_index().sort_values(by='RatingCount',\n",
    "                                                                       ascending=False)\n",
    "\n",
    "plt.figure(figsize=(9,5))\n",
    "sns.barplot(data=u1, x='RatingCount', y='Age').set(title='Median movie count by each age group')\n",
    "plt.show()"
   ]
  },
  {
   "cell_type": "markdown",
   "id": "5af17cd6",
   "metadata": {},
   "source": [
    "---\n",
    "**Median count of movies seen by different Occupation**"
   ]
  },
  {
   "cell_type": "code",
   "execution_count": 28,
   "id": "c5cc1d21",
   "metadata": {},
   "outputs": [
    {
     "data": {
      "image/png": "[encoded data removed]",
      "text/plain": [
       "<Figure size 648x360 with 1 Axes>"
      ]
     },
     "metadata": {},
     "output_type": "display_data"
    }
   ],
   "source": [
    "u2=users.copy()\n",
    "u2 = u2.groupby(by='Occupation')['RatingCount'].median().reset_index().sort_values(by='RatingCount',\n",
    "                                                                       ascending=False)\n",
    "\n",
    "\n",
    "plt.figure(figsize=(9,5))\n",
    "sns.barplot(data=u2, x='RatingCount', y='Occupation').set(title='Median movie count by each Occupation')\n",
    "plt.show()"
   ]
  },
  {
   "cell_type": "markdown",
   "id": "d9a9c3bc",
   "metadata": {},
   "source": [
    "***Though the proportion of occupation no. 19( \"unemployed\"), 20(\"writer\"), 18(\"tradesman/craftsman\") is not high in the users list, such blue collar workers have high watch rate compared to the white collar workers!!!*** "
   ]
  },
  {
   "cell_type": "markdown",
   "id": "d339aad6",
   "metadata": {},
   "source": [
    "---\n",
    "**Movies**"
   ]
  },
  {
   "cell_type": "code",
   "execution_count": 30,
   "id": "ba7be1d5",
   "metadata": {},
   "outputs": [
    {
     "data": {
      "text/html": [
       "<div>\n",
       "<style scoped>\n",
       "    .dataframe tbody tr th:only-of-type {\n",
       "        vertical-align: middle;\n",
       "    }\n",
       "\n",
       "    .dataframe tbody tr th {\n",
       "        vertical-align: top;\n",
       "    }\n",
       "\n",
       "    .dataframe thead th {\n",
       "        text-align: right;\n",
       "    }\n",
       "</style>\n",
       "<table border=\"1\" class=\"dataframe\">\n",
       "  <thead>\n",
       "    <tr style=\"text-align: right;\">\n",
       "      <th></th>\n",
       "      <th>MovieID</th>\n",
       "      <th>Title</th>\n",
       "      <th>Genres</th>\n",
       "    </tr>\n",
       "  </thead>\n",
       "  <tbody>\n",
       "    <tr>\n",
       "      <th>0</th>\n",
       "      <td>1</td>\n",
       "      <td>Toy Story (1995)</td>\n",
       "      <td>Animation|Children's|Comedy</td>\n",
       "    </tr>\n",
       "    <tr>\n",
       "      <th>1</th>\n",
       "      <td>2</td>\n",
       "      <td>Jumanji (1995)</td>\n",
       "      <td>Adventure|Children's|Fantasy</td>\n",
       "    </tr>\n",
       "    <tr>\n",
       "      <th>2</th>\n",
       "      <td>3</td>\n",
       "      <td>Grumpier Old Men (1995)</td>\n",
       "      <td>Comedy|Romance</td>\n",
       "    </tr>\n",
       "  </tbody>\n",
       "</table>\n",
       "</div>"
      ],
      "text/plain": [
       "  MovieID                    Title                        Genres\n",
       "0       1         Toy Story (1995)   Animation|Children's|Comedy\n",
       "1       2           Jumanji (1995)  Adventure|Children's|Fantasy\n",
       "2       3  Grumpier Old Men (1995)                Comedy|Romance"
      ]
     },
     "execution_count": 30,
     "metadata": {},
     "output_type": "execute_result"
    }
   ],
   "source": [
    "movies.head(3)"
   ]
  },
  {
   "cell_type": "markdown",
   "id": "88eebeed",
   "metadata": {},
   "source": [
    "***'Movies' dataset needs preprocessing to extract Genre and release year***"
   ]
  },
  {
   "cell_type": "code",
   "execution_count": 31,
   "id": "d0b4d674",
   "metadata": {},
   "outputs": [],
   "source": [
    "m = movies.copy()\n",
    "m['Genres'] = m['Genres'].str.split('|')\n",
    "m = m.explode('Genres')\n",
    "# m = m.pivot(index='MovieID', columns='Genres', values='Title')\n",
    "m['Genres'] = m['Genres'].str.strip()\n",
    "genre_list=m['Genres'].unique().tolist()"
   ]
  },
  {
   "cell_type": "markdown",
   "id": "c4b3d525",
   "metadata": {},
   "source": [
    "##### There are lot of redundant genres which needs correct mapping. \n",
    "##### So a mapping sheet is prepared manually and updated"
   ]
  },
  {
   "cell_type": "code",
   "execution_count": 32,
   "id": "7346c35f",
   "metadata": {},
   "outputs": [],
   "source": [
    "path4=r'C:\\Users\\Alfred Paul\\OneDrive\\Desktop\\Scaler_CaseStudies\\JMJ_Zee\\JMJ_Map2.csv'\n",
    "genre_map=pd.read_csv(path4)\n",
    "\n",
    "genre_map['Genres']=genre_map['Genres'].str.strip()\n",
    "genre_map['Updated_Genre']=genre_map['Updated_Genre'].str.strip()\n",
    "\n",
    "# Creating the dictionary\n",
    "d=dict(genre_map.values)\n",
    "\n",
    "# Mapping with the existing 'Genres'\n",
    "m['Genres']=m['Genres'].map(d)"
   ]
  },
  {
   "cell_type": "code",
   "execution_count": 33,
   "id": "c68cbf46",
   "metadata": {},
   "outputs": [],
   "source": [
    "# Function to extract years from the movie title:\n",
    "\n",
    "def findyear(year):\n",
    "    for years in range(1500,2022):\n",
    "        years=str(years)\n",
    "        if(year.find(years)!=-1):\n",
    "            return years"
   ]
  },
  {
   "cell_type": "code",
   "execution_count": 34,
   "id": "76bb63e8",
   "metadata": {},
   "outputs": [
    {
     "data": {
      "text/html": [
       "<div>\n",
       "<style scoped>\n",
       "    .dataframe tbody tr th:only-of-type {\n",
       "        vertical-align: middle;\n",
       "    }\n",
       "\n",
       "    .dataframe tbody tr th {\n",
       "        vertical-align: top;\n",
       "    }\n",
       "\n",
       "    .dataframe thead th {\n",
       "        text-align: right;\n",
       "    }\n",
       "</style>\n",
       "<table border=\"1\" class=\"dataframe\">\n",
       "  <thead>\n",
       "    <tr style=\"text-align: right;\">\n",
       "      <th></th>\n",
       "      <th>MovieID</th>\n",
       "      <th>Title</th>\n",
       "      <th>Genres</th>\n",
       "      <th>ReleaseYear</th>\n",
       "      <th>MovieAge</th>\n",
       "    </tr>\n",
       "  </thead>\n",
       "  <tbody>\n",
       "    <tr>\n",
       "      <th>0</th>\n",
       "      <td>1</td>\n",
       "      <td>Toy Story (1995)</td>\n",
       "      <td>Animation</td>\n",
       "      <td>1995</td>\n",
       "      <td>27</td>\n",
       "    </tr>\n",
       "    <tr>\n",
       "      <th>0</th>\n",
       "      <td>1</td>\n",
       "      <td>Toy Story (1995)</td>\n",
       "      <td>Children</td>\n",
       "      <td>1995</td>\n",
       "      <td>27</td>\n",
       "    </tr>\n",
       "    <tr>\n",
       "      <th>0</th>\n",
       "      <td>1</td>\n",
       "      <td>Toy Story (1995)</td>\n",
       "      <td>Comedy</td>\n",
       "      <td>1995</td>\n",
       "      <td>27</td>\n",
       "    </tr>\n",
       "  </tbody>\n",
       "</table>\n",
       "</div>"
      ],
      "text/plain": [
       "  MovieID             Title     Genres ReleaseYear  MovieAge\n",
       "0       1  Toy Story (1995)  Animation        1995        27\n",
       "0       1  Toy Story (1995)   Children        1995        27\n",
       "0       1  Toy Story (1995)     Comedy        1995        27"
      ]
     },
     "execution_count": 34,
     "metadata": {},
     "output_type": "execute_result"
    }
   ],
   "source": [
    "m['ReleaseYear']=m['Title'].apply(findyear)\n",
    "\n",
    "# Dropping the null 'ReleaseYear'\n",
    "m = m[m['ReleaseYear'].notna()]\n",
    "\n",
    "# Finding movie age:\n",
    "m['MovieAge']=m['ReleaseYear'].apply(lambda x:int(2022)-int(x))\n",
    "\n",
    "m.head(3)"
   ]
  },
  {
   "cell_type": "markdown",
   "id": "6c7b36e5",
   "metadata": {},
   "source": [
    "---\n",
    "**Median ReleaseYear across different genres**"
   ]
  },
  {
   "cell_type": "code",
   "execution_count": 35,
   "id": "024026ec",
   "metadata": {},
   "outputs": [
    {
     "data": {
      "text/plain": [
       "Genres\n",
       "Action       1993.0\n",
       "Adventure    1989.0\n",
       "Animation    1992.5\n",
       "Name: ReleaseYear, dtype: float64"
      ]
     },
     "execution_count": 35,
     "metadata": {},
     "output_type": "execute_result"
    }
   ],
   "source": [
    "m.groupby(by='Genres')['ReleaseYear'].median().head(3)"
   ]
  },
  {
   "cell_type": "markdown",
   "id": "83073f35",
   "metadata": {},
   "source": [
    "**It can be observed that most of the movies across all genres were released pre 2000**"
   ]
  },
  {
   "cell_type": "code",
   "execution_count": 36,
   "id": "074b9a26",
   "metadata": {},
   "outputs": [
    {
     "data": {
      "image/png": "[encoded data removed]",
      "text/plain": [
       "<Figure size 504x504 with 1 Axes>"
      ]
     },
     "metadata": {},
     "output_type": "display_data"
    }
   ],
   "source": [
    "# Distribution of top 10 movie genres\n",
    "\n",
    "plt.figure(figsize=(7,7))\n",
    "m['Genres'].value_counts()[:10].plot(kind='pie', autopct='%.1f',title='Movie_Genres')\n",
    "plt.show()"
   ]
  },
  {
   "cell_type": "markdown",
   "id": "ab1866d0",
   "metadata": {},
   "source": [
    "**Drama and comedy are the most popular genres**"
   ]
  },
  {
   "cell_type": "markdown",
   "id": "db2e148e",
   "metadata": {},
   "source": [
    "---\n",
    "**Preparing the overall dataset merging all the tables**"
   ]
  },
  {
   "cell_type": "code",
   "execution_count": 81,
   "id": "0db85a11",
   "metadata": {},
   "outputs": [],
   "source": [
    "# Selecting the most rated movies\n",
    "select_movies = ratings.MovieID.value_counts().head(1000).index.to_list()\n",
    "\n",
    "# Extracting those popular movies\n",
    "m2 = m.loc[m.MovieID.isin(select_movies)]\n",
    "r2 = ratings.loc[ratings.MovieID.isin(select_movies)]\n"
   ]
  },
  {
   "cell_type": "code",
   "execution_count": 82,
   "id": "7b0ab022",
   "metadata": {},
   "outputs": [
    {
     "data": {
      "text/html": [
       "<div>\n",
       "<style scoped>\n",
       "    .dataframe tbody tr th:only-of-type {\n",
       "        vertical-align: middle;\n",
       "    }\n",
       "\n",
       "    .dataframe tbody tr th {\n",
       "        vertical-align: top;\n",
       "    }\n",
       "\n",
       "    .dataframe thead th {\n",
       "        text-align: right;\n",
       "    }\n",
       "</style>\n",
       "<table border=\"1\" class=\"dataframe\">\n",
       "  <thead>\n",
       "    <tr style=\"text-align: right;\">\n",
       "      <th></th>\n",
       "      <th>UserID</th>\n",
       "      <th>MovieID</th>\n",
       "      <th>Rating</th>\n",
       "      <th>Timestamp</th>\n",
       "      <th>Title</th>\n",
       "      <th>Genres</th>\n",
       "      <th>ReleaseYear</th>\n",
       "      <th>MovieAge</th>\n",
       "      <th>Gender</th>\n",
       "      <th>Age</th>\n",
       "      <th>Occupation</th>\n",
       "      <th>Zip-code</th>\n",
       "      <th>RatingCount</th>\n",
       "      <th>RatingMedian</th>\n",
       "      <th>HourMedian</th>\n",
       "    </tr>\n",
       "  </thead>\n",
       "  <tbody>\n",
       "    <tr>\n",
       "      <th>0</th>\n",
       "      <td>1</td>\n",
       "      <td>1193</td>\n",
       "      <td>5</td>\n",
       "      <td>978300760</td>\n",
       "      <td>One Flew Over the Cuckoo's Nest (1975)</td>\n",
       "      <td>Drama</td>\n",
       "      <td>1975</td>\n",
       "      <td>47</td>\n",
       "      <td>F</td>\n",
       "      <td>1</td>\n",
       "      <td>10</td>\n",
       "      <td>48067</td>\n",
       "      <td>53</td>\n",
       "      <td>4.0</td>\n",
       "      <td>4.0</td>\n",
       "    </tr>\n",
       "    <tr>\n",
       "      <th>1</th>\n",
       "      <td>1</td>\n",
       "      <td>661</td>\n",
       "      <td>3</td>\n",
       "      <td>978302109</td>\n",
       "      <td>James and the Giant Peach (1996)</td>\n",
       "      <td>Animation</td>\n",
       "      <td>1996</td>\n",
       "      <td>26</td>\n",
       "      <td>F</td>\n",
       "      <td>1</td>\n",
       "      <td>10</td>\n",
       "      <td>48067</td>\n",
       "      <td>53</td>\n",
       "      <td>4.0</td>\n",
       "      <td>4.0</td>\n",
       "    </tr>\n",
       "    <tr>\n",
       "      <th>2</th>\n",
       "      <td>1</td>\n",
       "      <td>661</td>\n",
       "      <td>3</td>\n",
       "      <td>978302109</td>\n",
       "      <td>James and the Giant Peach (1996)</td>\n",
       "      <td>Children</td>\n",
       "      <td>1996</td>\n",
       "      <td>26</td>\n",
       "      <td>F</td>\n",
       "      <td>1</td>\n",
       "      <td>10</td>\n",
       "      <td>48067</td>\n",
       "      <td>53</td>\n",
       "      <td>4.0</td>\n",
       "      <td>4.0</td>\n",
       "    </tr>\n",
       "  </tbody>\n",
       "</table>\n",
       "</div>"
      ],
      "text/plain": [
       "  UserID MovieID  Rating  Timestamp                                   Title  \\\n",
       "0      1    1193       5  978300760  One Flew Over the Cuckoo's Nest (1975)   \n",
       "1      1     661       3  978302109        James and the Giant Peach (1996)   \n",
       "2      1     661       3  978302109        James and the Giant Peach (1996)   \n",
       "\n",
       "      Genres ReleaseYear  MovieAge Gender Age Occupation Zip-code  \\\n",
       "0      Drama        1975        47      F   1         10    48067   \n",
       "1  Animation        1996        26      F   1         10    48067   \n",
       "2   Children        1996        26      F   1         10    48067   \n",
       "\n",
       "   RatingCount  RatingMedian  HourMedian  \n",
       "0           53           4.0         4.0  \n",
       "1           53           4.0         4.0  \n",
       "2           53           4.0         4.0  "
      ]
     },
     "execution_count": 82,
     "metadata": {},
     "output_type": "execute_result"
    }
   ],
   "source": [
    "# Merging the rating details\n",
    "comp_database = pd.merge(r2,m2,how='inner',on='MovieID')\n",
    "\n",
    "u3=users.copy()\n",
    "\n",
    "# Merging the user details\n",
    "comp_database = pd.merge(comp_database,u3,how='inner',on='UserID')\n",
    "\n",
    "# Fully merged dataset\n",
    "comp_database.head(3)"
   ]
  },
  {
   "cell_type": "markdown",
   "id": "1324cec4",
   "metadata": {},
   "source": [
    "---\n",
    "**Most rated genres**"
   ]
  },
  {
   "cell_type": "code",
   "execution_count": 43,
   "id": "a56ce486",
   "metadata": {},
   "outputs": [
    {
     "data": {
      "image/png": "[encoded data removed]",
      "text/plain": [
       "<Figure size 648x360 with 1 Axes>"
      ]
     },
     "metadata": {},
     "output_type": "display_data"
    }
   ],
   "source": [
    "cd1 = comp_database.groupby(by='Genres').size().reset_index(name='RatingCount').sort_values(by='RatingCount',\n",
    "                                                                                      ascending=False)\n",
    "\n",
    "plt.figure(figsize=(9,5))\n",
    "sns.barplot(data=cd1, x='RatingCount', y='Genres').set(title='Most rated genre')\n",
    "plt.show()"
   ]
  },
  {
   "cell_type": "markdown",
   "id": "b0f764a2",
   "metadata": {},
   "source": [
    "---\n",
    "**Most watched movies in each genre**"
   ]
  },
  {
   "cell_type": "code",
   "execution_count": 44,
   "id": "0f8f541e",
   "metadata": {},
   "outputs": [
    {
     "data": {
      "text/html": [
       "<div>\n",
       "<style scoped>\n",
       "    .dataframe tbody tr th:only-of-type {\n",
       "        vertical-align: middle;\n",
       "    }\n",
       "\n",
       "    .dataframe tbody tr th {\n",
       "        vertical-align: top;\n",
       "    }\n",
       "\n",
       "    .dataframe thead th {\n",
       "        text-align: right;\n",
       "    }\n",
       "</style>\n",
       "<table border=\"1\" class=\"dataframe\">\n",
       "  <thead>\n",
       "    <tr style=\"text-align: right;\">\n",
       "      <th></th>\n",
       "      <th>Genres</th>\n",
       "      <th>MostViewed</th>\n",
       "    </tr>\n",
       "  </thead>\n",
       "  <tbody>\n",
       "    <tr>\n",
       "      <th>0</th>\n",
       "      <td>Action</td>\n",
       "      <td>Star Wars: Episode IV - A New Hope (1977)</td>\n",
       "    </tr>\n",
       "    <tr>\n",
       "      <th>1</th>\n",
       "      <td>Adventure</td>\n",
       "      <td>Star Wars: Episode IV - A New Hope (1977)</td>\n",
       "    </tr>\n",
       "    <tr>\n",
       "      <th>2</th>\n",
       "      <td>Animation</td>\n",
       "      <td>Toy Story (1995)</td>\n",
       "    </tr>\n",
       "    <tr>\n",
       "      <th>3</th>\n",
       "      <td>Children</td>\n",
       "      <td>E.T. the Extra-Terrestrial (1982)</td>\n",
       "    </tr>\n",
       "    <tr>\n",
       "      <th>4</th>\n",
       "      <td>Comedy</td>\n",
       "      <td>American Beauty (1999)</td>\n",
       "    </tr>\n",
       "  </tbody>\n",
       "</table>\n",
       "</div>"
      ],
      "text/plain": [
       "      Genres                                 MostViewed\n",
       "0     Action  Star Wars: Episode IV - A New Hope (1977)\n",
       "1  Adventure  Star Wars: Episode IV - A New Hope (1977)\n",
       "2  Animation                           Toy Story (1995)\n",
       "3   Children          E.T. the Extra-Terrestrial (1982)\n",
       "4     Comedy                     American Beauty (1999)"
      ]
     },
     "execution_count": 44,
     "metadata": {},
     "output_type": "execute_result"
    }
   ],
   "source": [
    "cd2=comp_database.groupby(by='Genres')['Title'].agg(pd.Series.mode).reset_index(name='MostViewed')\n",
    "cd2[:5]"
   ]
  },
  {
   "cell_type": "markdown",
   "id": "67355b62",
   "metadata": {},
   "source": [
    "---\n",
    "**Most watched 'Genres' across different age groups**"
   ]
  },
  {
   "cell_type": "code",
   "execution_count": 83,
   "id": "f45d5237",
   "metadata": {},
   "outputs": [
    {
     "data": {
      "text/html": [
       "<div>\n",
       "<style scoped>\n",
       "    .dataframe tbody tr th:only-of-type {\n",
       "        vertical-align: middle;\n",
       "    }\n",
       "\n",
       "    .dataframe tbody tr th {\n",
       "        vertical-align: top;\n",
       "    }\n",
       "\n",
       "    .dataframe thead th {\n",
       "        text-align: right;\n",
       "    }\n",
       "</style>\n",
       "<table border=\"1\" class=\"dataframe\">\n",
       "  <thead>\n",
       "    <tr style=\"text-align: right;\">\n",
       "      <th></th>\n",
       "      <th>Age</th>\n",
       "      <th>MostViewed_Genre</th>\n",
       "    </tr>\n",
       "  </thead>\n",
       "  <tbody>\n",
       "    <tr>\n",
       "      <th>0</th>\n",
       "      <td>1</td>\n",
       "      <td>Comedy</td>\n",
       "    </tr>\n",
       "    <tr>\n",
       "      <th>1</th>\n",
       "      <td>18</td>\n",
       "      <td>Comedy</td>\n",
       "    </tr>\n",
       "    <tr>\n",
       "      <th>2</th>\n",
       "      <td>25</td>\n",
       "      <td>Comedy</td>\n",
       "    </tr>\n",
       "    <tr>\n",
       "      <th>3</th>\n",
       "      <td>35</td>\n",
       "      <td>Comedy</td>\n",
       "    </tr>\n",
       "  </tbody>\n",
       "</table>\n",
       "</div>"
      ],
      "text/plain": [
       "  Age MostViewed_Genre\n",
       "0   1           Comedy\n",
       "1  18           Comedy\n",
       "2  25           Comedy\n",
       "3  35           Comedy"
      ]
     },
     "execution_count": 83,
     "metadata": {},
     "output_type": "execute_result"
    }
   ],
   "source": [
    "cd3=comp_database.groupby(by='Age')['Genres'].agg(pd.Series.mode).reset_index(name='MostViewed_Genre')\n",
    "cd3.head(4)"
   ]
  },
  {
   "cell_type": "markdown",
   "id": "7d81f7a3",
   "metadata": {},
   "source": [
    "---\n",
    "**Most watched 'Genres' across different 'Occupation'**"
   ]
  },
  {
   "cell_type": "code",
   "execution_count": 84,
   "id": "da808189",
   "metadata": {},
   "outputs": [
    {
     "data": {
      "text/html": [
       "<div>\n",
       "<style scoped>\n",
       "    .dataframe tbody tr th:only-of-type {\n",
       "        vertical-align: middle;\n",
       "    }\n",
       "\n",
       "    .dataframe tbody tr th {\n",
       "        vertical-align: top;\n",
       "    }\n",
       "\n",
       "    .dataframe thead th {\n",
       "        text-align: right;\n",
       "    }\n",
       "</style>\n",
       "<table border=\"1\" class=\"dataframe\">\n",
       "  <thead>\n",
       "    <tr style=\"text-align: right;\">\n",
       "      <th></th>\n",
       "      <th>Occupation</th>\n",
       "      <th>MostViewed_Genre</th>\n",
       "    </tr>\n",
       "  </thead>\n",
       "  <tbody>\n",
       "    <tr>\n",
       "      <th>0</th>\n",
       "      <td>0</td>\n",
       "      <td>Comedy</td>\n",
       "    </tr>\n",
       "    <tr>\n",
       "      <th>1</th>\n",
       "      <td>1</td>\n",
       "      <td>Drama</td>\n",
       "    </tr>\n",
       "    <tr>\n",
       "      <th>2</th>\n",
       "      <td>10</td>\n",
       "      <td>Comedy</td>\n",
       "    </tr>\n",
       "    <tr>\n",
       "      <th>3</th>\n",
       "      <td>11</td>\n",
       "      <td>Comedy</td>\n",
       "    </tr>\n",
       "  </tbody>\n",
       "</table>\n",
       "</div>"
      ],
      "text/plain": [
       "  Occupation MostViewed_Genre\n",
       "0          0           Comedy\n",
       "1          1            Drama\n",
       "2         10           Comedy\n",
       "3         11           Comedy"
      ]
     },
     "execution_count": 84,
     "metadata": {},
     "output_type": "execute_result"
    }
   ],
   "source": [
    "comp_database.groupby(by='Occupation')['Genres'].agg(pd.Series.mode).reset_index(name='MostViewed_Genre').head(4)"
   ]
  },
  {
   "cell_type": "markdown",
   "id": "e08bf138",
   "metadata": {},
   "source": [
    "***Further preprocessing the 'movies' dataset***"
   ]
  },
  {
   "cell_type": "code",
   "execution_count": 47,
   "id": "add2dce4",
   "metadata": {},
   "outputs": [
    {
     "data": {
      "text/html": [
       "<div>\n",
       "<style scoped>\n",
       "    .dataframe tbody tr th:only-of-type {\n",
       "        vertical-align: middle;\n",
       "    }\n",
       "\n",
       "    .dataframe tbody tr th {\n",
       "        vertical-align: top;\n",
       "    }\n",
       "\n",
       "    .dataframe thead th {\n",
       "        text-align: right;\n",
       "    }\n",
       "</style>\n",
       "<table border=\"1\" class=\"dataframe\">\n",
       "  <thead>\n",
       "    <tr style=\"text-align: right;\">\n",
       "      <th>Genres</th>\n",
       "      <th>NaN</th>\n",
       "      <th>Action</th>\n",
       "      <th>Adventure</th>\n",
       "      <th>Animation</th>\n",
       "      <th>Children</th>\n",
       "      <th>Comedy</th>\n",
       "      <th>Crime</th>\n",
       "      <th>Documentary</th>\n",
       "      <th>Drama</th>\n",
       "      <th>Fantasy</th>\n",
       "      <th>Film-Noir</th>\n",
       "      <th>Horror</th>\n",
       "      <th>Musical</th>\n",
       "      <th>Mystery</th>\n",
       "      <th>Other</th>\n",
       "      <th>Romance</th>\n",
       "      <th>Sci-Fi</th>\n",
       "      <th>Thriller</th>\n",
       "      <th>War</th>\n",
       "      <th>Western</th>\n",
       "    </tr>\n",
       "    <tr>\n",
       "      <th>MovieID</th>\n",
       "      <th></th>\n",
       "      <th></th>\n",
       "      <th></th>\n",
       "      <th></th>\n",
       "      <th></th>\n",
       "      <th></th>\n",
       "      <th></th>\n",
       "      <th></th>\n",
       "      <th></th>\n",
       "      <th></th>\n",
       "      <th></th>\n",
       "      <th></th>\n",
       "      <th></th>\n",
       "      <th></th>\n",
       "      <th></th>\n",
       "      <th></th>\n",
       "      <th></th>\n",
       "      <th></th>\n",
       "      <th></th>\n",
       "      <th></th>\n",
       "    </tr>\n",
       "  </thead>\n",
       "  <tbody>\n",
       "    <tr>\n",
       "      <th>1</th>\n",
       "      <td>0</td>\n",
       "      <td>0</td>\n",
       "      <td>0</td>\n",
       "      <td>1</td>\n",
       "      <td>1</td>\n",
       "      <td>1</td>\n",
       "      <td>0</td>\n",
       "      <td>0</td>\n",
       "      <td>0</td>\n",
       "      <td>0</td>\n",
       "      <td>0</td>\n",
       "      <td>0</td>\n",
       "      <td>0</td>\n",
       "      <td>0</td>\n",
       "      <td>0</td>\n",
       "      <td>0</td>\n",
       "      <td>0</td>\n",
       "      <td>0</td>\n",
       "      <td>0</td>\n",
       "      <td>0</td>\n",
       "    </tr>\n",
       "    <tr>\n",
       "      <th>10</th>\n",
       "      <td>0</td>\n",
       "      <td>1</td>\n",
       "      <td>1</td>\n",
       "      <td>0</td>\n",
       "      <td>0</td>\n",
       "      <td>0</td>\n",
       "      <td>0</td>\n",
       "      <td>0</td>\n",
       "      <td>0</td>\n",
       "      <td>0</td>\n",
       "      <td>0</td>\n",
       "      <td>0</td>\n",
       "      <td>0</td>\n",
       "      <td>0</td>\n",
       "      <td>0</td>\n",
       "      <td>0</td>\n",
       "      <td>0</td>\n",
       "      <td>1</td>\n",
       "      <td>0</td>\n",
       "      <td>0</td>\n",
       "    </tr>\n",
       "    <tr>\n",
       "      <th>1019</th>\n",
       "      <td>0</td>\n",
       "      <td>0</td>\n",
       "      <td>1</td>\n",
       "      <td>0</td>\n",
       "      <td>1</td>\n",
       "      <td>0</td>\n",
       "      <td>0</td>\n",
       "      <td>0</td>\n",
       "      <td>0</td>\n",
       "      <td>1</td>\n",
       "      <td>0</td>\n",
       "      <td>0</td>\n",
       "      <td>0</td>\n",
       "      <td>0</td>\n",
       "      <td>0</td>\n",
       "      <td>0</td>\n",
       "      <td>0</td>\n",
       "      <td>0</td>\n",
       "      <td>0</td>\n",
       "      <td>0</td>\n",
       "    </tr>\n",
       "  </tbody>\n",
       "</table>\n",
       "</div>"
      ],
      "text/plain": [
       "Genres   NaN  Action  Adventure  Animation  Children  Comedy  Crime  \\\n",
       "MovieID                                                               \n",
       "1          0       0          0          1         1       1      0   \n",
       "10         0       1          1          0         0       0      0   \n",
       "1019       0       0          1          0         1       0      0   \n",
       "\n",
       "Genres   Documentary  Drama  Fantasy  Film-Noir  Horror  Musical  Mystery  \\\n",
       "MovieID                                                                     \n",
       "1                  0      0        0          0       0        0        0   \n",
       "10                 0      0        0          0       0        0        0   \n",
       "1019               0      0        1          0       0        0        0   \n",
       "\n",
       "Genres   Other  Romance  Sci-Fi  Thriller  War  Western  \n",
       "MovieID                                                  \n",
       "1            0        0       0         0    0        0  \n",
       "10           0        0       0         1    0        0  \n",
       "1019         0        0       0         0    0        0  "
      ]
     },
     "execution_count": 47,
     "metadata": {},
     "output_type": "execute_result"
    }
   ],
   "source": [
    "m2 = m2.pivot(index='MovieID', columns='Genres', values='Title')\n",
    "m2 = ~m2.isna()\n",
    "m2 = m2.astype(int)\n",
    "m2.head(3)"
   ]
  },
  {
   "cell_type": "code",
   "execution_count": 48,
   "id": "4266a7ec",
   "metadata": {},
   "outputs": [
    {
     "name": "stderr",
     "output_type": "stream",
     "text": [
      "C:\\Users\\Alfred Paul\\Anaconda2\\lib\\site-packages\\sklearn\\utils\\validation.py:1858: FutureWarning: Feature names only support names that are all strings. Got feature names with dtypes: ['float', 'str']. An error will be raised in 1.2.\n",
      "  warnings.warn(\n",
      "C:\\Users\\Alfred Paul\\Anaconda2\\lib\\site-packages\\sklearn\\utils\\validation.py:1858: FutureWarning: Feature names only support names that are all strings. Got feature names with dtypes: ['float', 'str']. An error will be raised in 1.2.\n",
      "  warnings.warn(\n"
     ]
    },
    {
     "data": {
      "text/html": [
       "<div>\n",
       "<style scoped>\n",
       "    .dataframe tbody tr th:only-of-type {\n",
       "        vertical-align: middle;\n",
       "    }\n",
       "\n",
       "    .dataframe tbody tr th {\n",
       "        vertical-align: top;\n",
       "    }\n",
       "\n",
       "    .dataframe thead th {\n",
       "        text-align: right;\n",
       "    }\n",
       "</style>\n",
       "<table border=\"1\" class=\"dataframe\">\n",
       "  <thead>\n",
       "    <tr style=\"text-align: right;\">\n",
       "      <th></th>\n",
       "      <th>NaN</th>\n",
       "      <th>Action</th>\n",
       "      <th>Adventure</th>\n",
       "      <th>Animation</th>\n",
       "      <th>Children</th>\n",
       "      <th>Comedy</th>\n",
       "      <th>Crime</th>\n",
       "      <th>Documentary</th>\n",
       "      <th>Drama</th>\n",
       "      <th>Fantasy</th>\n",
       "      <th>...</th>\n",
       "      <th>Horror</th>\n",
       "      <th>Musical</th>\n",
       "      <th>Mystery</th>\n",
       "      <th>Other</th>\n",
       "      <th>Romance</th>\n",
       "      <th>Sci-Fi</th>\n",
       "      <th>Thriller</th>\n",
       "      <th>War</th>\n",
       "      <th>Western</th>\n",
       "      <th>MovieAge</th>\n",
       "    </tr>\n",
       "    <tr>\n",
       "      <th>MovieID</th>\n",
       "      <th></th>\n",
       "      <th></th>\n",
       "      <th></th>\n",
       "      <th></th>\n",
       "      <th></th>\n",
       "      <th></th>\n",
       "      <th></th>\n",
       "      <th></th>\n",
       "      <th></th>\n",
       "      <th></th>\n",
       "      <th></th>\n",
       "      <th></th>\n",
       "      <th></th>\n",
       "      <th></th>\n",
       "      <th></th>\n",
       "      <th></th>\n",
       "      <th></th>\n",
       "      <th></th>\n",
       "      <th></th>\n",
       "      <th></th>\n",
       "      <th></th>\n",
       "    </tr>\n",
       "  </thead>\n",
       "  <tbody>\n",
       "    <tr>\n",
       "      <th>1</th>\n",
       "      <td>-0.044811</td>\n",
       "      <td>-0.593552</td>\n",
       "      <td>-0.387001</td>\n",
       "      <td>4.354308</td>\n",
       "      <td>3.613356</td>\n",
       "      <td>1.337053</td>\n",
       "      <td>-0.299198</td>\n",
       "      <td>-0.05491</td>\n",
       "      <td>-0.718831</td>\n",
       "      <td>-0.184924</td>\n",
       "      <td>...</td>\n",
       "      <td>-0.268264</td>\n",
       "      <td>-0.219817</td>\n",
       "      <td>-0.2173</td>\n",
       "      <td>-0.05491</td>\n",
       "      <td>-0.430434</td>\n",
       "      <td>-0.412296</td>\n",
       "      <td>-0.494357</td>\n",
       "      <td>-0.250665</td>\n",
       "      <td>-0.150137</td>\n",
       "      <td>-0.591750</td>\n",
       "    </tr>\n",
       "    <tr>\n",
       "      <th>10</th>\n",
       "      <td>-0.044811</td>\n",
       "      <td>1.684773</td>\n",
       "      <td>2.583974</td>\n",
       "      <td>-0.229658</td>\n",
       "      <td>-0.276751</td>\n",
       "      <td>-0.747914</td>\n",
       "      <td>-0.299198</td>\n",
       "      <td>-0.05491</td>\n",
       "      <td>-0.718831</td>\n",
       "      <td>-0.184924</td>\n",
       "      <td>...</td>\n",
       "      <td>-0.268264</td>\n",
       "      <td>-0.219817</td>\n",
       "      <td>-0.2173</td>\n",
       "      <td>-0.05491</td>\n",
       "      <td>-0.430434</td>\n",
       "      <td>-0.412296</td>\n",
       "      <td>2.022829</td>\n",
       "      <td>-0.250665</td>\n",
       "      <td>-0.150137</td>\n",
       "      <td>-0.591750</td>\n",
       "    </tr>\n",
       "    <tr>\n",
       "      <th>1019</th>\n",
       "      <td>-0.044811</td>\n",
       "      <td>-0.593552</td>\n",
       "      <td>2.583974</td>\n",
       "      <td>-0.229658</td>\n",
       "      <td>3.613356</td>\n",
       "      <td>-0.747914</td>\n",
       "      <td>-0.299198</td>\n",
       "      <td>-0.05491</td>\n",
       "      <td>-0.718831</td>\n",
       "      <td>5.407626</td>\n",
       "      <td>...</td>\n",
       "      <td>-0.268264</td>\n",
       "      <td>-0.219817</td>\n",
       "      <td>-0.2173</td>\n",
       "      <td>-0.05491</td>\n",
       "      <td>-0.430434</td>\n",
       "      <td>-0.412296</td>\n",
       "      <td>-0.494357</td>\n",
       "      <td>-0.250665</td>\n",
       "      <td>-0.150137</td>\n",
       "      <td>2.305956</td>\n",
       "    </tr>\n",
       "  </tbody>\n",
       "</table>\n",
       "<p>3 rows × 21 columns</p>\n",
       "</div>"
      ],
      "text/plain": [
       "              NaN    Action  Adventure  Animation  Children    Comedy  \\\n",
       "MovieID                                                                 \n",
       "1       -0.044811 -0.593552  -0.387001   4.354308  3.613356  1.337053   \n",
       "10      -0.044811  1.684773   2.583974  -0.229658 -0.276751 -0.747914   \n",
       "1019    -0.044811 -0.593552   2.583974  -0.229658  3.613356 -0.747914   \n",
       "\n",
       "            Crime  Documentary     Drama   Fantasy  ...    Horror   Musical  \\\n",
       "MovieID                                             ...                       \n",
       "1       -0.299198     -0.05491 -0.718831 -0.184924  ... -0.268264 -0.219817   \n",
       "10      -0.299198     -0.05491 -0.718831 -0.184924  ... -0.268264 -0.219817   \n",
       "1019    -0.299198     -0.05491 -0.718831  5.407626  ... -0.268264 -0.219817   \n",
       "\n",
       "         Mystery    Other   Romance    Sci-Fi  Thriller       War   Western  \\\n",
       "MovieID                                                                       \n",
       "1        -0.2173 -0.05491 -0.430434 -0.412296 -0.494357 -0.250665 -0.150137   \n",
       "10       -0.2173 -0.05491 -0.430434 -0.412296  2.022829 -0.250665 -0.150137   \n",
       "1019     -0.2173 -0.05491 -0.430434 -0.412296 -0.494357 -0.250665 -0.150137   \n",
       "\n",
       "         MovieAge  \n",
       "MovieID            \n",
       "1       -0.591750  \n",
       "10      -0.591750  \n",
       "1019     2.305956  \n",
       "\n",
       "[3 rows x 21 columns]"
      ]
     },
     "execution_count": 48,
     "metadata": {},
     "output_type": "execute_result"
    }
   ],
   "source": [
    "# Creating the dataframe with the age of each movie corresponding \n",
    "# to the 'MovieID'\n",
    "m_ref=m.drop(columns=['Title','Genres','ReleaseYear'])\n",
    "m_ref = m_ref.groupby(by='MovieID').agg({'MovieAge':'first'}).reset_index()\n",
    "\n",
    "# Merging the age with the initial dataset\n",
    "m2 = pd.merge(m2,m_ref,how='inner',on='MovieID')\n",
    "\n",
    "m2=m2.set_index('MovieID')\n",
    "\n",
    "# Scaling the dataset\n",
    "scaler=StandardScaler()\n",
    "m_item_rec = pd.DataFrame(scaler.fit_transform(m2), columns=m2.columns, index=m2.index)\n",
    "m_item_rec.head(3)"
   ]
  },
  {
   "cell_type": "markdown",
   "id": "7ba6c2dd",
   "metadata": {},
   "source": [
    "---\n",
    "**Item based Recommender System based on Pearson Correlation**"
   ]
  },
  {
   "cell_type": "code",
   "execution_count": 49,
   "id": "a64b66b9",
   "metadata": {},
   "outputs": [],
   "source": [
    "# Function to calculate the pearson correlation\n",
    "\n",
    "def pearson(x,y):\n",
    "    r, p = scipy.stats.pearsonr(x, y)\n",
    "    return r"
   ]
  },
  {
   "cell_type": "code",
   "execution_count": 50,
   "id": "628a3e85",
   "metadata": {},
   "outputs": [],
   "source": [
    "# Creaing a dataset which computes pearson correlation coefficient of \n",
    "# each movie with remaining all other movies\n",
    "\n",
    "# %%time\n",
    "\n",
    "ranks = []\n",
    "\n",
    "for query in m_item_rec.index:\n",
    "    for candidate in m_item_rec.index:\n",
    "        if candidate == query:\n",
    "            continue\n",
    "        ranks.append([query, candidate, pearson(m_item_rec.loc[query], m_item_rec.loc[candidate])])\n",
    "\n",
    "# Creating a dataset using the existing matrix        \n",
    "ranks = pd.DataFrame(ranks, columns=['query', 'candidate', 'distance'])\n",
    "\n",
    "# Merging with movies dataset to get title for query and candidate\n",
    "ranks = ranks.merge(movies[['MovieID', 'Title']], left_on='query', right_on='MovieID').rename(columns={'Title': 'query_tittle'}).drop(columns=['MovieID'])\n",
    "ranks = ranks.merge(movies[['MovieID', 'Title']], left_on='candidate', right_on='MovieID').rename(columns={'Title': 'candidate_tittle'}).drop(columns=['MovieID'])\n",
    "\n",
    "# Sorting the ranks based on query and distance\n",
    "ranks = ranks.sort_values(by=['query', 'distance'],ascending=[True,False])"
   ]
  },
  {
   "cell_type": "code",
   "execution_count": 51,
   "id": "d72cd3d9",
   "metadata": {},
   "outputs": [
    {
     "data": {
      "text/html": [
       "<div>\n",
       "<style scoped>\n",
       "    .dataframe tbody tr th:only-of-type {\n",
       "        vertical-align: middle;\n",
       "    }\n",
       "\n",
       "    .dataframe tbody tr th {\n",
       "        vertical-align: top;\n",
       "    }\n",
       "\n",
       "    .dataframe thead th {\n",
       "        text-align: right;\n",
       "    }\n",
       "</style>\n",
       "<table border=\"1\" class=\"dataframe\">\n",
       "  <thead>\n",
       "    <tr style=\"text-align: right;\">\n",
       "      <th></th>\n",
       "      <th>query</th>\n",
       "      <th>candidate</th>\n",
       "      <th>distance</th>\n",
       "      <th>query_tittle</th>\n",
       "      <th>candidate_tittle</th>\n",
       "    </tr>\n",
       "  </thead>\n",
       "  <tbody>\n",
       "    <tr>\n",
       "      <th>434692</th>\n",
       "      <td>1</td>\n",
       "      <td>2355</td>\n",
       "      <td>0.999413</td>\n",
       "      <td>Toy Story (1995)</td>\n",
       "      <td>Bug's Life, A (1998)</td>\n",
       "    </tr>\n",
       "    <tr>\n",
       "      <th>662008</th>\n",
       "      <td>1</td>\n",
       "      <td>3114</td>\n",
       "      <td>0.998961</td>\n",
       "      <td>Toy Story (1995)</td>\n",
       "      <td>Toy Story 2 (1999)</td>\n",
       "    </tr>\n",
       "    <tr>\n",
       "      <th>830501</th>\n",
       "      <td>1</td>\n",
       "      <td>3751</td>\n",
       "      <td>0.998383</td>\n",
       "      <td>Toy Story (1995)</td>\n",
       "      <td>Chicken Run (2000)</td>\n",
       "    </tr>\n",
       "    <tr>\n",
       "      <th>379857</th>\n",
       "      <td>1</td>\n",
       "      <td>2141</td>\n",
       "      <td>0.994561</td>\n",
       "      <td>Toy Story (1995)</td>\n",
       "      <td>American Tail, An (1986)</td>\n",
       "    </tr>\n",
       "    <tr>\n",
       "      <th>291124</th>\n",
       "      <td>1</td>\n",
       "      <td>1907</td>\n",
       "      <td>0.941385</td>\n",
       "      <td>Toy Story (1995)</td>\n",
       "      <td>Mulan (1998)</td>\n",
       "    </tr>\n",
       "  </tbody>\n",
       "</table>\n",
       "</div>"
      ],
      "text/plain": [
       "       query candidate  distance      query_tittle          candidate_tittle\n",
       "434692     1      2355  0.999413  Toy Story (1995)      Bug's Life, A (1998)\n",
       "662008     1      3114  0.998961  Toy Story (1995)        Toy Story 2 (1999)\n",
       "830501     1      3751  0.998383  Toy Story (1995)        Chicken Run (2000)\n",
       "379857     1      2141  0.994561  Toy Story (1995)  American Tail, An (1986)\n",
       "291124     1      1907  0.941385  Toy Story (1995)              Mulan (1998)"
      ]
     },
     "execution_count": 51,
     "metadata": {},
     "output_type": "execute_result"
    }
   ],
   "source": [
    "# Checking the 5 closest movies to query=1(Toy Story (1995))\n",
    "\n",
    "ranks.loc[ranks['query']=='1'].head(5)"
   ]
  },
  {
   "cell_type": "markdown",
   "id": "bcf1b206",
   "metadata": {},
   "source": [
    "\n",
    "**Questionnaire:** \\\n",
    "**6. Name the top 3 movies similar to ‘Liar Liar’ on the item-based approach.**"
   ]
  },
  {
   "cell_type": "code",
   "execution_count": 52,
   "id": "48554321",
   "metadata": {},
   "outputs": [
    {
     "data": {
      "text/html": [
       "<div>\n",
       "<style scoped>\n",
       "    .dataframe tbody tr th:only-of-type {\n",
       "        vertical-align: middle;\n",
       "    }\n",
       "\n",
       "    .dataframe tbody tr th {\n",
       "        vertical-align: top;\n",
       "    }\n",
       "\n",
       "    .dataframe thead th {\n",
       "        text-align: right;\n",
       "    }\n",
       "</style>\n",
       "<table border=\"1\" class=\"dataframe\">\n",
       "  <thead>\n",
       "    <tr style=\"text-align: right;\">\n",
       "      <th></th>\n",
       "      <th>MovieID</th>\n",
       "      <th>Title</th>\n",
       "      <th>Genres</th>\n",
       "    </tr>\n",
       "  </thead>\n",
       "  <tbody>\n",
       "    <tr>\n",
       "      <th>1455</th>\n",
       "      <td>1485</td>\n",
       "      <td>Liar Liar (1997)</td>\n",
       "      <td>Comedy</td>\n",
       "    </tr>\n",
       "  </tbody>\n",
       "</table>\n",
       "</div>"
      ],
      "text/plain": [
       "     MovieID             Title  Genres\n",
       "1455    1485  Liar Liar (1997)  Comedy"
      ]
     },
     "execution_count": 52,
     "metadata": {},
     "output_type": "execute_result"
    }
   ],
   "source": [
    "movies[movies['Title']=='Liar Liar (1997)']"
   ]
  },
  {
   "cell_type": "code",
   "execution_count": 53,
   "id": "9925d75a",
   "metadata": {},
   "outputs": [
    {
     "data": {
      "text/html": [
       "<div>\n",
       "<style scoped>\n",
       "    .dataframe tbody tr th:only-of-type {\n",
       "        vertical-align: middle;\n",
       "    }\n",
       "\n",
       "    .dataframe tbody tr th {\n",
       "        vertical-align: top;\n",
       "    }\n",
       "\n",
       "    .dataframe thead th {\n",
       "        text-align: right;\n",
       "    }\n",
       "</style>\n",
       "<table border=\"1\" class=\"dataframe\">\n",
       "  <thead>\n",
       "    <tr style=\"text-align: right;\">\n",
       "      <th></th>\n",
       "      <th>query</th>\n",
       "      <th>candidate</th>\n",
       "      <th>distance</th>\n",
       "      <th>query_tittle</th>\n",
       "      <th>candidate_tittle</th>\n",
       "    </tr>\n",
       "  </thead>\n",
       "  <tbody>\n",
       "    <tr>\n",
       "      <th>199596</th>\n",
       "      <td>1485</td>\n",
       "      <td>1513</td>\n",
       "      <td>1.000000</td>\n",
       "      <td>Liar Liar (1997)</td>\n",
       "      <td>Romy and Michele's High School Reunion (1997)</td>\n",
       "    </tr>\n",
       "    <tr>\n",
       "      <th>200593</th>\n",
       "      <td>1485</td>\n",
       "      <td>1517</td>\n",
       "      <td>1.000000</td>\n",
       "      <td>Liar Liar (1997)</td>\n",
       "      <td>Austin Powers: International Man of Mystery (1...</td>\n",
       "    </tr>\n",
       "    <tr>\n",
       "      <th>226515</th>\n",
       "      <td>1485</td>\n",
       "      <td>1614</td>\n",
       "      <td>1.000000</td>\n",
       "      <td>Liar Liar (1997)</td>\n",
       "      <td>In &amp; Out (1997)</td>\n",
       "    </tr>\n",
       "    <tr>\n",
       "      <th>237482</th>\n",
       "      <td>1485</td>\n",
       "      <td>1641</td>\n",
       "      <td>1.000000</td>\n",
       "      <td>Liar Liar (1997)</td>\n",
       "      <td>Full Monty, The (1997)</td>\n",
       "    </tr>\n",
       "    <tr>\n",
       "      <th>285338</th>\n",
       "      <td>1485</td>\n",
       "      <td>1883</td>\n",
       "      <td>0.999364</td>\n",
       "      <td>Liar Liar (1997)</td>\n",
       "      <td>Bulworth (1998)</td>\n",
       "    </tr>\n",
       "  </tbody>\n",
       "</table>\n",
       "</div>"
      ],
      "text/plain": [
       "       query candidate  distance      query_tittle  \\\n",
       "199596  1485      1513  1.000000  Liar Liar (1997)   \n",
       "200593  1485      1517  1.000000  Liar Liar (1997)   \n",
       "226515  1485      1614  1.000000  Liar Liar (1997)   \n",
       "237482  1485      1641  1.000000  Liar Liar (1997)   \n",
       "285338  1485      1883  0.999364  Liar Liar (1997)   \n",
       "\n",
       "                                         candidate_tittle  \n",
       "199596      Romy and Michele's High School Reunion (1997)  \n",
       "200593  Austin Powers: International Man of Mystery (1...  \n",
       "226515                                    In & Out (1997)  \n",
       "237482                             Full Monty, The (1997)  \n",
       "285338                                    Bulworth (1998)  "
      ]
     },
     "execution_count": 53,
     "metadata": {},
     "output_type": "execute_result"
    }
   ],
   "source": [
    "ranks.loc[ranks['query']=='1485'].head(5)"
   ]
  },
  {
   "cell_type": "markdown",
   "id": "e5b01b7a",
   "metadata": {},
   "source": [
    "---"
   ]
  },
  {
   "cell_type": "markdown",
   "id": "919d082e",
   "metadata": {},
   "source": [
    "---\n",
    "\n",
    "***Item similarity matrix using cosine distance***"
   ]
  },
  {
   "cell_type": "code",
   "execution_count": 55,
   "id": "fdc2e761",
   "metadata": {},
   "outputs": [
    {
     "data": {
      "text/html": [
       "<div>\n",
       "<style scoped>\n",
       "    .dataframe tbody tr th:only-of-type {\n",
       "        vertical-align: middle;\n",
       "    }\n",
       "\n",
       "    .dataframe tbody tr th {\n",
       "        vertical-align: top;\n",
       "    }\n",
       "\n",
       "    .dataframe thead th {\n",
       "        text-align: right;\n",
       "    }\n",
       "</style>\n",
       "<table border=\"1\" class=\"dataframe\">\n",
       "  <thead>\n",
       "    <tr style=\"text-align: right;\">\n",
       "      <th></th>\n",
       "      <th>1</th>\n",
       "      <th>10</th>\n",
       "      <th>1019</th>\n",
       "      <th>1020</th>\n",
       "      <th>1022</th>\n",
       "      <th>1027</th>\n",
       "      <th>1028</th>\n",
       "      <th>1029</th>\n",
       "      <th>1030</th>\n",
       "      <th>1031</th>\n",
       "      <th>...</th>\n",
       "      <th>933</th>\n",
       "      <th>940</th>\n",
       "      <th>95</th>\n",
       "      <th>951</th>\n",
       "      <th>953</th>\n",
       "      <th>954</th>\n",
       "      <th>955</th>\n",
       "      <th>968</th>\n",
       "      <th>969</th>\n",
       "      <th>994</th>\n",
       "    </tr>\n",
       "  </thead>\n",
       "  <tbody>\n",
       "    <tr>\n",
       "      <th>1</th>\n",
       "      <td>1.000000</td>\n",
       "      <td>-0.182241</td>\n",
       "      <td>0.210346</td>\n",
       "      <td>0.169643</td>\n",
       "      <td>0.643409</td>\n",
       "      <td>-0.186950</td>\n",
       "      <td>0.364098</td>\n",
       "      <td>0.617301</td>\n",
       "      <td>0.641480</td>\n",
       "      <td>0.256091</td>\n",
       "      <td>...</td>\n",
       "      <td>-0.076119</td>\n",
       "      <td>-0.188944</td>\n",
       "      <td>-0.171802</td>\n",
       "      <td>-0.006045</td>\n",
       "      <td>-0.198191</td>\n",
       "      <td>-0.189691</td>\n",
       "      <td>-0.009364</td>\n",
       "      <td>-0.135754</td>\n",
       "      <td>-0.191838</td>\n",
       "      <td>-0.163523</td>\n",
       "    </tr>\n",
       "    <tr>\n",
       "      <th>10</th>\n",
       "      <td>-0.182241</td>\n",
       "      <td>1.000000</td>\n",
       "      <td>0.105340</td>\n",
       "      <td>-0.286669</td>\n",
       "      <td>-0.182921</td>\n",
       "      <td>-0.288840</td>\n",
       "      <td>-0.224163</td>\n",
       "      <td>-0.189337</td>\n",
       "      <td>0.097251</td>\n",
       "      <td>0.145813</td>\n",
       "      <td>...</td>\n",
       "      <td>-0.000639</td>\n",
       "      <td>0.436321</td>\n",
       "      <td>0.674390</td>\n",
       "      <td>-0.296064</td>\n",
       "      <td>-0.302858</td>\n",
       "      <td>-0.289612</td>\n",
       "      <td>-0.292263</td>\n",
       "      <td>-0.207584</td>\n",
       "      <td>0.270107</td>\n",
       "      <td>-0.253258</td>\n",
       "    </tr>\n",
       "    <tr>\n",
       "      <th>1019</th>\n",
       "      <td>0.210346</td>\n",
       "      <td>0.105340</td>\n",
       "      <td>1.000000</td>\n",
       "      <td>-0.205286</td>\n",
       "      <td>0.293064</td>\n",
       "      <td>-0.179457</td>\n",
       "      <td>0.305706</td>\n",
       "      <td>0.308723</td>\n",
       "      <td>0.347520</td>\n",
       "      <td>0.453507</td>\n",
       "      <td>...</td>\n",
       "      <td>0.019279</td>\n",
       "      <td>0.374891</td>\n",
       "      <td>-0.201467</td>\n",
       "      <td>0.189461</td>\n",
       "      <td>0.171902</td>\n",
       "      <td>0.192309</td>\n",
       "      <td>0.194551</td>\n",
       "      <td>0.006627</td>\n",
       "      <td>0.198077</td>\n",
       "      <td>-0.223193</td>\n",
       "    </tr>\n",
       "  </tbody>\n",
       "</table>\n",
       "<p>3 rows × 998 columns</p>\n",
       "</div>"
      ],
      "text/plain": [
       "             1        10      1019      1020      1022      1027      1028  \\\n",
       "1     1.000000 -0.182241  0.210346  0.169643  0.643409 -0.186950  0.364098   \n",
       "10   -0.182241  1.000000  0.105340 -0.286669 -0.182921 -0.288840 -0.224163   \n",
       "1019  0.210346  0.105340  1.000000 -0.205286  0.293064 -0.179457  0.305706   \n",
       "\n",
       "          1029      1030      1031  ...       933       940        95  \\\n",
       "1     0.617301  0.641480  0.256091  ... -0.076119 -0.188944 -0.171802   \n",
       "10   -0.189337  0.097251  0.145813  ... -0.000639  0.436321  0.674390   \n",
       "1019  0.308723  0.347520  0.453507  ...  0.019279  0.374891 -0.201467   \n",
       "\n",
       "           951       953       954       955       968       969       994  \n",
       "1    -0.006045 -0.198191 -0.189691 -0.009364 -0.135754 -0.191838 -0.163523  \n",
       "10   -0.296064 -0.302858 -0.289612 -0.292263 -0.207584  0.270107 -0.253258  \n",
       "1019  0.189461  0.171902  0.192309  0.194551  0.006627  0.198077 -0.223193  \n",
       "\n",
       "[3 rows x 998 columns]"
      ]
     },
     "execution_count": 55,
     "metadata": {},
     "output_type": "execute_result"
    }
   ],
   "source": [
    "# Creaing the similarity matrix\n",
    "cs=cosine_similarity(m_item_rec,m_item_rec)\n",
    "\n",
    "# Extracting the movie id & storing it to list\n",
    "col=m_item_rec.index.to_list()\n",
    "\n",
    "# Creating the dataframe using the similarity matrix\n",
    "cs_item = pd.DataFrame(cs,columns=col)\n",
    "\n",
    "# Setting the index as movie-id\n",
    "cs_item.index=col\n",
    "cs_item.head(3)"
   ]
  },
  {
   "cell_type": "markdown",
   "id": "75776e46",
   "metadata": {},
   "source": [
    "---\n",
    "***User similarity matrix using cosine distance***\n"
   ]
  },
  {
   "cell_type": "markdown",
   "id": "f7dc09b4",
   "metadata": {},
   "source": [
    "***Encoding the categorical features***"
   ]
  },
  {
   "cell_type": "code",
   "execution_count": 56,
   "id": "1abaeb29",
   "metadata": {},
   "outputs": [
    {
     "data": {
      "text/html": [
       "<div>\n",
       "<style scoped>\n",
       "    .dataframe tbody tr th:only-of-type {\n",
       "        vertical-align: middle;\n",
       "    }\n",
       "\n",
       "    .dataframe tbody tr th {\n",
       "        vertical-align: top;\n",
       "    }\n",
       "\n",
       "    .dataframe thead th {\n",
       "        text-align: right;\n",
       "    }\n",
       "</style>\n",
       "<table border=\"1\" class=\"dataframe\">\n",
       "  <thead>\n",
       "    <tr style=\"text-align: right;\">\n",
       "      <th></th>\n",
       "      <th>Gender</th>\n",
       "      <th>Age</th>\n",
       "      <th>Occupation</th>\n",
       "      <th>Zip-code</th>\n",
       "      <th>RatingCount</th>\n",
       "      <th>RatingMedian</th>\n",
       "      <th>HourMedian</th>\n",
       "    </tr>\n",
       "    <tr>\n",
       "      <th>UserID</th>\n",
       "      <th></th>\n",
       "      <th></th>\n",
       "      <th></th>\n",
       "      <th></th>\n",
       "      <th></th>\n",
       "      <th></th>\n",
       "      <th></th>\n",
       "    </tr>\n",
       "  </thead>\n",
       "  <tbody>\n",
       "    <tr>\n",
       "      <th>1</th>\n",
       "      <td>-1.591927</td>\n",
       "      <td>-2.298525</td>\n",
       "      <td>-1.187683</td>\n",
       "      <td>-0.061192</td>\n",
       "      <td>-0.584221</td>\n",
       "      <td>0.275699</td>\n",
       "      <td>-0.772415</td>\n",
       "    </tr>\n",
       "    <tr>\n",
       "      <th>2</th>\n",
       "      <td>0.628170</td>\n",
       "      <td>1.966729</td>\n",
       "      <td>1.276150</td>\n",
       "      <td>-0.115731</td>\n",
       "      <td>-0.189889</td>\n",
       "      <td>0.275699</td>\n",
       "      <td>-0.912095</td>\n",
       "    </tr>\n",
       "    <tr>\n",
       "      <th>3</th>\n",
       "      <td>0.628170</td>\n",
       "      <td>-0.437323</td>\n",
       "      <td>0.360109</td>\n",
       "      <td>-0.402063</td>\n",
       "      <td>-0.594598</td>\n",
       "      <td>0.275699</td>\n",
       "      <td>-1.051775</td>\n",
       "    </tr>\n",
       "  </tbody>\n",
       "</table>\n",
       "</div>"
      ],
      "text/plain": [
       "          Gender       Age  Occupation  Zip-code  RatingCount  RatingMedian  \\\n",
       "UserID                                                                        \n",
       "1      -1.591927 -2.298525   -1.187683 -0.061192    -0.584221      0.275699   \n",
       "2       0.628170  1.966729    1.276150 -0.115731    -0.189889      0.275699   \n",
       "3       0.628170 -0.437323    0.360109 -0.402063    -0.594598      0.275699   \n",
       "\n",
       "        HourMedian  \n",
       "UserID              \n",
       "1        -0.772415  \n",
       "2        -0.912095  \n",
       "3        -1.051775  "
      ]
     },
     "execution_count": 56,
     "metadata": {},
     "output_type": "execute_result"
    }
   ],
   "source": [
    "# Creating a copy of the user dataset\n",
    "user_c_sim=users.copy()\n",
    "\n",
    "# Creating the mapping, based on the movies watched\n",
    "# 1.Gender\n",
    "map_gender = user_c_sim.groupby(by='Gender').median()['RatingCount'].to_dict()\n",
    "\n",
    "# 2. Occupation\n",
    "map_occupation= user_c_sim.groupby(by='Occupation').median()['RatingCount'].to_dict()\n",
    "\n",
    "# 3. Zip code\n",
    "map_zip= user_c_sim.groupby(by='Zip-code').median()['RatingCount'].to_dict()\n",
    "\n",
    "# Applying the mapping \n",
    "user_c_sim['Gender']=user_c_sim['Gender'].map(map_gender)\n",
    "user_c_sim['Occupation']=user_c_sim['Occupation'].map(map_occupation)\n",
    "user_c_sim['Zip-code']=user_c_sim['Zip-code'].map(map_zip)\n",
    "\n",
    "user_c_sim=user_c_sim.set_index('UserID')\n",
    "\n",
    "# Scaling the data\n",
    "user_c_sim = pd.DataFrame(scaler.fit_transform(user_c_sim), columns=user_c_sim.columns, \n",
    "                          index=user_c_sim.index)\n",
    "\n",
    "user_c_sim.head(3)\n"
   ]
  },
  {
   "cell_type": "code",
   "execution_count": 57,
   "id": "10c9725f",
   "metadata": {},
   "outputs": [
    {
     "data": {
      "text/html": [
       "<div>\n",
       "<style scoped>\n",
       "    .dataframe tbody tr th:only-of-type {\n",
       "        vertical-align: middle;\n",
       "    }\n",
       "\n",
       "    .dataframe tbody tr th {\n",
       "        vertical-align: top;\n",
       "    }\n",
       "\n",
       "    .dataframe thead th {\n",
       "        text-align: right;\n",
       "    }\n",
       "</style>\n",
       "<table border=\"1\" class=\"dataframe\">\n",
       "  <thead>\n",
       "    <tr style=\"text-align: right;\">\n",
       "      <th></th>\n",
       "      <th>1</th>\n",
       "      <th>2</th>\n",
       "      <th>3</th>\n",
       "      <th>4</th>\n",
       "      <th>5</th>\n",
       "      <th>6</th>\n",
       "      <th>7</th>\n",
       "      <th>8</th>\n",
       "      <th>9</th>\n",
       "      <th>10</th>\n",
       "      <th>...</th>\n",
       "      <th>6031</th>\n",
       "      <th>6032</th>\n",
       "      <th>6033</th>\n",
       "      <th>6034</th>\n",
       "      <th>6035</th>\n",
       "      <th>6036</th>\n",
       "      <th>6037</th>\n",
       "      <th>6038</th>\n",
       "      <th>6039</th>\n",
       "      <th>6040</th>\n",
       "    </tr>\n",
       "  </thead>\n",
       "  <tbody>\n",
       "    <tr>\n",
       "      <th>1</th>\n",
       "      <td>1.000000</td>\n",
       "      <td>-0.732713</td>\n",
       "      <td>0.168517</td>\n",
       "      <td>-0.109574</td>\n",
       "      <td>-0.372656</td>\n",
       "      <td>0.182318</td>\n",
       "      <td>-0.290367</td>\n",
       "      <td>-0.045038</td>\n",
       "      <td>0.228346</td>\n",
       "      <td>0.235402</td>\n",
       "      <td>...</td>\n",
       "      <td>0.768128</td>\n",
       "      <td>-0.316420</td>\n",
       "      <td>-0.127886</td>\n",
       "      <td>0.296624</td>\n",
       "      <td>0.237920</td>\n",
       "      <td>0.035108</td>\n",
       "      <td>0.066652</td>\n",
       "      <td>-0.074062</td>\n",
       "      <td>0.065526</td>\n",
       "      <td>0.269167</td>\n",
       "    </tr>\n",
       "    <tr>\n",
       "      <th>2</th>\n",
       "      <td>-0.732713</td>\n",
       "      <td>1.000000</td>\n",
       "      <td>0.292443</td>\n",
       "      <td>0.423116</td>\n",
       "      <td>0.219134</td>\n",
       "      <td>-0.052294</td>\n",
       "      <td>0.372008</td>\n",
       "      <td>0.137096</td>\n",
       "      <td>0.002069</td>\n",
       "      <td>-0.086737</td>\n",
       "      <td>...</td>\n",
       "      <td>-0.401391</td>\n",
       "      <td>0.308762</td>\n",
       "      <td>0.143885</td>\n",
       "      <td>-0.033979</td>\n",
       "      <td>-0.279676</td>\n",
       "      <td>-0.200987</td>\n",
       "      <td>0.231664</td>\n",
       "      <td>0.465913</td>\n",
       "      <td>0.395399</td>\n",
       "      <td>-0.416681</td>\n",
       "    </tr>\n",
       "    <tr>\n",
       "      <th>3</th>\n",
       "      <td>0.168517</td>\n",
       "      <td>0.292443</td>\n",
       "      <td>1.000000</td>\n",
       "      <td>0.383122</td>\n",
       "      <td>0.152107</td>\n",
       "      <td>-0.405417</td>\n",
       "      <td>0.397158</td>\n",
       "      <td>0.773681</td>\n",
       "      <td>0.834401</td>\n",
       "      <td>-0.505218</td>\n",
       "      <td>...</td>\n",
       "      <td>0.127265</td>\n",
       "      <td>-0.044744</td>\n",
       "      <td>-0.046275</td>\n",
       "      <td>0.820352</td>\n",
       "      <td>-0.333696</td>\n",
       "      <td>-0.522589</td>\n",
       "      <td>-0.433562</td>\n",
       "      <td>-0.089573</td>\n",
       "      <td>-0.146064</td>\n",
       "      <td>0.014870</td>\n",
       "    </tr>\n",
       "  </tbody>\n",
       "</table>\n",
       "<p>3 rows × 6040 columns</p>\n",
       "</div>"
      ],
      "text/plain": [
       "          1         2         3         4         5         6         7  \\\n",
       "1  1.000000 -0.732713  0.168517 -0.109574 -0.372656  0.182318 -0.290367   \n",
       "2 -0.732713  1.000000  0.292443  0.423116  0.219134 -0.052294  0.372008   \n",
       "3  0.168517  0.292443  1.000000  0.383122  0.152107 -0.405417  0.397158   \n",
       "\n",
       "          8         9        10  ...      6031      6032      6033      6034  \\\n",
       "1 -0.045038  0.228346  0.235402  ...  0.768128 -0.316420 -0.127886  0.296624   \n",
       "2  0.137096  0.002069 -0.086737  ... -0.401391  0.308762  0.143885 -0.033979   \n",
       "3  0.773681  0.834401 -0.505218  ...  0.127265 -0.044744 -0.046275  0.820352   \n",
       "\n",
       "       6035      6036      6037      6038      6039      6040  \n",
       "1  0.237920  0.035108  0.066652 -0.074062  0.065526  0.269167  \n",
       "2 -0.279676 -0.200987  0.231664  0.465913  0.395399 -0.416681  \n",
       "3 -0.333696 -0.522589 -0.433562 -0.089573 -0.146064  0.014870  \n",
       "\n",
       "[3 rows x 6040 columns]"
      ]
     },
     "execution_count": 57,
     "metadata": {},
     "output_type": "execute_result"
    }
   ],
   "source": [
    "# Creaing the similarity matrix\n",
    "cs_user=cosine_similarity(user_c_sim)\n",
    "\n",
    "# Extracting the UserID & storing it to list\n",
    "col_user=user_c_sim.index.to_list()\n",
    "\n",
    "# Creating the dataframe using the similarity matrix\n",
    "cs_user = pd.DataFrame(cs_user,columns=col_user)\n",
    "\n",
    "# Setting the index as UserID\n",
    "cs_user.index=col_user\n",
    "cs_user.head(3)"
   ]
  },
  {
   "cell_type": "markdown",
   "id": "4b29ceea",
   "metadata": {},
   "source": [
    "---\n",
    "***Item-based recommender system with Nearest Neighbors algorithm and Cosine Similarity***\n"
   ]
  },
  {
   "cell_type": "code",
   "execution_count": 58,
   "id": "1b389ae1",
   "metadata": {},
   "outputs": [
    {
     "name": "stderr",
     "output_type": "stream",
     "text": [
      "C:\\Users\\Alfred Paul\\Anaconda2\\lib\\site-packages\\sklearn\\utils\\validation.py:1858: FutureWarning: Feature names only support names that are all strings. Got feature names with dtypes: ['float', 'str']. An error will be raised in 1.2.\n",
      "  warnings.warn(\n"
     ]
    },
    {
     "data": {
      "text/html": [
       "<style>#sk-container-id-1 {color: black;background-color: white;}#sk-container-id-1 pre{padding: 0;}#sk-container-id-1 div.sk-toggleable {background-color: white;}#sk-container-id-1 label.sk-toggleable__label {cursor: pointer;display: block;width: 100%;margin-bottom: 0;padding: 0.3em;box-sizing: border-box;text-align: center;}#sk-container-id-1 label.sk-toggleable__label-arrow:before {content: \"▸\";float: left;margin-right: 0.25em;color: #696969;}#sk-container-id-1 label.sk-toggleable__label-arrow:hover:before {color: black;}#sk-container-id-1 div.sk-estimator:hover label.sk-toggleable__label-arrow:before {color: black;}#sk-container-id-1 div.sk-toggleable__content {max-height: 0;max-width: 0;overflow: hidden;text-align: left;background-color: #f0f8ff;}#sk-container-id-1 div.sk-toggleable__content pre {margin: 0.2em;color: black;border-radius: 0.25em;background-color: #f0f8ff;}#sk-container-id-1 input.sk-toggleable__control:checked~div.sk-toggleable__content {max-height: 200px;max-width: 100%;overflow: auto;}#sk-container-id-1 input.sk-toggleable__control:checked~label.sk-toggleable__label-arrow:before {content: \"▾\";}#sk-container-id-1 div.sk-estimator input.sk-toggleable__control:checked~label.sk-toggleable__label {background-color: #d4ebff;}#sk-container-id-1 div.sk-label input.sk-toggleable__control:checked~label.sk-toggleable__label {background-color: #d4ebff;}#sk-container-id-1 input.sk-hidden--visually {border: 0;clip: rect(1px 1px 1px 1px);clip: rect(1px, 1px, 1px, 1px);height: 1px;margin: -1px;overflow: hidden;padding: 0;position: absolute;width: 1px;}#sk-container-id-1 div.sk-estimator {font-family: monospace;background-color: #f0f8ff;border: 1px dotted black;border-radius: 0.25em;box-sizing: border-box;margin-bottom: 0.5em;}#sk-container-id-1 div.sk-estimator:hover {background-color: #d4ebff;}#sk-container-id-1 div.sk-parallel-item::after {content: \"\";width: 100%;border-bottom: 1px solid gray;flex-grow: 1;}#sk-container-id-1 div.sk-label:hover label.sk-toggleable__label {background-color: #d4ebff;}#sk-container-id-1 div.sk-serial::before {content: \"\";position: absolute;border-left: 1px solid gray;box-sizing: border-box;top: 0;bottom: 0;left: 50%;z-index: 0;}#sk-container-id-1 div.sk-serial {display: flex;flex-direction: column;align-items: center;background-color: white;padding-right: 0.2em;padding-left: 0.2em;position: relative;}#sk-container-id-1 div.sk-item {position: relative;z-index: 1;}#sk-container-id-1 div.sk-parallel {display: flex;align-items: stretch;justify-content: center;background-color: white;position: relative;}#sk-container-id-1 div.sk-item::before, #sk-container-id-1 div.sk-parallel-item::before {content: \"\";position: absolute;border-left: 1px solid gray;box-sizing: border-box;top: 0;bottom: 0;left: 50%;z-index: -1;}#sk-container-id-1 div.sk-parallel-item {display: flex;flex-direction: column;z-index: 1;position: relative;background-color: white;}#sk-container-id-1 div.sk-parallel-item:first-child::after {align-self: flex-end;width: 50%;}#sk-container-id-1 div.sk-parallel-item:last-child::after {align-self: flex-start;width: 50%;}#sk-container-id-1 div.sk-parallel-item:only-child::after {width: 0;}#sk-container-id-1 div.sk-dashed-wrapped {border: 1px dashed gray;margin: 0 0.4em 0.5em 0.4em;box-sizing: border-box;padding-bottom: 0.4em;background-color: white;}#sk-container-id-1 div.sk-label label {font-family: monospace;font-weight: bold;display: inline-block;line-height: 1.2em;}#sk-container-id-1 div.sk-label-container {text-align: center;}#sk-container-id-1 div.sk-container {/* jupyter's `normalize.less` sets `[hidden] { display: none; }` but bootstrap.min.css set `[hidden] { display: none !important; }` so we also need the `!important` here to be able to override the default hidden behavior on the sphinx rendered scikit-learn.org. See: https://github.com/scikit-learn/scikit-learn/issues/21755 */display: inline-block !important;position: relative;}#sk-container-id-1 div.sk-text-repr-fallback {display: none;}</style><div id=\"sk-container-id-1\" class=\"sk-top-container\"><div class=\"sk-text-repr-fallback\"><pre>NearestNeighbors(algorithm=&#x27;brute&#x27;, metric=&#x27;cosine&#x27;, n_jobs=-1)</pre><b>In a Jupyter environment, please rerun this cell to show the HTML representation or trust the notebook. <br />On GitHub, the HTML representation is unable to render, please try loading this page with nbviewer.org.</b></div><div class=\"sk-container\" hidden><div class=\"sk-item\"><div class=\"sk-estimator sk-toggleable\"><input class=\"sk-toggleable__control sk-hidden--visually\" id=\"sk-estimator-id-1\" type=\"checkbox\" checked><label for=\"sk-estimator-id-1\" class=\"sk-toggleable__label sk-toggleable__label-arrow\">NearestNeighbors</label><div class=\"sk-toggleable__content\"><pre>NearestNeighbors(algorithm=&#x27;brute&#x27;, metric=&#x27;cosine&#x27;, n_jobs=-1)</pre></div></div></div></div></div>"
      ],
      "text/plain": [
       "NearestNeighbors(algorithm='brute', metric='cosine', n_jobs=-1)"
      ]
     },
     "execution_count": 58,
     "metadata": {},
     "output_type": "execute_result"
    }
   ],
   "source": [
    "# Defining the model and initialising\n",
    "\n",
    "model_knn = NearestNeighbors(metric = 'cosine', algorithm = 'brute',n_neighbors=5,n_jobs=-1)\n",
    "model_knn.fit(m_item_rec)"
   ]
  },
  {
   "cell_type": "code",
   "execution_count": 59,
   "id": "c331e5d1",
   "metadata": {},
   "outputs": [],
   "source": [
    "# Function to calclulate the NearestNeighbors\n",
    "\n",
    "def NNeighbors(x):\n",
    "    distances, indices = model_knn.kneighbors(x)\n",
    "    return distances,indices"
   ]
  },
  {
   "cell_type": "code",
   "execution_count": 60,
   "id": "3e3ca0fa",
   "metadata": {},
   "outputs": [],
   "source": [
    "# Testing the recommender system with movie id=1\n",
    "\n",
    "dis,ind=NNeighbors(m_item_rec.loc['1'].values.reshape(1,-1))"
   ]
  },
  {
   "cell_type": "code",
   "execution_count": 61,
   "id": "ec117de6",
   "metadata": {},
   "outputs": [
    {
     "data": {
      "text/html": [
       "<div>\n",
       "<style scoped>\n",
       "    .dataframe tbody tr th:only-of-type {\n",
       "        vertical-align: middle;\n",
       "    }\n",
       "\n",
       "    .dataframe tbody tr th {\n",
       "        vertical-align: top;\n",
       "    }\n",
       "\n",
       "    .dataframe thead th {\n",
       "        text-align: right;\n",
       "    }\n",
       "</style>\n",
       "<table border=\"1\" class=\"dataframe\">\n",
       "  <thead>\n",
       "    <tr style=\"text-align: right;\">\n",
       "      <th></th>\n",
       "      <th>query_id</th>\n",
       "      <th>candidate_id</th>\n",
       "      <th>distance</th>\n",
       "      <th>query_tittle</th>\n",
       "      <th>candidate_tittle</th>\n",
       "    </tr>\n",
       "  </thead>\n",
       "  <tbody>\n",
       "    <tr>\n",
       "      <th>0</th>\n",
       "      <td>1</td>\n",
       "      <td>1</td>\n",
       "      <td>0.000000</td>\n",
       "      <td>Toy Story (1995)</td>\n",
       "      <td>Toy Story (1995)</td>\n",
       "    </tr>\n",
       "    <tr>\n",
       "      <th>1</th>\n",
       "      <td>1</td>\n",
       "      <td>2355</td>\n",
       "      <td>0.000611</td>\n",
       "      <td>Toy Story (1995)</td>\n",
       "      <td>Bug's Life, A (1998)</td>\n",
       "    </tr>\n",
       "    <tr>\n",
       "      <th>2</th>\n",
       "      <td>1</td>\n",
       "      <td>3114</td>\n",
       "      <td>0.001082</td>\n",
       "      <td>Toy Story (1995)</td>\n",
       "      <td>Toy Story 2 (1999)</td>\n",
       "    </tr>\n",
       "    <tr>\n",
       "      <th>3</th>\n",
       "      <td>1</td>\n",
       "      <td>3751</td>\n",
       "      <td>0.001685</td>\n",
       "      <td>Toy Story (1995)</td>\n",
       "      <td>Chicken Run (2000)</td>\n",
       "    </tr>\n",
       "    <tr>\n",
       "      <th>4</th>\n",
       "      <td>1</td>\n",
       "      <td>2141</td>\n",
       "      <td>0.005607</td>\n",
       "      <td>Toy Story (1995)</td>\n",
       "      <td>American Tail, An (1986)</td>\n",
       "    </tr>\n",
       "  </tbody>\n",
       "</table>\n",
       "</div>"
      ],
      "text/plain": [
       "  query_id candidate_id  distance      query_tittle          candidate_tittle\n",
       "0        1            1  0.000000  Toy Story (1995)          Toy Story (1995)\n",
       "1        1         2355  0.000611  Toy Story (1995)      Bug's Life, A (1998)\n",
       "2        1         3114  0.001082  Toy Story (1995)        Toy Story 2 (1999)\n",
       "3        1         3751  0.001685  Toy Story (1995)        Chicken Run (2000)\n",
       "4        1         2141  0.005607  Toy Story (1995)  American Tail, An (1986)"
      ]
     },
     "execution_count": 61,
     "metadata": {},
     "output_type": "execute_result"
    }
   ],
   "source": [
    "# result is calculated using the indices and distances\n",
    "\n",
    "ind=ind.flatten()\n",
    "dis=dis.flatten()\n",
    "\n",
    "Neigh_5=[]\n",
    "for i in range(0, len(dis)):\n",
    "    Neigh_5.append([m_item_rec.index[ind[0]],m_item_rec.index[ind[i]], dis[i]])\n",
    "    \n",
    "# Creating a dataset using the existing matrix        \n",
    "Neigh_5 = pd.DataFrame(Neigh_5, columns=['query_id', 'candidate_id', 'distance'])\n",
    "\n",
    "# Merging with movies dataset to get title for query and candidate\n",
    "Neigh_5 = Neigh_5.merge(movies[['MovieID', 'Title']], \n",
    "                        left_on='query_id', right_on='MovieID').rename(columns={'Title': 'query_tittle'}).drop(columns=['MovieID'])\n",
    "\n",
    "Neigh_5 = Neigh_5.merge(movies[['MovieID', 'Title']], \n",
    "                        left_on='candidate_id', right_on='MovieID').rename(columns={'Title': 'candidate_tittle'}).drop(columns=['MovieID'])\n",
    "Neigh_5\n",
    "    \n"
   ]
  },
  {
   "cell_type": "markdown",
   "id": "5ad90a1c",
   "metadata": {},
   "source": [
    "---\n",
    "**Recommender System based on Matrix Factorization**"
   ]
  },
  {
   "cell_type": "code",
   "execution_count": 62,
   "id": "095c5efa",
   "metadata": {},
   "outputs": [
    {
     "data": {
      "text/html": [
       "<div>\n",
       "<style scoped>\n",
       "    .dataframe tbody tr th:only-of-type {\n",
       "        vertical-align: middle;\n",
       "    }\n",
       "\n",
       "    .dataframe tbody tr th {\n",
       "        vertical-align: top;\n",
       "    }\n",
       "\n",
       "    .dataframe thead th {\n",
       "        text-align: right;\n",
       "    }\n",
       "</style>\n",
       "<table border=\"1\" class=\"dataframe\">\n",
       "  <thead>\n",
       "    <tr style=\"text-align: right;\">\n",
       "      <th>MovieID</th>\n",
       "      <th>1</th>\n",
       "      <th>10</th>\n",
       "      <th>100</th>\n",
       "      <th>1000</th>\n",
       "      <th>1002</th>\n",
       "      <th>1003</th>\n",
       "      <th>1004</th>\n",
       "      <th>1005</th>\n",
       "      <th>1006</th>\n",
       "      <th>1007</th>\n",
       "      <th>...</th>\n",
       "      <th>99</th>\n",
       "      <th>990</th>\n",
       "      <th>991</th>\n",
       "      <th>992</th>\n",
       "      <th>993</th>\n",
       "      <th>994</th>\n",
       "      <th>996</th>\n",
       "      <th>997</th>\n",
       "      <th>998</th>\n",
       "      <th>999</th>\n",
       "    </tr>\n",
       "    <tr>\n",
       "      <th>UserID</th>\n",
       "      <th></th>\n",
       "      <th></th>\n",
       "      <th></th>\n",
       "      <th></th>\n",
       "      <th></th>\n",
       "      <th></th>\n",
       "      <th></th>\n",
       "      <th></th>\n",
       "      <th></th>\n",
       "      <th></th>\n",
       "      <th></th>\n",
       "      <th></th>\n",
       "      <th></th>\n",
       "      <th></th>\n",
       "      <th></th>\n",
       "      <th></th>\n",
       "      <th></th>\n",
       "      <th></th>\n",
       "      <th></th>\n",
       "      <th></th>\n",
       "      <th></th>\n",
       "    </tr>\n",
       "  </thead>\n",
       "  <tbody>\n",
       "    <tr>\n",
       "      <th>1</th>\n",
       "      <td>5.0</td>\n",
       "      <td>0.0</td>\n",
       "      <td>0.0</td>\n",
       "      <td>0.0</td>\n",
       "      <td>0.0</td>\n",
       "      <td>0.0</td>\n",
       "      <td>0.0</td>\n",
       "      <td>0.0</td>\n",
       "      <td>0.0</td>\n",
       "      <td>0.0</td>\n",
       "      <td>...</td>\n",
       "      <td>0.0</td>\n",
       "      <td>0.0</td>\n",
       "      <td>0.0</td>\n",
       "      <td>0.0</td>\n",
       "      <td>0.0</td>\n",
       "      <td>0.0</td>\n",
       "      <td>0.0</td>\n",
       "      <td>0.0</td>\n",
       "      <td>0.0</td>\n",
       "      <td>0.0</td>\n",
       "    </tr>\n",
       "    <tr>\n",
       "      <th>10</th>\n",
       "      <td>5.0</td>\n",
       "      <td>0.0</td>\n",
       "      <td>0.0</td>\n",
       "      <td>0.0</td>\n",
       "      <td>0.0</td>\n",
       "      <td>0.0</td>\n",
       "      <td>0.0</td>\n",
       "      <td>0.0</td>\n",
       "      <td>0.0</td>\n",
       "      <td>0.0</td>\n",
       "      <td>...</td>\n",
       "      <td>0.0</td>\n",
       "      <td>0.0</td>\n",
       "      <td>0.0</td>\n",
       "      <td>0.0</td>\n",
       "      <td>0.0</td>\n",
       "      <td>0.0</td>\n",
       "      <td>0.0</td>\n",
       "      <td>0.0</td>\n",
       "      <td>0.0</td>\n",
       "      <td>0.0</td>\n",
       "    </tr>\n",
       "    <tr>\n",
       "      <th>100</th>\n",
       "      <td>0.0</td>\n",
       "      <td>0.0</td>\n",
       "      <td>0.0</td>\n",
       "      <td>0.0</td>\n",
       "      <td>0.0</td>\n",
       "      <td>0.0</td>\n",
       "      <td>0.0</td>\n",
       "      <td>0.0</td>\n",
       "      <td>0.0</td>\n",
       "      <td>0.0</td>\n",
       "      <td>...</td>\n",
       "      <td>0.0</td>\n",
       "      <td>0.0</td>\n",
       "      <td>0.0</td>\n",
       "      <td>0.0</td>\n",
       "      <td>0.0</td>\n",
       "      <td>0.0</td>\n",
       "      <td>0.0</td>\n",
       "      <td>0.0</td>\n",
       "      <td>0.0</td>\n",
       "      <td>0.0</td>\n",
       "    </tr>\n",
       "  </tbody>\n",
       "</table>\n",
       "<p>3 rows × 3706 columns</p>\n",
       "</div>"
      ],
      "text/plain": [
       "MovieID    1   10  100  1000  1002  1003  1004  1005  1006  1007  ...   99  \\\n",
       "UserID                                                            ...        \n",
       "1        5.0  0.0  0.0   0.0   0.0   0.0   0.0   0.0   0.0   0.0  ...  0.0   \n",
       "10       5.0  0.0  0.0   0.0   0.0   0.0   0.0   0.0   0.0   0.0  ...  0.0   \n",
       "100      0.0  0.0  0.0   0.0   0.0   0.0   0.0   0.0   0.0   0.0  ...  0.0   \n",
       "\n",
       "MovieID  990  991  992  993  994  996  997  998  999  \n",
       "UserID                                                \n",
       "1        0.0  0.0  0.0  0.0  0.0  0.0  0.0  0.0  0.0  \n",
       "10       0.0  0.0  0.0  0.0  0.0  0.0  0.0  0.0  0.0  \n",
       "100      0.0  0.0  0.0  0.0  0.0  0.0  0.0  0.0  0.0  \n",
       "\n",
       "[3 rows x 3706 columns]"
      ]
     },
     "execution_count": 62,
     "metadata": {},
     "output_type": "execute_result"
    }
   ],
   "source": [
    "# Rating matrix created manually\n",
    "\n",
    "ratings['Rating']=ratings['Rating'].astype(int)\n",
    "\n",
    "rm = ratings.pivot(index = 'UserID', columns ='MovieID', values = 'Rating').fillna(0)\n",
    "rm.head(3)"
   ]
  },
  {
   "cell_type": "code",
   "execution_count": 63,
   "id": "3b5eb380",
   "metadata": {},
   "outputs": [
    {
     "data": {
      "text/html": [
       "<div>\n",
       "<style scoped>\n",
       "    .dataframe tbody tr th:only-of-type {\n",
       "        vertical-align: middle;\n",
       "    }\n",
       "\n",
       "    .dataframe tbody tr th {\n",
       "        vertical-align: top;\n",
       "    }\n",
       "\n",
       "    .dataframe thead th {\n",
       "        text-align: right;\n",
       "    }\n",
       "</style>\n",
       "<table border=\"1\" class=\"dataframe\">\n",
       "  <thead>\n",
       "    <tr style=\"text-align: right;\">\n",
       "      <th></th>\n",
       "      <th>UserId</th>\n",
       "      <th>ItemId</th>\n",
       "      <th>Rating</th>\n",
       "    </tr>\n",
       "  </thead>\n",
       "  <tbody>\n",
       "    <tr>\n",
       "      <th>0</th>\n",
       "      <td>1</td>\n",
       "      <td>1193</td>\n",
       "      <td>5</td>\n",
       "    </tr>\n",
       "    <tr>\n",
       "      <th>1</th>\n",
       "      <td>1</td>\n",
       "      <td>661</td>\n",
       "      <td>3</td>\n",
       "    </tr>\n",
       "    <tr>\n",
       "      <th>2</th>\n",
       "      <td>1</td>\n",
       "      <td>914</td>\n",
       "      <td>3</td>\n",
       "    </tr>\n",
       "  </tbody>\n",
       "</table>\n",
       "</div>"
      ],
      "text/plain": [
       "  UserId ItemId  Rating\n",
       "0      1   1193       5\n",
       "1      1    661       3\n",
       "2      1    914       3"
      ]
     },
     "execution_count": 63,
     "metadata": {},
     "output_type": "execute_result"
    }
   ],
   "source": [
    "\n",
    "# Creating specific matrix for Matrix Factorisation\n",
    "rm_raw = ratings[['UserID', 'MovieID', 'Rating']].copy()\n",
    "rm_raw.columns = ['UserId', 'ItemId', 'Rating'] \n",
    "rm_raw.head(3)"
   ]
  },
  {
   "cell_type": "code",
   "execution_count": 64,
   "id": "1e0cffd3",
   "metadata": {},
   "outputs": [
    {
     "name": "stdout",
     "output_type": "stream",
     "text": [
      "<class 'pandas.core.frame.DataFrame'>\n",
      "RangeIndex: 1000209 entries, 0 to 1000208\n",
      "Data columns (total 3 columns):\n",
      " #   Column  Non-Null Count    Dtype \n",
      "---  ------  --------------    ----- \n",
      " 0   UserId  1000209 non-null  object\n",
      " 1   ItemId  1000209 non-null  object\n",
      " 2   Rating  1000209 non-null  int32 \n",
      "dtypes: int32(1), object(2)\n",
      "memory usage: 19.1+ MB\n"
     ]
    }
   ],
   "source": [
    "rm_raw.info()"
   ]
  },
  {
   "cell_type": "code",
   "execution_count": 65,
   "id": "a72c6bd2",
   "metadata": {},
   "outputs": [
    {
     "data": {
      "text/plain": [
       "Collective matrix factorization model\n",
       "(explicit-feedback variant)\n"
      ]
     },
     "execution_count": 65,
     "metadata": {},
     "output_type": "execute_result"
    }
   ],
   "source": [
    "# Defining the model:\n",
    "\n",
    "# %%time\n",
    "model = CMF(method=\"als\", k=4, lambda_=0.1, user_bias=False, item_bias=False, verbose=False)\n",
    "model.fit(rm_raw)"
   ]
  },
  {
   "cell_type": "code",
   "execution_count": 66,
   "id": "f590efcc",
   "metadata": {},
   "outputs": [
    {
     "data": {
      "text/plain": [
       "((6040, 4), (3706, 4))"
      ]
     },
     "execution_count": 66,
     "metadata": {},
     "output_type": "execute_result"
    }
   ],
   "source": [
    "# model.A_---> compressed user matrix\n",
    "# model.B_---> compressed movies matrix\n",
    "\n",
    "model.A_.shape, model.B_.shape"
   ]
  },
  {
   "cell_type": "code",
   "execution_count": 67,
   "id": "7799e1f2",
   "metadata": {},
   "outputs": [
    {
     "data": {
      "text/plain": [
       "3.581564426422119"
      ]
     },
     "execution_count": 67,
     "metadata": {},
     "output_type": "execute_result"
    }
   ],
   "source": [
    "# Checking the mean rating of the model:\n",
    "\n",
    "model.glob_mean_"
   ]
  },
  {
   "cell_type": "code",
   "execution_count": 68,
   "id": "5f5985d9",
   "metadata": {},
   "outputs": [],
   "source": [
    "# Predicted rating matrix using user and movie matrix\n",
    "\n",
    "rm__ = np.dot(model.A_, model.B_.T) + model.glob_mean_\n"
   ]
  },
  {
   "cell_type": "markdown",
   "id": "0bf9521d",
   "metadata": {},
   "source": [
    "**Performance of Matrix Factorisation model**"
   ]
  },
  {
   "cell_type": "code",
   "execution_count": 69,
   "id": "3c26a233",
   "metadata": {},
   "outputs": [
    {
     "data": {
      "text/plain": [
       "1.4183051023119877"
      ]
     },
     "execution_count": 69,
     "metadata": {},
     "output_type": "execute_result"
    }
   ],
   "source": [
    "# 1. RMSE\n",
    "\n",
    "mse(rm.values[rm > 0], rm__[rm > 0])**0.5"
   ]
  },
  {
   "cell_type": "code",
   "execution_count": 70,
   "id": "8059e9a0",
   "metadata": {},
   "outputs": [
    {
     "data": {
      "text/plain": [
       "0.41151259136274926"
      ]
     },
     "execution_count": 70,
     "metadata": {},
     "output_type": "execute_result"
    }
   ],
   "source": [
    "# 2. MAPE\n",
    "\n",
    "y_actual = rm.values[rm > 0]\n",
    "y_pred = rm__[rm > 0]\n",
    "\n",
    "mean_absolute_percentage_error(y_actual, y_pred)"
   ]
  },
  {
   "cell_type": "code",
   "execution_count": 71,
   "id": "eab5e399",
   "metadata": {},
   "outputs": [
    {
     "data": {
      "text/html": [
       "<div>\n",
       "<style scoped>\n",
       "    .dataframe tbody tr th:only-of-type {\n",
       "        vertical-align: middle;\n",
       "    }\n",
       "\n",
       "    .dataframe tbody tr th {\n",
       "        vertical-align: top;\n",
       "    }\n",
       "\n",
       "    .dataframe thead th {\n",
       "        text-align: right;\n",
       "    }\n",
       "</style>\n",
       "<table border=\"1\" class=\"dataframe\">\n",
       "  <thead>\n",
       "    <tr style=\"text-align: right;\">\n",
       "      <th></th>\n",
       "      <th>MovieID</th>\n",
       "      <th>Title</th>\n",
       "      <th>Genres</th>\n",
       "    </tr>\n",
       "  </thead>\n",
       "  <tbody>\n",
       "    <tr>\n",
       "      <th>52</th>\n",
       "      <td>53</td>\n",
       "      <td>Lamerica (1994)</td>\n",
       "      <td>Drama</td>\n",
       "    </tr>\n",
       "    <tr>\n",
       "      <th>664</th>\n",
       "      <td>670</td>\n",
       "      <td>World of Apu, The (Apur Sansar) (1959)</td>\n",
       "      <td>Drama</td>\n",
       "    </tr>\n",
       "    <tr>\n",
       "      <th>910</th>\n",
       "      <td>922</td>\n",
       "      <td>Sunset Blvd. (a.k.a. Sunset Boulevard) (1950)</td>\n",
       "      <td>Film-Noir</td>\n",
       "    </tr>\n",
       "    <tr>\n",
       "      <th>911</th>\n",
       "      <td>923</td>\n",
       "      <td>Citizen Kane (1941)</td>\n",
       "      <td>Drama</td>\n",
       "    </tr>\n",
       "    <tr>\n",
       "      <th>1950</th>\n",
       "      <td>2019</td>\n",
       "      <td>Seven Samurai (The Magnificent Seven) (Shichin...</td>\n",
       "      <td>None</td>\n",
       "    </tr>\n",
       "    <tr>\n",
       "      <th>2770</th>\n",
       "      <td>2839</td>\n",
       "      <td>West Beirut (West Beyrouth) (1998)</td>\n",
       "      <td>Drama</td>\n",
       "    </tr>\n",
       "    <tr>\n",
       "      <th>3176</th>\n",
       "      <td>3245</td>\n",
       "      <td>I Am Cuba (Soy Cuba/Ya Kuba) (1964)</td>\n",
       "      <td>Drama</td>\n",
       "    </tr>\n",
       "    <tr>\n",
       "      <th>3739</th>\n",
       "      <td>3808</td>\n",
       "      <td>Two Women (La Ciociara) (1961)</td>\n",
       "      <td>Drama|War</td>\n",
       "    </tr>\n",
       "    <tr>\n",
       "      <th>3747</th>\n",
       "      <td>3817</td>\n",
       "      <td>Other Side of Sunday, The (Søndagsengler) (1996)</td>\n",
       "      <td>Comedy|Drama</td>\n",
       "    </tr>\n",
       "    <tr>\n",
       "      <th>3835</th>\n",
       "      <td>3905</td>\n",
       "      <td>Specials, The (2000)</td>\n",
       "      <td>Comedy</td>\n",
       "    </tr>\n",
       "  </tbody>\n",
       "</table>\n",
       "</div>"
      ],
      "text/plain": [
       "     MovieID                                              Title        Genres\n",
       "52        53                                    Lamerica (1994)         Drama\n",
       "664      670             World of Apu, The (Apur Sansar) (1959)         Drama\n",
       "910      922      Sunset Blvd. (a.k.a. Sunset Boulevard) (1950)     Film-Noir\n",
       "911      923                                Citizen Kane (1941)         Drama\n",
       "1950    2019  Seven Samurai (The Magnificent Seven) (Shichin...          None\n",
       "2770    2839                 West Beirut (West Beyrouth) (1998)         Drama\n",
       "3176    3245                I Am Cuba (Soy Cuba/Ya Kuba) (1964)         Drama\n",
       "3739    3808                     Two Women (La Ciociara) (1961)     Drama|War\n",
       "3747    3817   Other Side of Sunday, The (Søndagsengler) (1996)  Comedy|Drama\n",
       "3835    3905                               Specials, The (2000)        Comedy"
      ]
     },
     "execution_count": 71,
     "metadata": {},
     "output_type": "execute_result"
    }
   ],
   "source": [
    "# Recommending 10 movies for the user_id = 1\n",
    "\n",
    "top_items = model.topN(user=1, n=10)\n",
    "movies.loc[movies.MovieID.isin(top_items)]"
   ]
  },
  {
   "cell_type": "code",
   "execution_count": 87,
   "id": "622d7bd7",
   "metadata": {},
   "outputs": [
    {
     "data": {
      "text/html": [
       "<div>\n",
       "<style scoped>\n",
       "    .dataframe tbody tr th:only-of-type {\n",
       "        vertical-align: middle;\n",
       "    }\n",
       "\n",
       "    .dataframe tbody tr th {\n",
       "        vertical-align: top;\n",
       "    }\n",
       "\n",
       "    .dataframe thead th {\n",
       "        text-align: right;\n",
       "    }\n",
       "</style>\n",
       "<table border=\"1\" class=\"dataframe\">\n",
       "  <thead>\n",
       "    <tr style=\"text-align: right;\">\n",
       "      <th></th>\n",
       "      <th>0</th>\n",
       "      <th>1</th>\n",
       "      <th>2</th>\n",
       "      <th>3</th>\n",
       "    </tr>\n",
       "    <tr>\n",
       "      <th>UserID</th>\n",
       "      <th></th>\n",
       "      <th></th>\n",
       "      <th></th>\n",
       "      <th></th>\n",
       "    </tr>\n",
       "  </thead>\n",
       "  <tbody>\n",
       "    <tr>\n",
       "      <th>3690</th>\n",
       "      <td>0.176815</td>\n",
       "      <td>0.054053</td>\n",
       "      <td>-0.288413</td>\n",
       "      <td>0.097726</td>\n",
       "    </tr>\n",
       "    <tr>\n",
       "      <th>1760</th>\n",
       "      <td>-0.066431</td>\n",
       "      <td>-0.167836</td>\n",
       "      <td>-0.075958</td>\n",
       "      <td>-0.057512</td>\n",
       "    </tr>\n",
       "    <tr>\n",
       "      <th>97</th>\n",
       "      <td>0.075637</td>\n",
       "      <td>-0.257563</td>\n",
       "      <td>-0.077175</td>\n",
       "      <td>-0.188694</td>\n",
       "    </tr>\n",
       "  </tbody>\n",
       "</table>\n",
       "</div>"
      ],
      "text/plain": [
       "               0         1         2         3\n",
       "UserID                                        \n",
       "3690    0.176815  0.054053 -0.288413  0.097726\n",
       "1760   -0.066431 -0.167836 -0.075958 -0.057512\n",
       "97      0.075637 -0.257563 -0.077175 -0.188694"
      ]
     },
     "execution_count": 87,
     "metadata": {},
     "output_type": "execute_result"
    }
   ],
   "source": [
    "# Creating dataset using user embeded matrix\n",
    "\n",
    "user_embeded = pd.DataFrame(data=model.A_,index=user_c_sim.index)\n",
    "\n",
    "# Creating a sample \n",
    "user_embeded_sample = user_embeded.sample(frac=0.07)\n",
    "\n",
    "user_embeded_sample.head(3)"
   ]
  },
  {
   "cell_type": "markdown",
   "id": "1b6f65ee",
   "metadata": {},
   "source": [
    "---\n",
    "**User embeddings for similarity based models**"
   ]
  },
  {
   "cell_type": "code",
   "execution_count": 73,
   "id": "97859dd5",
   "metadata": {},
   "outputs": [
    {
     "data": {
      "text/html": [
       "<div>\n",
       "<style scoped>\n",
       "    .dataframe tbody tr th:only-of-type {\n",
       "        vertical-align: middle;\n",
       "    }\n",
       "\n",
       "    .dataframe tbody tr th {\n",
       "        vertical-align: top;\n",
       "    }\n",
       "\n",
       "    .dataframe thead th {\n",
       "        text-align: right;\n",
       "    }\n",
       "</style>\n",
       "<table border=\"1\" class=\"dataframe\">\n",
       "  <thead>\n",
       "    <tr style=\"text-align: right;\">\n",
       "      <th></th>\n",
       "      <th>query</th>\n",
       "      <th>candidate</th>\n",
       "      <th>distance</th>\n",
       "      <th>query_age</th>\n",
       "      <th>candidate_age</th>\n",
       "    </tr>\n",
       "  </thead>\n",
       "  <tbody>\n",
       "    <tr>\n",
       "      <th>44780</th>\n",
       "      <td>1014</td>\n",
       "      <td>2840</td>\n",
       "      <td>0.998966</td>\n",
       "      <td>45</td>\n",
       "      <td>25</td>\n",
       "    </tr>\n",
       "    <tr>\n",
       "      <th>16927</th>\n",
       "      <td>1014</td>\n",
       "      <td>3312</td>\n",
       "      <td>0.998847</td>\n",
       "      <td>45</td>\n",
       "      <td>18</td>\n",
       "    </tr>\n",
       "    <tr>\n",
       "      <th>26634</th>\n",
       "      <td>1014</td>\n",
       "      <td>587</td>\n",
       "      <td>0.996584</td>\n",
       "      <td>45</td>\n",
       "      <td>25</td>\n",
       "    </tr>\n",
       "  </tbody>\n",
       "</table>\n",
       "</div>"
      ],
      "text/plain": [
       "      query candidate  distance query_age candidate_age\n",
       "44780  1014      2840  0.998966        45            25\n",
       "16927  1014      3312  0.998847        45            18\n",
       "26634  1014       587  0.996584        45            25"
      ]
     },
     "execution_count": 73,
     "metadata": {},
     "output_type": "execute_result"
    }
   ],
   "source": [
    "# Creaing a dataset which computes pearson correlation coefficient of \n",
    "# each user with remaining all other user from the user compressed matrix\n",
    "\n",
    "# %%time\n",
    "\n",
    "ranks_user_emb = []\n",
    "\n",
    "for query in user_embeded_sample.index:\n",
    "    for candidate in user_embeded_sample.index:\n",
    "        if candidate == query:\n",
    "            continue\n",
    "        ranks_user_emb.append([query, candidate, pearson(user_embeded_sample.loc[query], user_embeded_sample.loc[candidate])])\n",
    "\n",
    "# Creating a dataset using the existing matrix        \n",
    "ranks_user_emb = pd.DataFrame(ranks_user_emb, columns=['query', 'candidate', 'distance'])\n",
    "\n",
    "# Merging with movies dataset to get title for query and candidate\n",
    "ranks_user_emb = ranks_user_emb.merge(users[['UserID', 'Age']], left_on='query', right_on='UserID').rename(columns={'Age': 'query_age'}).drop(columns=['UserID'])\n",
    "ranks_user_emb = ranks_user_emb.merge(users[['UserID', 'Age']], left_on='candidate', right_on='UserID').rename(columns={'Age': 'candidate_age'}).drop(columns=['UserID'])\n",
    "\n",
    "# Sorting the ranks_user_emb based on query and distance\n",
    "ranks_user_emb = ranks_user_emb.sort_values(by=['query', 'distance'],ascending=[True,False])\n",
    "ranks_user_emb.head(3)"
   ]
  },
  {
   "cell_type": "markdown",
   "id": "f78e8045",
   "metadata": {},
   "source": [
    "***[Optional] User-based approach to create a recommender system using Pearson Correlation***"
   ]
  },
  {
   "cell_type": "code",
   "execution_count": 74,
   "id": "9d27a80d",
   "metadata": {},
   "outputs": [],
   "source": [
    "# Creating a sample dataset\n",
    "\n",
    "users_sample=user_c_sim.sample(frac=0.07)"
   ]
  },
  {
   "cell_type": "code",
   "execution_count": 75,
   "id": "c115dc21",
   "metadata": {},
   "outputs": [
    {
     "data": {
      "text/html": [
       "<div>\n",
       "<style scoped>\n",
       "    .dataframe tbody tr th:only-of-type {\n",
       "        vertical-align: middle;\n",
       "    }\n",
       "\n",
       "    .dataframe tbody tr th {\n",
       "        vertical-align: top;\n",
       "    }\n",
       "\n",
       "    .dataframe thead th {\n",
       "        text-align: right;\n",
       "    }\n",
       "</style>\n",
       "<table border=\"1\" class=\"dataframe\">\n",
       "  <thead>\n",
       "    <tr style=\"text-align: right;\">\n",
       "      <th></th>\n",
       "      <th>query</th>\n",
       "      <th>candidate</th>\n",
       "      <th>distance</th>\n",
       "      <th>query_age</th>\n",
       "      <th>candidate_age</th>\n",
       "    </tr>\n",
       "  </thead>\n",
       "  <tbody>\n",
       "    <tr>\n",
       "      <th>29398</th>\n",
       "      <td>1003</td>\n",
       "      <td>815</td>\n",
       "      <td>0.983686</td>\n",
       "      <td>25</td>\n",
       "      <td>25</td>\n",
       "    </tr>\n",
       "    <tr>\n",
       "      <th>175411</th>\n",
       "      <td>1003</td>\n",
       "      <td>5836</td>\n",
       "      <td>0.974031</td>\n",
       "      <td>25</td>\n",
       "      <td>25</td>\n",
       "    </tr>\n",
       "    <tr>\n",
       "      <th>124349</th>\n",
       "      <td>1003</td>\n",
       "      <td>747</td>\n",
       "      <td>0.947382</td>\n",
       "      <td>25</td>\n",
       "      <td>18</td>\n",
       "    </tr>\n",
       "  </tbody>\n",
       "</table>\n",
       "</div>"
      ],
      "text/plain": [
       "       query candidate  distance query_age candidate_age\n",
       "29398   1003       815  0.983686        25            25\n",
       "175411  1003      5836  0.974031        25            25\n",
       "124349  1003       747  0.947382        25            18"
      ]
     },
     "execution_count": 75,
     "metadata": {},
     "output_type": "execute_result"
    }
   ],
   "source": [
    "# Creaing a dataset which computes pearson correlation coefficient of \n",
    "# each user with remaining all other user\n",
    "\n",
    "# %%time\n",
    "\n",
    "ranks_user_sample = []\n",
    "\n",
    "for query in users_sample.index:\n",
    "    for candidate in users_sample.index:\n",
    "        if candidate == query:\n",
    "            continue\n",
    "        ranks_user_sample.append([query, candidate, pearson(users_sample.loc[query], users_sample.loc[candidate])])\n",
    "\n",
    "# Creating a dataset using the existing matrix        \n",
    "ranks_user_sample = pd.DataFrame(ranks_user_sample, columns=['query', 'candidate', 'distance'])\n",
    "\n",
    "# Merging with movies dataset to get title for query and candidate\n",
    "ranks_user_sample = ranks_user_sample.merge(users[['UserID', 'Age']], left_on='query', right_on='UserID').rename(columns={'Age': 'query_age'}).drop(columns=['UserID'])\n",
    "ranks_user_sample = ranks_user_sample.merge(users[['UserID', 'Age']], left_on='candidate', right_on='UserID').rename(columns={'Age': 'candidate_age'}).drop(columns=['UserID'])\n",
    "\n",
    "# Sorting the ranks_user_emb based on query and distance\n",
    "ranks_user_sample = ranks_user_sample.sort_values(by=['query', 'distance'],ascending=[True,False])\n",
    "ranks_user_sample.head(3)"
   ]
  },
  {
   "cell_type": "markdown",
   "id": "81e220d6",
   "metadata": {},
   "source": [
    "---\n",
    "**Questionnaire**"
   ]
  },
  {
   "cell_type": "markdown",
   "id": "da02f461",
   "metadata": {},
   "source": [
    "**4. Most of the movies present on our dataset were released in which decade?\n",
    "a. 70s b. 90s c. 50s d.80s**\\\n",
    "**Ans. b (90s)**"
   ]
  },
  {
   "cell_type": "code",
   "execution_count": 76,
   "id": "2d9375f2",
   "metadata": {},
   "outputs": [
    {
     "data": {
      "text/html": [
       "<div>\n",
       "<style scoped>\n",
       "    .dataframe tbody tr th:only-of-type {\n",
       "        vertical-align: middle;\n",
       "    }\n",
       "\n",
       "    .dataframe tbody tr th {\n",
       "        vertical-align: top;\n",
       "    }\n",
       "\n",
       "    .dataframe thead th {\n",
       "        text-align: right;\n",
       "    }\n",
       "</style>\n",
       "<table border=\"1\" class=\"dataframe\">\n",
       "  <thead>\n",
       "    <tr style=\"text-align: right;\">\n",
       "      <th></th>\n",
       "      <th>ReleaseYear</th>\n",
       "      <th>Year_wise_count</th>\n",
       "    </tr>\n",
       "  </thead>\n",
       "  <tbody>\n",
       "    <tr>\n",
       "      <th>80</th>\n",
       "      <td>1998</td>\n",
       "      <td>566</td>\n",
       "    </tr>\n",
       "    <tr>\n",
       "      <th>77</th>\n",
       "      <td>1995</td>\n",
       "      <td>542</td>\n",
       "    </tr>\n",
       "    <tr>\n",
       "      <th>78</th>\n",
       "      <td>1996</td>\n",
       "      <td>539</td>\n",
       "    </tr>\n",
       "  </tbody>\n",
       "</table>\n",
       "</div>"
      ],
      "text/plain": [
       "   ReleaseYear  Year_wise_count\n",
       "80        1998              566\n",
       "77        1995              542\n",
       "78        1996              539"
      ]
     },
     "execution_count": 76,
     "metadata": {},
     "output_type": "execute_result"
    }
   ],
   "source": [
    "m.groupby(by='ReleaseYear').size().reset_index(name='Year_wise_count').sort_values(by='Year_wise_count',\n",
    "                                                                                   ascending=False).head(3)"
   ]
  },
  {
   "cell_type": "markdown",
   "id": "a0787591",
   "metadata": {},
   "source": [
    "**5. The movie with maximum no. of ratings is ___.**\\\n",
    "**Ans. American Beauty (1999)**"
   ]
  },
  {
   "cell_type": "code",
   "execution_count": 77,
   "id": "598dad9c",
   "metadata": {},
   "outputs": [
    {
     "data": {
      "text/html": [
       "<div>\n",
       "<style scoped>\n",
       "    .dataframe tbody tr th:only-of-type {\n",
       "        vertical-align: middle;\n",
       "    }\n",
       "\n",
       "    .dataframe tbody tr th {\n",
       "        vertical-align: top;\n",
       "    }\n",
       "\n",
       "    .dataframe thead th {\n",
       "        text-align: right;\n",
       "    }\n",
       "</style>\n",
       "<table border=\"1\" class=\"dataframe\">\n",
       "  <thead>\n",
       "    <tr style=\"text-align: right;\">\n",
       "      <th></th>\n",
       "      <th>MovieID</th>\n",
       "      <th>Rating_count</th>\n",
       "    </tr>\n",
       "  </thead>\n",
       "  <tbody>\n",
       "    <tr>\n",
       "      <th>1916</th>\n",
       "      <td>2858</td>\n",
       "      <td>3428</td>\n",
       "    </tr>\n",
       "    <tr>\n",
       "      <th>1640</th>\n",
       "      <td>260</td>\n",
       "      <td>2991</td>\n",
       "    </tr>\n",
       "    <tr>\n",
       "      <th>191</th>\n",
       "      <td>1196</td>\n",
       "      <td>2990</td>\n",
       "    </tr>\n",
       "  </tbody>\n",
       "</table>\n",
       "</div>"
      ],
      "text/plain": [
       "     MovieID  Rating_count\n",
       "1916    2858          3428\n",
       "1640     260          2991\n",
       "191     1196          2990"
      ]
     },
     "execution_count": 77,
     "metadata": {},
     "output_type": "execute_result"
    }
   ],
   "source": [
    "ratings.groupby(by='MovieID').size().reset_index(name='Rating_count').sort_values(by='Rating_count',\n",
    "                                                                                  ascending=False).head(3)\n"
   ]
  },
  {
   "cell_type": "code",
   "execution_count": 78,
   "id": "be142771",
   "metadata": {},
   "outputs": [
    {
     "data": {
      "text/html": [
       "<div>\n",
       "<style scoped>\n",
       "    .dataframe tbody tr th:only-of-type {\n",
       "        vertical-align: middle;\n",
       "    }\n",
       "\n",
       "    .dataframe tbody tr th {\n",
       "        vertical-align: top;\n",
       "    }\n",
       "\n",
       "    .dataframe thead th {\n",
       "        text-align: right;\n",
       "    }\n",
       "</style>\n",
       "<table border=\"1\" class=\"dataframe\">\n",
       "  <thead>\n",
       "    <tr style=\"text-align: right;\">\n",
       "      <th></th>\n",
       "      <th>MovieID</th>\n",
       "      <th>Title</th>\n",
       "      <th>Genres</th>\n",
       "    </tr>\n",
       "  </thead>\n",
       "  <tbody>\n",
       "    <tr>\n",
       "      <th>2789</th>\n",
       "      <td>2858</td>\n",
       "      <td>American Beauty (1999)</td>\n",
       "      <td>Comedy|Drama</td>\n",
       "    </tr>\n",
       "  </tbody>\n",
       "</table>\n",
       "</div>"
      ],
      "text/plain": [
       "     MovieID                   Title        Genres\n",
       "2789    2858  American Beauty (1999)  Comedy|Drama"
      ]
     },
     "execution_count": 78,
     "metadata": {},
     "output_type": "execute_result"
    }
   ],
   "source": [
    "movies[movies['MovieID']=='2858']"
   ]
  },
  {
   "cell_type": "markdown",
   "id": "7a870b63",
   "metadata": {},
   "source": [
    "**6. Name the top 3 movies similar to ‘Liar Liar’ on the item-based approach.**\\\n",
    "Answer (Coding part done in item similarity section with pearson correlation)\n",
    "\n",
    "1. Romy and Michele's High School Reunion (1997)\n",
    "2. Austin Powers: International Man of Mystery (1997)\n",
    "3. In & Out (1997)\n",
    "4. Full Monty, The (1997)\n",
    "5. Bulworth (1998)"
   ]
  },
  {
   "cell_type": "markdown",
   "id": "dfe9a1d6",
   "metadata": {},
   "source": [
    "**7. On the basis of approach, Collaborative Filtering methods can be classified into\n",
    "___-based and ___-based**\\\n",
    "\n",
    "Answer:\n",
    "1. User-based\n",
    "2. Item-based"
   ]
  },
  {
   "cell_type": "markdown",
   "id": "65adf078",
   "metadata": {},
   "source": [
    "**8.Pearson Correlation ranges between ___ to ___ whereas, Cosine Similarity belongs\n",
    "to the interval between ___ to ___.**\n",
    " \n",
    "Answer:\n",
    "1. -1 to +1\n",
    "2. 0 to 1"
   ]
  },
  {
   "cell_type": "markdown",
   "id": "6d797b67",
   "metadata": {},
   "source": [
    "**9. Mention the RMSE and MAPE that you got while evaluating the Matrix Factorization\n",
    "model.**\n",
    "\n",
    "Answer:\n",
    "\n",
    "    1. RMSE: 1.418\n",
    "    2. MAPE: 0.411\n"
   ]
  },
  {
   "cell_type": "markdown",
   "id": "fadc0b3e",
   "metadata": {},
   "source": [
    "**10. Give the sparse ‘row’ matrix representation for the following dense matrix -\n",
    "[[1 0]\n",
    "3 7]]**\n"
   ]
  },
  {
   "cell_type": "code",
   "execution_count": 79,
   "id": "feb0ec16",
   "metadata": {},
   "outputs": [],
   "source": [
    "from scipy.sparse import csr_matrix"
   ]
  },
  {
   "cell_type": "code",
   "execution_count": 80,
   "id": "5655640c",
   "metadata": {},
   "outputs": [
    {
     "data": {
      "text/plain": [
       "array([[1, 0],\n",
       "       [3, 7]], dtype=int32)"
      ]
     },
     "execution_count": 80,
     "metadata": {},
     "output_type": "execute_result"
    }
   ],
   "source": [
    "data=np.array([[1,0],[3,7]])\n",
    "sparseMatrix = csr_matrix(data,shape=(2,2))\n",
    "sparseMatrix.toarray()"
   ]
  },
  {
   "cell_type": "markdown",
   "id": "cc31aac0",
   "metadata": {},
   "source": [
    "---\n",
    "**Insights & Recommendations**"
   ]
  },
  {
   "cell_type": "markdown",
   "id": "818f5f3c",
   "metadata": {},
   "source": [
    "1. Since most of the viewers are male, more strategies like better promotions and content design should be in place to bring more female viewers\n",
    "\n",
    "2. Similar approach should be in place for attractin more senior audience. Adding more content in regional languages might help\n",
    "\n",
    "3. Though count in terms of registration is high for students and white collar job holders, watch rate is higher for unemployed and blue collar job holders. So, by adding more flexibility in terms of pricing (for example, adding plans for shorter days, or budget friendly packs in regional languages) and other related features can help a lot\n",
    "\n",
    "4. Viewers mostly enjoy or watch comedy and drama based content. So, adding more of such content or giving more flavour in genre by using collaborative filtering can improve the user participation in the platform\n",
    "\n",
    "5. 'Comedy' based content dominate the genre with respect to factors such as gender, age and occupation\n",
    "\n",
    "6. Recommending 'Comedy' based content can be considered as a default choice and it can yield high watch rate\n",
    "\n",
    "7. Most of the movies given in the database have release year pre 2000. Adding latest content can improve the participation particularly of the young viewers.\n"
   ]
  },
  {
   "cell_type": "markdown",
   "id": "ea534507",
   "metadata": {},
   "source": [
    "---\n",
    "**JMJ+**"
   ]
  }
 ],
 "metadata": {
  "kernelspec": {
   "display_name": "Python 3 (ipykernel)",
   "language": "python",
   "name": "python3"
  },
  "language_info": {
   "codemirror_mode": {
    "name": "ipython",
    "version": 3
   },
   "file_extension": ".py",
   "mimetype": "text/x-python",
   "name": "python",
   "nbconvert_exporter": "python",
   "pygments_lexer": "ipython3",
   "version": "3.9.7"
  }
 },
 "nbformat": 4,
 "nbformat_minor": 5
}
